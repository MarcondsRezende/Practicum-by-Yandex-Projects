{
  "cells": [
    {
      "cell_type": "markdown",
      "metadata": {
        "id": "b_jaqfkpEoBH"
      },
      "source": [
        "## Iniciação"
      ]
    },
    {
      "cell_type": "markdown",
      "metadata": {
        "id": "SQ4SATQREoBI"
      },
      "source": [
        "Para o presente estudo, iremos utiliar o pandas e o matplotlib como bibliotecas para o tratamento de dados e a apresentação de resultados."
      ]
    },
    {
      "cell_type": "code",
      "execution_count": null,
      "metadata": {
        "id": "c8VUgx4uEoBI"
      },
      "outputs": [],
      "source": [
        "# Carregando todas as bibliotecas\n",
        "import pandas as pd\n",
        "import matplotlib.pyplot as plt"
      ]
    },
    {
      "cell_type": "markdown",
      "metadata": {
        "id": "DMWkaLeOEoBK"
      },
      "source": [
        "### Carregue dados"
      ]
    },
    {
      "cell_type": "code",
      "execution_count": null,
      "metadata": {
        "id": "xrpQ-pNxEoBL"
      },
      "outputs": [],
      "source": [
        "# Carregue o arquivo com os dados em um DataFrame\n",
        "\n",
        "data = pd.read_csv('/datasets/vehicles_us.csv')"
      ]
    },
    {
      "cell_type": "markdown",
      "metadata": {
        "id": "mGg9GzhSEoBL"
      },
      "source": [
        "### Explore os dados iniciais"
      ]
    },
    {
      "cell_type": "markdown",
      "metadata": {
        "id": "eEeU6Yw0EoBM"
      },
      "source": [
        "O conjunto de dados contém os seguintes campos:\n",
        "- `price`\n",
        "- `model_year`\n",
        "- `model`\n",
        "- `condition`\n",
        "- `cylinders`\n",
        "- `fuel` — gasolina, diesel etc.\n",
        "- `odometer` — a quilometragem do veículo quando a propaganda foi publicada \n",
        "- `transmission`\n",
        "- `paint_color`\n",
        "- `is_4wd` — Se o veículo é 4 por 4 (tipo Booleano)\n",
        "- `date_posted` — a data que a propaganda foi publicada\n",
        "- `days_listed` — dias desde a publicação até a retirada\n",
        "\n",
        "Aqui temos a relação de alguns style guide para o projeto que iremos utilizar."
      ]
    },
    {
      "cell_type": "code",
      "execution_count": null,
      "metadata": {
        "id": "wWR2PdcPEoBM",
        "outputId": "9c3e6b69-7c4b-44e3-b352-92aa65bb5525"
      },
      "outputs": [
        {
          "name": "stdout",
          "output_type": "stream",
          "text": [
            "<class 'pandas.core.frame.DataFrame'>\n",
            "RangeIndex: 51525 entries, 0 to 51524\n",
            "Data columns (total 13 columns):\n",
            " #   Column        Non-Null Count  Dtype  \n",
            "---  ------        --------------  -----  \n",
            " 0   price         51525 non-null  int64  \n",
            " 1   model_year    47906 non-null  float64\n",
            " 2   model         51525 non-null  object \n",
            " 3   condition     51525 non-null  object \n",
            " 4   cylinders     46265 non-null  float64\n",
            " 5   fuel          51525 non-null  object \n",
            " 6   odometer      43633 non-null  float64\n",
            " 7   transmission  51525 non-null  object \n",
            " 8   type          51525 non-null  object \n",
            " 9   paint_color   42258 non-null  object \n",
            " 10  is_4wd        25572 non-null  float64\n",
            " 11  date_posted   51525 non-null  object \n",
            " 12  days_listed   51525 non-null  int64  \n",
            "dtypes: float64(4), int64(2), object(7)\n",
            "memory usage: 5.1+ MB\n"
          ]
        }
      ],
      "source": [
        "# imprima as informações gerais/resumidas sobre o DataFrame\n",
        "\n",
        "data.info()"
      ]
    },
    {
      "cell_type": "code",
      "execution_count": null,
      "metadata": {
        "scrolled": true,
        "id": "fcDsVk74EoBO",
        "outputId": "bb7e19fc-6324-4763-ea70-51c50ba52fb9"
      },
      "outputs": [
        {
          "data": {
            "text/html": [
              "<div>\n",
              "<style scoped>\n",
              "    .dataframe tbody tr th:only-of-type {\n",
              "        vertical-align: middle;\n",
              "    }\n",
              "\n",
              "    .dataframe tbody tr th {\n",
              "        vertical-align: top;\n",
              "    }\n",
              "\n",
              "    .dataframe thead th {\n",
              "        text-align: right;\n",
              "    }\n",
              "</style>\n",
              "<table border=\"1\" class=\"dataframe\">\n",
              "  <thead>\n",
              "    <tr style=\"text-align: right;\">\n",
              "      <th></th>\n",
              "      <th>price</th>\n",
              "      <th>model_year</th>\n",
              "      <th>model</th>\n",
              "      <th>condition</th>\n",
              "      <th>cylinders</th>\n",
              "      <th>fuel</th>\n",
              "      <th>odometer</th>\n",
              "      <th>transmission</th>\n",
              "      <th>type</th>\n",
              "      <th>paint_color</th>\n",
              "      <th>is_4wd</th>\n",
              "      <th>date_posted</th>\n",
              "      <th>days_listed</th>\n",
              "    </tr>\n",
              "  </thead>\n",
              "  <tbody>\n",
              "    <tr>\n",
              "      <th>0</th>\n",
              "      <td>9400</td>\n",
              "      <td>2011.0</td>\n",
              "      <td>bmw x5</td>\n",
              "      <td>good</td>\n",
              "      <td>6.0</td>\n",
              "      <td>gas</td>\n",
              "      <td>145000.0</td>\n",
              "      <td>automatic</td>\n",
              "      <td>SUV</td>\n",
              "      <td>NaN</td>\n",
              "      <td>1.0</td>\n",
              "      <td>2018-06-23</td>\n",
              "      <td>19</td>\n",
              "    </tr>\n",
              "    <tr>\n",
              "      <th>1</th>\n",
              "      <td>25500</td>\n",
              "      <td>NaN</td>\n",
              "      <td>ford f-150</td>\n",
              "      <td>good</td>\n",
              "      <td>6.0</td>\n",
              "      <td>gas</td>\n",
              "      <td>88705.0</td>\n",
              "      <td>automatic</td>\n",
              "      <td>pickup</td>\n",
              "      <td>white</td>\n",
              "      <td>1.0</td>\n",
              "      <td>2018-10-19</td>\n",
              "      <td>50</td>\n",
              "    </tr>\n",
              "    <tr>\n",
              "      <th>2</th>\n",
              "      <td>5500</td>\n",
              "      <td>2013.0</td>\n",
              "      <td>hyundai sonata</td>\n",
              "      <td>like new</td>\n",
              "      <td>4.0</td>\n",
              "      <td>gas</td>\n",
              "      <td>110000.0</td>\n",
              "      <td>automatic</td>\n",
              "      <td>sedan</td>\n",
              "      <td>red</td>\n",
              "      <td>NaN</td>\n",
              "      <td>2019-02-07</td>\n",
              "      <td>79</td>\n",
              "    </tr>\n",
              "    <tr>\n",
              "      <th>3</th>\n",
              "      <td>1500</td>\n",
              "      <td>2003.0</td>\n",
              "      <td>ford f-150</td>\n",
              "      <td>fair</td>\n",
              "      <td>8.0</td>\n",
              "      <td>gas</td>\n",
              "      <td>NaN</td>\n",
              "      <td>automatic</td>\n",
              "      <td>pickup</td>\n",
              "      <td>NaN</td>\n",
              "      <td>NaN</td>\n",
              "      <td>2019-03-22</td>\n",
              "      <td>9</td>\n",
              "    </tr>\n",
              "    <tr>\n",
              "      <th>4</th>\n",
              "      <td>14900</td>\n",
              "      <td>2017.0</td>\n",
              "      <td>chrysler 200</td>\n",
              "      <td>excellent</td>\n",
              "      <td>4.0</td>\n",
              "      <td>gas</td>\n",
              "      <td>80903.0</td>\n",
              "      <td>automatic</td>\n",
              "      <td>sedan</td>\n",
              "      <td>black</td>\n",
              "      <td>NaN</td>\n",
              "      <td>2019-04-02</td>\n",
              "      <td>28</td>\n",
              "    </tr>\n",
              "    <tr>\n",
              "      <th>5</th>\n",
              "      <td>14990</td>\n",
              "      <td>2014.0</td>\n",
              "      <td>chrysler 300</td>\n",
              "      <td>excellent</td>\n",
              "      <td>6.0</td>\n",
              "      <td>gas</td>\n",
              "      <td>57954.0</td>\n",
              "      <td>automatic</td>\n",
              "      <td>sedan</td>\n",
              "      <td>black</td>\n",
              "      <td>1.0</td>\n",
              "      <td>2018-06-20</td>\n",
              "      <td>15</td>\n",
              "    </tr>\n",
              "    <tr>\n",
              "      <th>6</th>\n",
              "      <td>12990</td>\n",
              "      <td>2015.0</td>\n",
              "      <td>toyota camry</td>\n",
              "      <td>excellent</td>\n",
              "      <td>4.0</td>\n",
              "      <td>gas</td>\n",
              "      <td>79212.0</td>\n",
              "      <td>automatic</td>\n",
              "      <td>sedan</td>\n",
              "      <td>white</td>\n",
              "      <td>NaN</td>\n",
              "      <td>2018-12-27</td>\n",
              "      <td>73</td>\n",
              "    </tr>\n",
              "    <tr>\n",
              "      <th>7</th>\n",
              "      <td>15990</td>\n",
              "      <td>2013.0</td>\n",
              "      <td>honda pilot</td>\n",
              "      <td>excellent</td>\n",
              "      <td>6.0</td>\n",
              "      <td>gas</td>\n",
              "      <td>109473.0</td>\n",
              "      <td>automatic</td>\n",
              "      <td>SUV</td>\n",
              "      <td>black</td>\n",
              "      <td>1.0</td>\n",
              "      <td>2019-01-07</td>\n",
              "      <td>68</td>\n",
              "    </tr>\n",
              "    <tr>\n",
              "      <th>8</th>\n",
              "      <td>11500</td>\n",
              "      <td>2012.0</td>\n",
              "      <td>kia sorento</td>\n",
              "      <td>excellent</td>\n",
              "      <td>4.0</td>\n",
              "      <td>gas</td>\n",
              "      <td>104174.0</td>\n",
              "      <td>automatic</td>\n",
              "      <td>SUV</td>\n",
              "      <td>NaN</td>\n",
              "      <td>1.0</td>\n",
              "      <td>2018-07-16</td>\n",
              "      <td>19</td>\n",
              "    </tr>\n",
              "    <tr>\n",
              "      <th>9</th>\n",
              "      <td>9200</td>\n",
              "      <td>2008.0</td>\n",
              "      <td>honda pilot</td>\n",
              "      <td>excellent</td>\n",
              "      <td>NaN</td>\n",
              "      <td>gas</td>\n",
              "      <td>147191.0</td>\n",
              "      <td>automatic</td>\n",
              "      <td>SUV</td>\n",
              "      <td>blue</td>\n",
              "      <td>1.0</td>\n",
              "      <td>2019-02-15</td>\n",
              "      <td>17</td>\n",
              "    </tr>\n",
              "    <tr>\n",
              "      <th>10</th>\n",
              "      <td>19500</td>\n",
              "      <td>2011.0</td>\n",
              "      <td>chevrolet silverado 1500</td>\n",
              "      <td>excellent</td>\n",
              "      <td>8.0</td>\n",
              "      <td>gas</td>\n",
              "      <td>128413.0</td>\n",
              "      <td>automatic</td>\n",
              "      <td>pickup</td>\n",
              "      <td>black</td>\n",
              "      <td>1.0</td>\n",
              "      <td>2018-09-17</td>\n",
              "      <td>38</td>\n",
              "    </tr>\n",
              "    <tr>\n",
              "      <th>11</th>\n",
              "      <td>8990</td>\n",
              "      <td>2012.0</td>\n",
              "      <td>honda accord</td>\n",
              "      <td>excellent</td>\n",
              "      <td>4.0</td>\n",
              "      <td>gas</td>\n",
              "      <td>111142.0</td>\n",
              "      <td>automatic</td>\n",
              "      <td>sedan</td>\n",
              "      <td>grey</td>\n",
              "      <td>NaN</td>\n",
              "      <td>2019-03-28</td>\n",
              "      <td>29</td>\n",
              "    </tr>\n",
              "    <tr>\n",
              "      <th>12</th>\n",
              "      <td>18990</td>\n",
              "      <td>2012.0</td>\n",
              "      <td>ram 1500</td>\n",
              "      <td>excellent</td>\n",
              "      <td>8.0</td>\n",
              "      <td>gas</td>\n",
              "      <td>140742.0</td>\n",
              "      <td>automatic</td>\n",
              "      <td>pickup</td>\n",
              "      <td>NaN</td>\n",
              "      <td>1.0</td>\n",
              "      <td>2019-04-02</td>\n",
              "      <td>37</td>\n",
              "    </tr>\n",
              "    <tr>\n",
              "      <th>13</th>\n",
              "      <td>16500</td>\n",
              "      <td>2018.0</td>\n",
              "      <td>hyundai sonata</td>\n",
              "      <td>excellent</td>\n",
              "      <td>4.0</td>\n",
              "      <td>gas</td>\n",
              "      <td>22104.0</td>\n",
              "      <td>automatic</td>\n",
              "      <td>sedan</td>\n",
              "      <td>silver</td>\n",
              "      <td>NaN</td>\n",
              "      <td>2019-01-14</td>\n",
              "      <td>29</td>\n",
              "    </tr>\n",
              "    <tr>\n",
              "      <th>14</th>\n",
              "      <td>12990</td>\n",
              "      <td>2009.0</td>\n",
              "      <td>gmc yukon</td>\n",
              "      <td>excellent</td>\n",
              "      <td>8.0</td>\n",
              "      <td>gas</td>\n",
              "      <td>132285.0</td>\n",
              "      <td>automatic</td>\n",
              "      <td>SUV</td>\n",
              "      <td>black</td>\n",
              "      <td>1.0</td>\n",
              "      <td>2019-01-31</td>\n",
              "      <td>24</td>\n",
              "    </tr>\n",
              "  </tbody>\n",
              "</table>\n",
              "</div>"
            ],
            "text/plain": [
              "    price  model_year                     model  condition  cylinders fuel  \\\n",
              "0    9400      2011.0                    bmw x5       good        6.0  gas   \n",
              "1   25500         NaN                ford f-150       good        6.0  gas   \n",
              "2    5500      2013.0            hyundai sonata   like new        4.0  gas   \n",
              "3    1500      2003.0                ford f-150       fair        8.0  gas   \n",
              "4   14900      2017.0              chrysler 200  excellent        4.0  gas   \n",
              "5   14990      2014.0              chrysler 300  excellent        6.0  gas   \n",
              "6   12990      2015.0              toyota camry  excellent        4.0  gas   \n",
              "7   15990      2013.0               honda pilot  excellent        6.0  gas   \n",
              "8   11500      2012.0               kia sorento  excellent        4.0  gas   \n",
              "9    9200      2008.0               honda pilot  excellent        NaN  gas   \n",
              "10  19500      2011.0  chevrolet silverado 1500  excellent        8.0  gas   \n",
              "11   8990      2012.0              honda accord  excellent        4.0  gas   \n",
              "12  18990      2012.0                  ram 1500  excellent        8.0  gas   \n",
              "13  16500      2018.0            hyundai sonata  excellent        4.0  gas   \n",
              "14  12990      2009.0                 gmc yukon  excellent        8.0  gas   \n",
              "\n",
              "    odometer transmission    type paint_color  is_4wd date_posted  days_listed  \n",
              "0   145000.0    automatic     SUV         NaN     1.0  2018-06-23           19  \n",
              "1    88705.0    automatic  pickup       white     1.0  2018-10-19           50  \n",
              "2   110000.0    automatic   sedan         red     NaN  2019-02-07           79  \n",
              "3        NaN    automatic  pickup         NaN     NaN  2019-03-22            9  \n",
              "4    80903.0    automatic   sedan       black     NaN  2019-04-02           28  \n",
              "5    57954.0    automatic   sedan       black     1.0  2018-06-20           15  \n",
              "6    79212.0    automatic   sedan       white     NaN  2018-12-27           73  \n",
              "7   109473.0    automatic     SUV       black     1.0  2019-01-07           68  \n",
              "8   104174.0    automatic     SUV         NaN     1.0  2018-07-16           19  \n",
              "9   147191.0    automatic     SUV        blue     1.0  2019-02-15           17  \n",
              "10  128413.0    automatic  pickup       black     1.0  2018-09-17           38  \n",
              "11  111142.0    automatic   sedan        grey     NaN  2019-03-28           29  \n",
              "12  140742.0    automatic  pickup         NaN     1.0  2019-04-02           37  \n",
              "13   22104.0    automatic   sedan      silver     NaN  2019-01-14           29  \n",
              "14  132285.0    automatic     SUV       black     1.0  2019-01-31           24  "
            ]
          },
          "execution_count": 5,
          "metadata": {},
          "output_type": "execute_result"
        }
      ],
      "source": [
        "# imprima uma amostragem dos dados\n",
        "\n",
        "data.head(15)"
      ]
    },
    {
      "cell_type": "code",
      "execution_count": null,
      "metadata": {
        "id": "cxhjgvYZEoBP",
        "outputId": "e992c45f-c9a0-4e2f-ec89-d3bf905020e2"
      },
      "outputs": [
        {
          "data": {
            "text/plain": [
              "array(['gas', 'diesel', 'other', 'hybrid', 'electric'], dtype=object)"
            ]
          },
          "execution_count": 6,
          "metadata": {},
          "output_type": "execute_result"
        }
      ],
      "source": [
        "data['fuel'].unique()"
      ]
    },
    {
      "cell_type": "code",
      "execution_count": null,
      "metadata": {
        "id": "_qkgUZbwEoBQ",
        "outputId": "24443d6f-9f0c-4a39-c301-80db70125e16"
      },
      "outputs": [
        {
          "data": {
            "text/plain": [
              "array(['automatic', 'manual', 'other'], dtype=object)"
            ]
          },
          "execution_count": 7,
          "metadata": {},
          "output_type": "execute_result"
        }
      ],
      "source": [
        "data['transmission'].unique()"
      ]
    },
    {
      "cell_type": "code",
      "execution_count": null,
      "metadata": {
        "id": "kUFZIbFYEoBQ",
        "outputId": "70c2fc12-c07e-4606-f5dd-d3a34dc4ead9"
      },
      "outputs": [
        {
          "data": {
            "text/plain": [
              "array(['good', 'like new', 'fair', 'excellent', 'salvage', 'new'],\n",
              "      dtype=object)"
            ]
          },
          "execution_count": 8,
          "metadata": {},
          "output_type": "execute_result"
        }
      ],
      "source": [
        "data['condition'].unique()"
      ]
    },
    {
      "cell_type": "code",
      "execution_count": null,
      "metadata": {
        "id": "L5osjz2yEoBR",
        "outputId": "c2b02c56-9077-41e8-dd46-e34ab739a21e"
      },
      "outputs": [
        {
          "data": {
            "text/plain": [
              "array(['bmw x5', 'ford f-150', 'hyundai sonata', 'chrysler 200',\n",
              "       'chrysler 300', 'toyota camry', 'honda pilot', 'kia sorento',\n",
              "       'chevrolet silverado 1500', 'honda accord', 'ram 1500',\n",
              "       'gmc yukon', 'jeep cherokee', 'chevrolet traverse',\n",
              "       'hyundai elantra', 'chevrolet tahoe', 'toyota rav4',\n",
              "       'chevrolet silverado', 'jeep wrangler', 'chevrolet malibu',\n",
              "       'ford fusion se', 'chevrolet impala', 'chevrolet corvette',\n",
              "       'jeep liberty', 'toyota camry le', 'nissan altima',\n",
              "       'subaru outback', 'toyota highlander', 'dodge charger',\n",
              "       'toyota tacoma', 'chevrolet equinox', 'nissan rogue',\n",
              "       'mercedes-benz benze sprinter 2500', 'honda cr-v',\n",
              "       'jeep grand cherokee', 'toyota 4runner', 'ford focus',\n",
              "       'honda civic', 'kia soul', 'chevrolet colorado',\n",
              "       'ford f150 supercrew cab xlt', 'chevrolet camaro lt coupe 2d',\n",
              "       'chevrolet cruze', 'ford mustang', 'chevrolet silverado 3500hd',\n",
              "       'nissan frontier crew cab sv', 'subaru impreza',\n",
              "       'jeep grand cherokee laredo', 'nissan versa', 'ford f-250 sd',\n",
              "       'chevrolet silverado 1500 crew', 'ford f250 super duty',\n",
              "       'chevrolet camaro', 'ford mustang gt coupe 2d', 'subaru forester',\n",
              "       'ford explorer', 'ford f-350 sd', 'ford edge', 'nissan maxima',\n",
              "       'ford f-250', 'nissan sentra', 'ford f150', 'chevrolet suburban',\n",
              "       'ford expedition', 'dodge grand caravan', 'ford taurus',\n",
              "       'acura tl', 'ford f350 super duty', 'ford ranger', 'gmc sierra',\n",
              "       'hyundai santa fe', 'ford escape', 'gmc sierra 2500hd',\n",
              "       'honda civic lx', 'gmc sierra 1500', 'honda odyssey',\n",
              "       'cadillac escalade', 'volkswagen jetta', 'toyota corolla',\n",
              "       'chrysler town & country', 'volkswagen passat', 'toyota prius',\n",
              "       'buick enclave', 'ford fusion', 'toyota tundra', 'ram 3500',\n",
              "       'ram 2500', 'nissan frontier', 'chevrolet silverado 2500hd',\n",
              "       'jeep wrangler unlimited', 'ford f-250 super duty', 'gmc acadia',\n",
              "       'toyota sienna', 'ford focus se', 'ford f250', 'dodge dakota',\n",
              "       'ford f350', 'chevrolet trailblazer', 'ford econoline',\n",
              "       'nissan murano'], dtype=object)"
            ]
          },
          "execution_count": 9,
          "metadata": {},
          "output_type": "execute_result"
        }
      ],
      "source": [
        "data['model'].unique()"
      ]
    },
    {
      "cell_type": "code",
      "execution_count": null,
      "metadata": {
        "id": "Hdu6-XfZEoBS",
        "outputId": "3e092128-89ff-4e91-cb7e-3005399f3814"
      },
      "outputs": [
        {
          "data": {
            "text/plain": [
              "array(['SUV', 'pickup', 'sedan', 'truck', 'coupe', 'van', 'convertible',\n",
              "       'hatchback', 'wagon', 'mini-van', 'other', 'offroad', 'bus'],\n",
              "      dtype=object)"
            ]
          },
          "execution_count": 10,
          "metadata": {},
          "output_type": "execute_result"
        }
      ],
      "source": [
        "data['type'].unique()"
      ]
    },
    {
      "cell_type": "markdown",
      "metadata": {
        "id": "jvPB8kzmEoBS"
      },
      "source": [
        "__Após a análise dos dados temos alguns pontos a serem estudados mais próximos, dessa forma, destaco aqui alguns para serem melhor visualizados.__\n",
        "\n",
        "   * Price está em valores int, teremos que passa-los para floats, de forma qual será informado os centavos em cada locação.\n",
        "   * Os valores em anos estão em float, precisamos passar para int.\n",
        "   * Encontramos alguns valores ausentes em __(model_year, cylinders, odometer, paint_color e is_4wd)__. Iremos precisar análisar de mais perto cada uma dessas colunas para saber se podemos alterar tais dados.\n",
        "   * Em __'transmission'__ há outros, entretanto, não existe outro tipo de transmissão além das duas convêncionais.\n",
        "   * Já em model teremos que visualizar melhor os dados e observar se há duplicatas e se houver, retira-lás.\n",
        "   * Há km ausente em __'odometer'__ informação importante para visualização da condição do carro futuramente. \n",
        "       * Juntamente nesse tópico, talvez seja interessante análisar e montar uma qualidade de odometer boa média e ruim.\n",
        "   * Em 'paint_color', podemos trocar os valores ausentes por unknown.\n",
        "\n",
        "__Ao mais, outras informações poderemos tirar durante o projeto.__"
      ]
    },
    {
      "cell_type": "code",
      "execution_count": null,
      "metadata": {
        "id": "6vqwwbnXEoBT",
        "outputId": "eb7ee559-967f-4ebe-e5b8-b0934219dbba"
      },
      "outputs": [
        {
          "name": "stdout",
          "output_type": "stream",
          "text": [
            "<class 'pandas.core.frame.DataFrame'>\n",
            "RangeIndex: 51525 entries, 0 to 51524\n",
            "Data columns (total 13 columns):\n",
            " #   Column        Non-Null Count  Dtype  \n",
            "---  ------        --------------  -----  \n",
            " 0   price         51525 non-null  int64  \n",
            " 1   model_year    47906 non-null  float64\n",
            " 2   model         51525 non-null  object \n",
            " 3   condition     51525 non-null  object \n",
            " 4   cylinders     46265 non-null  float64\n",
            " 5   fuel          51525 non-null  object \n",
            " 6   odometer      43633 non-null  float64\n",
            " 7   transmission  51525 non-null  object \n",
            " 8   type          51525 non-null  object \n",
            " 9   paint_color   42258 non-null  object \n",
            " 10  is_4wd        25572 non-null  float64\n",
            " 11  date_posted   51525 non-null  object \n",
            " 12  days_listed   51525 non-null  int64  \n",
            "dtypes: float64(4), int64(2), object(7)\n",
            "memory usage: 5.1+ MB\n"
          ]
        }
      ],
      "source": [
        "data.info()"
      ]
    },
    {
      "cell_type": "markdown",
      "metadata": {
        "id": "JzEwu1ypEoBT"
      },
      "source": [
        "__Colunas com tipos de dados inapropriados:__\n",
        "   * price \n",
        "   * model_year\n",
        "   * cylinders\n",
        "   * date_posted\n",
        "   * is_4wd - __Compreender melhor a demanda dessa coluna.__\n",
        "   \n",
        "\n",
        "__Colunas com valores ausentes:__\n",
        "   * model_year\n",
        "   * cylinders\n",
        "   * odometer\n",
        "   * paint_color\n",
        "   * is_4wd"
      ]
    },
    {
      "cell_type": "code",
      "execution_count": null,
      "metadata": {
        "id": "6xqO2NElEoBU",
        "outputId": "db9541ab-b4c5-4dc6-fe08-2903a61e7716"
      },
      "outputs": [
        {
          "data": {
            "text/plain": [
              "3619"
            ]
          },
          "execution_count": 12,
          "metadata": {},
          "output_type": "execute_result"
        }
      ],
      "source": [
        "def count_na (column):\n",
        "    missing_values = data[column].isnull().sum()\n",
        "    return missing_values\n",
        "\n",
        "count_na('model_year')"
      ]
    },
    {
      "cell_type": "code",
      "execution_count": null,
      "metadata": {
        "id": "OnSYsxEREoBU",
        "outputId": "20f0b216-bd90-4d76-f540-0b76d1598d22"
      },
      "outputs": [
        {
          "data": {
            "text/plain": [
              "5260"
            ]
          },
          "execution_count": 13,
          "metadata": {},
          "output_type": "execute_result"
        }
      ],
      "source": [
        "count_na('cylinders')"
      ]
    },
    {
      "cell_type": "code",
      "execution_count": null,
      "metadata": {
        "id": "3gSPh1WqEoBV",
        "outputId": "213f91ef-beb6-4c1b-fe5e-d4e7ff5a4e55"
      },
      "outputs": [
        {
          "data": {
            "text/plain": [
              "7892"
            ]
          },
          "execution_count": 14,
          "metadata": {},
          "output_type": "execute_result"
        }
      ],
      "source": [
        "count_na('odometer')"
      ]
    },
    {
      "cell_type": "code",
      "execution_count": null,
      "metadata": {
        "id": "z8P-CZA9EoBV",
        "outputId": "1f0d388c-1b95-48a4-aad4-1f04819d4e8c"
      },
      "outputs": [
        {
          "data": {
            "text/plain": [
              "9267"
            ]
          },
          "execution_count": 15,
          "metadata": {},
          "output_type": "execute_result"
        }
      ],
      "source": [
        "count_na('paint_color')"
      ]
    },
    {
      "cell_type": "code",
      "execution_count": null,
      "metadata": {
        "id": "Nnw_aiqQEoBW",
        "outputId": "5a10a37f-d717-4029-d730-170292731ea2"
      },
      "outputs": [
        {
          "data": {
            "text/plain": [
              "25953"
            ]
          },
          "execution_count": 16,
          "metadata": {},
          "output_type": "execute_result"
        }
      ],
      "source": [
        "count_na('is_4wd')"
      ]
    },
    {
      "cell_type": "markdown",
      "metadata": {
        "id": "tDu7178oEoBW"
      },
      "source": [
        "Conforme demonstrado pela função acima, a coluna que há mais valores ausentes é a de __'is_4wd'__"
      ]
    },
    {
      "cell_type": "markdown",
      "metadata": {
        "id": "8dur63ytEoBX"
      },
      "source": [
        "### Conclusões e próximos passos"
      ]
    },
    {
      "cell_type": "markdown",
      "metadata": {
        "id": "sZvfU3y7EoBX"
      },
      "source": [
        "Assim como visualizados nos resumos de cada linhas acima, concluimos que há algumas incongruências. Dessa forma, iremos analisar e caso seja interessante alterar e alinhar os dados de maneira que contribua ao projeto. "
      ]
    },
    {
      "cell_type": "markdown",
      "metadata": {
        "id": "Y2iB4KU1EoBX"
      },
      "source": [
        "## Cuide dos valores ausentes (se houver algum)"
      ]
    },
    {
      "cell_type": "markdown",
      "metadata": {
        "id": "YI9cNigNEoBX"
      },
      "source": [
        "Como os dados que estāo ausentes eles sāo caracteristicas dos carros, e os valores ausentes em cada coluna representam mais que 1% de cada, compreende-se que a melhor coisa a ser feita nesse momento é especificar como 'unknwon', de forma que preencheremos os valores e assim nāo comprometera os dados."
      ]
    },
    {
      "cell_type": "code",
      "execution_count": null,
      "metadata": {
        "id": "ABjRzlL-EoBY",
        "outputId": "8150f770-4240-4e51-e83d-2e67e4592867"
      },
      "outputs": [
        {
          "ename": "KeyError",
          "evalue": "'odometers'",
          "output_type": "error",
          "traceback": [
            "\u001b[0;31m---------------------------------------------------------------------------\u001b[0m",
            "\u001b[0;31mKeyError\u001b[0m                                  Traceback (most recent call last)",
            "\u001b[0;32m/opt/conda/lib/python3.9/site-packages/pandas/core/indexes/base.py\u001b[0m in \u001b[0;36mget_loc\u001b[0;34m(self, key, method, tolerance)\u001b[0m\n\u001b[1;32m   3079\u001b[0m             \u001b[0;32mtry\u001b[0m\u001b[0;34m:\u001b[0m\u001b[0;34m\u001b[0m\u001b[0;34m\u001b[0m\u001b[0m\n\u001b[0;32m-> 3080\u001b[0;31m                 \u001b[0;32mreturn\u001b[0m \u001b[0mself\u001b[0m\u001b[0;34m.\u001b[0m\u001b[0m_engine\u001b[0m\u001b[0;34m.\u001b[0m\u001b[0mget_loc\u001b[0m\u001b[0;34m(\u001b[0m\u001b[0mcasted_key\u001b[0m\u001b[0;34m)\u001b[0m\u001b[0;34m\u001b[0m\u001b[0;34m\u001b[0m\u001b[0m\n\u001b[0m\u001b[1;32m   3081\u001b[0m             \u001b[0;32mexcept\u001b[0m \u001b[0mKeyError\u001b[0m \u001b[0;32mas\u001b[0m \u001b[0merr\u001b[0m\u001b[0;34m:\u001b[0m\u001b[0;34m\u001b[0m\u001b[0;34m\u001b[0m\u001b[0m\n",
            "\u001b[0;32mpandas/_libs/index.pyx\u001b[0m in \u001b[0;36mpandas._libs.index.IndexEngine.get_loc\u001b[0;34m()\u001b[0m\n",
            "\u001b[0;32mpandas/_libs/index.pyx\u001b[0m in \u001b[0;36mpandas._libs.index.IndexEngine.get_loc\u001b[0;34m()\u001b[0m\n",
            "\u001b[0;32mpandas/_libs/hashtable_class_helper.pxi\u001b[0m in \u001b[0;36mpandas._libs.hashtable.PyObjectHashTable.get_item\u001b[0;34m()\u001b[0m\n",
            "\u001b[0;32mpandas/_libs/hashtable_class_helper.pxi\u001b[0m in \u001b[0;36mpandas._libs.hashtable.PyObjectHashTable.get_item\u001b[0;34m()\u001b[0m\n",
            "\u001b[0;31mKeyError\u001b[0m: 'odometers'",
            "\nThe above exception was the direct cause of the following exception:\n",
            "\u001b[0;31mKeyError\u001b[0m                                  Traceback (most recent call last)",
            "\u001b[0;32m/tmp/ipykernel_31/3461718395.py\u001b[0m in \u001b[0;36m<module>\u001b[0;34m\u001b[0m\n\u001b[1;32m      3\u001b[0m \u001b[0;32mfor\u001b[0m \u001b[0mcoluna\u001b[0m \u001b[0;32min\u001b[0m \u001b[0mcolunas\u001b[0m\u001b[0;34m:\u001b[0m\u001b[0;34m\u001b[0m\u001b[0;34m\u001b[0m\u001b[0m\n\u001b[1;32m      4\u001b[0m \u001b[0;34m\u001b[0m\u001b[0m\n\u001b[0;32m----> 5\u001b[0;31m     \u001b[0mdata\u001b[0m\u001b[0;34m[\u001b[0m\u001b[0mcoluna\u001b[0m\u001b[0;34m]\u001b[0m\u001b[0;34m.\u001b[0m\u001b[0mfillna\u001b[0m\u001b[0;34m(\u001b[0m\u001b[0mdata\u001b[0m\u001b[0;34m[\u001b[0m\u001b[0mcoluna\u001b[0m\u001b[0;34m]\u001b[0m\u001b[0;34m.\u001b[0m\u001b[0mmean\u001b[0m\u001b[0;34m(\u001b[0m\u001b[0;34m)\u001b[0m\u001b[0;34m,\u001b[0m\u001b[0minplace\u001b[0m\u001b[0;34m=\u001b[0m\u001b[0;32mTrue\u001b[0m\u001b[0;34m)\u001b[0m\u001b[0;34m\u001b[0m\u001b[0;34m\u001b[0m\u001b[0m\n\u001b[0m",
            "\u001b[0;32m/opt/conda/lib/python3.9/site-packages/pandas/core/frame.py\u001b[0m in \u001b[0;36m__getitem__\u001b[0;34m(self, key)\u001b[0m\n\u001b[1;32m   3022\u001b[0m             \u001b[0;32mif\u001b[0m \u001b[0mself\u001b[0m\u001b[0;34m.\u001b[0m\u001b[0mcolumns\u001b[0m\u001b[0;34m.\u001b[0m\u001b[0mnlevels\u001b[0m \u001b[0;34m>\u001b[0m \u001b[0;36m1\u001b[0m\u001b[0;34m:\u001b[0m\u001b[0;34m\u001b[0m\u001b[0;34m\u001b[0m\u001b[0m\n\u001b[1;32m   3023\u001b[0m                 \u001b[0;32mreturn\u001b[0m \u001b[0mself\u001b[0m\u001b[0;34m.\u001b[0m\u001b[0m_getitem_multilevel\u001b[0m\u001b[0;34m(\u001b[0m\u001b[0mkey\u001b[0m\u001b[0;34m)\u001b[0m\u001b[0;34m\u001b[0m\u001b[0;34m\u001b[0m\u001b[0m\n\u001b[0;32m-> 3024\u001b[0;31m             \u001b[0mindexer\u001b[0m \u001b[0;34m=\u001b[0m \u001b[0mself\u001b[0m\u001b[0;34m.\u001b[0m\u001b[0mcolumns\u001b[0m\u001b[0;34m.\u001b[0m\u001b[0mget_loc\u001b[0m\u001b[0;34m(\u001b[0m\u001b[0mkey\u001b[0m\u001b[0;34m)\u001b[0m\u001b[0;34m\u001b[0m\u001b[0;34m\u001b[0m\u001b[0m\n\u001b[0m\u001b[1;32m   3025\u001b[0m             \u001b[0;32mif\u001b[0m \u001b[0mis_integer\u001b[0m\u001b[0;34m(\u001b[0m\u001b[0mindexer\u001b[0m\u001b[0;34m)\u001b[0m\u001b[0;34m:\u001b[0m\u001b[0;34m\u001b[0m\u001b[0;34m\u001b[0m\u001b[0m\n\u001b[1;32m   3026\u001b[0m                 \u001b[0mindexer\u001b[0m \u001b[0;34m=\u001b[0m \u001b[0;34m[\u001b[0m\u001b[0mindexer\u001b[0m\u001b[0;34m]\u001b[0m\u001b[0;34m\u001b[0m\u001b[0;34m\u001b[0m\u001b[0m\n",
            "\u001b[0;32m/opt/conda/lib/python3.9/site-packages/pandas/core/indexes/base.py\u001b[0m in \u001b[0;36mget_loc\u001b[0;34m(self, key, method, tolerance)\u001b[0m\n\u001b[1;32m   3080\u001b[0m                 \u001b[0;32mreturn\u001b[0m \u001b[0mself\u001b[0m\u001b[0;34m.\u001b[0m\u001b[0m_engine\u001b[0m\u001b[0;34m.\u001b[0m\u001b[0mget_loc\u001b[0m\u001b[0;34m(\u001b[0m\u001b[0mcasted_key\u001b[0m\u001b[0;34m)\u001b[0m\u001b[0;34m\u001b[0m\u001b[0;34m\u001b[0m\u001b[0m\n\u001b[1;32m   3081\u001b[0m             \u001b[0;32mexcept\u001b[0m \u001b[0mKeyError\u001b[0m \u001b[0;32mas\u001b[0m \u001b[0merr\u001b[0m\u001b[0;34m:\u001b[0m\u001b[0;34m\u001b[0m\u001b[0;34m\u001b[0m\u001b[0m\n\u001b[0;32m-> 3082\u001b[0;31m                 \u001b[0;32mraise\u001b[0m \u001b[0mKeyError\u001b[0m\u001b[0;34m(\u001b[0m\u001b[0mkey\u001b[0m\u001b[0;34m)\u001b[0m \u001b[0;32mfrom\u001b[0m \u001b[0merr\u001b[0m\u001b[0;34m\u001b[0m\u001b[0;34m\u001b[0m\u001b[0m\n\u001b[0m\u001b[1;32m   3083\u001b[0m \u001b[0;34m\u001b[0m\u001b[0m\n\u001b[1;32m   3084\u001b[0m         \u001b[0;32mif\u001b[0m \u001b[0mtolerance\u001b[0m \u001b[0;32mis\u001b[0m \u001b[0;32mnot\u001b[0m \u001b[0;32mNone\u001b[0m\u001b[0;34m:\u001b[0m\u001b[0;34m\u001b[0m\u001b[0;34m\u001b[0m\u001b[0m\n",
            "\u001b[0;31mKeyError\u001b[0m: 'odometers'"
          ]
        }
      ],
      "source": [
        "colunas = [\"odometers\", \"cylinders\", \"model_year\"]\n",
        "\n",
        "for coluna in colunas: \n",
        "\n",
        "    data[coluna].fillna(data[coluna].mean(),inplace=True)"
      ]
    },
    {
      "cell_type": "code",
      "execution_count": null,
      "metadata": {
        "id": "397snQ9QEoBZ"
      },
      "outputs": [],
      "source": [
        "data.head(5)"
      ]
    },
    {
      "cell_type": "markdown",
      "metadata": {
        "id": "-Cnvf9MFEoBZ"
      },
      "source": [
        "__Foi feito manualmente para cada coluna pois, há valores que seriam interessantes estarem em int, str e futuramente em float.__\n",
        "   * Pontos para a revisão do tutor, há uma maneira de fazer isso tudo automaticamente ?"
      ]
    },
    {
      "cell_type": "markdown",
      "metadata": {
        "id": "CnQSgiruEoBa"
      },
      "source": [
        "__Foi decidido trocar os valores ausentes pela palavra 'unknwon' em colunas object e '0' em colunas de int e float, sendo mais fácil de outra pessoa visualizar e compreender que o dado para aquele lugar é desconhecido. Assim, deixamos todas as colunas com valores ausentes sem os mesmos.__"
      ]
    },
    {
      "cell_type": "markdown",
      "metadata": {
        "id": "3SyfkeBOEoBa"
      },
      "source": [
        "## Corrija os tipos de dados"
      ]
    },
    {
      "cell_type": "code",
      "execution_count": null,
      "metadata": {
        "id": "Cvb0h-ldEoBb"
      },
      "outputs": [],
      "source": [
        "data = data.astype({'model_year': 'int64','odometer': 'int64', 'is_4wd':'float64'})"
      ]
    },
    {
      "cell_type": "code",
      "execution_count": null,
      "metadata": {
        "id": "KGhlVmRBEoBb"
      },
      "outputs": [],
      "source": [
        "data['date_posted'] = pd.to_datetime(data['date_posted'], format='%Y-%m-%d')"
      ]
    },
    {
      "cell_type": "markdown",
      "metadata": {
        "id": "BK3OwzIdEoBb"
      },
      "source": [
        "Aqui fizemos a troca de dtype das colunas, juntamente de corrigir o datetime no 'date_posted'. "
      ]
    },
    {
      "cell_type": "code",
      "execution_count": null,
      "metadata": {
        "id": "6jnJlst7EoBc"
      },
      "outputs": [],
      "source": [
        "data['model'].unique()"
      ]
    },
    {
      "cell_type": "code",
      "execution_count": null,
      "metadata": {
        "id": "57DhDDWGEoBc"
      },
      "outputs": [],
      "source": [
        "def new_model(old_models):\n",
        "    if 'ford' and '350' in old_models:\n",
        "        return 'ford f350 super duty'\n",
        "    elif 'ford' and '250' in old_models:\n",
        "        return 'ford f250 super duty'\n",
        "    elif 'ford' and '150' in old_models:\n",
        "        return 'ford f150'\n",
        "    elif 'chevrolet silverado 1500' in old_models:\n",
        "        return 'chevrolet silverado 1500 crew'\n",
        "    elif 'ford fusion se' in old_models:\n",
        "        return 'ford fusion'\n",
        "    elif 'jeep wrangler unlimited' in old_models:\n",
        "        return 'jeep wrangler'\n",
        "    elif 'jeep grand cherokee' in old_models:\n",
        "        return 'jeep grand cherokee'\n",
        "    elif 'ford mustang' in old_models:\n",
        "        return 'ford mustang'\n",
        "    elif 'chevrolet camaro' in old_models:\n",
        "        return 'chevrolet camaro'\n",
        "    elif 'honda civic' in old_models:\n",
        "        return 'honda civic'\n",
        "    else:\n",
        "        return old_models"
      ]
    },
    {
      "cell_type": "code",
      "execution_count": null,
      "metadata": {
        "scrolled": true,
        "id": "Jv3PJi9wEoBc"
      },
      "outputs": [],
      "source": [
        "# Iremos salvar a tabela tratada em uma nova variavel para facilitar a visualização da mesma.\n",
        "\n",
        "data['model'] = data['model'].apply(new_model)\n",
        "\n",
        "print(data['model'].unique())\n",
        "print('~~~~~~~~~~~~~~~~')\n",
        "print(data['model'].value_counts())"
      ]
    },
    {
      "cell_type": "code",
      "execution_count": null,
      "metadata": {
        "id": "srYRypyoEoBc"
      },
      "outputs": [],
      "source": [
        "data['type'] = data['type'].str.lower()\n",
        "data['type'].unique()"
      ]
    },
    {
      "cell_type": "code",
      "execution_count": null,
      "metadata": {
        "id": "aYZdm5HFEoBd"
      },
      "outputs": [],
      "source": [
        "data.info()\n",
        "print('--------')\n",
        "data.head(5)"
      ]
    },
    {
      "cell_type": "markdown",
      "metadata": {
        "id": "SrrUV_R0EoBd"
      },
      "source": [
        "Aqui então encontramos pequenos erros que poderiam comprometer a nossa data base e também trocamos os formatos de cada coluna.\n",
        "\n",
        "__Dados modificados nessa sessão:__\n",
        "   * model_year\n",
        "   * odometer\n",
        "   * is_4wd\n",
        "   * date_posted\n",
        "   * model\n",
        "   * type"
      ]
    },
    {
      "cell_type": "markdown",
      "metadata": {
        "id": "sCjNe_yAEoBd"
      },
      "source": [
        "## Enriqueça os dados"
      ]
    },
    {
      "cell_type": "markdown",
      "metadata": {
        "id": "QudUEdzoEoBd"
      },
      "source": [
        "Vamos facilitar a vida de outro analista caso ele visualize os dados posteriormente, além de deixar os dados mais completos para futuras entradas."
      ]
    },
    {
      "cell_type": "code",
      "execution_count": null,
      "metadata": {
        "id": "1CoOfnuUEoBd"
      },
      "outputs": [],
      "source": [
        "# Adicione a idade do veículo quando a propaganda for colocada\n",
        "\n",
        "data['year_posted'] = data['date_posted'].dt.year\n",
        "data['age'] = data['year_posted'] - data['model_year'] + 1"
      ]
    },
    {
      "cell_type": "code",
      "execution_count": null,
      "metadata": {
        "id": "GUWn3h5XEoBe"
      },
      "outputs": [],
      "source": [
        "data.head(5)"
      ]
    },
    {
      "cell_type": "code",
      "execution_count": null,
      "metadata": {
        "id": "ywH1QgkZEoBe"
      },
      "outputs": [],
      "source": [
        "# Adicione a quilometragem média por ano\n",
        "\n",
        "data['odometer_mean'] = data['odometer']/data['age']"
      ]
    },
    {
      "cell_type": "code",
      "execution_count": null,
      "metadata": {
        "scrolled": false,
        "id": "pOlR0gGJEoBe"
      },
      "outputs": [],
      "source": [
        "data.head(5)"
      ]
    },
    {
      "cell_type": "code",
      "execution_count": null,
      "metadata": {
        "id": "T3INm4FSEoBf"
      },
      "outputs": [],
      "source": [
        "# Adicionaremos ao 'model_year' nulo referenciado os modelos já existentes\n",
        "\n",
        "year_nan = data[data['model_year'] == 0]\n",
        "year_nan.head(7)"
      ]
    },
    {
      "cell_type": "markdown",
      "metadata": {
        "id": "cgruNAlcEoBf"
      },
      "source": [
        "## Verifique os dados limpos"
      ]
    },
    {
      "cell_type": "markdown",
      "metadata": {
        "id": "XMHwJxXIEoBf"
      },
      "source": [
        "Os dados já foram tratados, dessa forma, podemos dar uma breve olhada neles para saber o que iremos analisar e criar de gráficos futuramente. \n",
        "\n",
        "__Abaixo iremos encontrar algumas informações importantes:__"
      ]
    },
    {
      "cell_type": "code",
      "execution_count": null,
      "metadata": {
        "id": "EqcjcNr1EoBg"
      },
      "outputs": [],
      "source": [
        "# imprima as informações gerais/resumidas sobre o DataFrame\n",
        "\n",
        "data.info()\n",
        "print('_______________')\n",
        "data.describe()"
      ]
    },
    {
      "cell_type": "code",
      "execution_count": null,
      "metadata": {
        "id": "znGBsRsWEoBg"
      },
      "outputs": [],
      "source": [
        "# imprima uma amostragem dos dados\n",
        "data.head(20)"
      ]
    },
    {
      "cell_type": "markdown",
      "metadata": {
        "id": "CNiy0pUBEoBg"
      },
      "source": [
        "## Estude os parâmetros fundamentais\n",
        "\n",
        "__O que sera estudado:__\n",
        "\n",
        "Analisaremos se há correlação entre os parâmetros informados abaixo, observando algum padrão, e se encontramos casos extraordinários dentre os valores. \n",
        "\n",
        "__Os parâmetros são:__\n",
        "\n",
        "   - Preço\n",
        "   - Quilometragem\n",
        "   - Condição\n",
        "   - Idade\n",
        "   - Dias postados\n",
        "   - Type\n",
        "   \n",
        "__Com essas variaveis vamos compreender a relação entre o tempo de espera até a venda de um veiculo.__"
      ]
    },
    {
      "cell_type": "code",
      "execution_count": null,
      "metadata": {
        "id": "q9qco1lpEoBh"
      },
      "outputs": [],
      "source": [
        "# Primeiramente vamos analisar a correlação entre quilometragem e condição do veículo.\n",
        "\n",
        "condition_by_odometer = data.pivot_table(index='condition', values='odometer', aggfunc='median')\n",
        "condition_by_odometer.sort_values(by='odometer', ascending=False).plot(grid=True,kind='bar', figsize=(10,5))"
      ]
    },
    {
      "cell_type": "markdown",
      "metadata": {
        "id": "Dbi7ydglEoBh"
      },
      "source": [
        "Conseguimos perceber algumas coisas por esse grafico. \n",
        "  - Não necessáriamente o carro que está muito rodado está mais deteriorado, pois como pode ser observados os carros qualificados como \"good\" estão quase em paridade com os \"salvage\".\n",
        "  - Os carros que percorreram maiores distancias são os que estão qualificados como \"fair\".\n",
        "  \n",
        "Dessa forma, podemos levar esses pensamentos podemos tentar entender se há outra correlação, a de dias listados e condição do carro."
      ]
    },
    {
      "cell_type": "code",
      "execution_count": null,
      "metadata": {
        "id": "c_vGhrt_EoBh"
      },
      "outputs": [],
      "source": [
        "# Agora poderemos analisar a classificação dos carros em relação a dias postados.\n",
        "\n",
        "\n",
        "(data\n",
        "     .query('days_listed')\n",
        "     .pivot_table(index='condition', values='days_listed')\n",
        "     .plot(kind='bar', figsize=(13, 5))\n",
        ") "
      ]
    },
    {
      "cell_type": "markdown",
      "metadata": {
        "id": "y6jeRMhcEoBh"
      },
      "source": [
        "Percebemos aqui, que para os compradores, não importa se o carro é muito novo, novo ou excelente para que tenha uma vazão mais rápida, da mesma forma se os carros foram muito ou pouco usados.\n",
        "\n",
        "Vamos analisar o preço em relação a condição deles, para que dessa forma possamos angariar as informações já adquiridas com as outras analises e assim compreender melhor os dados que temos."
      ]
    },
    {
      "cell_type": "code",
      "execution_count": null,
      "metadata": {
        "scrolled": true,
        "id": "awWHel3uEoBi"
      },
      "outputs": [],
      "source": [
        "# Vamos analisar a relação de preço e dias postados.\n",
        "\n",
        "data.plot(x='days_listed', y='price', kind='hexbin',gridsize=25, figsize=(10,6), sharex=False, grid=False) "
      ]
    },
    {
      "cell_type": "markdown",
      "metadata": {
        "id": "0k4vhYsDEoBi"
      },
      "source": [
        "Basenado no grafico de hexagonos apresentado acima, conseguimos então que carros que tem seu valor menor que 50 mil são os que tem menor taxa de permanencia dentro da plataforma de vendas.\n",
        "\n",
        "Por fim, veremos a relação de preços e condições, podendo assim propesctar tempo medio a ser vendido, preço de melhor saida e a condição ideal para os mesmos."
      ]
    },
    {
      "cell_type": "code",
      "execution_count": null,
      "metadata": {
        "scrolled": false,
        "id": "79qqRQDzEoBi"
      },
      "outputs": [],
      "source": [
        "# Por fim, vamos analisar a relação de preço e condição de veiculo.\n",
        "\n",
        "(data\n",
        "     .pivot_table(index='condition', values='price', aggfunc='median')\n",
        "     .plot(figsize=(8,5),kind='bar')\n",
        ")"
      ]
    },
    {
      "cell_type": "code",
      "execution_count": null,
      "metadata": {
        "id": "wHlOuPbHEoBi"
      },
      "outputs": [],
      "source": [
        "data['type'].value_counts()"
      ]
    },
    {
      "cell_type": "markdown",
      "metadata": {
        "id": "hkX0ixmvEoBi"
      },
      "source": [
        "__Conclusão:__\n",
        "\n",
        "Compreendemos então que os carros caracterizados como razoaveis são os de maior custo beneficio e portanto, os mais vendidos dentre os outros na plataforma. Além disso, conseguimos visualizar também que carros novos são os de maior valor e menor saida, enquanto os deteriorizados são de valor alto em comparação ao razoaveis e de menor saida."
      ]
    },
    {
      "cell_type": "markdown",
      "metadata": {
        "id": "N4y3Xx1eEoBi"
      },
      "source": [
        "## Estude e cuide dos valores ausentes\n",
        "\n",
        "Baseado nos estudos dos graficos acima, podemos pensar que algumas das colunas podem haver valores atípicos. Sendo eles: \n",
        "  - price\n",
        "  - odometer_mean"
      ]
    },
    {
      "cell_type": "code",
      "execution_count": null,
      "metadata": {
        "scrolled": false,
        "id": "9fu7IHzSEoBj"
      },
      "outputs": [],
      "source": [
        "# Aqui iremos determinar o limite superior e inferior para valores atípicos.\n",
        "\n",
        "Q1 = data['price'].quantile(0.25)\n",
        "Q3 = data['price'].quantile(0.75)\n",
        "IQR = Q3 - Q1\n",
        "plt.ylim(-30000, 50000)\n",
        "data.boxplot('price')\n",
        "plt.hlines(y=[Q1 - 1.5*IQR], xmin=1, xmax=1.1, color='red')"
      ]
    },
    {
      "cell_type": "markdown",
      "metadata": {
        "id": "GbS5ZGH5EoBj"
      },
      "source": [
        "Para 'price', seu limite para valor atípico tanto superior quanto inferior é de:\n",
        "   * Superior: Acima de 35000\n",
        "   * Inferior: 0."
      ]
    },
    {
      "cell_type": "code",
      "execution_count": null,
      "metadata": {
        "scrolled": true,
        "id": "Rd6Px1A9EoBj"
      },
      "outputs": [],
      "source": [
        "Q2 = data['odometer'].quantile(0.25)\n",
        "Q4 = data['odometer'].quantile(0.75)\n",
        "IQR = Q4 - Q1\n",
        "plt.ylim(-250000, 600000)\n",
        "data.boxplot('odometer')\n",
        "plt.hlines(y=[Q1 - 1.5*IQR], xmin=1, xmax=1.1, color='red')"
      ]
    },
    {
      "cell_type": "markdown",
      "metadata": {
        "id": "DwxhEMQlEoBj"
      },
      "source": [
        "Para 'odometer', seu limite para valor atípico tanto superior quanto inferior é:\n",
        "   * Positivo: Acima de 300000\n",
        "   * Negativo: 0"
      ]
    },
    {
      "cell_type": "code",
      "execution_count": null,
      "metadata": {
        "id": "_w4A6OxlEoBk"
      },
      "outputs": [],
      "source": [
        "#Criando uma variavel armazeando as informações sem os valores atípicos\n",
        "\n",
        "va1 = data.boxplot(\"price\")\n",
        "plt.ylim(0, 30000)"
      ]
    },
    {
      "cell_type": "code",
      "execution_count": null,
      "metadata": {
        "id": "2rJTdKtLEoBk"
      },
      "outputs": [],
      "source": [
        "va2 = data.boxplot(\"odometer\")\n",
        "plt.ylim(0, 300000)"
      ]
    },
    {
      "cell_type": "markdown",
      "metadata": {
        "id": "-kwamWh7EoBk"
      },
      "source": [
        "## Tempo de vida das propagandas\n",
        "\n",
        "Iremos analisar algumas informações basicas mas de suma importancia para compreender o funcionamento e o periodo de propaganda dos modelos."
      ]
    },
    {
      "cell_type": "code",
      "execution_count": null,
      "metadata": {
        "id": "pQYTKB_CEoBk"
      },
      "outputs": [],
      "source": [
        "print(data['days_listed'].min())\n",
        "print('__________')\n",
        "print(data['days_listed'].max())\n",
        "print('__________')\n",
        "print(data['days_listed'].mean())\n",
        "print('__________')\n",
        "print(data['days_listed'].median())"
      ]
    },
    {
      "cell_type": "code",
      "execution_count": null,
      "metadata": {
        "scrolled": true,
        "id": "tvdnERl2EoBk"
      },
      "outputs": [],
      "source": [
        "va2 = data.boxplot(\"days_listed\")\n",
        "plt.ylim(0, 300)"
      ]
    },
    {
      "cell_type": "markdown",
      "metadata": {
        "id": "IFFXOd92EoBk"
      },
      "source": [
        "Aqui conseguimos observar o tempo medio das propagandas na plataforma, quando uma propaganda é retirada de forma rapida por algum erro ou outro fator exogeno, da mesma forma valores atípicos para um periodo de tempo de anuncio."
      ]
    },
    {
      "cell_type": "markdown",
      "metadata": {
        "id": "Fd3ECzgbEoBl"
      },
      "source": [
        "## Média de preços por cada tipo de veículo"
      ]
    },
    {
      "cell_type": "markdown",
      "metadata": {
        "id": "fKtTc7xmEoBl"
      },
      "source": [
        "__Vamos analisar aqui o preço médio de cada modelo de carro e a dependência do número de propagandas para cada um desses modelos.__"
      ]
    },
    {
      "cell_type": "code",
      "execution_count": null,
      "metadata": {
        "id": "HkiCJwo4EoBl"
      },
      "outputs": [],
      "source": [
        "median_price = data.groupby('model').mean().sort_values('price', ascending=False)\n",
        "median_price.head(15)"
      ]
    },
    {
      "cell_type": "code",
      "execution_count": null,
      "metadata": {
        "id": "Lotv641gEoBm"
      },
      "outputs": [],
      "source": [
        "number_adv = data['model'].value_counts()\n",
        "number_adv.plot(kind='pie', figsize=(15,30))"
      ]
    },
    {
      "cell_type": "markdown",
      "metadata": {
        "id": "E2vOnVyvEoBm"
      },
      "source": [
        "__Com base nas informações adquiridas por meio da tabela e o grafico de pizza, conseguimos compreender algumas informações.__\n",
        "\n",
        "Os modelos que tem mais anuncio dentro da plataforma são o ford f150 e o f250 super dusty.\n",
        "O preço médio de cada um dos carros.\n",
        "Conseguimos também a data média de cada um desses carros na plataforma e o odometer_mean dos mesmos."
      ]
    },
    {
      "cell_type": "markdown",
      "metadata": {
        "id": "33K7Kh07EoBm"
      },
      "source": [
        "## Conclusão"
      ]
    },
    {
      "cell_type": "markdown",
      "metadata": {
        "id": "G6NRvNToEoBm"
      },
      "source": [
        "Conclui-se que, dentro dos Estados Unidos há uma grande utiização de SUV, dessa forma, compreende-se que há maiores números de propagandas de modelos compativeis com o 'type'. Assim, considerando o fato que SUV são os carros mais utilizados dentro do territorio, compreende-se também que isso aumentará o odometer_mean como um todo, e consequentemente abaixará a classificação dos mesmos por estarem mais utilizados. Portanto, o preço será dentro de até 30k, entretanto há valores atípicos ao mesmo como evidenciado em formulas acima.\n",
        "\n",
        "Por fim, levando-se também em consideração a informação adquirida pela classificação dos carros, uma maneira de fazer tais carros demorarem menos para serem vendidos é ajustar sua classificação, podendo assim abaixar seu tempo médio de propaganda."
      ]
    }
  ],
  "metadata": {
    "ExecuteTimeLog": [
      {
        "duration": 828,
        "start_time": "2021-11-16T09:21:11.304Z"
      },
      {
        "duration": 893,
        "start_time": "2021-11-16T09:21:17.728Z"
      },
      {
        "duration": 1150,
        "start_time": "2021-11-16T09:21:29.568Z"
      },
      {
        "duration": 3,
        "start_time": "2021-11-16T09:24:14.495Z"
      },
      {
        "duration": 120,
        "start_time": "2021-11-16T09:24:46.630Z"
      },
      {
        "duration": 3,
        "start_time": "2021-11-16T09:28:27.882Z"
      },
      {
        "duration": 4,
        "start_time": "2021-11-16T09:29:54.281Z"
      },
      {
        "duration": 3,
        "start_time": "2021-11-16T09:30:45.936Z"
      },
      {
        "duration": 4,
        "start_time": "2021-11-16T09:31:06.300Z"
      },
      {
        "duration": 113,
        "start_time": "2021-11-16T09:31:37.208Z"
      },
      {
        "duration": 143,
        "start_time": "2021-11-16T09:31:48.656Z"
      },
      {
        "duration": 98,
        "start_time": "2021-11-16T09:31:55.678Z"
      },
      {
        "duration": 3,
        "start_time": "2021-11-16T09:32:08.535Z"
      },
      {
        "duration": 111,
        "start_time": "2021-11-16T09:32:10.120Z"
      },
      {
        "duration": 3,
        "start_time": "2021-11-16T09:32:15.732Z"
      },
      {
        "duration": 4,
        "start_time": "2021-11-16T09:32:29.423Z"
      },
      {
        "duration": 3,
        "start_time": "2021-11-16T10:03:03.074Z"
      },
      {
        "duration": 3,
        "start_time": "2021-11-16T10:10:01.288Z"
      },
      {
        "duration": 3,
        "start_time": "2021-11-16T10:10:46.923Z"
      },
      {
        "duration": 121,
        "start_time": "2021-11-16T10:37:46.494Z"
      },
      {
        "duration": 125,
        "start_time": "2021-11-16T10:38:20.632Z"
      },
      {
        "duration": 112,
        "start_time": "2021-11-16T10:46:53.001Z"
      },
      {
        "duration": 110,
        "start_time": "2021-11-16T10:48:25.775Z"
      },
      {
        "duration": 3,
        "start_time": "2021-11-16T10:50:18.720Z"
      },
      {
        "duration": 4,
        "start_time": "2021-11-16T10:50:37.649Z"
      },
      {
        "duration": 2,
        "start_time": "2021-11-16T10:50:51.884Z"
      },
      {
        "duration": 3,
        "start_time": "2021-11-16T10:51:56.237Z"
      },
      {
        "duration": 101,
        "start_time": "2021-11-16T10:53:13.791Z"
      },
      {
        "duration": 3,
        "start_time": "2021-11-16T10:55:59.186Z"
      },
      {
        "duration": 3,
        "start_time": "2021-11-16T10:56:10.751Z"
      },
      {
        "duration": 3,
        "start_time": "2021-11-16T10:56:49.038Z"
      },
      {
        "duration": 3,
        "start_time": "2021-11-16T10:56:49.174Z"
      },
      {
        "duration": 4,
        "start_time": "2021-11-16T10:56:49.414Z"
      },
      {
        "duration": 3,
        "start_time": "2021-11-16T10:56:49.680Z"
      },
      {
        "duration": 3,
        "start_time": "2021-11-16T10:56:50.370Z"
      },
      {
        "duration": 114,
        "start_time": "2021-11-16T10:59:34.518Z"
      },
      {
        "duration": 3,
        "start_time": "2021-11-16T11:01:41.201Z"
      },
      {
        "duration": 116,
        "start_time": "2021-11-16T11:01:48.754Z"
      },
      {
        "duration": 3,
        "start_time": "2021-11-16T11:02:16.685Z"
      },
      {
        "duration": 3,
        "start_time": "2021-11-16T11:02:19.479Z"
      },
      {
        "duration": 3,
        "start_time": "2021-11-16T11:02:47.067Z"
      },
      {
        "duration": 3,
        "start_time": "2021-11-16T11:02:49.353Z"
      },
      {
        "duration": 3,
        "start_time": "2021-11-16T11:03:07.835Z"
      },
      {
        "duration": 3,
        "start_time": "2021-11-16T11:03:07.953Z"
      },
      {
        "duration": 112,
        "start_time": "2021-11-16T11:07:52.072Z"
      },
      {
        "duration": 187,
        "start_time": "2021-11-16T11:09:23.468Z"
      },
      {
        "duration": 4,
        "start_time": "2021-11-16T11:10:01.455Z"
      },
      {
        "duration": 3,
        "start_time": "2021-11-16T11:10:05.069Z"
      },
      {
        "duration": 4,
        "start_time": "2021-11-16T11:10:13.376Z"
      },
      {
        "duration": 3,
        "start_time": "2021-11-16T11:10:14.434Z"
      },
      {
        "duration": 3,
        "start_time": "2021-11-16T11:10:22.853Z"
      },
      {
        "duration": 4,
        "start_time": "2021-11-16T11:27:29.279Z"
      },
      {
        "duration": 4,
        "start_time": "2021-11-16T11:29:08.919Z"
      },
      {
        "duration": 118,
        "start_time": "2021-11-16T11:29:46.703Z"
      },
      {
        "duration": 437,
        "start_time": "2021-11-16T11:36:02.181Z"
      },
      {
        "duration": 157,
        "start_time": "2021-11-16T11:36:14.388Z"
      },
      {
        "duration": 207,
        "start_time": "2021-11-16T11:47:15.898Z"
      },
      {
        "duration": 3,
        "start_time": "2021-11-16T11:53:52.092Z"
      },
      {
        "duration": 3,
        "start_time": "2021-11-16T11:53:52.236Z"
      },
      {
        "duration": 3,
        "start_time": "2021-11-16T11:59:12.005Z"
      },
      {
        "duration": 112,
        "start_time": "2021-11-16T12:00:33.446Z"
      },
      {
        "duration": 3,
        "start_time": "2021-11-16T12:02:14.453Z"
      },
      {
        "duration": 3,
        "start_time": "2021-11-16T12:02:39.512Z"
      },
      {
        "duration": 106,
        "start_time": "2021-11-16T12:03:03.460Z"
      },
      {
        "duration": 905,
        "start_time": "2022-05-25T13:34:47.920Z"
      },
      {
        "duration": 341,
        "start_time": "2022-05-25T13:35:19.454Z"
      },
      {
        "duration": 360,
        "start_time": "2022-05-25T13:39:48.781Z"
      },
      {
        "duration": 23,
        "start_time": "2022-05-25T13:41:09.066Z"
      },
      {
        "duration": 23,
        "start_time": "2022-05-25T13:44:10.501Z"
      },
      {
        "duration": 16,
        "start_time": "2022-05-25T13:44:21.764Z"
      },
      {
        "duration": 17,
        "start_time": "2022-05-25T13:54:37.459Z"
      },
      {
        "duration": 3,
        "start_time": "2022-05-25T13:56:58.345Z"
      },
      {
        "duration": 18,
        "start_time": "2022-05-25T14:23:09.384Z"
      },
      {
        "duration": 6,
        "start_time": "2022-05-25T14:23:37.014Z"
      },
      {
        "duration": 7,
        "start_time": "2022-05-25T14:24:04.426Z"
      },
      {
        "duration": 9,
        "start_time": "2022-05-25T14:24:07.949Z"
      },
      {
        "duration": 5,
        "start_time": "2022-05-25T14:24:16.959Z"
      },
      {
        "duration": 5,
        "start_time": "2022-05-25T14:24:17.697Z"
      },
      {
        "duration": 7,
        "start_time": "2022-05-25T14:26:04.177Z"
      },
      {
        "duration": 6,
        "start_time": "2022-05-25T14:26:25.383Z"
      },
      {
        "duration": 7,
        "start_time": "2022-05-25T14:37:41.830Z"
      },
      {
        "duration": 21,
        "start_time": "2022-05-25T14:38:58.298Z"
      },
      {
        "duration": 16,
        "start_time": "2022-05-25T14:48:42.026Z"
      },
      {
        "duration": 84,
        "start_time": "2022-05-25T14:49:51.551Z"
      },
      {
        "duration": 86,
        "start_time": "2022-05-25T14:50:09.985Z"
      },
      {
        "duration": 9,
        "start_time": "2022-05-25T14:51:05.021Z"
      },
      {
        "duration": 10,
        "start_time": "2022-05-25T14:51:41.607Z"
      },
      {
        "duration": 8,
        "start_time": "2022-05-25T14:51:55.335Z"
      },
      {
        "duration": 3,
        "start_time": "2022-05-25T15:01:10.034Z"
      },
      {
        "duration": 4,
        "start_time": "2022-05-25T15:01:26.424Z"
      },
      {
        "duration": 3,
        "start_time": "2022-05-25T15:01:35.042Z"
      },
      {
        "duration": 2,
        "start_time": "2022-05-25T15:01:46.444Z"
      },
      {
        "duration": 3,
        "start_time": "2022-05-25T15:01:50.978Z"
      },
      {
        "duration": 2,
        "start_time": "2022-05-25T15:01:52.730Z"
      },
      {
        "duration": 3,
        "start_time": "2022-05-25T15:01:56.115Z"
      },
      {
        "duration": 3,
        "start_time": "2022-05-25T15:04:44.896Z"
      },
      {
        "duration": 4,
        "start_time": "2022-05-25T15:04:49.439Z"
      },
      {
        "duration": 7,
        "start_time": "2022-05-25T15:04:55.874Z"
      },
      {
        "duration": 3,
        "start_time": "2022-05-25T15:05:09.637Z"
      },
      {
        "duration": 3,
        "start_time": "2022-05-25T15:05:44.233Z"
      },
      {
        "duration": 3,
        "start_time": "2022-05-25T15:05:53.426Z"
      },
      {
        "duration": 3,
        "start_time": "2022-05-25T15:07:55.038Z"
      },
      {
        "duration": 567,
        "start_time": "2022-05-25T15:10:15.293Z"
      },
      {
        "duration": 628,
        "start_time": "2022-05-25T15:10:33.710Z"
      },
      {
        "duration": 8,
        "start_time": "2022-05-25T15:13:59.808Z"
      },
      {
        "duration": 13,
        "start_time": "2022-05-25T15:14:09.801Z"
      },
      {
        "duration": 9,
        "start_time": "2022-05-25T15:14:13.260Z"
      },
      {
        "duration": 8,
        "start_time": "2022-05-25T15:14:17.041Z"
      },
      {
        "duration": 5,
        "start_time": "2022-05-25T15:14:36.361Z"
      },
      {
        "duration": 5,
        "start_time": "2022-05-25T15:14:48.103Z"
      },
      {
        "duration": 6,
        "start_time": "2022-05-25T15:15:35.427Z"
      },
      {
        "duration": 56,
        "start_time": "2022-05-25T15:15:46.458Z"
      },
      {
        "duration": 698,
        "start_time": "2022-05-25T15:15:54.006Z"
      },
      {
        "duration": 3,
        "start_time": "2022-05-25T15:15:55.017Z"
      },
      {
        "duration": 108,
        "start_time": "2022-05-25T15:15:55.704Z"
      },
      {
        "duration": 40,
        "start_time": "2022-05-25T15:15:58.144Z"
      },
      {
        "duration": 22,
        "start_time": "2022-05-25T15:15:59.079Z"
      },
      {
        "duration": 7,
        "start_time": "2022-05-25T15:16:03.008Z"
      },
      {
        "duration": 9,
        "start_time": "2022-05-25T15:16:03.691Z"
      },
      {
        "duration": 6,
        "start_time": "2022-05-25T15:16:04.403Z"
      },
      {
        "duration": 8,
        "start_time": "2022-05-25T15:16:07.133Z"
      },
      {
        "duration": 7,
        "start_time": "2022-05-25T15:16:10.758Z"
      },
      {
        "duration": 24,
        "start_time": "2022-05-25T15:16:13.354Z"
      },
      {
        "duration": 20,
        "start_time": "2022-05-25T15:16:42.155Z"
      },
      {
        "duration": 42,
        "start_time": "2022-05-25T15:16:49.744Z"
      },
      {
        "duration": 22,
        "start_time": "2022-05-25T15:16:57.030Z"
      },
      {
        "duration": 20,
        "start_time": "2022-05-25T15:17:18.457Z"
      },
      {
        "duration": 34,
        "start_time": "2022-05-25T15:17:38.822Z"
      },
      {
        "duration": 5,
        "start_time": "2022-05-25T15:19:00.359Z"
      },
      {
        "duration": 6,
        "start_time": "2022-05-25T15:19:04.382Z"
      },
      {
        "duration": 6,
        "start_time": "2022-05-25T15:19:08.049Z"
      },
      {
        "duration": 6,
        "start_time": "2022-05-25T15:20:46.629Z"
      },
      {
        "duration": 5,
        "start_time": "2022-05-25T15:22:25.965Z"
      },
      {
        "duration": 4,
        "start_time": "2022-05-25T15:22:34.473Z"
      },
      {
        "duration": 6,
        "start_time": "2022-05-25T15:22:45.238Z"
      },
      {
        "duration": 4,
        "start_time": "2022-05-25T15:22:59.943Z"
      },
      {
        "duration": 838,
        "start_time": "2022-05-25T16:39:56.110Z"
      },
      {
        "duration": 166,
        "start_time": "2022-05-25T16:40:03.041Z"
      },
      {
        "duration": 40,
        "start_time": "2022-05-25T16:40:03.209Z"
      },
      {
        "duration": 21,
        "start_time": "2022-05-25T16:40:03.251Z"
      },
      {
        "duration": 6,
        "start_time": "2022-05-25T16:40:03.274Z"
      },
      {
        "duration": 15,
        "start_time": "2022-05-25T16:40:03.282Z"
      },
      {
        "duration": 7,
        "start_time": "2022-05-25T16:40:03.298Z"
      },
      {
        "duration": 9,
        "start_time": "2022-05-25T16:40:03.307Z"
      },
      {
        "duration": 6,
        "start_time": "2022-05-25T16:40:03.318Z"
      },
      {
        "duration": 23,
        "start_time": "2022-05-25T16:40:03.325Z"
      },
      {
        "duration": 5,
        "start_time": "2022-05-25T16:40:03.351Z"
      },
      {
        "duration": 38,
        "start_time": "2022-05-25T16:40:03.357Z"
      },
      {
        "duration": 4,
        "start_time": "2022-05-25T16:40:03.397Z"
      },
      {
        "duration": 10,
        "start_time": "2022-05-25T16:40:03.403Z"
      },
      {
        "duration": 9,
        "start_time": "2022-05-25T16:40:03.415Z"
      },
      {
        "duration": 5,
        "start_time": "2022-05-25T16:40:03.425Z"
      },
      {
        "duration": 5,
        "start_time": "2022-05-25T16:40:03.432Z"
      },
      {
        "duration": 9,
        "start_time": "2022-05-25T16:40:03.439Z"
      },
      {
        "duration": 6,
        "start_time": "2022-05-25T16:40:03.450Z"
      },
      {
        "duration": 6,
        "start_time": "2022-05-25T16:40:03.457Z"
      },
      {
        "duration": 15,
        "start_time": "2022-05-25T16:40:03.464Z"
      },
      {
        "duration": 14,
        "start_time": "2022-05-25T16:40:03.480Z"
      },
      {
        "duration": 3,
        "start_time": "2022-05-25T16:40:03.495Z"
      },
      {
        "duration": 6,
        "start_time": "2022-05-25T16:40:03.499Z"
      },
      {
        "duration": 8,
        "start_time": "2022-05-25T16:40:03.507Z"
      },
      {
        "duration": 6,
        "start_time": "2022-05-25T16:40:03.516Z"
      },
      {
        "duration": 10,
        "start_time": "2022-05-25T16:40:03.523Z"
      },
      {
        "duration": 5,
        "start_time": "2022-05-25T16:40:03.535Z"
      },
      {
        "duration": 5,
        "start_time": "2022-05-25T16:40:03.543Z"
      },
      {
        "duration": 6,
        "start_time": "2022-05-25T16:40:03.549Z"
      },
      {
        "duration": 889,
        "start_time": "2022-05-25T17:57:27.226Z"
      },
      {
        "duration": 160,
        "start_time": "2022-05-25T17:57:28.117Z"
      },
      {
        "duration": 24,
        "start_time": "2022-05-25T17:57:28.279Z"
      },
      {
        "duration": 22,
        "start_time": "2022-05-25T17:57:28.305Z"
      },
      {
        "duration": 8,
        "start_time": "2022-05-25T17:57:28.330Z"
      },
      {
        "duration": 6,
        "start_time": "2022-05-25T17:57:28.339Z"
      },
      {
        "duration": 6,
        "start_time": "2022-05-25T17:57:28.347Z"
      },
      {
        "duration": 7,
        "start_time": "2022-05-25T17:57:28.355Z"
      },
      {
        "duration": 6,
        "start_time": "2022-05-25T17:57:28.363Z"
      },
      {
        "duration": 60,
        "start_time": "2022-05-25T17:57:28.370Z"
      },
      {
        "duration": 5,
        "start_time": "2022-05-25T17:57:28.431Z"
      },
      {
        "duration": 14,
        "start_time": "2022-05-25T17:57:28.437Z"
      },
      {
        "duration": 6,
        "start_time": "2022-05-25T17:57:28.453Z"
      },
      {
        "duration": 5,
        "start_time": "2022-05-25T17:57:28.462Z"
      },
      {
        "duration": 6,
        "start_time": "2022-05-25T17:57:28.469Z"
      },
      {
        "duration": 4,
        "start_time": "2022-05-25T17:57:28.476Z"
      },
      {
        "duration": 5,
        "start_time": "2022-05-25T17:57:28.481Z"
      },
      {
        "duration": 5,
        "start_time": "2022-05-25T17:57:28.487Z"
      },
      {
        "duration": 29,
        "start_time": "2022-05-25T17:57:28.494Z"
      },
      {
        "duration": 2,
        "start_time": "2022-05-25T17:57:28.525Z"
      },
      {
        "duration": 12,
        "start_time": "2022-05-25T17:57:28.529Z"
      },
      {
        "duration": 4,
        "start_time": "2022-05-25T17:57:28.543Z"
      },
      {
        "duration": 5,
        "start_time": "2022-05-25T17:57:28.549Z"
      },
      {
        "duration": 6,
        "start_time": "2022-05-25T17:57:28.556Z"
      },
      {
        "duration": 5,
        "start_time": "2022-05-25T17:57:28.563Z"
      },
      {
        "duration": 4,
        "start_time": "2022-05-25T17:57:28.569Z"
      },
      {
        "duration": 5,
        "start_time": "2022-05-25T17:57:28.575Z"
      },
      {
        "duration": 5,
        "start_time": "2022-05-25T17:57:28.581Z"
      },
      {
        "duration": 6,
        "start_time": "2022-05-25T17:57:28.588Z"
      },
      {
        "duration": 5,
        "start_time": "2022-05-25T17:57:28.595Z"
      },
      {
        "duration": 79,
        "start_time": "2022-05-25T18:24:44.579Z"
      },
      {
        "duration": 9,
        "start_time": "2022-05-25T18:24:58.088Z"
      },
      {
        "duration": 11,
        "start_time": "2022-05-25T18:25:31.079Z"
      },
      {
        "duration": 13,
        "start_time": "2022-05-25T18:25:31.839Z"
      },
      {
        "duration": 11,
        "start_time": "2022-05-25T18:25:41.179Z"
      },
      {
        "duration": 2,
        "start_time": "2022-05-25T18:33:16.539Z"
      },
      {
        "duration": 109,
        "start_time": "2022-05-25T18:33:16.544Z"
      },
      {
        "duration": 22,
        "start_time": "2022-05-25T18:33:16.884Z"
      },
      {
        "duration": 19,
        "start_time": "2022-05-25T18:33:16.908Z"
      },
      {
        "duration": 21,
        "start_time": "2022-05-25T18:33:16.929Z"
      },
      {
        "duration": 7,
        "start_time": "2022-05-25T18:33:16.951Z"
      },
      {
        "duration": 7,
        "start_time": "2022-05-25T18:33:16.960Z"
      },
      {
        "duration": 8,
        "start_time": "2022-05-25T18:33:16.968Z"
      },
      {
        "duration": 6,
        "start_time": "2022-05-25T18:33:16.978Z"
      },
      {
        "duration": 22,
        "start_time": "2022-05-25T18:33:17.190Z"
      },
      {
        "duration": 4,
        "start_time": "2022-05-25T18:33:17.214Z"
      },
      {
        "duration": 5,
        "start_time": "2022-05-25T18:33:17.220Z"
      },
      {
        "duration": 19,
        "start_time": "2022-05-25T18:33:17.227Z"
      },
      {
        "duration": 6,
        "start_time": "2022-05-25T18:33:17.247Z"
      },
      {
        "duration": 6,
        "start_time": "2022-05-25T18:33:17.254Z"
      },
      {
        "duration": 12,
        "start_time": "2022-05-25T18:33:17.261Z"
      },
      {
        "duration": 0,
        "start_time": "2022-05-25T18:33:17.274Z"
      },
      {
        "duration": 0,
        "start_time": "2022-05-25T18:33:17.276Z"
      },
      {
        "duration": 0,
        "start_time": "2022-05-25T18:33:17.277Z"
      },
      {
        "duration": 0,
        "start_time": "2022-05-25T18:33:17.278Z"
      },
      {
        "duration": 0,
        "start_time": "2022-05-25T18:33:17.279Z"
      },
      {
        "duration": 1,
        "start_time": "2022-05-25T18:33:17.280Z"
      },
      {
        "duration": 2,
        "start_time": "2022-05-25T18:33:17.507Z"
      },
      {
        "duration": 5,
        "start_time": "2022-05-25T18:33:17.511Z"
      },
      {
        "duration": 5,
        "start_time": "2022-05-25T18:33:17.517Z"
      },
      {
        "duration": 20,
        "start_time": "2022-05-25T18:33:17.524Z"
      },
      {
        "duration": 6,
        "start_time": "2022-05-25T18:33:17.546Z"
      },
      {
        "duration": 6,
        "start_time": "2022-05-25T18:33:17.553Z"
      },
      {
        "duration": 5,
        "start_time": "2022-05-25T18:33:17.560Z"
      },
      {
        "duration": 5,
        "start_time": "2022-05-25T18:33:17.566Z"
      },
      {
        "duration": 5,
        "start_time": "2022-05-25T18:33:17.573Z"
      },
      {
        "duration": 7,
        "start_time": "2022-05-25T18:33:41.337Z"
      },
      {
        "duration": 5,
        "start_time": "2022-05-25T18:33:54.055Z"
      },
      {
        "duration": 11,
        "start_time": "2022-05-25T18:34:04.374Z"
      },
      {
        "duration": 3,
        "start_time": "2022-05-25T18:53:52.916Z"
      },
      {
        "duration": 108,
        "start_time": "2022-05-25T18:53:52.935Z"
      },
      {
        "duration": 21,
        "start_time": "2022-05-25T18:53:53.045Z"
      },
      {
        "duration": 22,
        "start_time": "2022-05-25T18:53:53.068Z"
      },
      {
        "duration": 7,
        "start_time": "2022-05-25T18:53:53.092Z"
      },
      {
        "duration": 22,
        "start_time": "2022-05-25T18:53:53.101Z"
      },
      {
        "duration": 7,
        "start_time": "2022-05-25T18:53:53.124Z"
      },
      {
        "duration": 7,
        "start_time": "2022-05-25T18:53:53.242Z"
      },
      {
        "duration": 6,
        "start_time": "2022-05-25T18:53:53.251Z"
      },
      {
        "duration": 23,
        "start_time": "2022-05-25T18:53:53.258Z"
      },
      {
        "duration": 5,
        "start_time": "2022-05-25T18:53:53.283Z"
      },
      {
        "duration": 7,
        "start_time": "2022-05-25T18:53:53.290Z"
      },
      {
        "duration": 7,
        "start_time": "2022-05-25T18:53:53.299Z"
      },
      {
        "duration": 18,
        "start_time": "2022-05-25T18:53:53.307Z"
      },
      {
        "duration": 6,
        "start_time": "2022-05-25T18:53:53.327Z"
      },
      {
        "duration": 10,
        "start_time": "2022-05-25T18:53:53.336Z"
      },
      {
        "duration": 4,
        "start_time": "2022-05-25T18:53:53.348Z"
      },
      {
        "duration": 7,
        "start_time": "2022-05-25T18:53:53.353Z"
      },
      {
        "duration": 5,
        "start_time": "2022-05-25T18:53:53.362Z"
      },
      {
        "duration": 6,
        "start_time": "2022-05-25T18:53:53.368Z"
      },
      {
        "duration": 6,
        "start_time": "2022-05-25T18:53:53.375Z"
      },
      {
        "duration": 2,
        "start_time": "2022-05-25T18:53:53.578Z"
      },
      {
        "duration": 5,
        "start_time": "2022-05-25T18:53:53.582Z"
      },
      {
        "duration": 9,
        "start_time": "2022-05-25T18:53:53.588Z"
      },
      {
        "duration": 4,
        "start_time": "2022-05-25T18:53:53.598Z"
      },
      {
        "duration": 4,
        "start_time": "2022-05-25T18:53:53.604Z"
      },
      {
        "duration": 5,
        "start_time": "2022-05-25T18:53:53.609Z"
      },
      {
        "duration": 5,
        "start_time": "2022-05-25T18:53:53.615Z"
      },
      {
        "duration": 19,
        "start_time": "2022-05-25T18:53:53.622Z"
      },
      {
        "duration": 4,
        "start_time": "2022-05-25T18:53:53.643Z"
      },
      {
        "duration": 5,
        "start_time": "2022-05-25T19:00:58.636Z"
      },
      {
        "duration": 5,
        "start_time": "2022-05-25T19:01:06.660Z"
      },
      {
        "duration": 918,
        "start_time": "2022-05-26T01:25:12.045Z"
      },
      {
        "duration": 166,
        "start_time": "2022-05-26T01:25:12.968Z"
      },
      {
        "duration": 25,
        "start_time": "2022-05-26T01:25:13.135Z"
      },
      {
        "duration": 27,
        "start_time": "2022-05-26T01:25:13.168Z"
      },
      {
        "duration": 5,
        "start_time": "2022-05-26T01:25:13.197Z"
      },
      {
        "duration": 7,
        "start_time": "2022-05-26T01:25:13.203Z"
      },
      {
        "duration": 11,
        "start_time": "2022-05-26T01:25:13.211Z"
      },
      {
        "duration": 13,
        "start_time": "2022-05-26T01:25:13.223Z"
      },
      {
        "duration": 30,
        "start_time": "2022-05-26T01:25:13.237Z"
      },
      {
        "duration": 23,
        "start_time": "2022-05-26T01:25:13.269Z"
      },
      {
        "duration": 6,
        "start_time": "2022-05-26T01:25:13.293Z"
      },
      {
        "duration": 10,
        "start_time": "2022-05-26T01:25:13.301Z"
      },
      {
        "duration": 8,
        "start_time": "2022-05-26T01:25:13.313Z"
      },
      {
        "duration": 14,
        "start_time": "2022-05-26T01:25:13.323Z"
      },
      {
        "duration": 18,
        "start_time": "2022-05-26T01:25:13.339Z"
      },
      {
        "duration": 3,
        "start_time": "2022-05-26T01:25:13.359Z"
      },
      {
        "duration": 13,
        "start_time": "2022-05-26T01:25:13.365Z"
      },
      {
        "duration": 5,
        "start_time": "2022-05-26T01:25:13.379Z"
      },
      {
        "duration": 5,
        "start_time": "2022-05-26T01:25:13.385Z"
      },
      {
        "duration": 6,
        "start_time": "2022-05-26T01:25:13.392Z"
      },
      {
        "duration": 19,
        "start_time": "2022-05-26T01:25:13.399Z"
      },
      {
        "duration": 5,
        "start_time": "2022-05-26T01:25:13.419Z"
      },
      {
        "duration": 6,
        "start_time": "2022-05-26T01:25:13.425Z"
      },
      {
        "duration": 4,
        "start_time": "2022-05-26T01:25:13.433Z"
      },
      {
        "duration": 11,
        "start_time": "2022-05-26T01:25:13.439Z"
      },
      {
        "duration": 24,
        "start_time": "2022-05-26T01:25:13.452Z"
      },
      {
        "duration": 7,
        "start_time": "2022-05-26T01:25:13.478Z"
      },
      {
        "duration": 5,
        "start_time": "2022-05-26T01:25:13.487Z"
      },
      {
        "duration": 12,
        "start_time": "2022-05-26T01:25:13.493Z"
      },
      {
        "duration": 12,
        "start_time": "2022-05-26T01:25:13.507Z"
      },
      {
        "duration": 3,
        "start_time": "2022-05-26T01:31:12.964Z"
      },
      {
        "duration": 11,
        "start_time": "2022-05-26T01:32:29.405Z"
      },
      {
        "duration": 12,
        "start_time": "2022-05-26T01:32:37.165Z"
      },
      {
        "duration": 11,
        "start_time": "2022-05-26T01:33:27.363Z"
      },
      {
        "duration": 11,
        "start_time": "2022-05-26T01:33:27.565Z"
      },
      {
        "duration": 11,
        "start_time": "2022-05-26T01:33:27.726Z"
      },
      {
        "duration": 8,
        "start_time": "2022-05-26T01:33:27.900Z"
      },
      {
        "duration": 13,
        "start_time": "2022-05-26T01:33:28.575Z"
      },
      {
        "duration": 82,
        "start_time": "2022-05-26T01:36:54.441Z"
      },
      {
        "duration": 14,
        "start_time": "2022-05-26T01:36:54.595Z"
      },
      {
        "duration": 16,
        "start_time": "2022-05-26T01:36:54.735Z"
      },
      {
        "duration": 11,
        "start_time": "2022-05-26T01:36:54.892Z"
      },
      {
        "duration": 18,
        "start_time": "2022-05-26T01:36:55.047Z"
      },
      {
        "duration": 13,
        "start_time": "2022-05-26T01:37:03.406Z"
      },
      {
        "duration": 11,
        "start_time": "2022-05-26T01:37:09.369Z"
      },
      {
        "duration": 12,
        "start_time": "2022-05-26T01:37:27.099Z"
      },
      {
        "duration": 9,
        "start_time": "2022-05-26T01:37:27.343Z"
      },
      {
        "duration": 12,
        "start_time": "2022-05-26T01:37:27.690Z"
      },
      {
        "duration": 20,
        "start_time": "2022-05-26T01:37:53.136Z"
      },
      {
        "duration": 3,
        "start_time": "2022-05-26T01:38:24.335Z"
      },
      {
        "duration": 13,
        "start_time": "2022-05-26T01:38:33.032Z"
      },
      {
        "duration": 11,
        "start_time": "2022-05-26T01:38:34.504Z"
      },
      {
        "duration": 652,
        "start_time": "2022-05-26T01:38:58.352Z"
      },
      {
        "duration": 96,
        "start_time": "2022-05-26T01:38:59.006Z"
      },
      {
        "duration": 23,
        "start_time": "2022-05-26T01:38:59.104Z"
      },
      {
        "duration": 39,
        "start_time": "2022-05-26T01:38:59.129Z"
      },
      {
        "duration": 9,
        "start_time": "2022-05-26T01:38:59.170Z"
      },
      {
        "duration": 6,
        "start_time": "2022-05-26T01:38:59.180Z"
      },
      {
        "duration": 7,
        "start_time": "2022-05-26T01:38:59.187Z"
      },
      {
        "duration": 7,
        "start_time": "2022-05-26T01:38:59.195Z"
      },
      {
        "duration": 6,
        "start_time": "2022-05-26T01:38:59.203Z"
      },
      {
        "duration": 56,
        "start_time": "2022-05-26T01:38:59.212Z"
      },
      {
        "duration": 5,
        "start_time": "2022-05-26T01:38:59.270Z"
      },
      {
        "duration": 8,
        "start_time": "2022-05-26T01:38:59.276Z"
      },
      {
        "duration": 8,
        "start_time": "2022-05-26T01:38:59.285Z"
      },
      {
        "duration": 6,
        "start_time": "2022-05-26T01:38:59.294Z"
      },
      {
        "duration": 5,
        "start_time": "2022-05-26T01:38:59.302Z"
      },
      {
        "duration": 9,
        "start_time": "2022-05-26T01:38:59.309Z"
      },
      {
        "duration": 100,
        "start_time": "2022-05-26T01:38:59.320Z"
      },
      {
        "duration": 0,
        "start_time": "2022-05-26T01:38:59.423Z"
      },
      {
        "duration": 0,
        "start_time": "2022-05-26T01:38:59.424Z"
      },
      {
        "duration": 0,
        "start_time": "2022-05-26T01:38:59.425Z"
      },
      {
        "duration": 0,
        "start_time": "2022-05-26T01:38:59.426Z"
      },
      {
        "duration": 0,
        "start_time": "2022-05-26T01:38:59.428Z"
      },
      {
        "duration": 0,
        "start_time": "2022-05-26T01:38:59.429Z"
      },
      {
        "duration": 0,
        "start_time": "2022-05-26T01:38:59.430Z"
      },
      {
        "duration": 0,
        "start_time": "2022-05-26T01:38:59.431Z"
      },
      {
        "duration": 0,
        "start_time": "2022-05-26T01:38:59.433Z"
      },
      {
        "duration": 0,
        "start_time": "2022-05-26T01:38:59.434Z"
      },
      {
        "duration": 0,
        "start_time": "2022-05-26T01:38:59.452Z"
      },
      {
        "duration": 0,
        "start_time": "2022-05-26T01:38:59.454Z"
      },
      {
        "duration": 0,
        "start_time": "2022-05-26T01:38:59.455Z"
      },
      {
        "duration": 0,
        "start_time": "2022-05-26T01:38:59.456Z"
      },
      {
        "duration": 0,
        "start_time": "2022-05-26T01:38:59.457Z"
      },
      {
        "duration": 0,
        "start_time": "2022-05-26T01:38:59.458Z"
      },
      {
        "duration": 0,
        "start_time": "2022-05-26T01:38:59.458Z"
      },
      {
        "duration": 0,
        "start_time": "2022-05-26T01:38:59.459Z"
      },
      {
        "duration": 0,
        "start_time": "2022-05-26T01:38:59.460Z"
      },
      {
        "duration": 0,
        "start_time": "2022-05-26T01:38:59.461Z"
      },
      {
        "duration": 13,
        "start_time": "2022-05-26T01:39:13.063Z"
      },
      {
        "duration": 3,
        "start_time": "2022-05-26T01:39:27.376Z"
      },
      {
        "duration": 20,
        "start_time": "2022-05-26T01:39:28.146Z"
      },
      {
        "duration": 8,
        "start_time": "2022-05-26T01:39:28.596Z"
      },
      {
        "duration": 12,
        "start_time": "2022-05-26T01:39:28.927Z"
      },
      {
        "duration": 8,
        "start_time": "2022-05-26T01:39:29.242Z"
      },
      {
        "duration": 13,
        "start_time": "2022-05-26T01:39:29.419Z"
      },
      {
        "duration": 24,
        "start_time": "2022-05-26T01:39:36.010Z"
      },
      {
        "duration": 899,
        "start_time": "2022-05-26T11:42:26.559Z"
      },
      {
        "duration": 155,
        "start_time": "2022-05-26T11:42:27.460Z"
      },
      {
        "duration": 25,
        "start_time": "2022-05-26T11:42:27.617Z"
      },
      {
        "duration": 21,
        "start_time": "2022-05-26T11:42:27.644Z"
      },
      {
        "duration": 6,
        "start_time": "2022-05-26T11:42:27.666Z"
      },
      {
        "duration": 26,
        "start_time": "2022-05-26T11:42:27.674Z"
      },
      {
        "duration": 7,
        "start_time": "2022-05-26T11:42:27.702Z"
      },
      {
        "duration": 20,
        "start_time": "2022-05-26T11:42:27.710Z"
      },
      {
        "duration": 17,
        "start_time": "2022-05-26T11:42:27.732Z"
      },
      {
        "duration": 25,
        "start_time": "2022-05-26T11:42:27.751Z"
      },
      {
        "duration": 4,
        "start_time": "2022-05-26T11:42:27.778Z"
      },
      {
        "duration": 9,
        "start_time": "2022-05-26T11:42:27.783Z"
      },
      {
        "duration": 5,
        "start_time": "2022-05-26T11:42:27.793Z"
      },
      {
        "duration": 11,
        "start_time": "2022-05-26T11:42:27.799Z"
      },
      {
        "duration": 7,
        "start_time": "2022-05-26T11:42:27.811Z"
      },
      {
        "duration": 21,
        "start_time": "2022-05-26T11:42:27.820Z"
      },
      {
        "duration": 0,
        "start_time": "2022-05-26T11:42:27.843Z"
      },
      {
        "duration": 0,
        "start_time": "2022-05-26T11:42:27.845Z"
      },
      {
        "duration": 0,
        "start_time": "2022-05-26T11:42:27.846Z"
      },
      {
        "duration": 0,
        "start_time": "2022-05-26T11:42:27.859Z"
      },
      {
        "duration": 0,
        "start_time": "2022-05-26T11:42:27.860Z"
      },
      {
        "duration": 0,
        "start_time": "2022-05-26T11:42:27.862Z"
      },
      {
        "duration": 0,
        "start_time": "2022-05-26T11:42:27.863Z"
      },
      {
        "duration": 0,
        "start_time": "2022-05-26T11:42:27.864Z"
      },
      {
        "duration": 0,
        "start_time": "2022-05-26T11:42:27.866Z"
      },
      {
        "duration": 0,
        "start_time": "2022-05-26T11:42:27.867Z"
      },
      {
        "duration": 0,
        "start_time": "2022-05-26T11:42:27.868Z"
      },
      {
        "duration": 0,
        "start_time": "2022-05-26T11:42:27.870Z"
      },
      {
        "duration": 0,
        "start_time": "2022-05-26T11:42:27.872Z"
      },
      {
        "duration": 0,
        "start_time": "2022-05-26T11:42:27.873Z"
      },
      {
        "duration": 0,
        "start_time": "2022-05-26T11:42:27.874Z"
      },
      {
        "duration": 0,
        "start_time": "2022-05-26T11:42:27.875Z"
      },
      {
        "duration": 3,
        "start_time": "2022-05-26T11:47:34.716Z"
      },
      {
        "duration": 3,
        "start_time": "2022-05-26T11:47:46.971Z"
      },
      {
        "duration": 569,
        "start_time": "2022-05-26T11:48:09.528Z"
      },
      {
        "duration": 883,
        "start_time": "2022-05-26T11:48:29.882Z"
      },
      {
        "duration": 361,
        "start_time": "2022-05-26T11:48:45.505Z"
      },
      {
        "duration": 42,
        "start_time": "2022-05-26T11:49:17.418Z"
      },
      {
        "duration": 36,
        "start_time": "2022-05-26T11:49:27.628Z"
      },
      {
        "duration": 37,
        "start_time": "2022-05-26T11:49:32.829Z"
      },
      {
        "duration": 38,
        "start_time": "2022-05-26T11:49:44.520Z"
      },
      {
        "duration": 39,
        "start_time": "2022-05-26T11:50:23.909Z"
      },
      {
        "duration": 619,
        "start_time": "2022-05-26T11:50:45.987Z"
      },
      {
        "duration": 100,
        "start_time": "2022-05-26T11:50:46.608Z"
      },
      {
        "duration": 24,
        "start_time": "2022-05-26T11:50:46.709Z"
      },
      {
        "duration": 30,
        "start_time": "2022-05-26T11:50:46.735Z"
      },
      {
        "duration": 8,
        "start_time": "2022-05-26T11:50:46.767Z"
      },
      {
        "duration": 21,
        "start_time": "2022-05-26T11:50:46.776Z"
      },
      {
        "duration": 10,
        "start_time": "2022-05-26T11:50:46.799Z"
      },
      {
        "duration": 11,
        "start_time": "2022-05-26T11:50:46.810Z"
      },
      {
        "duration": 13,
        "start_time": "2022-05-26T11:50:46.822Z"
      },
      {
        "duration": 32,
        "start_time": "2022-05-26T11:50:46.837Z"
      },
      {
        "duration": 5,
        "start_time": "2022-05-26T11:50:46.871Z"
      },
      {
        "duration": 8,
        "start_time": "2022-05-26T11:50:46.877Z"
      },
      {
        "duration": 9,
        "start_time": "2022-05-26T11:50:46.886Z"
      },
      {
        "duration": 8,
        "start_time": "2022-05-26T11:50:46.896Z"
      },
      {
        "duration": 6,
        "start_time": "2022-05-26T11:50:46.906Z"
      },
      {
        "duration": 5,
        "start_time": "2022-05-26T11:53:28.088Z"
      },
      {
        "duration": 31,
        "start_time": "2022-05-26T12:14:28.017Z"
      },
      {
        "duration": 10,
        "start_time": "2022-05-26T12:14:35.009Z"
      },
      {
        "duration": 6,
        "start_time": "2022-05-26T12:14:47.649Z"
      },
      {
        "duration": 9,
        "start_time": "2022-05-26T12:14:56.082Z"
      },
      {
        "duration": 4,
        "start_time": "2022-05-26T12:15:00.129Z"
      },
      {
        "duration": 6,
        "start_time": "2022-05-26T12:15:11.225Z"
      },
      {
        "duration": 81,
        "start_time": "2022-05-26T12:15:52.997Z"
      },
      {
        "duration": 8,
        "start_time": "2022-05-26T12:16:04.159Z"
      },
      {
        "duration": 8,
        "start_time": "2022-05-26T12:16:12.478Z"
      },
      {
        "duration": 6,
        "start_time": "2022-05-26T12:16:31.964Z"
      },
      {
        "duration": 9,
        "start_time": "2022-05-26T12:17:55.994Z"
      },
      {
        "duration": 7,
        "start_time": "2022-05-26T12:18:08.171Z"
      },
      {
        "duration": 5,
        "start_time": "2022-05-26T12:18:20.790Z"
      },
      {
        "duration": 10,
        "start_time": "2022-05-26T12:18:28.347Z"
      },
      {
        "duration": 13,
        "start_time": "2022-05-26T12:18:45.245Z"
      },
      {
        "duration": 16,
        "start_time": "2022-05-26T12:18:53.394Z"
      },
      {
        "duration": 5,
        "start_time": "2022-05-26T12:20:08.206Z"
      },
      {
        "duration": 5,
        "start_time": "2022-05-26T12:20:08.528Z"
      },
      {
        "duration": 5,
        "start_time": "2022-05-26T12:20:08.882Z"
      },
      {
        "duration": 5,
        "start_time": "2022-05-26T12:20:09.154Z"
      },
      {
        "duration": 7,
        "start_time": "2022-05-26T12:20:11.083Z"
      },
      {
        "duration": 7,
        "start_time": "2022-05-26T12:20:50.917Z"
      },
      {
        "duration": 7,
        "start_time": "2022-05-26T12:21:07.946Z"
      },
      {
        "duration": 25,
        "start_time": "2022-05-26T12:21:26.553Z"
      },
      {
        "duration": 736,
        "start_time": "2022-05-26T12:21:54.238Z"
      },
      {
        "duration": 109,
        "start_time": "2022-05-26T12:21:54.976Z"
      },
      {
        "duration": 32,
        "start_time": "2022-05-26T12:21:55.087Z"
      },
      {
        "duration": 41,
        "start_time": "2022-05-26T12:21:55.122Z"
      },
      {
        "duration": 10,
        "start_time": "2022-05-26T12:21:55.166Z"
      },
      {
        "duration": 29,
        "start_time": "2022-05-26T12:21:55.177Z"
      },
      {
        "duration": 24,
        "start_time": "2022-05-26T12:21:55.207Z"
      },
      {
        "duration": 19,
        "start_time": "2022-05-26T12:21:55.233Z"
      },
      {
        "duration": 17,
        "start_time": "2022-05-26T12:21:55.253Z"
      },
      {
        "duration": 36,
        "start_time": "2022-05-26T12:21:55.274Z"
      },
      {
        "duration": 5,
        "start_time": "2022-05-26T12:21:55.311Z"
      },
      {
        "duration": 12,
        "start_time": "2022-05-26T12:21:55.317Z"
      },
      {
        "duration": 8,
        "start_time": "2022-05-26T12:21:55.331Z"
      },
      {
        "duration": 13,
        "start_time": "2022-05-26T12:21:55.341Z"
      },
      {
        "duration": 20,
        "start_time": "2022-05-26T12:21:55.355Z"
      },
      {
        "duration": 8,
        "start_time": "2022-05-26T12:21:59.029Z"
      },
      {
        "duration": 9,
        "start_time": "2022-05-26T12:22:00.049Z"
      },
      {
        "duration": 7,
        "start_time": "2022-05-26T12:22:00.959Z"
      },
      {
        "duration": 5,
        "start_time": "2022-05-26T12:22:03.305Z"
      },
      {
        "duration": 9,
        "start_time": "2022-05-26T12:22:05.031Z"
      },
      {
        "duration": 17,
        "start_time": "2022-05-26T12:22:06.119Z"
      },
      {
        "duration": 650,
        "start_time": "2022-05-26T12:27:37.490Z"
      },
      {
        "duration": 102,
        "start_time": "2022-05-26T12:27:38.143Z"
      },
      {
        "duration": 25,
        "start_time": "2022-05-26T12:27:38.247Z"
      },
      {
        "duration": 22,
        "start_time": "2022-05-26T12:27:38.275Z"
      },
      {
        "duration": 23,
        "start_time": "2022-05-26T12:27:38.300Z"
      },
      {
        "duration": 17,
        "start_time": "2022-05-26T12:27:38.325Z"
      },
      {
        "duration": 13,
        "start_time": "2022-05-26T12:27:38.344Z"
      },
      {
        "duration": 23,
        "start_time": "2022-05-26T12:27:38.359Z"
      },
      {
        "duration": 21,
        "start_time": "2022-05-26T12:27:38.383Z"
      },
      {
        "duration": 33,
        "start_time": "2022-05-26T12:27:38.407Z"
      },
      {
        "duration": 6,
        "start_time": "2022-05-26T12:27:38.442Z"
      },
      {
        "duration": 21,
        "start_time": "2022-05-26T12:27:38.450Z"
      },
      {
        "duration": 23,
        "start_time": "2022-05-26T12:27:38.473Z"
      },
      {
        "duration": 36,
        "start_time": "2022-05-26T12:27:38.498Z"
      },
      {
        "duration": 19,
        "start_time": "2022-05-26T12:27:38.536Z"
      },
      {
        "duration": 8,
        "start_time": "2022-05-26T12:27:42.806Z"
      },
      {
        "duration": 8,
        "start_time": "2022-05-26T12:27:43.683Z"
      },
      {
        "duration": 8,
        "start_time": "2022-05-26T12:27:44.301Z"
      },
      {
        "duration": 6,
        "start_time": "2022-05-26T12:27:44.888Z"
      },
      {
        "duration": 18,
        "start_time": "2022-05-26T12:29:54.941Z"
      },
      {
        "duration": 657,
        "start_time": "2022-05-26T12:31:39.457Z"
      },
      {
        "duration": 95,
        "start_time": "2022-05-26T12:31:40.116Z"
      },
      {
        "duration": 23,
        "start_time": "2022-05-26T12:31:40.212Z"
      },
      {
        "duration": 36,
        "start_time": "2022-05-26T12:31:40.237Z"
      },
      {
        "duration": 6,
        "start_time": "2022-05-26T12:31:40.275Z"
      },
      {
        "duration": 14,
        "start_time": "2022-05-26T12:31:40.282Z"
      },
      {
        "duration": 11,
        "start_time": "2022-05-26T12:31:40.297Z"
      },
      {
        "duration": 8,
        "start_time": "2022-05-26T12:31:40.309Z"
      },
      {
        "duration": 12,
        "start_time": "2022-05-26T12:31:40.318Z"
      },
      {
        "duration": 37,
        "start_time": "2022-05-26T12:31:40.332Z"
      },
      {
        "duration": 5,
        "start_time": "2022-05-26T12:31:40.371Z"
      },
      {
        "duration": 7,
        "start_time": "2022-05-26T12:31:40.378Z"
      },
      {
        "duration": 17,
        "start_time": "2022-05-26T12:31:40.386Z"
      },
      {
        "duration": 10,
        "start_time": "2022-05-26T12:31:40.406Z"
      },
      {
        "duration": 7,
        "start_time": "2022-05-26T12:31:40.417Z"
      },
      {
        "duration": 13,
        "start_time": "2022-05-26T12:31:40.425Z"
      },
      {
        "duration": 8,
        "start_time": "2022-05-26T12:31:40.713Z"
      },
      {
        "duration": 13,
        "start_time": "2022-05-26T12:31:40.723Z"
      },
      {
        "duration": 6,
        "start_time": "2022-05-26T12:31:44.718Z"
      },
      {
        "duration": 9,
        "start_time": "2022-05-26T12:31:45.701Z"
      },
      {
        "duration": 16,
        "start_time": "2022-05-26T12:31:46.853Z"
      },
      {
        "duration": 13,
        "start_time": "2022-05-26T12:37:50.321Z"
      },
      {
        "duration": 12,
        "start_time": "2022-05-26T12:37:59.389Z"
      },
      {
        "duration": 71,
        "start_time": "2022-05-26T12:40:09.681Z"
      },
      {
        "duration": 8,
        "start_time": "2022-05-26T12:40:17.313Z"
      },
      {
        "duration": 684,
        "start_time": "2022-05-26T12:42:40.828Z"
      },
      {
        "duration": 100,
        "start_time": "2022-05-26T12:42:41.514Z"
      },
      {
        "duration": 23,
        "start_time": "2022-05-26T12:42:41.616Z"
      },
      {
        "duration": 30,
        "start_time": "2022-05-26T12:42:41.642Z"
      },
      {
        "duration": 6,
        "start_time": "2022-05-26T12:42:41.673Z"
      },
      {
        "duration": 11,
        "start_time": "2022-05-26T12:42:41.681Z"
      },
      {
        "duration": 8,
        "start_time": "2022-05-26T12:42:41.694Z"
      },
      {
        "duration": 12,
        "start_time": "2022-05-26T12:42:41.704Z"
      },
      {
        "duration": 12,
        "start_time": "2022-05-26T12:42:41.718Z"
      },
      {
        "duration": 44,
        "start_time": "2022-05-26T12:42:41.733Z"
      },
      {
        "duration": 4,
        "start_time": "2022-05-26T12:42:41.779Z"
      },
      {
        "duration": 11,
        "start_time": "2022-05-26T12:42:41.785Z"
      },
      {
        "duration": 12,
        "start_time": "2022-05-26T12:42:41.798Z"
      },
      {
        "duration": 11,
        "start_time": "2022-05-26T12:42:41.812Z"
      },
      {
        "duration": 15,
        "start_time": "2022-05-26T12:42:41.825Z"
      },
      {
        "duration": 16,
        "start_time": "2022-05-26T12:42:41.841Z"
      },
      {
        "duration": 7,
        "start_time": "2022-05-26T12:42:41.859Z"
      },
      {
        "duration": 12,
        "start_time": "2022-05-26T12:42:41.868Z"
      },
      {
        "duration": 10,
        "start_time": "2022-05-26T12:42:41.881Z"
      },
      {
        "duration": 18,
        "start_time": "2022-05-26T12:42:41.893Z"
      },
      {
        "duration": 16,
        "start_time": "2022-05-26T12:42:41.913Z"
      },
      {
        "duration": 74,
        "start_time": "2022-05-26T12:43:18.656Z"
      },
      {
        "duration": 7,
        "start_time": "2022-05-26T12:43:25.896Z"
      },
      {
        "duration": 9,
        "start_time": "2022-05-26T12:44:03.988Z"
      },
      {
        "duration": 5,
        "start_time": "2022-05-26T12:44:39.254Z"
      },
      {
        "duration": 4,
        "start_time": "2022-05-26T12:44:44.015Z"
      },
      {
        "duration": 6,
        "start_time": "2022-05-26T12:44:51.874Z"
      },
      {
        "duration": 5,
        "start_time": "2022-05-26T12:44:54.568Z"
      },
      {
        "duration": 7,
        "start_time": "2022-05-26T12:44:57.151Z"
      },
      {
        "duration": 5,
        "start_time": "2022-05-26T12:45:04.889Z"
      },
      {
        "duration": 51,
        "start_time": "2022-05-26T12:52:20.161Z"
      },
      {
        "duration": 16,
        "start_time": "2022-05-26T12:52:52.774Z"
      },
      {
        "duration": 14,
        "start_time": "2022-05-26T12:52:59.535Z"
      },
      {
        "duration": 13,
        "start_time": "2022-05-26T12:53:48.473Z"
      },
      {
        "duration": 3,
        "start_time": "2022-05-26T12:54:19.105Z"
      },
      {
        "duration": 10,
        "start_time": "2022-05-26T12:54:21.965Z"
      },
      {
        "duration": 31,
        "start_time": "2022-05-26T12:54:25.362Z"
      },
      {
        "duration": 271,
        "start_time": "2022-05-26T12:55:15.054Z"
      },
      {
        "duration": 28,
        "start_time": "2022-05-26T12:55:37.512Z"
      },
      {
        "duration": 8,
        "start_time": "2022-05-26T12:55:51.478Z"
      },
      {
        "duration": 8,
        "start_time": "2022-05-26T12:55:51.862Z"
      },
      {
        "duration": 27,
        "start_time": "2022-05-26T12:55:51.872Z"
      },
      {
        "duration": 27,
        "start_time": "2022-05-26T12:55:53.757Z"
      },
      {
        "duration": 9,
        "start_time": "2022-05-26T12:57:27.821Z"
      },
      {
        "duration": 9,
        "start_time": "2022-05-26T12:57:28.604Z"
      },
      {
        "duration": 31,
        "start_time": "2022-05-26T12:57:34.850Z"
      },
      {
        "duration": 670,
        "start_time": "2022-05-26T12:57:56.075Z"
      },
      {
        "duration": 100,
        "start_time": "2022-05-26T12:57:56.748Z"
      },
      {
        "duration": 23,
        "start_time": "2022-05-26T12:57:56.850Z"
      },
      {
        "duration": 20,
        "start_time": "2022-05-26T12:57:56.875Z"
      },
      {
        "duration": 6,
        "start_time": "2022-05-26T12:57:56.897Z"
      },
      {
        "duration": 8,
        "start_time": "2022-05-26T12:57:56.904Z"
      },
      {
        "duration": 7,
        "start_time": "2022-05-26T12:57:56.913Z"
      },
      {
        "duration": 12,
        "start_time": "2022-05-26T12:57:56.921Z"
      },
      {
        "duration": 26,
        "start_time": "2022-05-26T12:57:56.934Z"
      },
      {
        "duration": 25,
        "start_time": "2022-05-26T12:57:56.962Z"
      },
      {
        "duration": 5,
        "start_time": "2022-05-26T12:57:56.988Z"
      },
      {
        "duration": 10,
        "start_time": "2022-05-26T12:57:56.995Z"
      },
      {
        "duration": 9,
        "start_time": "2022-05-26T12:57:57.006Z"
      },
      {
        "duration": 8,
        "start_time": "2022-05-26T12:57:57.016Z"
      },
      {
        "duration": 7,
        "start_time": "2022-05-26T12:57:57.026Z"
      },
      {
        "duration": 7,
        "start_time": "2022-05-26T12:57:57.059Z"
      },
      {
        "duration": 21,
        "start_time": "2022-05-26T12:57:57.067Z"
      },
      {
        "duration": 7,
        "start_time": "2022-05-26T12:57:57.090Z"
      },
      {
        "duration": 6,
        "start_time": "2022-05-26T12:57:57.098Z"
      },
      {
        "duration": 15,
        "start_time": "2022-05-26T12:57:57.105Z"
      },
      {
        "duration": 16,
        "start_time": "2022-05-26T12:57:57.121Z"
      },
      {
        "duration": 9,
        "start_time": "2022-05-26T12:58:00.601Z"
      },
      {
        "duration": 10,
        "start_time": "2022-05-26T12:58:01.681Z"
      },
      {
        "duration": 79,
        "start_time": "2022-05-26T12:58:30.579Z"
      },
      {
        "duration": 9,
        "start_time": "2022-05-26T12:58:36.279Z"
      },
      {
        "duration": 12,
        "start_time": "2022-05-26T12:58:37.228Z"
      },
      {
        "duration": 16,
        "start_time": "2022-05-26T12:58:43.144Z"
      },
      {
        "duration": 28,
        "start_time": "2022-05-26T12:58:45.218Z"
      },
      {
        "duration": 18,
        "start_time": "2022-05-26T12:59:03.006Z"
      },
      {
        "duration": 35,
        "start_time": "2022-05-26T13:00:17.855Z"
      },
      {
        "duration": 29,
        "start_time": "2022-05-26T13:00:35.077Z"
      },
      {
        "duration": 673,
        "start_time": "2022-05-26T13:00:51.802Z"
      },
      {
        "duration": 104,
        "start_time": "2022-05-26T13:00:52.477Z"
      },
      {
        "duration": 24,
        "start_time": "2022-05-26T13:00:52.583Z"
      },
      {
        "duration": 21,
        "start_time": "2022-05-26T13:00:52.609Z"
      },
      {
        "duration": 28,
        "start_time": "2022-05-26T13:00:52.632Z"
      },
      {
        "duration": 6,
        "start_time": "2022-05-26T13:00:52.662Z"
      },
      {
        "duration": 8,
        "start_time": "2022-05-26T13:00:52.669Z"
      },
      {
        "duration": 10,
        "start_time": "2022-05-26T13:00:52.678Z"
      },
      {
        "duration": 7,
        "start_time": "2022-05-26T13:00:52.690Z"
      },
      {
        "duration": 28,
        "start_time": "2022-05-26T13:00:52.699Z"
      },
      {
        "duration": 32,
        "start_time": "2022-05-26T13:00:52.728Z"
      },
      {
        "duration": 5,
        "start_time": "2022-05-26T13:00:52.762Z"
      },
      {
        "duration": 7,
        "start_time": "2022-05-26T13:00:52.768Z"
      },
      {
        "duration": 13,
        "start_time": "2022-05-26T13:00:52.777Z"
      },
      {
        "duration": 8,
        "start_time": "2022-05-26T13:00:52.791Z"
      },
      {
        "duration": 8,
        "start_time": "2022-05-26T13:00:52.801Z"
      },
      {
        "duration": 14,
        "start_time": "2022-05-26T13:00:52.811Z"
      },
      {
        "duration": 32,
        "start_time": "2022-05-26T13:00:52.827Z"
      },
      {
        "duration": 39,
        "start_time": "2022-05-26T13:00:52.860Z"
      },
      {
        "duration": 17,
        "start_time": "2022-05-26T13:00:52.900Z"
      },
      {
        "duration": 18,
        "start_time": "2022-05-26T13:00:52.922Z"
      },
      {
        "duration": 30,
        "start_time": "2022-05-26T13:00:58.996Z"
      },
      {
        "duration": 19,
        "start_time": "2022-05-26T13:01:20.125Z"
      },
      {
        "duration": 29,
        "start_time": "2022-05-26T13:01:26.619Z"
      },
      {
        "duration": 18,
        "start_time": "2022-05-26T13:01:33.780Z"
      },
      {
        "duration": 27,
        "start_time": "2022-05-26T13:01:35.221Z"
      },
      {
        "duration": 19,
        "start_time": "2022-05-26T13:02:21.414Z"
      },
      {
        "duration": 17,
        "start_time": "2022-05-26T13:03:20.977Z"
      },
      {
        "duration": 28,
        "start_time": "2022-05-26T13:03:23.978Z"
      },
      {
        "duration": 24,
        "start_time": "2022-05-26T13:03:32.847Z"
      },
      {
        "duration": 26,
        "start_time": "2022-05-26T13:03:34.797Z"
      },
      {
        "duration": 11,
        "start_time": "2022-05-26T13:03:41.535Z"
      },
      {
        "duration": 32,
        "start_time": "2022-05-26T13:03:42.976Z"
      },
      {
        "duration": 687,
        "start_time": "2022-05-26T13:03:53.842Z"
      },
      {
        "duration": 106,
        "start_time": "2022-05-26T13:03:54.530Z"
      },
      {
        "duration": 36,
        "start_time": "2022-05-26T13:03:54.637Z"
      },
      {
        "duration": 20,
        "start_time": "2022-05-26T13:03:54.675Z"
      },
      {
        "duration": 6,
        "start_time": "2022-05-26T13:03:54.697Z"
      },
      {
        "duration": 11,
        "start_time": "2022-05-26T13:03:54.705Z"
      },
      {
        "duration": 7,
        "start_time": "2022-05-26T13:03:54.717Z"
      },
      {
        "duration": 11,
        "start_time": "2022-05-26T13:03:54.725Z"
      },
      {
        "duration": 41,
        "start_time": "2022-05-26T13:03:54.738Z"
      },
      {
        "duration": 35,
        "start_time": "2022-05-26T13:03:54.782Z"
      },
      {
        "duration": 4,
        "start_time": "2022-05-26T13:03:54.819Z"
      },
      {
        "duration": 18,
        "start_time": "2022-05-26T13:03:54.824Z"
      },
      {
        "duration": 12,
        "start_time": "2022-05-26T13:03:54.843Z"
      },
      {
        "duration": 39,
        "start_time": "2022-05-26T13:03:54.857Z"
      },
      {
        "duration": 18,
        "start_time": "2022-05-26T13:03:54.897Z"
      },
      {
        "duration": 26,
        "start_time": "2022-05-26T13:03:54.917Z"
      },
      {
        "duration": 45,
        "start_time": "2022-05-26T13:03:54.945Z"
      },
      {
        "duration": 26,
        "start_time": "2022-05-26T13:03:54.992Z"
      },
      {
        "duration": 31,
        "start_time": "2022-05-26T13:03:55.019Z"
      },
      {
        "duration": 8,
        "start_time": "2022-05-26T13:03:55.183Z"
      },
      {
        "duration": 38,
        "start_time": "2022-05-26T13:03:55.194Z"
      },
      {
        "duration": 50,
        "start_time": "2022-05-26T13:03:55.233Z"
      },
      {
        "duration": 33,
        "start_time": "2022-05-26T13:04:01.159Z"
      },
      {
        "duration": 19,
        "start_time": "2022-05-26T13:04:44.707Z"
      },
      {
        "duration": 25,
        "start_time": "2022-05-26T13:04:47.608Z"
      },
      {
        "duration": 14,
        "start_time": "2022-05-26T13:05:02.369Z"
      },
      {
        "duration": 23,
        "start_time": "2022-05-26T13:05:12.511Z"
      },
      {
        "duration": 15,
        "start_time": "2022-05-26T13:38:22.003Z"
      },
      {
        "duration": 23,
        "start_time": "2022-05-26T13:38:22.714Z"
      },
      {
        "duration": 808,
        "start_time": "2022-05-26T18:24:16.773Z"
      },
      {
        "duration": 415,
        "start_time": "2022-05-26T18:24:17.583Z"
      },
      {
        "duration": 30,
        "start_time": "2022-05-26T18:24:18.000Z"
      },
      {
        "duration": 34,
        "start_time": "2022-05-26T18:24:18.033Z"
      },
      {
        "duration": 21,
        "start_time": "2022-05-26T18:24:18.069Z"
      },
      {
        "duration": 13,
        "start_time": "2022-05-26T18:24:18.092Z"
      },
      {
        "duration": 15,
        "start_time": "2022-05-26T18:24:18.106Z"
      },
      {
        "duration": 13,
        "start_time": "2022-05-26T18:24:18.122Z"
      },
      {
        "duration": 25,
        "start_time": "2022-05-26T18:24:18.137Z"
      },
      {
        "duration": 32,
        "start_time": "2022-05-26T18:24:18.164Z"
      },
      {
        "duration": 9,
        "start_time": "2022-05-26T18:24:18.197Z"
      },
      {
        "duration": 27,
        "start_time": "2022-05-26T18:24:18.207Z"
      },
      {
        "duration": 11,
        "start_time": "2022-05-26T18:24:18.236Z"
      },
      {
        "duration": 32,
        "start_time": "2022-05-26T18:24:18.248Z"
      },
      {
        "duration": 22,
        "start_time": "2022-05-26T18:24:18.281Z"
      },
      {
        "duration": 33,
        "start_time": "2022-05-26T18:24:18.304Z"
      },
      {
        "duration": 20,
        "start_time": "2022-05-26T18:24:18.339Z"
      },
      {
        "duration": 23,
        "start_time": "2022-05-26T18:24:18.361Z"
      },
      {
        "duration": 21,
        "start_time": "2022-05-26T18:24:18.386Z"
      },
      {
        "duration": 22,
        "start_time": "2022-05-26T18:24:18.409Z"
      },
      {
        "duration": 39,
        "start_time": "2022-05-26T18:24:18.433Z"
      },
      {
        "duration": 25,
        "start_time": "2022-05-26T18:24:18.473Z"
      },
      {
        "duration": 21,
        "start_time": "2022-05-26T18:24:18.500Z"
      },
      {
        "duration": 45,
        "start_time": "2022-05-26T18:24:18.523Z"
      },
      {
        "duration": 3,
        "start_time": "2022-05-26T18:24:18.569Z"
      },
      {
        "duration": 17,
        "start_time": "2022-05-26T18:24:18.573Z"
      },
      {
        "duration": 5,
        "start_time": "2022-05-26T18:24:18.591Z"
      },
      {
        "duration": 6,
        "start_time": "2022-05-26T18:24:18.599Z"
      },
      {
        "duration": 11,
        "start_time": "2022-05-26T18:24:18.606Z"
      },
      {
        "duration": 16,
        "start_time": "2022-05-26T18:24:18.618Z"
      },
      {
        "duration": 12,
        "start_time": "2022-05-26T18:24:18.636Z"
      },
      {
        "duration": 10,
        "start_time": "2022-05-26T18:24:18.650Z"
      },
      {
        "duration": 5,
        "start_time": "2022-05-26T18:24:18.661Z"
      },
      {
        "duration": 8,
        "start_time": "2022-05-26T18:24:18.668Z"
      },
      {
        "duration": 6,
        "start_time": "2022-05-26T18:24:18.678Z"
      },
      {
        "duration": 9,
        "start_time": "2022-05-26T18:24:18.685Z"
      },
      {
        "duration": 6,
        "start_time": "2022-05-26T18:24:18.696Z"
      },
      {
        "duration": 22,
        "start_time": "2022-05-26T18:24:18.704Z"
      },
      {
        "duration": 8,
        "start_time": "2022-05-26T18:24:18.728Z"
      },
      {
        "duration": 78,
        "start_time": "2022-05-26T18:24:53.568Z"
      },
      {
        "duration": 5,
        "start_time": "2022-05-26T18:25:06.625Z"
      },
      {
        "duration": 5,
        "start_time": "2022-05-26T18:42:05.661Z"
      },
      {
        "duration": 8,
        "start_time": "2022-05-26T18:42:15.857Z"
      },
      {
        "duration": 8,
        "start_time": "2022-05-26T18:42:27.850Z"
      },
      {
        "duration": 6,
        "start_time": "2022-05-26T18:42:35.378Z"
      },
      {
        "duration": 802,
        "start_time": "2022-05-30T16:30:14.958Z"
      },
      {
        "duration": 170,
        "start_time": "2022-05-30T16:30:15.763Z"
      },
      {
        "duration": 24,
        "start_time": "2022-05-30T16:30:15.934Z"
      },
      {
        "duration": 20,
        "start_time": "2022-05-30T16:30:15.959Z"
      },
      {
        "duration": 6,
        "start_time": "2022-05-30T16:30:15.982Z"
      },
      {
        "duration": 11,
        "start_time": "2022-05-30T16:30:15.989Z"
      },
      {
        "duration": 8,
        "start_time": "2022-05-30T16:30:16.001Z"
      },
      {
        "duration": 12,
        "start_time": "2022-05-30T16:30:16.010Z"
      },
      {
        "duration": 6,
        "start_time": "2022-05-30T16:30:16.024Z"
      },
      {
        "duration": 41,
        "start_time": "2022-05-30T16:30:16.032Z"
      },
      {
        "duration": 5,
        "start_time": "2022-05-30T16:30:16.074Z"
      },
      {
        "duration": 11,
        "start_time": "2022-05-30T16:30:16.080Z"
      },
      {
        "duration": 7,
        "start_time": "2022-05-30T16:30:16.092Z"
      },
      {
        "duration": 7,
        "start_time": "2022-05-30T16:30:16.102Z"
      },
      {
        "duration": 9,
        "start_time": "2022-05-30T16:30:16.110Z"
      },
      {
        "duration": 11,
        "start_time": "2022-05-30T16:30:16.120Z"
      },
      {
        "duration": 25,
        "start_time": "2022-05-30T16:30:16.133Z"
      },
      {
        "duration": 9,
        "start_time": "2022-05-30T16:30:16.160Z"
      },
      {
        "duration": 8,
        "start_time": "2022-05-30T16:30:16.170Z"
      },
      {
        "duration": 11,
        "start_time": "2022-05-30T16:30:16.179Z"
      },
      {
        "duration": 13,
        "start_time": "2022-05-30T16:30:16.191Z"
      },
      {
        "duration": 53,
        "start_time": "2022-05-30T16:30:16.205Z"
      },
      {
        "duration": 15,
        "start_time": "2022-05-30T16:30:16.259Z"
      },
      {
        "duration": 23,
        "start_time": "2022-05-30T16:30:16.275Z"
      },
      {
        "duration": 7,
        "start_time": "2022-05-30T16:30:16.300Z"
      },
      {
        "duration": 6,
        "start_time": "2022-05-30T16:30:16.308Z"
      },
      {
        "duration": 5,
        "start_time": "2022-05-30T16:30:16.317Z"
      },
      {
        "duration": 8,
        "start_time": "2022-05-30T16:30:16.323Z"
      },
      {
        "duration": 2,
        "start_time": "2022-05-30T16:30:16.354Z"
      },
      {
        "duration": 5,
        "start_time": "2022-05-30T16:30:16.357Z"
      },
      {
        "duration": 6,
        "start_time": "2022-05-30T16:30:16.363Z"
      },
      {
        "duration": 5,
        "start_time": "2022-05-30T16:30:16.370Z"
      },
      {
        "duration": 5,
        "start_time": "2022-05-30T16:30:16.376Z"
      },
      {
        "duration": 7,
        "start_time": "2022-05-30T16:30:16.383Z"
      },
      {
        "duration": 5,
        "start_time": "2022-05-30T16:30:16.391Z"
      },
      {
        "duration": 4,
        "start_time": "2022-05-30T16:30:16.398Z"
      },
      {
        "duration": 3,
        "start_time": "2022-05-30T16:30:16.404Z"
      },
      {
        "duration": 5,
        "start_time": "2022-05-30T16:30:16.408Z"
      },
      {
        "duration": 5,
        "start_time": "2022-05-30T16:30:16.414Z"
      },
      {
        "duration": 5,
        "start_time": "2022-05-30T16:30:16.420Z"
      },
      {
        "duration": 6,
        "start_time": "2022-05-30T16:52:57.812Z"
      },
      {
        "duration": 6,
        "start_time": "2022-05-30T16:53:03.405Z"
      },
      {
        "duration": 7,
        "start_time": "2022-05-30T16:53:54.896Z"
      },
      {
        "duration": 4,
        "start_time": "2022-05-30T17:01:36.921Z"
      },
      {
        "duration": 7,
        "start_time": "2022-05-30T17:01:53.684Z"
      },
      {
        "duration": 6,
        "start_time": "2022-05-30T17:02:02.101Z"
      },
      {
        "duration": 8,
        "start_time": "2022-05-30T17:02:14.263Z"
      },
      {
        "duration": 14,
        "start_time": "2022-05-30T17:02:42.864Z"
      },
      {
        "duration": 39,
        "start_time": "2022-05-30T17:03:00.476Z"
      },
      {
        "duration": 60,
        "start_time": "2022-05-30T17:03:05.593Z"
      },
      {
        "duration": 6,
        "start_time": "2022-05-30T17:05:12.012Z"
      },
      {
        "duration": 41,
        "start_time": "2022-05-30T17:06:36.717Z"
      },
      {
        "duration": 4,
        "start_time": "2022-05-30T17:06:42.994Z"
      },
      {
        "duration": 8,
        "start_time": "2022-05-30T17:07:00.123Z"
      },
      {
        "duration": 211,
        "start_time": "2022-05-30T17:08:19.029Z"
      },
      {
        "duration": 2,
        "start_time": "2022-05-30T17:10:23.887Z"
      },
      {
        "duration": 142,
        "start_time": "2022-05-30T17:10:23.894Z"
      },
      {
        "duration": 26,
        "start_time": "2022-05-30T17:10:24.038Z"
      },
      {
        "duration": 22,
        "start_time": "2022-05-30T17:10:24.067Z"
      },
      {
        "duration": 6,
        "start_time": "2022-05-30T17:10:24.091Z"
      },
      {
        "duration": 8,
        "start_time": "2022-05-30T17:10:24.098Z"
      },
      {
        "duration": 8,
        "start_time": "2022-05-30T17:10:24.107Z"
      },
      {
        "duration": 46,
        "start_time": "2022-05-30T17:10:24.116Z"
      },
      {
        "duration": 10,
        "start_time": "2022-05-30T17:10:24.164Z"
      },
      {
        "duration": 25,
        "start_time": "2022-05-30T17:10:24.176Z"
      },
      {
        "duration": 5,
        "start_time": "2022-05-30T17:10:24.204Z"
      },
      {
        "duration": 12,
        "start_time": "2022-05-30T17:10:24.210Z"
      },
      {
        "duration": 5,
        "start_time": "2022-05-30T17:10:24.224Z"
      },
      {
        "duration": 38,
        "start_time": "2022-05-30T17:10:24.231Z"
      },
      {
        "duration": 5,
        "start_time": "2022-05-30T17:10:24.270Z"
      },
      {
        "duration": 10,
        "start_time": "2022-05-30T17:10:24.276Z"
      },
      {
        "duration": 11,
        "start_time": "2022-05-30T17:10:24.289Z"
      },
      {
        "duration": 10,
        "start_time": "2022-05-30T17:10:24.301Z"
      },
      {
        "duration": 7,
        "start_time": "2022-05-30T17:10:24.313Z"
      },
      {
        "duration": 10,
        "start_time": "2022-05-30T17:10:24.321Z"
      },
      {
        "duration": 24,
        "start_time": "2022-05-30T17:10:24.358Z"
      },
      {
        "duration": 27,
        "start_time": "2022-05-30T17:10:24.384Z"
      },
      {
        "duration": 15,
        "start_time": "2022-05-30T17:10:24.413Z"
      },
      {
        "duration": 44,
        "start_time": "2022-05-30T17:10:24.429Z"
      },
      {
        "duration": 9,
        "start_time": "2022-05-30T17:10:24.475Z"
      },
      {
        "duration": 17,
        "start_time": "2022-05-30T17:10:24.485Z"
      },
      {
        "duration": 0,
        "start_time": "2022-05-30T17:10:24.504Z"
      },
      {
        "duration": 0,
        "start_time": "2022-05-30T17:10:24.505Z"
      },
      {
        "duration": 0,
        "start_time": "2022-05-30T17:10:24.505Z"
      },
      {
        "duration": 0,
        "start_time": "2022-05-30T17:10:24.507Z"
      },
      {
        "duration": 0,
        "start_time": "2022-05-30T17:10:24.508Z"
      },
      {
        "duration": 0,
        "start_time": "2022-05-30T17:10:24.509Z"
      },
      {
        "duration": 0,
        "start_time": "2022-05-30T17:10:24.511Z"
      },
      {
        "duration": 0,
        "start_time": "2022-05-30T17:10:24.512Z"
      },
      {
        "duration": 0,
        "start_time": "2022-05-30T17:10:24.513Z"
      },
      {
        "duration": 0,
        "start_time": "2022-05-30T17:10:24.514Z"
      },
      {
        "duration": 0,
        "start_time": "2022-05-30T17:10:24.515Z"
      },
      {
        "duration": 0,
        "start_time": "2022-05-30T17:10:24.516Z"
      },
      {
        "duration": 0,
        "start_time": "2022-05-30T17:10:24.555Z"
      },
      {
        "duration": 0,
        "start_time": "2022-05-30T17:10:24.556Z"
      },
      {
        "duration": 0,
        "start_time": "2022-05-30T17:10:24.557Z"
      },
      {
        "duration": 6,
        "start_time": "2022-05-30T17:10:50.287Z"
      },
      {
        "duration": 8,
        "start_time": "2022-05-30T17:10:57.670Z"
      },
      {
        "duration": 48,
        "start_time": "2022-05-30T17:13:20.267Z"
      },
      {
        "duration": 766,
        "start_time": "2022-05-30T17:15:22.478Z"
      },
      {
        "duration": 121,
        "start_time": "2022-05-30T17:15:23.246Z"
      },
      {
        "duration": 32,
        "start_time": "2022-05-30T17:15:23.370Z"
      },
      {
        "duration": 21,
        "start_time": "2022-05-30T17:15:23.404Z"
      },
      {
        "duration": 6,
        "start_time": "2022-05-30T17:15:23.426Z"
      },
      {
        "duration": 22,
        "start_time": "2022-05-30T17:15:23.434Z"
      },
      {
        "duration": 9,
        "start_time": "2022-05-30T17:15:23.459Z"
      },
      {
        "duration": 26,
        "start_time": "2022-05-30T17:15:23.471Z"
      },
      {
        "duration": 8,
        "start_time": "2022-05-30T17:15:23.500Z"
      },
      {
        "duration": 25,
        "start_time": "2022-05-30T17:15:23.511Z"
      },
      {
        "duration": 12,
        "start_time": "2022-05-30T17:15:23.554Z"
      },
      {
        "duration": 15,
        "start_time": "2022-05-30T17:15:23.568Z"
      },
      {
        "duration": 5,
        "start_time": "2022-05-30T17:15:23.586Z"
      },
      {
        "duration": 9,
        "start_time": "2022-05-30T17:15:23.592Z"
      },
      {
        "duration": 14,
        "start_time": "2022-05-30T17:15:23.604Z"
      },
      {
        "duration": 16,
        "start_time": "2022-05-30T17:15:23.620Z"
      },
      {
        "duration": 17,
        "start_time": "2022-05-30T17:15:23.638Z"
      },
      {
        "duration": 22,
        "start_time": "2022-05-30T17:15:23.657Z"
      },
      {
        "duration": 16,
        "start_time": "2022-05-30T17:15:23.681Z"
      },
      {
        "duration": 15,
        "start_time": "2022-05-30T17:15:23.699Z"
      },
      {
        "duration": 14,
        "start_time": "2022-05-30T17:15:23.715Z"
      },
      {
        "duration": 30,
        "start_time": "2022-05-30T17:15:23.731Z"
      },
      {
        "duration": 34,
        "start_time": "2022-05-30T17:15:23.763Z"
      },
      {
        "duration": 34,
        "start_time": "2022-05-30T17:15:23.799Z"
      },
      {
        "duration": 29,
        "start_time": "2022-05-30T17:17:12.907Z"
      },
      {
        "duration": 56,
        "start_time": "2022-05-30T17:17:23.795Z"
      },
      {
        "duration": 22,
        "start_time": "2022-05-30T17:17:35.125Z"
      },
      {
        "duration": 4,
        "start_time": "2022-05-30T17:17:40.790Z"
      },
      {
        "duration": 28,
        "start_time": "2022-05-30T17:18:30.428Z"
      },
      {
        "duration": 6,
        "start_time": "2022-05-30T17:18:45.128Z"
      },
      {
        "duration": 699,
        "start_time": "2022-05-30T17:19:19.621Z"
      },
      {
        "duration": 106,
        "start_time": "2022-05-30T17:19:20.322Z"
      },
      {
        "duration": 31,
        "start_time": "2022-05-30T17:19:20.430Z"
      },
      {
        "duration": 21,
        "start_time": "2022-05-30T17:19:20.464Z"
      },
      {
        "duration": 7,
        "start_time": "2022-05-30T17:19:20.487Z"
      },
      {
        "duration": 7,
        "start_time": "2022-05-30T17:19:20.495Z"
      },
      {
        "duration": 12,
        "start_time": "2022-05-30T17:19:20.503Z"
      },
      {
        "duration": 11,
        "start_time": "2022-05-30T17:19:20.516Z"
      },
      {
        "duration": 30,
        "start_time": "2022-05-30T17:19:20.528Z"
      },
      {
        "duration": 21,
        "start_time": "2022-05-30T17:19:20.561Z"
      },
      {
        "duration": 5,
        "start_time": "2022-05-30T17:19:20.583Z"
      },
      {
        "duration": 14,
        "start_time": "2022-05-30T17:19:20.589Z"
      },
      {
        "duration": 6,
        "start_time": "2022-05-30T17:19:20.604Z"
      },
      {
        "duration": 14,
        "start_time": "2022-05-30T17:19:20.611Z"
      },
      {
        "duration": 12,
        "start_time": "2022-05-30T17:19:20.626Z"
      },
      {
        "duration": 22,
        "start_time": "2022-05-30T17:19:20.639Z"
      },
      {
        "duration": 15,
        "start_time": "2022-05-30T17:19:20.664Z"
      },
      {
        "duration": 11,
        "start_time": "2022-05-30T17:19:20.681Z"
      },
      {
        "duration": 22,
        "start_time": "2022-05-30T17:19:20.693Z"
      },
      {
        "duration": 12,
        "start_time": "2022-05-30T17:19:20.717Z"
      },
      {
        "duration": 16,
        "start_time": "2022-05-30T17:19:20.730Z"
      },
      {
        "duration": 30,
        "start_time": "2022-05-30T17:19:20.748Z"
      },
      {
        "duration": 16,
        "start_time": "2022-05-30T17:19:20.780Z"
      },
      {
        "duration": 23,
        "start_time": "2022-05-30T17:19:20.797Z"
      },
      {
        "duration": 3,
        "start_time": "2022-05-30T17:21:09.725Z"
      },
      {
        "duration": 27,
        "start_time": "2022-05-30T17:21:11.980Z"
      },
      {
        "duration": 705,
        "start_time": "2022-05-30T17:21:26.738Z"
      },
      {
        "duration": 98,
        "start_time": "2022-05-30T17:21:27.444Z"
      },
      {
        "duration": 32,
        "start_time": "2022-05-30T17:21:27.544Z"
      },
      {
        "duration": 22,
        "start_time": "2022-05-30T17:21:27.579Z"
      },
      {
        "duration": 8,
        "start_time": "2022-05-30T17:21:27.603Z"
      },
      {
        "duration": 8,
        "start_time": "2022-05-30T17:21:27.612Z"
      },
      {
        "duration": 35,
        "start_time": "2022-05-30T17:21:27.621Z"
      },
      {
        "duration": 8,
        "start_time": "2022-05-30T17:21:27.658Z"
      },
      {
        "duration": 17,
        "start_time": "2022-05-30T17:21:27.668Z"
      },
      {
        "duration": 24,
        "start_time": "2022-05-30T17:21:27.689Z"
      },
      {
        "duration": 4,
        "start_time": "2022-05-30T17:21:27.715Z"
      },
      {
        "duration": 6,
        "start_time": "2022-05-30T17:21:27.721Z"
      },
      {
        "duration": 28,
        "start_time": "2022-05-30T17:21:27.728Z"
      },
      {
        "duration": 22,
        "start_time": "2022-05-30T17:21:27.761Z"
      },
      {
        "duration": 5,
        "start_time": "2022-05-30T17:21:27.784Z"
      },
      {
        "duration": 11,
        "start_time": "2022-05-30T17:21:27.791Z"
      },
      {
        "duration": 8,
        "start_time": "2022-05-30T17:21:27.804Z"
      },
      {
        "duration": 10,
        "start_time": "2022-05-30T17:21:27.813Z"
      },
      {
        "duration": 7,
        "start_time": "2022-05-30T17:21:27.824Z"
      },
      {
        "duration": 30,
        "start_time": "2022-05-30T17:21:27.832Z"
      },
      {
        "duration": 21,
        "start_time": "2022-05-30T17:21:27.864Z"
      },
      {
        "duration": 41,
        "start_time": "2022-05-30T17:21:27.887Z"
      },
      {
        "duration": 26,
        "start_time": "2022-05-30T17:21:27.930Z"
      },
      {
        "duration": 25,
        "start_time": "2022-05-30T17:21:27.958Z"
      },
      {
        "duration": 23,
        "start_time": "2022-05-30T17:24:27.386Z"
      },
      {
        "duration": 56,
        "start_time": "2022-05-30T17:30:28.068Z"
      },
      {
        "duration": 40,
        "start_time": "2022-05-30T18:05:53.383Z"
      },
      {
        "duration": 29,
        "start_time": "2022-05-30T18:31:08.363Z"
      },
      {
        "duration": 30,
        "start_time": "2022-05-30T18:47:58.863Z"
      },
      {
        "duration": 4,
        "start_time": "2022-05-30T18:48:25.527Z"
      },
      {
        "duration": 23,
        "start_time": "2022-05-30T18:48:28.721Z"
      },
      {
        "duration": 595,
        "start_time": "2022-05-30T18:48:43.987Z"
      },
      {
        "duration": 95,
        "start_time": "2022-05-30T18:48:44.584Z"
      },
      {
        "duration": 22,
        "start_time": "2022-05-30T18:48:44.680Z"
      },
      {
        "duration": 18,
        "start_time": "2022-05-30T18:48:44.704Z"
      },
      {
        "duration": 5,
        "start_time": "2022-05-30T18:48:44.724Z"
      },
      {
        "duration": 8,
        "start_time": "2022-05-30T18:48:44.730Z"
      },
      {
        "duration": 16,
        "start_time": "2022-05-30T18:48:44.739Z"
      },
      {
        "duration": 6,
        "start_time": "2022-05-30T18:48:44.756Z"
      },
      {
        "duration": 6,
        "start_time": "2022-05-30T18:48:44.763Z"
      },
      {
        "duration": 20,
        "start_time": "2022-05-30T18:48:44.771Z"
      },
      {
        "duration": 4,
        "start_time": "2022-05-30T18:48:44.792Z"
      },
      {
        "duration": 6,
        "start_time": "2022-05-30T18:48:44.797Z"
      },
      {
        "duration": 6,
        "start_time": "2022-05-30T18:48:44.804Z"
      },
      {
        "duration": 7,
        "start_time": "2022-05-30T18:48:44.811Z"
      },
      {
        "duration": 36,
        "start_time": "2022-05-30T18:48:44.819Z"
      },
      {
        "duration": 7,
        "start_time": "2022-05-30T18:48:44.856Z"
      },
      {
        "duration": 9,
        "start_time": "2022-05-30T18:48:44.864Z"
      },
      {
        "duration": 8,
        "start_time": "2022-05-30T18:48:44.874Z"
      },
      {
        "duration": 6,
        "start_time": "2022-05-30T18:48:44.884Z"
      },
      {
        "duration": 9,
        "start_time": "2022-05-30T18:48:44.891Z"
      },
      {
        "duration": 11,
        "start_time": "2022-05-30T18:48:44.902Z"
      },
      {
        "duration": 46,
        "start_time": "2022-05-30T18:48:44.914Z"
      },
      {
        "duration": 14,
        "start_time": "2022-05-30T18:48:44.962Z"
      },
      {
        "duration": 25,
        "start_time": "2022-05-30T18:48:44.977Z"
      },
      {
        "duration": 4,
        "start_time": "2022-05-30T18:48:50.044Z"
      },
      {
        "duration": 23,
        "start_time": "2022-05-30T18:48:51.222Z"
      },
      {
        "duration": 870,
        "start_time": "2022-05-30T22:34:43.323Z"
      },
      {
        "duration": 154,
        "start_time": "2022-05-30T22:34:44.196Z"
      },
      {
        "duration": 23,
        "start_time": "2022-05-30T22:34:44.352Z"
      },
      {
        "duration": 20,
        "start_time": "2022-05-30T22:34:44.378Z"
      },
      {
        "duration": 6,
        "start_time": "2022-05-30T22:34:44.399Z"
      },
      {
        "duration": 17,
        "start_time": "2022-05-30T22:34:44.406Z"
      },
      {
        "duration": 10,
        "start_time": "2022-05-30T22:34:44.427Z"
      },
      {
        "duration": 8,
        "start_time": "2022-05-30T22:34:44.439Z"
      },
      {
        "duration": 18,
        "start_time": "2022-05-30T22:34:44.449Z"
      },
      {
        "duration": 21,
        "start_time": "2022-05-30T22:34:44.470Z"
      },
      {
        "duration": 4,
        "start_time": "2022-05-30T22:34:44.493Z"
      },
      {
        "duration": 8,
        "start_time": "2022-05-30T22:34:44.498Z"
      },
      {
        "duration": 21,
        "start_time": "2022-05-30T22:34:44.507Z"
      },
      {
        "duration": 9,
        "start_time": "2022-05-30T22:34:44.530Z"
      },
      {
        "duration": 7,
        "start_time": "2022-05-30T22:34:44.541Z"
      },
      {
        "duration": 9,
        "start_time": "2022-05-30T22:34:44.550Z"
      },
      {
        "duration": 9,
        "start_time": "2022-05-30T22:34:44.561Z"
      },
      {
        "duration": 9,
        "start_time": "2022-05-30T22:34:44.572Z"
      },
      {
        "duration": 14,
        "start_time": "2022-05-30T22:34:44.583Z"
      },
      {
        "duration": 10,
        "start_time": "2022-05-30T22:34:44.599Z"
      },
      {
        "duration": 29,
        "start_time": "2022-05-30T22:34:44.611Z"
      },
      {
        "duration": 29,
        "start_time": "2022-05-30T22:34:44.643Z"
      },
      {
        "duration": 17,
        "start_time": "2022-05-30T22:34:44.674Z"
      },
      {
        "duration": 40,
        "start_time": "2022-05-30T22:34:44.693Z"
      },
      {
        "duration": 4,
        "start_time": "2022-05-30T22:35:34.681Z"
      },
      {
        "duration": 41,
        "start_time": "2022-05-30T22:35:38.630Z"
      },
      {
        "duration": 81,
        "start_time": "2022-05-30T22:39:08.259Z"
      },
      {
        "duration": 11,
        "start_time": "2022-05-30T22:39:56.436Z"
      },
      {
        "duration": 9,
        "start_time": "2022-05-30T22:40:15.260Z"
      },
      {
        "duration": 9,
        "start_time": "2022-05-30T22:40:19.855Z"
      },
      {
        "duration": 8,
        "start_time": "2022-05-30T22:40:33.191Z"
      },
      {
        "duration": 23,
        "start_time": "2022-05-30T22:47:34.675Z"
      },
      {
        "duration": 25,
        "start_time": "2022-05-30T22:47:54.066Z"
      },
      {
        "duration": 17,
        "start_time": "2022-05-30T22:47:59.705Z"
      },
      {
        "duration": 22,
        "start_time": "2022-05-30T23:12:14.206Z"
      },
      {
        "duration": 21,
        "start_time": "2022-05-30T23:16:37.848Z"
      },
      {
        "duration": 7,
        "start_time": "2022-05-30T23:19:03.266Z"
      },
      {
        "duration": 17,
        "start_time": "2022-05-30T23:21:42.491Z"
      },
      {
        "duration": 14,
        "start_time": "2022-05-30T23:21:48.584Z"
      },
      {
        "duration": 4,
        "start_time": "2022-05-30T23:27:18.235Z"
      },
      {
        "duration": 4,
        "start_time": "2022-05-30T23:27:37.256Z"
      },
      {
        "duration": 5,
        "start_time": "2022-05-30T23:27:41.420Z"
      },
      {
        "duration": 673,
        "start_time": "2022-05-30T23:27:54.706Z"
      },
      {
        "duration": 99,
        "start_time": "2022-05-30T23:27:55.381Z"
      },
      {
        "duration": 27,
        "start_time": "2022-05-30T23:27:55.483Z"
      },
      {
        "duration": 32,
        "start_time": "2022-05-30T23:27:55.512Z"
      },
      {
        "duration": 8,
        "start_time": "2022-05-30T23:27:55.546Z"
      },
      {
        "duration": 8,
        "start_time": "2022-05-30T23:27:55.555Z"
      },
      {
        "duration": 14,
        "start_time": "2022-05-30T23:27:55.565Z"
      },
      {
        "duration": 8,
        "start_time": "2022-05-30T23:27:55.581Z"
      },
      {
        "duration": 5,
        "start_time": "2022-05-30T23:27:55.591Z"
      },
      {
        "duration": 49,
        "start_time": "2022-05-30T23:27:55.598Z"
      },
      {
        "duration": 5,
        "start_time": "2022-05-30T23:27:55.648Z"
      },
      {
        "duration": 6,
        "start_time": "2022-05-30T23:27:55.654Z"
      },
      {
        "duration": 5,
        "start_time": "2022-05-30T23:27:55.662Z"
      },
      {
        "duration": 6,
        "start_time": "2022-05-30T23:27:55.669Z"
      },
      {
        "duration": 5,
        "start_time": "2022-05-30T23:27:55.677Z"
      },
      {
        "duration": 9,
        "start_time": "2022-05-30T23:27:55.683Z"
      },
      {
        "duration": 38,
        "start_time": "2022-05-30T23:27:55.693Z"
      },
      {
        "duration": 8,
        "start_time": "2022-05-30T23:27:55.732Z"
      },
      {
        "duration": 7,
        "start_time": "2022-05-30T23:27:55.741Z"
      },
      {
        "duration": 12,
        "start_time": "2022-05-30T23:27:55.749Z"
      },
      {
        "duration": 11,
        "start_time": "2022-05-30T23:27:55.763Z"
      },
      {
        "duration": 23,
        "start_time": "2022-05-30T23:27:55.775Z"
      },
      {
        "duration": 34,
        "start_time": "2022-05-30T23:27:55.800Z"
      },
      {
        "duration": 24,
        "start_time": "2022-05-30T23:27:55.836Z"
      },
      {
        "duration": 7,
        "start_time": "2022-05-30T23:27:55.861Z"
      },
      {
        "duration": 6,
        "start_time": "2022-05-30T23:27:55.869Z"
      },
      {
        "duration": 29,
        "start_time": "2022-05-30T23:27:55.876Z"
      },
      {
        "duration": 20,
        "start_time": "2022-05-30T23:27:55.928Z"
      },
      {
        "duration": 7,
        "start_time": "2022-05-30T23:27:55.949Z"
      },
      {
        "duration": 3,
        "start_time": "2022-05-30T23:27:55.958Z"
      },
      {
        "duration": 4,
        "start_time": "2022-05-30T23:27:55.962Z"
      },
      {
        "duration": 5,
        "start_time": "2022-05-30T23:27:55.967Z"
      },
      {
        "duration": 4,
        "start_time": "2022-05-30T23:27:55.973Z"
      },
      {
        "duration": 4,
        "start_time": "2022-05-30T23:27:55.979Z"
      },
      {
        "duration": 7,
        "start_time": "2022-05-30T23:27:55.984Z"
      },
      {
        "duration": 4,
        "start_time": "2022-05-30T23:27:55.992Z"
      },
      {
        "duration": 31,
        "start_time": "2022-05-30T23:27:55.998Z"
      },
      {
        "duration": 6,
        "start_time": "2022-05-30T23:27:56.030Z"
      },
      {
        "duration": 5,
        "start_time": "2022-05-30T23:27:56.037Z"
      },
      {
        "duration": 6,
        "start_time": "2022-05-30T23:27:56.043Z"
      },
      {
        "duration": 5,
        "start_time": "2022-05-30T23:27:56.050Z"
      },
      {
        "duration": 5,
        "start_time": "2022-05-30T23:27:56.056Z"
      },
      {
        "duration": 4,
        "start_time": "2022-05-30T23:27:56.063Z"
      },
      {
        "duration": 6,
        "start_time": "2022-05-30T23:27:56.068Z"
      },
      {
        "duration": 17,
        "start_time": "2022-05-30T23:28:34.769Z"
      },
      {
        "duration": 679,
        "start_time": "2022-05-30T23:29:07.940Z"
      },
      {
        "duration": 103,
        "start_time": "2022-05-30T23:29:08.622Z"
      },
      {
        "duration": 25,
        "start_time": "2022-05-30T23:29:08.726Z"
      },
      {
        "duration": 25,
        "start_time": "2022-05-30T23:29:08.753Z"
      },
      {
        "duration": 23,
        "start_time": "2022-05-30T23:29:08.780Z"
      },
      {
        "duration": 16,
        "start_time": "2022-05-30T23:29:08.805Z"
      },
      {
        "duration": 8,
        "start_time": "2022-05-30T23:29:08.822Z"
      },
      {
        "duration": 28,
        "start_time": "2022-05-30T23:29:08.831Z"
      },
      {
        "duration": 32,
        "start_time": "2022-05-30T23:29:08.860Z"
      },
      {
        "duration": 38,
        "start_time": "2022-05-30T23:29:08.895Z"
      },
      {
        "duration": 5,
        "start_time": "2022-05-30T23:29:08.935Z"
      },
      {
        "duration": 18,
        "start_time": "2022-05-30T23:29:08.942Z"
      },
      {
        "duration": 16,
        "start_time": "2022-05-30T23:29:08.961Z"
      },
      {
        "duration": 9,
        "start_time": "2022-05-30T23:29:08.979Z"
      },
      {
        "duration": 10,
        "start_time": "2022-05-30T23:29:08.990Z"
      },
      {
        "duration": 13,
        "start_time": "2022-05-30T23:29:09.002Z"
      },
      {
        "duration": 13,
        "start_time": "2022-05-30T23:29:09.017Z"
      },
      {
        "duration": 11,
        "start_time": "2022-05-30T23:29:09.031Z"
      },
      {
        "duration": 13,
        "start_time": "2022-05-30T23:29:09.044Z"
      },
      {
        "duration": 14,
        "start_time": "2022-05-30T23:29:09.059Z"
      },
      {
        "duration": 19,
        "start_time": "2022-05-30T23:29:09.074Z"
      },
      {
        "duration": 28,
        "start_time": "2022-05-30T23:29:09.095Z"
      },
      {
        "duration": 15,
        "start_time": "2022-05-30T23:29:09.125Z"
      },
      {
        "duration": 21,
        "start_time": "2022-05-30T23:29:09.142Z"
      },
      {
        "duration": 7,
        "start_time": "2022-05-30T23:29:09.165Z"
      },
      {
        "duration": 8,
        "start_time": "2022-05-30T23:29:09.174Z"
      },
      {
        "duration": 48,
        "start_time": "2022-05-30T23:29:09.184Z"
      },
      {
        "duration": 21,
        "start_time": "2022-05-30T23:29:09.236Z"
      },
      {
        "duration": 23,
        "start_time": "2022-05-30T23:29:09.259Z"
      },
      {
        "duration": 5,
        "start_time": "2022-05-30T23:29:09.284Z"
      },
      {
        "duration": 13,
        "start_time": "2022-05-30T23:29:09.291Z"
      },
      {
        "duration": 17,
        "start_time": "2022-05-30T23:29:09.305Z"
      },
      {
        "duration": 9,
        "start_time": "2022-05-30T23:29:09.323Z"
      },
      {
        "duration": 7,
        "start_time": "2022-05-30T23:29:09.334Z"
      },
      {
        "duration": 12,
        "start_time": "2022-05-30T23:29:09.342Z"
      },
      {
        "duration": 10,
        "start_time": "2022-05-30T23:29:09.356Z"
      },
      {
        "duration": 21,
        "start_time": "2022-05-30T23:29:09.367Z"
      },
      {
        "duration": 12,
        "start_time": "2022-05-30T23:29:09.390Z"
      },
      {
        "duration": 6,
        "start_time": "2022-05-30T23:29:09.404Z"
      },
      {
        "duration": 14,
        "start_time": "2022-05-30T23:29:09.412Z"
      },
      {
        "duration": 8,
        "start_time": "2022-05-30T23:29:09.428Z"
      },
      {
        "duration": 15,
        "start_time": "2022-05-30T23:29:09.437Z"
      },
      {
        "duration": 9,
        "start_time": "2022-05-30T23:29:09.453Z"
      },
      {
        "duration": 11,
        "start_time": "2022-05-30T23:29:09.463Z"
      },
      {
        "duration": 5,
        "start_time": "2022-05-30T23:29:21.875Z"
      },
      {
        "duration": 4,
        "start_time": "2022-05-30T23:29:26.518Z"
      },
      {
        "duration": 4,
        "start_time": "2022-05-30T23:29:29.339Z"
      },
      {
        "duration": 4,
        "start_time": "2022-05-30T23:37:44.385Z"
      },
      {
        "duration": 22,
        "start_time": "2022-05-30T23:46:57.293Z"
      },
      {
        "duration": 21,
        "start_time": "2022-05-30T23:47:10.424Z"
      },
      {
        "duration": 12,
        "start_time": "2022-05-31T01:18:48.908Z"
      },
      {
        "duration": 12,
        "start_time": "2022-05-31T01:18:52.253Z"
      },
      {
        "duration": 7,
        "start_time": "2022-05-31T01:18:52.607Z"
      },
      {
        "duration": 4,
        "start_time": "2022-05-31T01:18:53.551Z"
      },
      {
        "duration": 25,
        "start_time": "2022-05-31T01:18:54.223Z"
      },
      {
        "duration": 19,
        "start_time": "2022-05-31T01:18:54.926Z"
      },
      {
        "duration": 22,
        "start_time": "2022-05-31T01:18:55.630Z"
      },
      {
        "duration": 14,
        "start_time": "2022-05-31T01:19:05.622Z"
      },
      {
        "duration": 32,
        "start_time": "2022-05-31T01:19:20.216Z"
      },
      {
        "duration": 5,
        "start_time": "2022-05-31T02:07:16.127Z"
      },
      {
        "duration": 8,
        "start_time": "2022-05-31T02:07:25.768Z"
      },
      {
        "duration": 8,
        "start_time": "2022-05-31T02:07:30.129Z"
      },
      {
        "duration": 2,
        "start_time": "2022-05-31T02:07:48.553Z"
      },
      {
        "duration": 96,
        "start_time": "2022-05-31T02:08:18.306Z"
      },
      {
        "duration": 27,
        "start_time": "2022-05-31T02:08:29.930Z"
      },
      {
        "duration": 61,
        "start_time": "2022-05-31T02:08:39.251Z"
      },
      {
        "duration": 23,
        "start_time": "2022-05-31T02:08:59.938Z"
      },
      {
        "duration": 838,
        "start_time": "2022-05-31T16:04:15.630Z"
      },
      {
        "duration": 163,
        "start_time": "2022-05-31T16:04:16.470Z"
      },
      {
        "duration": 22,
        "start_time": "2022-05-31T16:04:16.635Z"
      },
      {
        "duration": 20,
        "start_time": "2022-05-31T16:04:16.659Z"
      },
      {
        "duration": 7,
        "start_time": "2022-05-31T16:04:16.681Z"
      },
      {
        "duration": 8,
        "start_time": "2022-05-31T16:04:16.689Z"
      },
      {
        "duration": 6,
        "start_time": "2022-05-31T16:04:16.699Z"
      },
      {
        "duration": 7,
        "start_time": "2022-05-31T16:04:16.707Z"
      },
      {
        "duration": 7,
        "start_time": "2022-05-31T16:04:16.715Z"
      },
      {
        "duration": 21,
        "start_time": "2022-05-31T16:04:16.753Z"
      },
      {
        "duration": 5,
        "start_time": "2022-05-31T16:04:16.775Z"
      },
      {
        "duration": 6,
        "start_time": "2022-05-31T16:04:16.781Z"
      },
      {
        "duration": 5,
        "start_time": "2022-05-31T16:04:16.788Z"
      },
      {
        "duration": 8,
        "start_time": "2022-05-31T16:04:16.794Z"
      },
      {
        "duration": 6,
        "start_time": "2022-05-31T16:04:16.804Z"
      },
      {
        "duration": 9,
        "start_time": "2022-05-31T16:04:16.811Z"
      },
      {
        "duration": 34,
        "start_time": "2022-05-31T16:04:16.821Z"
      },
      {
        "duration": 11,
        "start_time": "2022-05-31T16:04:16.857Z"
      },
      {
        "duration": 4,
        "start_time": "2022-05-31T16:04:16.870Z"
      },
      {
        "duration": 11,
        "start_time": "2022-05-31T16:04:16.875Z"
      },
      {
        "duration": 13,
        "start_time": "2022-05-31T16:04:16.887Z"
      },
      {
        "duration": 26,
        "start_time": "2022-05-31T16:04:16.901Z"
      },
      {
        "duration": 104,
        "start_time": "2022-05-31T16:04:16.929Z"
      },
      {
        "duration": 0,
        "start_time": "2022-05-31T16:04:17.035Z"
      },
      {
        "duration": 0,
        "start_time": "2022-05-31T16:04:17.036Z"
      },
      {
        "duration": 0,
        "start_time": "2022-05-31T16:04:17.038Z"
      },
      {
        "duration": 0,
        "start_time": "2022-05-31T16:04:17.039Z"
      },
      {
        "duration": 0,
        "start_time": "2022-05-31T16:04:17.052Z"
      },
      {
        "duration": 0,
        "start_time": "2022-05-31T16:04:17.053Z"
      },
      {
        "duration": 0,
        "start_time": "2022-05-31T16:04:17.054Z"
      },
      {
        "duration": 0,
        "start_time": "2022-05-31T16:04:17.055Z"
      },
      {
        "duration": 0,
        "start_time": "2022-05-31T16:04:17.056Z"
      },
      {
        "duration": 0,
        "start_time": "2022-05-31T16:04:17.057Z"
      },
      {
        "duration": 0,
        "start_time": "2022-05-31T16:04:17.058Z"
      },
      {
        "duration": 0,
        "start_time": "2022-05-31T16:04:17.059Z"
      },
      {
        "duration": 0,
        "start_time": "2022-05-31T16:04:17.060Z"
      },
      {
        "duration": 0,
        "start_time": "2022-05-31T16:04:17.061Z"
      },
      {
        "duration": 0,
        "start_time": "2022-05-31T16:04:17.062Z"
      },
      {
        "duration": 0,
        "start_time": "2022-05-31T16:04:17.063Z"
      },
      {
        "duration": 0,
        "start_time": "2022-05-31T16:04:17.064Z"
      },
      {
        "duration": 0,
        "start_time": "2022-05-31T16:04:17.065Z"
      },
      {
        "duration": 50,
        "start_time": "2022-05-31T16:04:29.851Z"
      },
      {
        "duration": 3,
        "start_time": "2022-05-31T16:04:43.433Z"
      },
      {
        "duration": 98,
        "start_time": "2022-05-31T16:04:43.438Z"
      },
      {
        "duration": 22,
        "start_time": "2022-05-31T16:04:43.537Z"
      },
      {
        "duration": 16,
        "start_time": "2022-05-31T16:04:43.561Z"
      },
      {
        "duration": 8,
        "start_time": "2022-05-31T16:04:43.579Z"
      },
      {
        "duration": 10,
        "start_time": "2022-05-31T16:04:43.589Z"
      },
      {
        "duration": 7,
        "start_time": "2022-05-31T16:04:43.601Z"
      },
      {
        "duration": 10,
        "start_time": "2022-05-31T16:04:43.609Z"
      },
      {
        "duration": 32,
        "start_time": "2022-05-31T16:04:43.620Z"
      },
      {
        "duration": 20,
        "start_time": "2022-05-31T16:04:43.653Z"
      },
      {
        "duration": 4,
        "start_time": "2022-05-31T16:04:43.675Z"
      },
      {
        "duration": 7,
        "start_time": "2022-05-31T16:04:43.681Z"
      },
      {
        "duration": 8,
        "start_time": "2022-05-31T16:04:43.689Z"
      },
      {
        "duration": 8,
        "start_time": "2022-05-31T16:04:43.698Z"
      },
      {
        "duration": 7,
        "start_time": "2022-05-31T16:04:43.707Z"
      },
      {
        "duration": 13,
        "start_time": "2022-05-31T16:04:43.715Z"
      },
      {
        "duration": 36,
        "start_time": "2022-05-31T16:04:43.729Z"
      },
      {
        "duration": 7,
        "start_time": "2022-05-31T16:04:43.767Z"
      },
      {
        "duration": 5,
        "start_time": "2022-05-31T16:04:43.775Z"
      },
      {
        "duration": 11,
        "start_time": "2022-05-31T16:04:43.781Z"
      },
      {
        "duration": 17,
        "start_time": "2022-05-31T16:04:43.793Z"
      },
      {
        "duration": 26,
        "start_time": "2022-05-31T16:04:43.812Z"
      },
      {
        "duration": 29,
        "start_time": "2022-05-31T16:04:43.840Z"
      },
      {
        "duration": 0,
        "start_time": "2022-05-31T16:04:43.871Z"
      },
      {
        "duration": 0,
        "start_time": "2022-05-31T16:04:43.872Z"
      },
      {
        "duration": 0,
        "start_time": "2022-05-31T16:04:43.873Z"
      },
      {
        "duration": 0,
        "start_time": "2022-05-31T16:04:43.875Z"
      },
      {
        "duration": 0,
        "start_time": "2022-05-31T16:04:43.876Z"
      },
      {
        "duration": 0,
        "start_time": "2022-05-31T16:04:43.877Z"
      },
      {
        "duration": 0,
        "start_time": "2022-05-31T16:04:43.878Z"
      },
      {
        "duration": 0,
        "start_time": "2022-05-31T16:04:43.879Z"
      },
      {
        "duration": 0,
        "start_time": "2022-05-31T16:04:43.880Z"
      },
      {
        "duration": 0,
        "start_time": "2022-05-31T16:04:43.881Z"
      },
      {
        "duration": 0,
        "start_time": "2022-05-31T16:04:43.882Z"
      },
      {
        "duration": 0,
        "start_time": "2022-05-31T16:04:43.883Z"
      },
      {
        "duration": 0,
        "start_time": "2022-05-31T16:04:43.884Z"
      },
      {
        "duration": 0,
        "start_time": "2022-05-31T16:04:43.885Z"
      },
      {
        "duration": 0,
        "start_time": "2022-05-31T16:04:43.886Z"
      },
      {
        "duration": 0,
        "start_time": "2022-05-31T16:04:43.887Z"
      },
      {
        "duration": 0,
        "start_time": "2022-05-31T16:04:43.888Z"
      },
      {
        "duration": 0,
        "start_time": "2022-05-31T16:04:43.888Z"
      },
      {
        "duration": 687,
        "start_time": "2022-05-31T16:05:03.845Z"
      },
      {
        "duration": 97,
        "start_time": "2022-05-31T16:05:04.534Z"
      },
      {
        "duration": 23,
        "start_time": "2022-05-31T16:05:04.633Z"
      },
      {
        "duration": 21,
        "start_time": "2022-05-31T16:05:04.657Z"
      },
      {
        "duration": 6,
        "start_time": "2022-05-31T16:05:04.680Z"
      },
      {
        "duration": 8,
        "start_time": "2022-05-31T16:05:04.688Z"
      },
      {
        "duration": 6,
        "start_time": "2022-05-31T16:05:04.697Z"
      },
      {
        "duration": 6,
        "start_time": "2022-05-31T16:05:04.705Z"
      },
      {
        "duration": 6,
        "start_time": "2022-05-31T16:05:04.713Z"
      },
      {
        "duration": 22,
        "start_time": "2022-05-31T16:05:04.752Z"
      },
      {
        "duration": 5,
        "start_time": "2022-05-31T16:05:04.776Z"
      },
      {
        "duration": 14,
        "start_time": "2022-05-31T16:05:04.783Z"
      },
      {
        "duration": 7,
        "start_time": "2022-05-31T16:05:04.798Z"
      },
      {
        "duration": 6,
        "start_time": "2022-05-31T16:05:04.809Z"
      },
      {
        "duration": 7,
        "start_time": "2022-05-31T16:05:04.816Z"
      },
      {
        "duration": 7,
        "start_time": "2022-05-31T16:05:04.852Z"
      },
      {
        "duration": 10,
        "start_time": "2022-05-31T16:05:04.861Z"
      },
      {
        "duration": 11,
        "start_time": "2022-05-31T16:05:04.872Z"
      },
      {
        "duration": 5,
        "start_time": "2022-05-31T16:05:04.885Z"
      },
      {
        "duration": 13,
        "start_time": "2022-05-31T16:05:04.892Z"
      },
      {
        "duration": 14,
        "start_time": "2022-05-31T16:05:04.906Z"
      },
      {
        "duration": 41,
        "start_time": "2022-05-31T16:05:04.921Z"
      },
      {
        "duration": 94,
        "start_time": "2022-05-31T16:05:04.964Z"
      },
      {
        "duration": 0,
        "start_time": "2022-05-31T16:05:05.059Z"
      },
      {
        "duration": 0,
        "start_time": "2022-05-31T16:05:05.061Z"
      },
      {
        "duration": 0,
        "start_time": "2022-05-31T16:05:05.062Z"
      },
      {
        "duration": 0,
        "start_time": "2022-05-31T16:05:05.063Z"
      },
      {
        "duration": 0,
        "start_time": "2022-05-31T16:05:05.063Z"
      },
      {
        "duration": 0,
        "start_time": "2022-05-31T16:05:05.064Z"
      },
      {
        "duration": 0,
        "start_time": "2022-05-31T16:05:05.066Z"
      },
      {
        "duration": 0,
        "start_time": "2022-05-31T16:05:05.067Z"
      },
      {
        "duration": 0,
        "start_time": "2022-05-31T16:05:05.068Z"
      },
      {
        "duration": 0,
        "start_time": "2022-05-31T16:05:05.069Z"
      },
      {
        "duration": 0,
        "start_time": "2022-05-31T16:05:05.070Z"
      },
      {
        "duration": 0,
        "start_time": "2022-05-31T16:05:05.071Z"
      },
      {
        "duration": 0,
        "start_time": "2022-05-31T16:05:05.072Z"
      },
      {
        "duration": 0,
        "start_time": "2022-05-31T16:05:05.073Z"
      },
      {
        "duration": 0,
        "start_time": "2022-05-31T16:05:05.074Z"
      },
      {
        "duration": 0,
        "start_time": "2022-05-31T16:05:05.075Z"
      },
      {
        "duration": 0,
        "start_time": "2022-05-31T16:05:05.076Z"
      },
      {
        "duration": 0,
        "start_time": "2022-05-31T16:05:05.078Z"
      },
      {
        "duration": 14,
        "start_time": "2022-05-31T16:05:34.521Z"
      },
      {
        "duration": 7,
        "start_time": "2022-05-31T16:05:37.755Z"
      },
      {
        "duration": 7,
        "start_time": "2022-05-31T16:05:41.056Z"
      },
      {
        "duration": 6,
        "start_time": "2022-05-31T16:05:41.065Z"
      },
      {
        "duration": 34,
        "start_time": "2022-05-31T16:05:41.073Z"
      },
      {
        "duration": 27,
        "start_time": "2022-05-31T16:05:41.109Z"
      },
      {
        "duration": 43,
        "start_time": "2022-05-31T16:05:41.138Z"
      },
      {
        "duration": 2,
        "start_time": "2022-05-31T16:05:41.183Z"
      },
      {
        "duration": 7,
        "start_time": "2022-05-31T16:05:41.186Z"
      },
      {
        "duration": 63,
        "start_time": "2022-05-31T16:05:41.195Z"
      },
      {
        "duration": 15,
        "start_time": "2022-05-31T16:05:41.261Z"
      },
      {
        "duration": 4,
        "start_time": "2022-05-31T16:05:41.278Z"
      },
      {
        "duration": 6,
        "start_time": "2022-05-31T16:05:41.283Z"
      },
      {
        "duration": 5,
        "start_time": "2022-05-31T16:05:41.290Z"
      },
      {
        "duration": 6,
        "start_time": "2022-05-31T16:05:41.296Z"
      },
      {
        "duration": 5,
        "start_time": "2022-05-31T16:05:41.304Z"
      },
      {
        "duration": 5,
        "start_time": "2022-05-31T16:05:41.310Z"
      },
      {
        "duration": 6,
        "start_time": "2022-05-31T16:05:41.316Z"
      },
      {
        "duration": 5,
        "start_time": "2022-05-31T16:05:41.323Z"
      },
      {
        "duration": 2,
        "start_time": "2022-05-31T16:05:41.351Z"
      },
      {
        "duration": 26,
        "start_time": "2022-05-31T16:06:23.103Z"
      },
      {
        "duration": 264,
        "start_time": "2022-05-31T16:29:42.679Z"
      },
      {
        "duration": 25,
        "start_time": "2022-05-31T16:29:58.959Z"
      },
      {
        "duration": 13,
        "start_time": "2022-05-31T16:31:44.844Z"
      },
      {
        "duration": 16,
        "start_time": "2022-05-31T16:32:26.394Z"
      },
      {
        "duration": 491,
        "start_time": "2022-05-31T16:33:01.910Z"
      },
      {
        "duration": 6,
        "start_time": "2022-05-31T16:33:12.568Z"
      },
      {
        "duration": 33,
        "start_time": "2022-05-31T16:33:25.940Z"
      },
      {
        "duration": 19,
        "start_time": "2022-05-31T16:34:19.392Z"
      },
      {
        "duration": 15,
        "start_time": "2022-05-31T16:34:28.170Z"
      },
      {
        "duration": 14,
        "start_time": "2022-05-31T16:34:35.763Z"
      },
      {
        "duration": 32,
        "start_time": "2022-05-31T16:34:40.902Z"
      },
      {
        "duration": 838,
        "start_time": "2022-06-01T17:36:32.984Z"
      },
      {
        "duration": 159,
        "start_time": "2022-06-01T17:36:33.824Z"
      },
      {
        "duration": 25,
        "start_time": "2022-06-01T17:36:33.985Z"
      },
      {
        "duration": 22,
        "start_time": "2022-06-01T17:36:34.012Z"
      },
      {
        "duration": 6,
        "start_time": "2022-06-01T17:36:34.035Z"
      },
      {
        "duration": 11,
        "start_time": "2022-06-01T17:36:34.042Z"
      },
      {
        "duration": 8,
        "start_time": "2022-06-01T17:36:34.054Z"
      },
      {
        "duration": 12,
        "start_time": "2022-06-01T17:36:34.063Z"
      },
      {
        "duration": 7,
        "start_time": "2022-06-01T17:36:34.076Z"
      },
      {
        "duration": 48,
        "start_time": "2022-06-01T17:36:34.086Z"
      },
      {
        "duration": 5,
        "start_time": "2022-06-01T17:36:34.135Z"
      },
      {
        "duration": 7,
        "start_time": "2022-06-01T17:36:34.141Z"
      },
      {
        "duration": 5,
        "start_time": "2022-06-01T17:36:34.149Z"
      },
      {
        "duration": 7,
        "start_time": "2022-06-01T17:36:34.155Z"
      },
      {
        "duration": 5,
        "start_time": "2022-06-01T17:36:34.164Z"
      },
      {
        "duration": 9,
        "start_time": "2022-06-01T17:36:34.171Z"
      },
      {
        "duration": 8,
        "start_time": "2022-06-01T17:36:34.181Z"
      },
      {
        "duration": 42,
        "start_time": "2022-06-01T17:36:34.190Z"
      },
      {
        "duration": 6,
        "start_time": "2022-06-01T17:36:34.233Z"
      },
      {
        "duration": 16,
        "start_time": "2022-06-01T17:36:34.240Z"
      },
      {
        "duration": 17,
        "start_time": "2022-06-01T17:36:34.258Z"
      },
      {
        "duration": 27,
        "start_time": "2022-06-01T17:36:34.276Z"
      },
      {
        "duration": 30,
        "start_time": "2022-06-01T17:36:34.304Z"
      },
      {
        "duration": 6,
        "start_time": "2022-06-01T17:36:34.336Z"
      },
      {
        "duration": 29,
        "start_time": "2022-06-01T17:36:34.343Z"
      },
      {
        "duration": 34,
        "start_time": "2022-06-01T17:36:34.373Z"
      },
      {
        "duration": 27,
        "start_time": "2022-06-01T17:36:34.411Z"
      },
      {
        "duration": 46,
        "start_time": "2022-06-01T17:36:34.442Z"
      },
      {
        "duration": 5,
        "start_time": "2022-06-01T17:36:39.060Z"
      },
      {
        "duration": 80,
        "start_time": "2022-06-01T17:37:14.776Z"
      },
      {
        "duration": 19,
        "start_time": "2022-06-01T17:37:47.402Z"
      },
      {
        "duration": 4,
        "start_time": "2022-06-01T17:38:13.569Z"
      },
      {
        "duration": 17,
        "start_time": "2022-06-01T17:38:40.836Z"
      },
      {
        "duration": 8,
        "start_time": "2022-06-01T17:38:56.530Z"
      },
      {
        "duration": 5,
        "start_time": "2022-06-01T17:39:04.933Z"
      },
      {
        "duration": 23,
        "start_time": "2022-06-01T17:40:12.874Z"
      },
      {
        "duration": 9,
        "start_time": "2022-06-01T17:48:50.512Z"
      },
      {
        "duration": 24,
        "start_time": "2022-06-01T17:48:52.294Z"
      },
      {
        "duration": 14,
        "start_time": "2022-06-01T17:51:05.009Z"
      },
      {
        "duration": 379,
        "start_time": "2022-06-01T17:51:22.546Z"
      },
      {
        "duration": 423,
        "start_time": "2022-06-01T17:51:33.588Z"
      },
      {
        "duration": 25,
        "start_time": "2022-06-01T17:51:41.048Z"
      },
      {
        "duration": 37,
        "start_time": "2022-06-01T17:51:42.045Z"
      },
      {
        "duration": 13,
        "start_time": "2022-06-01T17:53:03.012Z"
      },
      {
        "duration": 5,
        "start_time": "2022-06-01T17:53:03.028Z"
      },
      {
        "duration": 25,
        "start_time": "2022-06-01T17:53:03.036Z"
      },
      {
        "duration": 14,
        "start_time": "2022-06-01T17:53:33.067Z"
      },
      {
        "duration": 10,
        "start_time": "2022-06-01T18:09:54.837Z"
      },
      {
        "duration": 11,
        "start_time": "2022-06-01T18:10:08.019Z"
      },
      {
        "duration": 12,
        "start_time": "2022-06-01T18:11:06.303Z"
      },
      {
        "duration": 21,
        "start_time": "2022-06-01T18:11:25.793Z"
      },
      {
        "duration": 15324,
        "start_time": "2022-06-01T18:17:17.798Z"
      },
      {
        "duration": 717,
        "start_time": "2022-06-01T18:18:39.098Z"
      },
      {
        "duration": 100,
        "start_time": "2022-06-01T18:18:39.816Z"
      },
      {
        "duration": 23,
        "start_time": "2022-06-01T18:18:39.917Z"
      },
      {
        "duration": 21,
        "start_time": "2022-06-01T18:18:39.941Z"
      },
      {
        "duration": 6,
        "start_time": "2022-06-01T18:18:39.964Z"
      },
      {
        "duration": 10,
        "start_time": "2022-06-01T18:18:39.972Z"
      },
      {
        "duration": 9,
        "start_time": "2022-06-01T18:18:39.983Z"
      },
      {
        "duration": 35,
        "start_time": "2022-06-01T18:18:39.993Z"
      },
      {
        "duration": 6,
        "start_time": "2022-06-01T18:18:40.030Z"
      },
      {
        "duration": 28,
        "start_time": "2022-06-01T18:18:40.037Z"
      },
      {
        "duration": 5,
        "start_time": "2022-06-01T18:18:40.066Z"
      },
      {
        "duration": 14,
        "start_time": "2022-06-01T18:18:40.072Z"
      },
      {
        "duration": 12,
        "start_time": "2022-06-01T18:18:40.088Z"
      },
      {
        "duration": 25,
        "start_time": "2022-06-01T18:18:40.103Z"
      },
      {
        "duration": 5,
        "start_time": "2022-06-01T18:18:40.129Z"
      },
      {
        "duration": 10,
        "start_time": "2022-06-01T18:18:40.136Z"
      },
      {
        "duration": 8,
        "start_time": "2022-06-01T18:18:40.147Z"
      },
      {
        "duration": 8,
        "start_time": "2022-06-01T18:18:40.157Z"
      },
      {
        "duration": 6,
        "start_time": "2022-06-01T18:18:40.166Z"
      },
      {
        "duration": 9,
        "start_time": "2022-06-01T18:18:40.174Z"
      },
      {
        "duration": 45,
        "start_time": "2022-06-01T18:18:40.184Z"
      },
      {
        "duration": 25,
        "start_time": "2022-06-01T18:18:40.231Z"
      },
      {
        "duration": 17,
        "start_time": "2022-06-01T18:18:40.257Z"
      },
      {
        "duration": 8,
        "start_time": "2022-06-01T18:18:40.276Z"
      },
      {
        "duration": 8,
        "start_time": "2022-06-01T18:18:40.286Z"
      },
      {
        "duration": 53,
        "start_time": "2022-06-01T18:18:40.296Z"
      },
      {
        "duration": 21,
        "start_time": "2022-06-01T18:18:40.350Z"
      },
      {
        "duration": 33,
        "start_time": "2022-06-01T18:18:40.372Z"
      },
      {
        "duration": 11,
        "start_time": "2022-06-01T18:18:40.425Z"
      },
      {
        "duration": 3,
        "start_time": "2022-06-01T18:33:20.641Z"
      },
      {
        "duration": 109,
        "start_time": "2022-06-01T18:33:20.645Z"
      },
      {
        "duration": 22,
        "start_time": "2022-06-01T18:33:20.756Z"
      },
      {
        "duration": 25,
        "start_time": "2022-06-01T18:33:20.781Z"
      },
      {
        "duration": 18,
        "start_time": "2022-06-01T18:33:20.808Z"
      },
      {
        "duration": 6,
        "start_time": "2022-06-01T18:33:21.050Z"
      },
      {
        "duration": 15,
        "start_time": "2022-06-01T18:33:21.058Z"
      },
      {
        "duration": 12,
        "start_time": "2022-06-01T18:33:21.075Z"
      },
      {
        "duration": 21,
        "start_time": "2022-06-01T18:33:21.089Z"
      },
      {
        "duration": 26,
        "start_time": "2022-06-01T18:33:21.113Z"
      },
      {
        "duration": 5,
        "start_time": "2022-06-01T18:33:21.141Z"
      },
      {
        "duration": 15,
        "start_time": "2022-06-01T18:33:21.148Z"
      },
      {
        "duration": 6,
        "start_time": "2022-06-01T18:33:21.164Z"
      },
      {
        "duration": 12,
        "start_time": "2022-06-01T18:33:21.172Z"
      },
      {
        "duration": 12,
        "start_time": "2022-06-01T18:33:21.185Z"
      },
      {
        "duration": 16,
        "start_time": "2022-06-01T18:33:21.198Z"
      },
      {
        "duration": 13,
        "start_time": "2022-06-01T18:33:21.216Z"
      },
      {
        "duration": 22,
        "start_time": "2022-06-01T18:33:21.231Z"
      },
      {
        "duration": 8,
        "start_time": "2022-06-01T18:33:21.256Z"
      },
      {
        "duration": 20,
        "start_time": "2022-06-01T18:33:21.266Z"
      },
      {
        "duration": 25,
        "start_time": "2022-06-01T18:33:21.287Z"
      },
      {
        "duration": 28,
        "start_time": "2022-06-01T18:33:21.314Z"
      },
      {
        "duration": 16,
        "start_time": "2022-06-01T18:33:21.343Z"
      },
      {
        "duration": 9,
        "start_time": "2022-06-01T18:33:21.361Z"
      },
      {
        "duration": 22,
        "start_time": "2022-06-01T18:33:21.372Z"
      },
      {
        "duration": 47,
        "start_time": "2022-06-01T18:33:21.396Z"
      },
      {
        "duration": 21,
        "start_time": "2022-06-01T18:33:21.445Z"
      },
      {
        "duration": 41,
        "start_time": "2022-06-01T18:33:21.468Z"
      },
      {
        "duration": 21,
        "start_time": "2022-06-01T18:33:21.510Z"
      },
      {
        "duration": 87,
        "start_time": "2022-06-01T18:33:30.917Z"
      },
      {
        "duration": 12,
        "start_time": "2022-06-01T18:34:06.699Z"
      },
      {
        "duration": 9,
        "start_time": "2022-06-01T18:34:21.150Z"
      },
      {
        "duration": 10,
        "start_time": "2022-06-01T18:34:38.963Z"
      },
      {
        "duration": 11,
        "start_time": "2022-06-01T18:35:20.725Z"
      },
      {
        "duration": 28,
        "start_time": "2022-06-01T18:35:52.528Z"
      },
      {
        "duration": 32,
        "start_time": "2022-06-01T18:36:00.167Z"
      },
      {
        "duration": 32,
        "start_time": "2022-06-01T18:42:05.446Z"
      },
      {
        "duration": 3,
        "start_time": "2022-06-01T18:42:14.397Z"
      },
      {
        "duration": 159,
        "start_time": "2022-06-01T18:42:14.403Z"
      },
      {
        "duration": 32,
        "start_time": "2022-06-01T18:42:14.565Z"
      },
      {
        "duration": 33,
        "start_time": "2022-06-01T18:42:14.600Z"
      },
      {
        "duration": 32,
        "start_time": "2022-06-01T18:42:14.635Z"
      },
      {
        "duration": 22,
        "start_time": "2022-06-01T18:42:14.669Z"
      },
      {
        "duration": 14,
        "start_time": "2022-06-01T18:42:14.693Z"
      },
      {
        "duration": 15,
        "start_time": "2022-06-01T18:42:14.709Z"
      },
      {
        "duration": 28,
        "start_time": "2022-06-01T18:42:14.729Z"
      },
      {
        "duration": 24,
        "start_time": "2022-06-01T18:42:14.759Z"
      },
      {
        "duration": 5,
        "start_time": "2022-06-01T18:42:14.786Z"
      },
      {
        "duration": 7,
        "start_time": "2022-06-01T18:42:14.792Z"
      },
      {
        "duration": 6,
        "start_time": "2022-06-01T18:42:14.801Z"
      },
      {
        "duration": 8,
        "start_time": "2022-06-01T18:42:14.809Z"
      },
      {
        "duration": 11,
        "start_time": "2022-06-01T18:42:14.818Z"
      },
      {
        "duration": 24,
        "start_time": "2022-06-01T18:42:14.830Z"
      },
      {
        "duration": 10,
        "start_time": "2022-06-01T18:42:14.856Z"
      },
      {
        "duration": 10,
        "start_time": "2022-06-01T18:42:14.868Z"
      },
      {
        "duration": 5,
        "start_time": "2022-06-01T18:42:14.880Z"
      },
      {
        "duration": 10,
        "start_time": "2022-06-01T18:42:14.887Z"
      },
      {
        "duration": 12,
        "start_time": "2022-06-01T18:42:14.899Z"
      },
      {
        "duration": 37,
        "start_time": "2022-06-01T18:42:14.926Z"
      },
      {
        "duration": 24,
        "start_time": "2022-06-01T18:42:14.965Z"
      },
      {
        "duration": 11,
        "start_time": "2022-06-01T18:42:14.991Z"
      },
      {
        "duration": 6,
        "start_time": "2022-06-01T18:42:15.026Z"
      },
      {
        "duration": 54,
        "start_time": "2022-06-01T18:42:15.037Z"
      },
      {
        "duration": 20,
        "start_time": "2022-06-01T18:42:15.093Z"
      },
      {
        "duration": 39,
        "start_time": "2022-06-01T18:42:15.115Z"
      },
      {
        "duration": 9,
        "start_time": "2022-06-01T18:42:15.158Z"
      },
      {
        "duration": 15,
        "start_time": "2022-06-01T18:42:31.343Z"
      },
      {
        "duration": 29,
        "start_time": "2022-06-01T18:44:39.785Z"
      },
      {
        "duration": 15,
        "start_time": "2022-06-01T18:44:55.732Z"
      },
      {
        "duration": 11,
        "start_time": "2022-06-01T18:45:36.302Z"
      },
      {
        "duration": 8,
        "start_time": "2022-06-01T18:46:15.259Z"
      },
      {
        "duration": 5,
        "start_time": "2022-06-01T18:46:24.372Z"
      },
      {
        "duration": 14,
        "start_time": "2022-06-01T18:46:26.575Z"
      },
      {
        "duration": 8,
        "start_time": "2022-06-01T18:47:36.217Z"
      },
      {
        "duration": 9,
        "start_time": "2022-06-01T18:47:56.695Z"
      },
      {
        "duration": 9,
        "start_time": "2022-06-01T18:48:07.979Z"
      },
      {
        "duration": 5,
        "start_time": "2022-06-01T18:49:30.610Z"
      },
      {
        "duration": 14,
        "start_time": "2022-06-01T18:49:32.608Z"
      },
      {
        "duration": 17,
        "start_time": "2022-06-01T18:50:09.732Z"
      },
      {
        "duration": 15,
        "start_time": "2022-06-01T18:50:12.143Z"
      },
      {
        "duration": 6,
        "start_time": "2022-06-01T18:50:49.533Z"
      },
      {
        "duration": 16,
        "start_time": "2022-06-01T18:50:52.385Z"
      },
      {
        "duration": 4,
        "start_time": "2022-06-01T18:54:08.381Z"
      },
      {
        "duration": 15,
        "start_time": "2022-06-01T18:54:09.984Z"
      },
      {
        "duration": 4,
        "start_time": "2022-06-01T18:57:38.180Z"
      },
      {
        "duration": 14,
        "start_time": "2022-06-01T18:57:42.966Z"
      },
      {
        "duration": 5,
        "start_time": "2022-06-01T19:00:26.283Z"
      },
      {
        "duration": 14,
        "start_time": "2022-06-01T19:00:27.587Z"
      },
      {
        "duration": 69,
        "start_time": "2022-06-01T19:00:50.928Z"
      },
      {
        "duration": 19,
        "start_time": "2022-06-01T19:01:01.518Z"
      },
      {
        "duration": 1071,
        "start_time": "2022-06-02T12:38:27.069Z"
      },
      {
        "duration": 239,
        "start_time": "2022-06-02T12:38:28.143Z"
      },
      {
        "duration": 30,
        "start_time": "2022-06-02T12:38:28.384Z"
      },
      {
        "duration": 36,
        "start_time": "2022-06-02T12:38:28.417Z"
      },
      {
        "duration": 41,
        "start_time": "2022-06-02T12:38:28.456Z"
      },
      {
        "duration": 30,
        "start_time": "2022-06-02T12:38:28.499Z"
      },
      {
        "duration": 43,
        "start_time": "2022-06-02T12:38:28.535Z"
      },
      {
        "duration": 7,
        "start_time": "2022-06-02T12:38:28.580Z"
      },
      {
        "duration": 9,
        "start_time": "2022-06-02T12:38:28.590Z"
      },
      {
        "duration": 34,
        "start_time": "2022-06-02T12:38:28.601Z"
      },
      {
        "duration": 5,
        "start_time": "2022-06-02T12:38:28.637Z"
      },
      {
        "duration": 34,
        "start_time": "2022-06-02T12:38:28.644Z"
      },
      {
        "duration": 9,
        "start_time": "2022-06-02T12:38:28.680Z"
      },
      {
        "duration": 14,
        "start_time": "2022-06-02T12:38:28.692Z"
      },
      {
        "duration": 9,
        "start_time": "2022-06-02T12:38:28.707Z"
      },
      {
        "duration": 58,
        "start_time": "2022-06-02T12:38:28.717Z"
      },
      {
        "duration": 21,
        "start_time": "2022-06-02T12:38:28.777Z"
      },
      {
        "duration": 12,
        "start_time": "2022-06-02T12:38:28.800Z"
      },
      {
        "duration": 55,
        "start_time": "2022-06-02T12:38:28.814Z"
      },
      {
        "duration": 22,
        "start_time": "2022-06-02T12:38:28.871Z"
      },
      {
        "duration": 32,
        "start_time": "2022-06-02T12:38:28.895Z"
      },
      {
        "duration": 90,
        "start_time": "2022-06-02T12:38:28.929Z"
      },
      {
        "duration": 35,
        "start_time": "2022-06-02T12:38:29.021Z"
      },
      {
        "duration": 34,
        "start_time": "2022-06-02T12:38:29.058Z"
      },
      {
        "duration": 6,
        "start_time": "2022-06-02T12:38:29.094Z"
      },
      {
        "duration": 51,
        "start_time": "2022-06-02T12:38:29.102Z"
      },
      {
        "duration": 40,
        "start_time": "2022-06-02T12:38:29.155Z"
      },
      {
        "duration": 50,
        "start_time": "2022-06-02T12:38:29.197Z"
      },
      {
        "duration": 28,
        "start_time": "2022-06-02T12:38:29.249Z"
      },
      {
        "duration": 14,
        "start_time": "2022-06-02T12:38:29.280Z"
      },
      {
        "duration": 10,
        "start_time": "2022-06-02T12:38:29.297Z"
      },
      {
        "duration": 24,
        "start_time": "2022-06-02T12:38:29.310Z"
      },
      {
        "duration": 155,
        "start_time": "2022-06-02T12:38:29.335Z"
      },
      {
        "duration": 20,
        "start_time": "2022-06-02T12:38:29.492Z"
      },
      {
        "duration": 8,
        "start_time": "2022-06-02T12:38:29.513Z"
      },
      {
        "duration": 41,
        "start_time": "2022-06-02T12:38:29.524Z"
      },
      {
        "duration": 7,
        "start_time": "2022-06-02T12:38:29.567Z"
      },
      {
        "duration": 9,
        "start_time": "2022-06-02T12:38:29.576Z"
      },
      {
        "duration": 8,
        "start_time": "2022-06-02T12:38:29.587Z"
      },
      {
        "duration": 8,
        "start_time": "2022-06-02T12:38:29.597Z"
      },
      {
        "duration": 4,
        "start_time": "2022-06-02T12:38:29.609Z"
      },
      {
        "duration": 7,
        "start_time": "2022-06-02T12:38:29.615Z"
      },
      {
        "duration": 39,
        "start_time": "2022-06-02T12:38:29.623Z"
      },
      {
        "duration": 7,
        "start_time": "2022-06-02T12:53:56.425Z"
      },
      {
        "duration": 6,
        "start_time": "2022-06-02T12:54:10.561Z"
      },
      {
        "duration": 7,
        "start_time": "2022-06-02T12:54:47.670Z"
      },
      {
        "duration": 3,
        "start_time": "2022-06-02T12:54:55.689Z"
      },
      {
        "duration": 7,
        "start_time": "2022-06-02T12:55:08.272Z"
      },
      {
        "duration": 7,
        "start_time": "2022-06-02T12:55:11.873Z"
      },
      {
        "duration": 5,
        "start_time": "2022-06-02T12:55:42.049Z"
      },
      {
        "duration": 106,
        "start_time": "2022-06-02T12:55:50.059Z"
      },
      {
        "duration": 15,
        "start_time": "2022-06-02T12:55:53.962Z"
      },
      {
        "duration": 6,
        "start_time": "2022-06-02T12:55:56.182Z"
      },
      {
        "duration": 9,
        "start_time": "2022-06-02T13:02:30.022Z"
      },
      {
        "duration": 37,
        "start_time": "2022-06-02T13:02:51.457Z"
      },
      {
        "duration": 26,
        "start_time": "2022-06-02T13:02:55.767Z"
      },
      {
        "duration": 11,
        "start_time": "2022-06-02T13:03:00.468Z"
      },
      {
        "duration": 116,
        "start_time": "2022-06-02T13:03:46.043Z"
      },
      {
        "duration": 308,
        "start_time": "2022-06-02T13:14:07.754Z"
      },
      {
        "duration": 27,
        "start_time": "2022-06-02T13:14:41.451Z"
      },
      {
        "duration": 4,
        "start_time": "2022-06-02T13:14:59.064Z"
      },
      {
        "duration": 165,
        "start_time": "2022-06-02T13:14:59.071Z"
      },
      {
        "duration": 28,
        "start_time": "2022-06-02T13:14:59.241Z"
      },
      {
        "duration": 21,
        "start_time": "2022-06-02T13:14:59.271Z"
      },
      {
        "duration": 19,
        "start_time": "2022-06-02T13:14:59.295Z"
      },
      {
        "duration": 30,
        "start_time": "2022-06-02T13:14:59.316Z"
      },
      {
        "duration": 29,
        "start_time": "2022-06-02T13:14:59.348Z"
      },
      {
        "duration": 31,
        "start_time": "2022-06-02T13:14:59.380Z"
      },
      {
        "duration": 45,
        "start_time": "2022-06-02T13:14:59.413Z"
      },
      {
        "duration": 48,
        "start_time": "2022-06-02T13:14:59.460Z"
      },
      {
        "duration": 5,
        "start_time": "2022-06-02T13:14:59.510Z"
      },
      {
        "duration": 38,
        "start_time": "2022-06-02T13:14:59.517Z"
      },
      {
        "duration": 28,
        "start_time": "2022-06-02T13:14:59.557Z"
      },
      {
        "duration": 19,
        "start_time": "2022-06-02T13:14:59.589Z"
      },
      {
        "duration": 40,
        "start_time": "2022-06-02T13:14:59.610Z"
      },
      {
        "duration": 20,
        "start_time": "2022-06-02T13:14:59.652Z"
      },
      {
        "duration": 11,
        "start_time": "2022-06-02T13:14:59.674Z"
      },
      {
        "duration": 14,
        "start_time": "2022-06-02T13:14:59.688Z"
      },
      {
        "duration": 21,
        "start_time": "2022-06-02T13:14:59.704Z"
      },
      {
        "duration": 32,
        "start_time": "2022-06-02T13:14:59.728Z"
      },
      {
        "duration": 24,
        "start_time": "2022-06-02T13:14:59.764Z"
      },
      {
        "duration": 57,
        "start_time": "2022-06-02T13:14:59.790Z"
      },
      {
        "duration": 35,
        "start_time": "2022-06-02T13:14:59.849Z"
      },
      {
        "duration": 39,
        "start_time": "2022-06-02T13:14:59.886Z"
      },
      {
        "duration": 36,
        "start_time": "2022-06-02T13:14:59.929Z"
      },
      {
        "duration": 54,
        "start_time": "2022-06-02T13:14:59.967Z"
      },
      {
        "duration": 32,
        "start_time": "2022-06-02T13:15:00.023Z"
      },
      {
        "duration": 57,
        "start_time": "2022-06-02T13:15:00.057Z"
      },
      {
        "duration": 38,
        "start_time": "2022-06-02T13:15:00.116Z"
      },
      {
        "duration": 49,
        "start_time": "2022-06-02T13:15:00.156Z"
      },
      {
        "duration": 64,
        "start_time": "2022-06-02T13:15:00.208Z"
      },
      {
        "duration": 46,
        "start_time": "2022-06-02T13:15:00.274Z"
      },
      {
        "duration": 130,
        "start_time": "2022-06-02T13:15:00.322Z"
      },
      {
        "duration": 19,
        "start_time": "2022-06-02T13:15:00.454Z"
      },
      {
        "duration": 65,
        "start_time": "2022-06-02T13:15:00.475Z"
      },
      {
        "duration": 381,
        "start_time": "2022-06-02T13:15:00.542Z"
      },
      {
        "duration": 0,
        "start_time": "2022-06-02T13:15:00.928Z"
      },
      {
        "duration": 0,
        "start_time": "2022-06-02T13:15:00.932Z"
      },
      {
        "duration": 0,
        "start_time": "2022-06-02T13:15:00.934Z"
      },
      {
        "duration": 0,
        "start_time": "2022-06-02T13:15:00.935Z"
      },
      {
        "duration": 0,
        "start_time": "2022-06-02T13:15:00.937Z"
      },
      {
        "duration": 0,
        "start_time": "2022-06-02T13:15:00.940Z"
      },
      {
        "duration": 0,
        "start_time": "2022-06-02T13:15:00.946Z"
      },
      {
        "duration": 0,
        "start_time": "2022-06-02T13:15:00.949Z"
      },
      {
        "duration": 55,
        "start_time": "2022-06-02T13:16:00.863Z"
      },
      {
        "duration": 65,
        "start_time": "2022-06-02T13:17:23.077Z"
      },
      {
        "duration": 47,
        "start_time": "2022-06-02T13:17:46.791Z"
      },
      {
        "duration": 28,
        "start_time": "2022-06-02T13:18:04.985Z"
      },
      {
        "duration": 20,
        "start_time": "2022-06-02T13:21:54.467Z"
      },
      {
        "duration": 42,
        "start_time": "2022-06-02T13:22:58.725Z"
      },
      {
        "duration": 33,
        "start_time": "2022-06-02T13:24:04.397Z"
      },
      {
        "duration": 23,
        "start_time": "2022-06-02T13:25:20.158Z"
      },
      {
        "duration": 22,
        "start_time": "2022-06-02T13:25:29.287Z"
      },
      {
        "duration": 17,
        "start_time": "2022-06-02T13:29:39.354Z"
      },
      {
        "duration": 552,
        "start_time": "2022-06-02T13:30:33.579Z"
      },
      {
        "duration": 183,
        "start_time": "2022-06-02T13:30:45.267Z"
      },
      {
        "duration": 175,
        "start_time": "2022-06-02T13:30:59.797Z"
      },
      {
        "duration": 190,
        "start_time": "2022-06-02T13:31:21.799Z"
      },
      {
        "duration": 184,
        "start_time": "2022-06-02T13:38:54.210Z"
      },
      {
        "duration": 7,
        "start_time": "2022-06-02T13:39:43.685Z"
      },
      {
        "duration": 174,
        "start_time": "2022-06-02T13:40:23.515Z"
      },
      {
        "duration": 24,
        "start_time": "2022-06-02T13:40:51.146Z"
      },
      {
        "duration": 179,
        "start_time": "2022-06-02T13:40:59.408Z"
      },
      {
        "duration": 33,
        "start_time": "2022-06-02T13:42:35.290Z"
      },
      {
        "duration": 33,
        "start_time": "2022-06-02T13:42:37.678Z"
      },
      {
        "duration": 33,
        "start_time": "2022-06-02T13:42:43.001Z"
      },
      {
        "duration": 42,
        "start_time": "2022-06-02T13:42:56.289Z"
      },
      {
        "duration": 348,
        "start_time": "2022-06-02T13:43:04.574Z"
      },
      {
        "duration": 4,
        "start_time": "2022-06-02T14:27:09.577Z"
      },
      {
        "duration": 111,
        "start_time": "2022-06-02T14:27:09.583Z"
      },
      {
        "duration": 32,
        "start_time": "2022-06-02T14:27:09.697Z"
      },
      {
        "duration": 21,
        "start_time": "2022-06-02T14:27:09.731Z"
      },
      {
        "duration": 23,
        "start_time": "2022-06-02T14:27:09.754Z"
      },
      {
        "duration": 10,
        "start_time": "2022-06-02T14:27:09.779Z"
      },
      {
        "duration": 14,
        "start_time": "2022-06-02T14:27:09.791Z"
      },
      {
        "duration": 23,
        "start_time": "2022-06-02T14:27:09.807Z"
      },
      {
        "duration": 11,
        "start_time": "2022-06-02T14:27:09.832Z"
      },
      {
        "duration": 25,
        "start_time": "2022-06-02T14:27:09.844Z"
      },
      {
        "duration": 7,
        "start_time": "2022-06-02T14:27:09.871Z"
      },
      {
        "duration": 7,
        "start_time": "2022-06-02T14:27:09.880Z"
      },
      {
        "duration": 38,
        "start_time": "2022-06-02T14:27:09.890Z"
      },
      {
        "duration": 12,
        "start_time": "2022-06-02T14:27:09.930Z"
      },
      {
        "duration": 9,
        "start_time": "2022-06-02T14:27:09.943Z"
      },
      {
        "duration": 11,
        "start_time": "2022-06-02T14:27:09.954Z"
      },
      {
        "duration": 7,
        "start_time": "2022-06-02T14:27:09.967Z"
      },
      {
        "duration": 16,
        "start_time": "2022-06-02T14:27:09.976Z"
      },
      {
        "duration": 34,
        "start_time": "2022-06-02T14:27:09.994Z"
      },
      {
        "duration": 27,
        "start_time": "2022-06-02T14:27:10.030Z"
      },
      {
        "duration": 23,
        "start_time": "2022-06-02T14:27:10.059Z"
      },
      {
        "duration": 31,
        "start_time": "2022-06-02T14:27:10.084Z"
      },
      {
        "duration": 18,
        "start_time": "2022-06-02T14:27:10.118Z"
      },
      {
        "duration": 10,
        "start_time": "2022-06-02T14:27:10.138Z"
      },
      {
        "duration": 6,
        "start_time": "2022-06-02T14:27:10.150Z"
      },
      {
        "duration": 48,
        "start_time": "2022-06-02T14:27:10.158Z"
      },
      {
        "duration": 64,
        "start_time": "2022-06-02T14:27:10.209Z"
      },
      {
        "duration": 77,
        "start_time": "2022-06-02T14:27:10.275Z"
      },
      {
        "duration": 11,
        "start_time": "2022-06-02T14:27:10.354Z"
      },
      {
        "duration": 25,
        "start_time": "2022-06-02T14:27:10.367Z"
      },
      {
        "duration": 13,
        "start_time": "2022-06-02T14:27:10.394Z"
      },
      {
        "duration": 28,
        "start_time": "2022-06-02T14:27:10.408Z"
      },
      {
        "duration": 92,
        "start_time": "2022-06-02T14:27:10.438Z"
      },
      {
        "duration": 19,
        "start_time": "2022-06-02T14:27:10.532Z"
      },
      {
        "duration": 200,
        "start_time": "2022-06-02T14:27:10.554Z"
      },
      {
        "duration": 3,
        "start_time": "2022-06-02T14:35:35.178Z"
      },
      {
        "duration": 181,
        "start_time": "2022-06-02T14:35:35.185Z"
      },
      {
        "duration": 31,
        "start_time": "2022-06-02T14:35:35.368Z"
      },
      {
        "duration": 54,
        "start_time": "2022-06-02T14:35:35.402Z"
      },
      {
        "duration": 14,
        "start_time": "2022-06-02T14:35:35.459Z"
      },
      {
        "duration": 18,
        "start_time": "2022-06-02T14:35:35.475Z"
      },
      {
        "duration": 11,
        "start_time": "2022-06-02T14:35:35.495Z"
      },
      {
        "duration": 26,
        "start_time": "2022-06-02T14:35:35.509Z"
      },
      {
        "duration": 28,
        "start_time": "2022-06-02T14:35:35.537Z"
      },
      {
        "duration": 36,
        "start_time": "2022-06-02T14:35:35.567Z"
      },
      {
        "duration": 7,
        "start_time": "2022-06-02T14:35:35.607Z"
      },
      {
        "duration": 8,
        "start_time": "2022-06-02T14:35:35.625Z"
      },
      {
        "duration": 29,
        "start_time": "2022-06-02T14:35:35.634Z"
      },
      {
        "duration": 9,
        "start_time": "2022-06-02T14:35:35.665Z"
      },
      {
        "duration": 19,
        "start_time": "2022-06-02T14:35:35.676Z"
      },
      {
        "duration": 12,
        "start_time": "2022-06-02T14:35:35.698Z"
      },
      {
        "duration": 23,
        "start_time": "2022-06-02T14:35:35.712Z"
      },
      {
        "duration": 32,
        "start_time": "2022-06-02T14:35:35.737Z"
      },
      {
        "duration": 10,
        "start_time": "2022-06-02T14:35:35.772Z"
      },
      {
        "duration": 19,
        "start_time": "2022-06-02T14:35:35.786Z"
      },
      {
        "duration": 36,
        "start_time": "2022-06-02T14:35:35.808Z"
      },
      {
        "duration": 69,
        "start_time": "2022-06-02T14:35:35.846Z"
      },
      {
        "duration": 23,
        "start_time": "2022-06-02T14:35:35.917Z"
      },
      {
        "duration": 29,
        "start_time": "2022-06-02T14:35:35.943Z"
      },
      {
        "duration": 11,
        "start_time": "2022-06-02T14:35:35.975Z"
      },
      {
        "duration": 68,
        "start_time": "2022-06-02T14:35:35.988Z"
      },
      {
        "duration": 70,
        "start_time": "2022-06-02T14:35:36.058Z"
      },
      {
        "duration": 54,
        "start_time": "2022-06-02T14:35:36.132Z"
      },
      {
        "duration": 39,
        "start_time": "2022-06-02T14:35:36.191Z"
      },
      {
        "duration": 26,
        "start_time": "2022-06-02T14:35:36.233Z"
      },
      {
        "duration": 20,
        "start_time": "2022-06-02T14:35:36.261Z"
      },
      {
        "duration": 30,
        "start_time": "2022-06-02T14:35:36.284Z"
      },
      {
        "duration": 117,
        "start_time": "2022-06-02T14:35:36.317Z"
      },
      {
        "duration": 28,
        "start_time": "2022-06-02T14:35:36.437Z"
      },
      {
        "duration": 247,
        "start_time": "2022-06-02T14:35:36.467Z"
      },
      {
        "duration": 26,
        "start_time": "2022-06-02T14:35:36.716Z"
      },
      {
        "duration": 11,
        "start_time": "2022-06-02T14:35:36.746Z"
      },
      {
        "duration": 11,
        "start_time": "2022-06-02T14:35:36.759Z"
      },
      {
        "duration": 11,
        "start_time": "2022-06-02T14:35:36.772Z"
      },
      {
        "duration": 11,
        "start_time": "2022-06-02T14:35:36.785Z"
      },
      {
        "duration": 10,
        "start_time": "2022-06-02T14:35:36.798Z"
      },
      {
        "duration": 8,
        "start_time": "2022-06-02T14:35:36.810Z"
      },
      {
        "duration": 8,
        "start_time": "2022-06-02T14:35:36.820Z"
      },
      {
        "duration": 213,
        "start_time": "2022-06-02T14:35:56.549Z"
      },
      {
        "duration": 240,
        "start_time": "2022-06-02T14:36:05.916Z"
      },
      {
        "duration": 119,
        "start_time": "2022-06-02T14:36:50.750Z"
      },
      {
        "duration": 308,
        "start_time": "2022-06-02T14:37:04.799Z"
      },
      {
        "duration": 34,
        "start_time": "2022-06-02T14:37:19.175Z"
      },
      {
        "duration": 340,
        "start_time": "2022-06-02T14:37:22.167Z"
      },
      {
        "duration": 271,
        "start_time": "2022-06-02T14:37:34.625Z"
      },
      {
        "duration": 216,
        "start_time": "2022-06-02T14:37:42.481Z"
      },
      {
        "duration": 198,
        "start_time": "2022-06-02T14:37:52.180Z"
      },
      {
        "duration": 181,
        "start_time": "2022-06-02T14:37:58.212Z"
      },
      {
        "duration": 196,
        "start_time": "2022-06-02T14:38:02.283Z"
      },
      {
        "duration": 170,
        "start_time": "2022-06-02T14:38:05.394Z"
      },
      {
        "duration": 169,
        "start_time": "2022-06-02T14:38:08.645Z"
      },
      {
        "duration": 184,
        "start_time": "2022-06-02T14:38:12.207Z"
      },
      {
        "duration": 177,
        "start_time": "2022-06-02T14:39:35.041Z"
      },
      {
        "duration": 3,
        "start_time": "2022-06-02T14:40:31.170Z"
      },
      {
        "duration": 843,
        "start_time": "2022-06-02T14:45:09.730Z"
      },
      {
        "duration": 151,
        "start_time": "2022-06-02T14:45:10.575Z"
      },
      {
        "duration": 22,
        "start_time": "2022-06-02T14:45:10.728Z"
      },
      {
        "duration": 21,
        "start_time": "2022-06-02T14:45:10.752Z"
      },
      {
        "duration": 6,
        "start_time": "2022-06-02T14:45:10.774Z"
      },
      {
        "duration": 15,
        "start_time": "2022-06-02T14:45:10.782Z"
      },
      {
        "duration": 8,
        "start_time": "2022-06-02T14:45:10.798Z"
      },
      {
        "duration": 12,
        "start_time": "2022-06-02T14:45:10.807Z"
      },
      {
        "duration": 33,
        "start_time": "2022-06-02T14:45:10.821Z"
      },
      {
        "duration": 21,
        "start_time": "2022-06-02T14:45:10.856Z"
      },
      {
        "duration": 9,
        "start_time": "2022-06-02T14:45:10.879Z"
      },
      {
        "duration": 12,
        "start_time": "2022-06-02T14:45:10.890Z"
      },
      {
        "duration": 16,
        "start_time": "2022-06-02T14:45:10.903Z"
      },
      {
        "duration": 12,
        "start_time": "2022-06-02T14:45:10.920Z"
      },
      {
        "duration": 9,
        "start_time": "2022-06-02T14:45:10.933Z"
      },
      {
        "duration": 9,
        "start_time": "2022-06-02T14:45:10.944Z"
      },
      {
        "duration": 7,
        "start_time": "2022-06-02T14:45:10.956Z"
      },
      {
        "duration": 13,
        "start_time": "2022-06-02T14:45:10.965Z"
      },
      {
        "duration": 8,
        "start_time": "2022-06-02T14:45:10.980Z"
      },
      {
        "duration": 14,
        "start_time": "2022-06-02T14:45:10.990Z"
      },
      {
        "duration": 14,
        "start_time": "2022-06-02T14:45:11.006Z"
      },
      {
        "duration": 45,
        "start_time": "2022-06-02T14:45:11.021Z"
      },
      {
        "duration": 16,
        "start_time": "2022-06-02T14:45:11.067Z"
      },
      {
        "duration": 7,
        "start_time": "2022-06-02T14:45:11.085Z"
      },
      {
        "duration": 5,
        "start_time": "2022-06-02T14:45:11.094Z"
      },
      {
        "duration": 52,
        "start_time": "2022-06-02T14:45:11.100Z"
      },
      {
        "duration": 19,
        "start_time": "2022-06-02T14:45:11.154Z"
      },
      {
        "duration": 31,
        "start_time": "2022-06-02T14:45:11.177Z"
      },
      {
        "duration": 10,
        "start_time": "2022-06-02T14:45:11.210Z"
      },
      {
        "duration": 43,
        "start_time": "2022-06-02T14:45:11.222Z"
      },
      {
        "duration": 16,
        "start_time": "2022-06-02T14:45:11.266Z"
      },
      {
        "duration": 17,
        "start_time": "2022-06-02T14:45:11.284Z"
      },
      {
        "duration": 75,
        "start_time": "2022-06-02T14:45:11.302Z"
      },
      {
        "duration": 18,
        "start_time": "2022-06-02T14:45:11.379Z"
      },
      {
        "duration": 184,
        "start_time": "2022-06-02T14:45:11.398Z"
      },
      {
        "duration": 90,
        "start_time": "2022-06-02T14:45:11.584Z"
      },
      {
        "duration": 0,
        "start_time": "2022-06-02T14:45:11.676Z"
      },
      {
        "duration": 0,
        "start_time": "2022-06-02T14:45:11.677Z"
      },
      {
        "duration": 0,
        "start_time": "2022-06-02T14:45:11.678Z"
      },
      {
        "duration": 0,
        "start_time": "2022-06-02T14:45:11.679Z"
      },
      {
        "duration": 0,
        "start_time": "2022-06-02T14:45:11.680Z"
      },
      {
        "duration": 0,
        "start_time": "2022-06-02T14:45:11.681Z"
      },
      {
        "duration": 0,
        "start_time": "2022-06-02T14:45:11.682Z"
      },
      {
        "duration": 22,
        "start_time": "2022-06-02T14:46:01.552Z"
      },
      {
        "duration": 9,
        "start_time": "2022-06-02T14:46:46.018Z"
      },
      {
        "duration": 147,
        "start_time": "2022-06-02T14:46:59.007Z"
      },
      {
        "duration": 434,
        "start_time": "2022-06-02T14:56:25.207Z"
      },
      {
        "duration": 243,
        "start_time": "2022-06-02T14:56:38.471Z"
      },
      {
        "duration": 385,
        "start_time": "2022-06-02T14:56:46.873Z"
      },
      {
        "duration": 8,
        "start_time": "2022-06-02T14:57:24.632Z"
      },
      {
        "duration": 8,
        "start_time": "2022-06-02T14:57:34.435Z"
      },
      {
        "duration": 10,
        "start_time": "2022-06-02T14:58:11.420Z"
      },
      {
        "duration": 9,
        "start_time": "2022-06-02T14:58:31.584Z"
      },
      {
        "duration": 8,
        "start_time": "2022-06-02T14:58:40.014Z"
      },
      {
        "duration": 137,
        "start_time": "2022-06-02T14:58:52.964Z"
      },
      {
        "duration": 142,
        "start_time": "2022-06-02T14:59:02.859Z"
      },
      {
        "duration": 25,
        "start_time": "2022-06-02T14:59:14.635Z"
      },
      {
        "duration": 17,
        "start_time": "2022-06-02T14:59:27.505Z"
      },
      {
        "duration": 7,
        "start_time": "2022-06-02T15:56:12.998Z"
      },
      {
        "duration": 5,
        "start_time": "2022-06-02T15:56:48.449Z"
      },
      {
        "duration": 7,
        "start_time": "2022-06-02T15:57:39.358Z"
      },
      {
        "duration": 6,
        "start_time": "2022-06-02T15:57:55.960Z"
      },
      {
        "duration": 5,
        "start_time": "2022-06-02T15:58:14.407Z"
      },
      {
        "duration": 5,
        "start_time": "2022-06-02T15:58:21.471Z"
      },
      {
        "duration": 9,
        "start_time": "2022-06-02T15:58:27.397Z"
      },
      {
        "duration": 9,
        "start_time": "2022-06-02T15:58:31.624Z"
      },
      {
        "duration": 11,
        "start_time": "2022-06-02T15:58:35.330Z"
      },
      {
        "duration": 6,
        "start_time": "2022-06-02T15:58:37.453Z"
      },
      {
        "duration": 44,
        "start_time": "2022-06-02T16:07:14.514Z"
      },
      {
        "duration": 13,
        "start_time": "2022-06-02T16:07:30.042Z"
      },
      {
        "duration": 15,
        "start_time": "2022-06-02T16:07:39.270Z"
      },
      {
        "duration": 19,
        "start_time": "2022-06-02T16:07:49.613Z"
      },
      {
        "duration": 13,
        "start_time": "2022-06-02T16:08:45.990Z"
      },
      {
        "duration": 8,
        "start_time": "2022-06-02T16:09:03.319Z"
      },
      {
        "duration": 10,
        "start_time": "2022-06-02T16:09:14.636Z"
      },
      {
        "duration": 28,
        "start_time": "2022-06-02T16:09:53.322Z"
      },
      {
        "duration": 30,
        "start_time": "2022-06-02T16:10:01.412Z"
      },
      {
        "duration": 9,
        "start_time": "2022-06-02T16:12:06.977Z"
      },
      {
        "duration": 30,
        "start_time": "2022-06-02T16:12:18.865Z"
      },
      {
        "duration": 18,
        "start_time": "2022-06-02T16:12:27.680Z"
      },
      {
        "duration": 30,
        "start_time": "2022-06-02T16:12:57.951Z"
      },
      {
        "duration": 20,
        "start_time": "2022-06-02T16:13:15.861Z"
      },
      {
        "duration": 21,
        "start_time": "2022-06-02T16:14:19.741Z"
      },
      {
        "duration": 947,
        "start_time": "2022-06-07T11:50:51.552Z"
      },
      {
        "duration": 177,
        "start_time": "2022-06-07T11:50:52.502Z"
      },
      {
        "duration": 27,
        "start_time": "2022-06-07T11:50:52.680Z"
      },
      {
        "duration": 28,
        "start_time": "2022-06-07T11:50:52.709Z"
      },
      {
        "duration": 7,
        "start_time": "2022-06-07T11:50:52.738Z"
      },
      {
        "duration": 39,
        "start_time": "2022-06-07T11:50:52.746Z"
      },
      {
        "duration": 14,
        "start_time": "2022-06-07T11:50:52.787Z"
      },
      {
        "duration": 33,
        "start_time": "2022-06-07T11:50:52.802Z"
      },
      {
        "duration": 35,
        "start_time": "2022-06-07T11:50:52.838Z"
      },
      {
        "duration": 43,
        "start_time": "2022-06-07T11:50:52.877Z"
      },
      {
        "duration": 22,
        "start_time": "2022-06-07T11:50:52.922Z"
      },
      {
        "duration": 28,
        "start_time": "2022-06-07T11:50:52.945Z"
      },
      {
        "duration": 24,
        "start_time": "2022-06-07T11:50:52.975Z"
      },
      {
        "duration": 34,
        "start_time": "2022-06-07T11:50:53.001Z"
      },
      {
        "duration": 18,
        "start_time": "2022-06-07T11:50:53.037Z"
      },
      {
        "duration": 27,
        "start_time": "2022-06-07T11:50:53.057Z"
      },
      {
        "duration": 30,
        "start_time": "2022-06-07T11:50:53.085Z"
      },
      {
        "duration": 20,
        "start_time": "2022-06-07T11:50:53.117Z"
      },
      {
        "duration": 23,
        "start_time": "2022-06-07T11:50:53.139Z"
      },
      {
        "duration": 23,
        "start_time": "2022-06-07T11:50:53.164Z"
      },
      {
        "duration": 34,
        "start_time": "2022-06-07T11:50:53.189Z"
      },
      {
        "duration": 37,
        "start_time": "2022-06-07T11:50:53.225Z"
      },
      {
        "duration": 21,
        "start_time": "2022-06-07T11:50:53.264Z"
      },
      {
        "duration": 16,
        "start_time": "2022-06-07T11:50:53.286Z"
      },
      {
        "duration": 19,
        "start_time": "2022-06-07T11:50:53.304Z"
      },
      {
        "duration": 38,
        "start_time": "2022-06-07T11:50:53.325Z"
      },
      {
        "duration": 41,
        "start_time": "2022-06-07T11:50:53.365Z"
      },
      {
        "duration": 54,
        "start_time": "2022-06-07T11:50:53.411Z"
      },
      {
        "duration": 18,
        "start_time": "2022-06-07T11:50:53.467Z"
      },
      {
        "duration": 22,
        "start_time": "2022-06-07T11:50:53.487Z"
      },
      {
        "duration": 30,
        "start_time": "2022-06-07T11:50:53.511Z"
      },
      {
        "duration": 26,
        "start_time": "2022-06-07T11:50:53.543Z"
      },
      {
        "duration": 41,
        "start_time": "2022-06-07T11:50:53.570Z"
      },
      {
        "duration": 68,
        "start_time": "2022-06-07T11:50:53.612Z"
      },
      {
        "duration": 18,
        "start_time": "2022-06-07T11:50:53.682Z"
      },
      {
        "duration": 216,
        "start_time": "2022-06-07T11:50:53.702Z"
      },
      {
        "duration": 28,
        "start_time": "2022-06-07T11:50:53.919Z"
      },
      {
        "duration": 105,
        "start_time": "2022-06-07T11:50:53.948Z"
      },
      {
        "duration": 0,
        "start_time": "2022-06-07T11:50:54.055Z"
      },
      {
        "duration": 0,
        "start_time": "2022-06-07T11:50:54.056Z"
      },
      {
        "duration": 0,
        "start_time": "2022-06-07T11:50:54.058Z"
      },
      {
        "duration": 0,
        "start_time": "2022-06-07T11:50:54.058Z"
      },
      {
        "duration": 0,
        "start_time": "2022-06-07T11:50:54.060Z"
      },
      {
        "duration": 0,
        "start_time": "2022-06-07T11:50:54.061Z"
      },
      {
        "duration": 0,
        "start_time": "2022-06-07T11:50:54.062Z"
      },
      {
        "duration": 20,
        "start_time": "2022-06-07T11:51:38.208Z"
      },
      {
        "duration": 146,
        "start_time": "2022-06-07T11:51:58.348Z"
      },
      {
        "duration": 145,
        "start_time": "2022-06-07T11:52:12.199Z"
      },
      {
        "duration": 147,
        "start_time": "2022-06-07T11:52:19.407Z"
      },
      {
        "duration": 305,
        "start_time": "2022-06-07T11:54:15.437Z"
      },
      {
        "duration": 223,
        "start_time": "2022-06-07T11:55:34.452Z"
      },
      {
        "duration": 21,
        "start_time": "2022-06-07T11:57:09.880Z"
      },
      {
        "duration": 240,
        "start_time": "2022-06-07T11:57:20.742Z"
      },
      {
        "duration": 165,
        "start_time": "2022-06-07T11:58:37.274Z"
      },
      {
        "duration": 218,
        "start_time": "2022-06-07T11:58:41.769Z"
      },
      {
        "duration": 206,
        "start_time": "2022-06-07T11:58:45.892Z"
      },
      {
        "duration": 356,
        "start_time": "2022-06-07T11:58:49.853Z"
      },
      {
        "duration": 252,
        "start_time": "2022-06-07T11:58:53.847Z"
      },
      {
        "duration": 176,
        "start_time": "2022-06-07T11:58:58.076Z"
      },
      {
        "duration": 295,
        "start_time": "2022-06-07T11:59:04.614Z"
      },
      {
        "duration": 209,
        "start_time": "2022-06-07T11:59:11.554Z"
      },
      {
        "duration": 292,
        "start_time": "2022-06-07T11:59:15.897Z"
      },
      {
        "duration": 302,
        "start_time": "2022-06-07T11:59:25.481Z"
      },
      {
        "duration": 203,
        "start_time": "2022-06-07T11:59:36.523Z"
      },
      {
        "duration": 366,
        "start_time": "2022-06-07T11:59:48.815Z"
      },
      {
        "duration": 6,
        "start_time": "2022-06-07T12:00:06.882Z"
      },
      {
        "duration": 6,
        "start_time": "2022-06-07T12:00:11.719Z"
      },
      {
        "duration": 8,
        "start_time": "2022-06-07T12:00:16.151Z"
      },
      {
        "duration": 4,
        "start_time": "2022-06-07T12:00:29.779Z"
      },
      {
        "duration": 8,
        "start_time": "2022-06-07T12:00:31.771Z"
      },
      {
        "duration": 21,
        "start_time": "2022-06-07T12:01:11.993Z"
      },
      {
        "duration": 320,
        "start_time": "2022-06-07T12:01:23.658Z"
      },
      {
        "duration": 485,
        "start_time": "2022-06-07T12:07:33.870Z"
      },
      {
        "duration": 273,
        "start_time": "2022-06-07T12:07:45.380Z"
      },
      {
        "duration": 507,
        "start_time": "2022-06-07T12:08:41.265Z"
      },
      {
        "duration": 37,
        "start_time": "2022-06-07T12:10:10.579Z"
      },
      {
        "duration": 624,
        "start_time": "2022-06-07T12:10:21.862Z"
      },
      {
        "duration": 33,
        "start_time": "2022-06-07T12:10:32.562Z"
      },
      {
        "duration": 599,
        "start_time": "2022-06-07T12:10:44.268Z"
      },
      {
        "duration": 453,
        "start_time": "2022-06-07T12:10:51.567Z"
      },
      {
        "duration": 29,
        "start_time": "2022-06-07T12:10:58.594Z"
      },
      {
        "duration": 491,
        "start_time": "2022-06-07T12:11:05.024Z"
      },
      {
        "duration": 470,
        "start_time": "2022-06-07T12:11:19.508Z"
      },
      {
        "duration": 336,
        "start_time": "2022-06-07T12:13:37.582Z"
      },
      {
        "duration": 18,
        "start_time": "2022-06-07T12:13:50.900Z"
      },
      {
        "duration": 59,
        "start_time": "2022-06-07T12:14:06.110Z"
      },
      {
        "duration": 52,
        "start_time": "2022-06-07T12:14:11.926Z"
      },
      {
        "duration": 258,
        "start_time": "2022-06-07T12:14:26.614Z"
      },
      {
        "duration": 213,
        "start_time": "2022-06-07T12:14:38.061Z"
      },
      {
        "duration": 71,
        "start_time": "2022-06-07T12:19:17.503Z"
      },
      {
        "duration": 33,
        "start_time": "2022-06-07T12:19:28.722Z"
      },
      {
        "duration": 229,
        "start_time": "2022-06-07T12:19:52.441Z"
      },
      {
        "duration": 257,
        "start_time": "2022-06-07T12:20:20.753Z"
      },
      {
        "duration": 197,
        "start_time": "2022-06-07T12:21:02.768Z"
      },
      {
        "duration": 246,
        "start_time": "2022-06-07T12:21:19.341Z"
      },
      {
        "duration": 43,
        "start_time": "2022-06-07T12:21:34.298Z"
      },
      {
        "duration": 327,
        "start_time": "2022-06-07T12:21:46.159Z"
      },
      {
        "duration": 245,
        "start_time": "2022-06-07T12:22:00.396Z"
      },
      {
        "duration": 210,
        "start_time": "2022-06-07T12:22:08.509Z"
      },
      {
        "duration": 198,
        "start_time": "2022-06-07T12:22:23.097Z"
      },
      {
        "duration": 214,
        "start_time": "2022-06-07T12:23:06.650Z"
      },
      {
        "duration": 223,
        "start_time": "2022-06-07T12:23:13.439Z"
      },
      {
        "duration": 239,
        "start_time": "2022-06-07T12:23:17.864Z"
      },
      {
        "duration": 224,
        "start_time": "2022-06-07T12:23:22.556Z"
      },
      {
        "duration": 205,
        "start_time": "2022-06-07T12:23:26.901Z"
      },
      {
        "duration": 215,
        "start_time": "2022-06-07T12:23:32.949Z"
      },
      {
        "duration": 226,
        "start_time": "2022-06-07T12:23:36.376Z"
      },
      {
        "duration": 275,
        "start_time": "2022-06-07T12:24:14.371Z"
      },
      {
        "duration": 212,
        "start_time": "2022-06-07T12:24:26.372Z"
      },
      {
        "duration": 204,
        "start_time": "2022-06-07T12:24:52.205Z"
      },
      {
        "duration": 183,
        "start_time": "2022-06-07T12:25:01.376Z"
      },
      {
        "duration": 185,
        "start_time": "2022-06-07T12:25:08.564Z"
      },
      {
        "duration": 35,
        "start_time": "2022-06-07T12:26:04.961Z"
      },
      {
        "duration": 199,
        "start_time": "2022-06-07T12:26:11.258Z"
      },
      {
        "duration": 34,
        "start_time": "2022-06-07T12:28:55.837Z"
      },
      {
        "duration": 187,
        "start_time": "2022-06-07T12:28:59.310Z"
      },
      {
        "duration": 202,
        "start_time": "2022-06-07T12:31:36.961Z"
      },
      {
        "duration": 849,
        "start_time": "2022-06-07T12:31:41.361Z"
      },
      {
        "duration": 178,
        "start_time": "2022-06-07T12:31:54.896Z"
      },
      {
        "duration": 611,
        "start_time": "2022-06-07T12:31:58.504Z"
      },
      {
        "duration": 291,
        "start_time": "2022-06-07T12:32:53.160Z"
      },
      {
        "duration": 214,
        "start_time": "2022-06-07T12:33:17.462Z"
      },
      {
        "duration": 209,
        "start_time": "2022-06-07T12:33:26.116Z"
      },
      {
        "duration": 310,
        "start_time": "2022-06-07T12:33:30.366Z"
      },
      {
        "duration": 204,
        "start_time": "2022-06-07T12:33:42.475Z"
      },
      {
        "duration": 221,
        "start_time": "2022-06-07T12:33:50.024Z"
      },
      {
        "duration": 220,
        "start_time": "2022-06-07T12:34:00.880Z"
      },
      {
        "duration": 3,
        "start_time": "2022-06-07T15:08:27.468Z"
      },
      {
        "duration": 139,
        "start_time": "2022-06-07T15:08:27.473Z"
      },
      {
        "duration": 48,
        "start_time": "2022-06-07T15:08:27.614Z"
      },
      {
        "duration": 21,
        "start_time": "2022-06-07T15:08:27.664Z"
      },
      {
        "duration": 11,
        "start_time": "2022-06-07T15:08:27.687Z"
      },
      {
        "duration": 11,
        "start_time": "2022-06-07T15:08:27.699Z"
      },
      {
        "duration": 45,
        "start_time": "2022-06-07T15:08:27.711Z"
      },
      {
        "duration": 18,
        "start_time": "2022-06-07T15:08:27.758Z"
      },
      {
        "duration": 12,
        "start_time": "2022-06-07T15:08:27.778Z"
      },
      {
        "duration": 29,
        "start_time": "2022-06-07T15:08:27.792Z"
      },
      {
        "duration": 12,
        "start_time": "2022-06-07T15:08:27.825Z"
      },
      {
        "duration": 26,
        "start_time": "2022-06-07T15:08:27.841Z"
      },
      {
        "duration": 13,
        "start_time": "2022-06-07T15:08:27.869Z"
      },
      {
        "duration": 25,
        "start_time": "2022-06-07T15:08:27.884Z"
      },
      {
        "duration": 23,
        "start_time": "2022-06-07T15:08:27.911Z"
      },
      {
        "duration": 29,
        "start_time": "2022-06-07T15:08:27.938Z"
      },
      {
        "duration": 9,
        "start_time": "2022-06-07T15:08:27.969Z"
      },
      {
        "duration": 17,
        "start_time": "2022-06-07T15:08:27.979Z"
      },
      {
        "duration": 15,
        "start_time": "2022-06-07T15:08:27.997Z"
      },
      {
        "duration": 51,
        "start_time": "2022-06-07T15:08:28.014Z"
      },
      {
        "duration": 20,
        "start_time": "2022-06-07T15:08:28.067Z"
      },
      {
        "duration": 42,
        "start_time": "2022-06-07T15:08:28.089Z"
      },
      {
        "duration": 27,
        "start_time": "2022-06-07T15:08:28.133Z"
      },
      {
        "duration": 15,
        "start_time": "2022-06-07T15:08:28.162Z"
      },
      {
        "duration": 7,
        "start_time": "2022-06-07T15:08:28.179Z"
      },
      {
        "duration": 44,
        "start_time": "2022-06-07T15:08:28.188Z"
      },
      {
        "duration": 39,
        "start_time": "2022-06-07T15:08:28.234Z"
      },
      {
        "duration": 37,
        "start_time": "2022-06-07T15:08:28.275Z"
      },
      {
        "duration": 23,
        "start_time": "2022-06-07T15:08:28.315Z"
      },
      {
        "duration": 19,
        "start_time": "2022-06-07T15:08:28.339Z"
      },
      {
        "duration": 4,
        "start_time": "2022-06-07T15:08:28.360Z"
      },
      {
        "duration": 26,
        "start_time": "2022-06-07T15:08:28.366Z"
      },
      {
        "duration": 42,
        "start_time": "2022-06-07T15:08:28.393Z"
      },
      {
        "duration": 84,
        "start_time": "2022-06-07T15:08:28.436Z"
      },
      {
        "duration": 38,
        "start_time": "2022-06-07T15:08:28.521Z"
      },
      {
        "duration": 181,
        "start_time": "2022-06-07T15:08:28.563Z"
      },
      {
        "duration": 210,
        "start_time": "2022-06-07T15:08:28.746Z"
      },
      {
        "duration": 4,
        "start_time": "2022-06-07T15:08:28.960Z"
      },
      {
        "duration": 6,
        "start_time": "2022-06-07T15:08:28.966Z"
      },
      {
        "duration": 6,
        "start_time": "2022-06-07T15:08:28.973Z"
      },
      {
        "duration": 25,
        "start_time": "2022-06-07T15:08:28.980Z"
      },
      {
        "duration": 49,
        "start_time": "2022-06-07T15:08:29.007Z"
      },
      {
        "duration": 8,
        "start_time": "2022-06-07T15:08:29.057Z"
      },
      {
        "duration": 6,
        "start_time": "2022-06-07T15:08:29.066Z"
      },
      {
        "duration": 214,
        "start_time": "2022-06-07T15:12:33.166Z"
      },
      {
        "duration": 242,
        "start_time": "2022-06-07T15:12:47.566Z"
      },
      {
        "duration": 236,
        "start_time": "2022-06-07T15:13:06.263Z"
      },
      {
        "duration": 219,
        "start_time": "2022-06-07T15:13:11.679Z"
      },
      {
        "duration": 242,
        "start_time": "2022-06-07T15:13:21.213Z"
      },
      {
        "duration": 168,
        "start_time": "2022-06-07T15:24:12.615Z"
      },
      {
        "duration": 31,
        "start_time": "2022-06-07T15:24:21.446Z"
      },
      {
        "duration": 185,
        "start_time": "2022-06-07T15:24:25.506Z"
      },
      {
        "duration": 175,
        "start_time": "2022-06-07T15:24:29.791Z"
      },
      {
        "duration": 32,
        "start_time": "2022-06-07T15:24:32.198Z"
      },
      {
        "duration": 164,
        "start_time": "2022-06-07T15:24:35.083Z"
      },
      {
        "duration": 41,
        "start_time": "2022-06-07T15:25:02.582Z"
      },
      {
        "duration": 17,
        "start_time": "2022-06-07T15:25:06.116Z"
      },
      {
        "duration": 34,
        "start_time": "2022-06-07T15:25:08.586Z"
      },
      {
        "duration": 35,
        "start_time": "2022-06-07T15:25:35.091Z"
      },
      {
        "duration": 35,
        "start_time": "2022-06-07T15:25:38.026Z"
      },
      {
        "duration": 21,
        "start_time": "2022-06-07T15:25:52.147Z"
      },
      {
        "duration": 247,
        "start_time": "2022-06-07T15:25:55.039Z"
      },
      {
        "duration": 221,
        "start_time": "2022-06-07T15:26:06.533Z"
      },
      {
        "duration": 1343,
        "start_time": "2022-06-07T15:26:59.990Z"
      },
      {
        "duration": 285,
        "start_time": "2022-06-07T15:28:34.447Z"
      },
      {
        "duration": 150,
        "start_time": "2022-06-07T15:28:48.962Z"
      },
      {
        "duration": 408,
        "start_time": "2022-06-07T15:28:57.255Z"
      },
      {
        "duration": 260,
        "start_time": "2022-06-07T15:29:06.543Z"
      },
      {
        "duration": 239,
        "start_time": "2022-06-07T15:29:11.565Z"
      },
      {
        "duration": 254,
        "start_time": "2022-06-07T15:29:14.577Z"
      },
      {
        "duration": 224,
        "start_time": "2022-06-07T15:29:22.209Z"
      },
      {
        "duration": 236,
        "start_time": "2022-06-07T15:29:25.290Z"
      },
      {
        "duration": 219,
        "start_time": "2022-06-07T15:29:27.775Z"
      },
      {
        "duration": 286,
        "start_time": "2022-06-07T15:30:39.682Z"
      },
      {
        "duration": 248,
        "start_time": "2022-06-07T15:30:50.313Z"
      },
      {
        "duration": 289,
        "start_time": "2022-06-07T15:30:54.425Z"
      },
      {
        "duration": 280,
        "start_time": "2022-06-07T15:31:00.221Z"
      },
      {
        "duration": 303,
        "start_time": "2022-06-07T15:31:13.702Z"
      },
      {
        "duration": 273,
        "start_time": "2022-06-07T15:31:21.579Z"
      },
      {
        "duration": 252,
        "start_time": "2022-06-07T15:31:25.762Z"
      },
      {
        "duration": 274,
        "start_time": "2022-06-07T15:31:29.325Z"
      },
      {
        "duration": 249,
        "start_time": "2022-06-07T15:31:35.640Z"
      },
      {
        "duration": 247,
        "start_time": "2022-06-07T15:31:40.160Z"
      },
      {
        "duration": 167,
        "start_time": "2022-06-07T15:32:46.722Z"
      },
      {
        "duration": 275,
        "start_time": "2022-06-07T15:33:04.647Z"
      },
      {
        "duration": 317,
        "start_time": "2022-06-07T15:33:12.789Z"
      },
      {
        "duration": 245,
        "start_time": "2022-06-07T15:33:23.393Z"
      },
      {
        "duration": 3273,
        "start_time": "2022-06-07T17:17:53.679Z"
      },
      {
        "duration": 19,
        "start_time": "2022-06-07T17:17:59.381Z"
      },
      {
        "duration": 1397,
        "start_time": "2022-06-07T17:18:26.910Z"
      },
      {
        "duration": 1440,
        "start_time": "2022-06-07T17:18:47.732Z"
      },
      {
        "duration": 312,
        "start_time": "2022-06-07T17:18:58.063Z"
      },
      {
        "duration": 212,
        "start_time": "2022-06-07T17:19:13.660Z"
      },
      {
        "duration": 192,
        "start_time": "2022-06-07T17:19:23.189Z"
      },
      {
        "duration": 182,
        "start_time": "2022-06-07T17:19:31.144Z"
      },
      {
        "duration": 175,
        "start_time": "2022-06-07T17:19:43.039Z"
      },
      {
        "duration": 223,
        "start_time": "2022-06-07T17:20:10.474Z"
      },
      {
        "duration": 289,
        "start_time": "2022-06-07T17:20:25.182Z"
      },
      {
        "duration": 415,
        "start_time": "2022-06-07T17:20:34.381Z"
      },
      {
        "duration": 301,
        "start_time": "2022-06-07T17:21:04.673Z"
      },
      {
        "duration": 290,
        "start_time": "2022-06-07T17:21:10.333Z"
      },
      {
        "duration": 270,
        "start_time": "2022-06-07T17:21:14.656Z"
      },
      {
        "duration": 252,
        "start_time": "2022-06-07T17:21:17.881Z"
      },
      {
        "duration": 600,
        "start_time": "2022-06-07T17:36:51.547Z"
      },
      {
        "duration": 300,
        "start_time": "2022-06-07T17:36:57.573Z"
      },
      {
        "duration": 271,
        "start_time": "2022-06-07T17:37:04.893Z"
      },
      {
        "duration": 307,
        "start_time": "2022-06-07T17:37:07.688Z"
      },
      {
        "duration": 296,
        "start_time": "2022-06-07T17:37:14.803Z"
      },
      {
        "duration": 266,
        "start_time": "2022-06-07T17:37:20.652Z"
      },
      {
        "duration": 252,
        "start_time": "2022-06-07T17:37:25.054Z"
      },
      {
        "duration": 9,
        "start_time": "2022-06-07T17:42:55.517Z"
      },
      {
        "duration": 272,
        "start_time": "2022-06-07T17:43:03.431Z"
      },
      {
        "duration": 303,
        "start_time": "2022-06-07T17:43:14.980Z"
      },
      {
        "duration": 282,
        "start_time": "2022-06-07T17:43:18.998Z"
      },
      {
        "duration": 366,
        "start_time": "2022-06-07T17:43:32.754Z"
      },
      {
        "duration": 286,
        "start_time": "2022-06-07T17:43:39.632Z"
      },
      {
        "duration": 341,
        "start_time": "2022-06-07T17:43:46.647Z"
      },
      {
        "duration": 87,
        "start_time": "2022-06-07T17:44:34.549Z"
      },
      {
        "duration": 723,
        "start_time": "2022-06-07T17:44:39.288Z"
      },
      {
        "duration": 123,
        "start_time": "2022-06-07T17:44:40.013Z"
      },
      {
        "duration": 31,
        "start_time": "2022-06-07T17:44:40.149Z"
      },
      {
        "duration": 33,
        "start_time": "2022-06-07T17:44:40.185Z"
      },
      {
        "duration": 23,
        "start_time": "2022-06-07T17:44:40.219Z"
      },
      {
        "duration": 67,
        "start_time": "2022-06-07T17:44:40.244Z"
      },
      {
        "duration": 11,
        "start_time": "2022-06-07T17:44:40.313Z"
      },
      {
        "duration": 63,
        "start_time": "2022-06-07T17:44:40.325Z"
      },
      {
        "duration": 13,
        "start_time": "2022-06-07T17:44:40.390Z"
      },
      {
        "duration": 47,
        "start_time": "2022-06-07T17:44:40.406Z"
      },
      {
        "duration": 7,
        "start_time": "2022-06-07T17:44:40.461Z"
      },
      {
        "duration": 12,
        "start_time": "2022-06-07T17:44:40.470Z"
      },
      {
        "duration": 9,
        "start_time": "2022-06-07T17:44:40.483Z"
      },
      {
        "duration": 9,
        "start_time": "2022-06-07T17:44:40.494Z"
      },
      {
        "duration": 17,
        "start_time": "2022-06-07T17:44:40.505Z"
      },
      {
        "duration": 27,
        "start_time": "2022-06-07T17:44:40.523Z"
      },
      {
        "duration": 8,
        "start_time": "2022-06-07T17:44:40.553Z"
      },
      {
        "duration": 12,
        "start_time": "2022-06-07T17:44:40.563Z"
      },
      {
        "duration": 8,
        "start_time": "2022-06-07T17:44:40.577Z"
      },
      {
        "duration": 13,
        "start_time": "2022-06-07T17:44:40.587Z"
      },
      {
        "duration": 14,
        "start_time": "2022-06-07T17:44:40.602Z"
      },
      {
        "duration": 46,
        "start_time": "2022-06-07T17:44:40.618Z"
      },
      {
        "duration": 16,
        "start_time": "2022-06-07T17:44:40.666Z"
      },
      {
        "duration": 7,
        "start_time": "2022-06-07T17:44:40.684Z"
      },
      {
        "duration": 4,
        "start_time": "2022-06-07T17:44:40.693Z"
      },
      {
        "duration": 42,
        "start_time": "2022-06-07T17:44:40.726Z"
      },
      {
        "duration": 22,
        "start_time": "2022-06-07T17:44:40.770Z"
      },
      {
        "duration": 75,
        "start_time": "2022-06-07T17:44:40.795Z"
      },
      {
        "duration": 10,
        "start_time": "2022-06-07T17:44:40.872Z"
      },
      {
        "duration": 28,
        "start_time": "2022-06-07T17:44:40.883Z"
      },
      {
        "duration": 13,
        "start_time": "2022-06-07T17:44:40.913Z"
      },
      {
        "duration": 27,
        "start_time": "2022-06-07T17:44:40.929Z"
      },
      {
        "duration": 27,
        "start_time": "2022-06-07T17:44:40.958Z"
      },
      {
        "duration": 91,
        "start_time": "2022-06-07T17:44:40.986Z"
      },
      {
        "duration": 19,
        "start_time": "2022-06-07T17:44:41.079Z"
      },
      {
        "duration": 257,
        "start_time": "2022-06-07T17:44:41.099Z"
      },
      {
        "duration": 192,
        "start_time": "2022-06-07T17:44:41.358Z"
      },
      {
        "duration": 394,
        "start_time": "2022-06-07T17:44:41.552Z"
      },
      {
        "duration": 609,
        "start_time": "2022-06-07T17:44:41.953Z"
      },
      {
        "duration": 4,
        "start_time": "2022-06-07T17:44:42.565Z"
      },
      {
        "duration": 5,
        "start_time": "2022-06-07T17:44:42.571Z"
      },
      {
        "duration": 17,
        "start_time": "2022-06-07T17:44:42.628Z"
      },
      {
        "duration": 19,
        "start_time": "2022-06-07T17:44:42.649Z"
      },
      {
        "duration": 8,
        "start_time": "2022-06-07T17:44:42.671Z"
      },
      {
        "duration": 353,
        "start_time": "2022-06-07T17:48:32.941Z"
      },
      {
        "duration": 287,
        "start_time": "2022-06-07T17:48:38.442Z"
      },
      {
        "duration": 330,
        "start_time": "2022-06-07T17:48:43.931Z"
      },
      {
        "duration": 297,
        "start_time": "2022-06-07T17:48:49.502Z"
      },
      {
        "duration": 437,
        "start_time": "2022-06-07T17:48:51.853Z"
      },
      {
        "duration": 259,
        "start_time": "2022-06-07T17:49:50.754Z"
      },
      {
        "duration": 45,
        "start_time": "2022-06-07T17:50:35.049Z"
      },
      {
        "duration": 327,
        "start_time": "2022-06-07T17:50:39.963Z"
      },
      {
        "duration": 322,
        "start_time": "2022-06-07T17:50:51.595Z"
      },
      {
        "duration": 29,
        "start_time": "2022-06-07T17:51:47.028Z"
      },
      {
        "duration": 28,
        "start_time": "2022-06-07T17:51:54.511Z"
      },
      {
        "duration": 23,
        "start_time": "2022-06-07T17:52:50.283Z"
      },
      {
        "duration": 28,
        "start_time": "2022-06-07T17:53:09.118Z"
      },
      {
        "duration": 24,
        "start_time": "2022-06-07T17:53:30.971Z"
      },
      {
        "duration": 28,
        "start_time": "2022-06-07T17:54:57.843Z"
      },
      {
        "duration": 706,
        "start_time": "2022-06-07T17:55:12.267Z"
      },
      {
        "duration": 106,
        "start_time": "2022-06-07T17:55:12.975Z"
      },
      {
        "duration": 31,
        "start_time": "2022-06-07T17:55:13.083Z"
      },
      {
        "duration": 49,
        "start_time": "2022-06-07T17:55:13.116Z"
      },
      {
        "duration": 6,
        "start_time": "2022-06-07T17:55:13.167Z"
      },
      {
        "duration": 11,
        "start_time": "2022-06-07T17:55:13.174Z"
      },
      {
        "duration": 12,
        "start_time": "2022-06-07T17:55:13.186Z"
      },
      {
        "duration": 10,
        "start_time": "2022-06-07T17:55:13.200Z"
      },
      {
        "duration": 26,
        "start_time": "2022-06-07T17:55:13.212Z"
      },
      {
        "duration": 33,
        "start_time": "2022-06-07T17:55:13.242Z"
      },
      {
        "duration": 6,
        "start_time": "2022-06-07T17:55:13.276Z"
      },
      {
        "duration": 9,
        "start_time": "2022-06-07T17:55:13.284Z"
      },
      {
        "duration": 7,
        "start_time": "2022-06-07T17:55:13.294Z"
      },
      {
        "duration": 8,
        "start_time": "2022-06-07T17:55:13.303Z"
      },
      {
        "duration": 8,
        "start_time": "2022-06-07T17:55:13.332Z"
      },
      {
        "duration": 11,
        "start_time": "2022-06-07T17:55:13.342Z"
      },
      {
        "duration": 11,
        "start_time": "2022-06-07T17:55:13.354Z"
      },
      {
        "duration": 8,
        "start_time": "2022-06-07T17:55:13.367Z"
      },
      {
        "duration": 14,
        "start_time": "2022-06-07T17:55:13.376Z"
      },
      {
        "duration": 15,
        "start_time": "2022-06-07T17:55:13.391Z"
      },
      {
        "duration": 30,
        "start_time": "2022-06-07T17:55:13.408Z"
      },
      {
        "duration": 31,
        "start_time": "2022-06-07T17:55:13.441Z"
      },
      {
        "duration": 16,
        "start_time": "2022-06-07T17:55:13.474Z"
      },
      {
        "duration": 7,
        "start_time": "2022-06-07T17:55:13.492Z"
      },
      {
        "duration": 4,
        "start_time": "2022-06-07T17:55:13.500Z"
      },
      {
        "duration": 48,
        "start_time": "2022-06-07T17:55:13.506Z"
      },
      {
        "duration": 20,
        "start_time": "2022-06-07T17:55:13.555Z"
      },
      {
        "duration": 33,
        "start_time": "2022-06-07T17:55:13.579Z"
      },
      {
        "duration": 12,
        "start_time": "2022-06-07T17:55:13.637Z"
      },
      {
        "duration": 13,
        "start_time": "2022-06-07T17:55:13.650Z"
      },
      {
        "duration": 6,
        "start_time": "2022-06-07T17:55:13.665Z"
      },
      {
        "duration": 19,
        "start_time": "2022-06-07T17:55:13.674Z"
      },
      {
        "duration": 47,
        "start_time": "2022-06-07T17:55:13.695Z"
      },
      {
        "duration": 59,
        "start_time": "2022-06-07T17:55:13.744Z"
      },
      {
        "duration": 34,
        "start_time": "2022-06-07T17:55:13.804Z"
      },
      {
        "duration": 186,
        "start_time": "2022-06-07T17:55:13.840Z"
      },
      {
        "duration": 162,
        "start_time": "2022-06-07T17:55:14.037Z"
      },
      {
        "duration": 258,
        "start_time": "2022-06-07T17:55:14.201Z"
      },
      {
        "duration": 190,
        "start_time": "2022-06-07T17:55:14.461Z"
      },
      {
        "duration": 0,
        "start_time": "2022-06-07T17:55:14.653Z"
      },
      {
        "duration": 0,
        "start_time": "2022-06-07T17:55:14.654Z"
      },
      {
        "duration": 0,
        "start_time": "2022-06-07T17:55:14.656Z"
      },
      {
        "duration": 0,
        "start_time": "2022-06-07T17:55:14.657Z"
      },
      {
        "duration": 0,
        "start_time": "2022-06-07T17:55:14.658Z"
      },
      {
        "duration": 25,
        "start_time": "2022-06-07T17:55:49.667Z"
      },
      {
        "duration": 253,
        "start_time": "2022-06-07T17:56:55.945Z"
      },
      {
        "duration": 29,
        "start_time": "2022-06-07T17:57:10.503Z"
      },
      {
        "duration": 252,
        "start_time": "2022-06-07T17:57:15.101Z"
      },
      {
        "duration": 307,
        "start_time": "2022-06-07T17:57:21.153Z"
      },
      {
        "duration": 446,
        "start_time": "2022-06-07T17:57:34.345Z"
      },
      {
        "duration": 275,
        "start_time": "2022-06-07T17:57:37.870Z"
      },
      {
        "duration": 257,
        "start_time": "2022-06-07T17:58:08.666Z"
      },
      {
        "duration": 208,
        "start_time": "2022-06-07T17:59:12.600Z"
      },
      {
        "duration": 461,
        "start_time": "2022-06-07T17:59:21.760Z"
      },
      {
        "duration": 385,
        "start_time": "2022-06-07T17:59:29.320Z"
      },
      {
        "duration": 357,
        "start_time": "2022-06-07T18:00:39.252Z"
      },
      {
        "duration": 357,
        "start_time": "2022-06-07T18:00:56.687Z"
      },
      {
        "duration": 365,
        "start_time": "2022-06-07T18:01:03.239Z"
      },
      {
        "duration": 296,
        "start_time": "2022-06-07T18:01:07.667Z"
      },
      {
        "duration": 287,
        "start_time": "2022-06-07T18:01:12.952Z"
      },
      {
        "duration": 404,
        "start_time": "2022-06-07T18:01:18.812Z"
      },
      {
        "duration": 272,
        "start_time": "2022-06-07T18:01:51.268Z"
      },
      {
        "duration": 279,
        "start_time": "2022-06-07T18:01:54.822Z"
      },
      {
        "duration": 435,
        "start_time": "2022-06-07T18:04:26.757Z"
      },
      {
        "duration": 316,
        "start_time": "2022-06-07T18:04:33.093Z"
      },
      {
        "duration": 353,
        "start_time": "2022-06-07T18:04:42.559Z"
      },
      {
        "duration": 448,
        "start_time": "2022-06-07T18:06:04.279Z"
      },
      {
        "duration": 142,
        "start_time": "2022-06-07T18:06:10.026Z"
      },
      {
        "duration": 145,
        "start_time": "2022-06-07T18:06:38.671Z"
      },
      {
        "duration": 148,
        "start_time": "2022-06-07T18:07:16.305Z"
      },
      {
        "duration": 163,
        "start_time": "2022-06-07T18:07:32.977Z"
      },
      {
        "duration": 158,
        "start_time": "2022-06-07T18:07:58.232Z"
      },
      {
        "duration": 256,
        "start_time": "2022-06-07T18:11:33.190Z"
      },
      {
        "duration": 164,
        "start_time": "2022-06-07T18:11:44.266Z"
      },
      {
        "duration": 845,
        "start_time": "2022-06-07T20:34:38.658Z"
      },
      {
        "duration": 219,
        "start_time": "2022-06-07T20:34:39.505Z"
      },
      {
        "duration": 46,
        "start_time": "2022-06-07T20:34:39.726Z"
      },
      {
        "duration": 19,
        "start_time": "2022-06-07T20:34:39.773Z"
      },
      {
        "duration": 6,
        "start_time": "2022-06-07T20:34:39.794Z"
      },
      {
        "duration": 10,
        "start_time": "2022-06-07T20:34:39.801Z"
      },
      {
        "duration": 12,
        "start_time": "2022-06-07T20:34:39.812Z"
      },
      {
        "duration": 43,
        "start_time": "2022-06-07T20:34:39.831Z"
      },
      {
        "duration": 8,
        "start_time": "2022-06-07T20:34:39.875Z"
      },
      {
        "duration": 20,
        "start_time": "2022-06-07T20:34:39.885Z"
      },
      {
        "duration": 4,
        "start_time": "2022-06-07T20:34:39.907Z"
      },
      {
        "duration": 9,
        "start_time": "2022-06-07T20:34:39.912Z"
      },
      {
        "duration": 34,
        "start_time": "2022-06-07T20:34:39.922Z"
      },
      {
        "duration": 16,
        "start_time": "2022-06-07T20:34:39.959Z"
      },
      {
        "duration": 7,
        "start_time": "2022-06-07T20:34:39.976Z"
      },
      {
        "duration": 10,
        "start_time": "2022-06-07T20:34:39.984Z"
      },
      {
        "duration": 8,
        "start_time": "2022-06-07T20:34:39.995Z"
      },
      {
        "duration": 17,
        "start_time": "2022-06-07T20:34:40.004Z"
      },
      {
        "duration": 36,
        "start_time": "2022-06-07T20:34:40.022Z"
      },
      {
        "duration": 16,
        "start_time": "2022-06-07T20:34:40.063Z"
      },
      {
        "duration": 14,
        "start_time": "2022-06-07T20:34:40.080Z"
      },
      {
        "duration": 28,
        "start_time": "2022-06-07T20:34:40.095Z"
      },
      {
        "duration": 21,
        "start_time": "2022-06-07T20:34:40.125Z"
      },
      {
        "duration": 36,
        "start_time": "2022-06-07T20:34:40.149Z"
      },
      {
        "duration": 5,
        "start_time": "2022-06-07T20:34:40.187Z"
      },
      {
        "duration": 51,
        "start_time": "2022-06-07T20:34:40.194Z"
      },
      {
        "duration": 34,
        "start_time": "2022-06-07T20:34:40.251Z"
      },
      {
        "duration": 54,
        "start_time": "2022-06-07T20:34:40.287Z"
      },
      {
        "duration": 19,
        "start_time": "2022-06-07T20:34:40.346Z"
      },
      {
        "duration": 26,
        "start_time": "2022-06-07T20:34:40.366Z"
      },
      {
        "duration": 7,
        "start_time": "2022-06-07T20:34:40.393Z"
      },
      {
        "duration": 17,
        "start_time": "2022-06-07T20:34:40.401Z"
      },
      {
        "duration": 35,
        "start_time": "2022-06-07T20:34:40.420Z"
      },
      {
        "duration": 90,
        "start_time": "2022-06-07T20:34:40.457Z"
      },
      {
        "duration": 25,
        "start_time": "2022-06-07T20:34:40.549Z"
      },
      {
        "duration": 205,
        "start_time": "2022-06-07T20:34:40.576Z"
      },
      {
        "duration": 154,
        "start_time": "2022-06-07T20:34:40.782Z"
      },
      {
        "duration": 256,
        "start_time": "2022-06-07T20:34:40.938Z"
      },
      {
        "duration": 177,
        "start_time": "2022-06-07T20:34:41.195Z"
      },
      {
        "duration": 7,
        "start_time": "2022-06-07T20:34:41.377Z"
      },
      {
        "duration": 5,
        "start_time": "2022-06-07T20:34:41.387Z"
      },
      {
        "duration": 5,
        "start_time": "2022-06-07T20:34:41.393Z"
      },
      {
        "duration": 459,
        "start_time": "2022-06-07T21:17:02.319Z"
      },
      {
        "duration": 443,
        "start_time": "2022-06-07T21:17:10.871Z"
      },
      {
        "duration": 495,
        "start_time": "2022-06-07T21:17:28.874Z"
      },
      {
        "duration": 4,
        "start_time": "2022-06-07T21:19:46.531Z"
      },
      {
        "duration": 4,
        "start_time": "2022-06-07T21:20:14.409Z"
      },
      {
        "duration": 105,
        "start_time": "2022-06-07T21:23:26.443Z"
      },
      {
        "duration": 133,
        "start_time": "2022-06-07T21:31:59.143Z"
      },
      {
        "duration": 120,
        "start_time": "2022-06-07T21:32:08.173Z"
      },
      {
        "duration": 427,
        "start_time": "2022-06-07T21:32:40.043Z"
      },
      {
        "duration": 145,
        "start_time": "2022-06-07T21:32:59.045Z"
      },
      {
        "duration": 2,
        "start_time": "2022-06-07T21:33:04.965Z"
      },
      {
        "duration": 230,
        "start_time": "2022-06-07T21:33:14.641Z"
      },
      {
        "duration": 119,
        "start_time": "2022-06-07T21:33:32.967Z"
      },
      {
        "duration": 111,
        "start_time": "2022-06-07T21:33:36.764Z"
      },
      {
        "duration": 150,
        "start_time": "2022-06-07T21:34:12.251Z"
      },
      {
        "duration": 142,
        "start_time": "2022-06-07T21:34:55.185Z"
      },
      {
        "duration": 9,
        "start_time": "2022-06-07T21:36:37.524Z"
      },
      {
        "duration": 13,
        "start_time": "2022-06-07T21:37:01.831Z"
      },
      {
        "duration": 14,
        "start_time": "2022-06-07T21:37:09.301Z"
      },
      {
        "duration": 537,
        "start_time": "2022-06-07T21:37:23.802Z"
      },
      {
        "duration": 397,
        "start_time": "2022-06-07T21:43:59.872Z"
      },
      {
        "duration": 505,
        "start_time": "2022-06-07T21:44:52.754Z"
      },
      {
        "duration": 575,
        "start_time": "2022-06-07T21:46:05.565Z"
      },
      {
        "duration": 647,
        "start_time": "2022-06-07T21:46:11.326Z"
      },
      {
        "duration": 557,
        "start_time": "2022-06-07T21:46:20.315Z"
      },
      {
        "duration": 450,
        "start_time": "2022-06-07T21:46:29.862Z"
      },
      {
        "duration": 525,
        "start_time": "2022-06-07T21:46:35.916Z"
      },
      {
        "duration": 503,
        "start_time": "2022-06-07T21:46:43.154Z"
      },
      {
        "duration": 460,
        "start_time": "2022-06-07T21:46:45.932Z"
      },
      {
        "duration": 711,
        "start_time": "2022-06-07T21:46:52.021Z"
      },
      {
        "duration": 121,
        "start_time": "2022-06-07T21:47:50.921Z"
      },
      {
        "duration": 227,
        "start_time": "2022-06-07T21:48:02.212Z"
      },
      {
        "duration": 364,
        "start_time": "2022-06-07T21:48:10.951Z"
      },
      {
        "duration": 228,
        "start_time": "2022-06-07T21:48:14.371Z"
      },
      {
        "duration": 155,
        "start_time": "2022-06-07T21:48:16.954Z"
      },
      {
        "duration": 165,
        "start_time": "2022-06-07T21:48:19.410Z"
      },
      {
        "duration": 164,
        "start_time": "2022-06-07T21:48:42.310Z"
      },
      {
        "duration": 173,
        "start_time": "2022-06-07T21:48:44.854Z"
      },
      {
        "duration": 160,
        "start_time": "2022-06-07T21:48:49.832Z"
      },
      {
        "duration": 126,
        "start_time": "2022-06-07T21:48:52.840Z"
      },
      {
        "duration": 208,
        "start_time": "2022-06-07T21:48:57.023Z"
      },
      {
        "duration": 208,
        "start_time": "2022-06-07T21:49:01.016Z"
      },
      {
        "duration": 187,
        "start_time": "2022-06-07T21:49:04.277Z"
      },
      {
        "duration": 236,
        "start_time": "2022-06-07T21:49:45.965Z"
      },
      {
        "duration": 189,
        "start_time": "2022-06-07T21:49:50.112Z"
      },
      {
        "duration": 193,
        "start_time": "2022-06-07T21:49:58.908Z"
      },
      {
        "duration": 171,
        "start_time": "2022-06-07T21:50:05.549Z"
      },
      {
        "duration": 159,
        "start_time": "2022-06-07T21:50:09.329Z"
      },
      {
        "duration": 214,
        "start_time": "2022-06-07T21:50:16.323Z"
      },
      {
        "duration": 184,
        "start_time": "2022-06-07T21:50:18.794Z"
      },
      {
        "duration": 232,
        "start_time": "2022-06-07T21:50:22.320Z"
      },
      {
        "duration": 126,
        "start_time": "2022-06-07T21:50:26.965Z"
      },
      {
        "duration": 142,
        "start_time": "2022-06-07T21:50:31.065Z"
      },
      {
        "duration": 404,
        "start_time": "2022-06-07T21:50:33.248Z"
      },
      {
        "duration": 220,
        "start_time": "2022-06-07T21:50:37.777Z"
      },
      {
        "duration": 175,
        "start_time": "2022-06-07T21:50:45.670Z"
      },
      {
        "duration": 200,
        "start_time": "2022-06-07T21:52:19.531Z"
      },
      {
        "duration": 180,
        "start_time": "2022-06-07T21:52:25.256Z"
      },
      {
        "duration": 164,
        "start_time": "2022-06-07T21:52:36.685Z"
      },
      {
        "duration": 148,
        "start_time": "2022-06-07T21:52:41.055Z"
      },
      {
        "duration": 148,
        "start_time": "2022-06-07T21:52:43.838Z"
      },
      {
        "duration": 155,
        "start_time": "2022-06-07T21:52:47.329Z"
      },
      {
        "duration": 131,
        "start_time": "2022-06-07T21:52:50.397Z"
      },
      {
        "duration": 140,
        "start_time": "2022-06-07T21:52:53.714Z"
      },
      {
        "duration": 145,
        "start_time": "2022-06-07T21:53:02.943Z"
      },
      {
        "duration": 133,
        "start_time": "2022-06-07T21:53:08.236Z"
      },
      {
        "duration": 132,
        "start_time": "2022-06-07T21:53:11.059Z"
      },
      {
        "duration": 146,
        "start_time": "2022-06-07T21:53:17.344Z"
      },
      {
        "duration": 141,
        "start_time": "2022-06-07T21:54:02.208Z"
      },
      {
        "duration": 172,
        "start_time": "2022-06-07T21:54:11.826Z"
      },
      {
        "duration": 137,
        "start_time": "2022-06-07T21:54:17.260Z"
      },
      {
        "duration": 156,
        "start_time": "2022-06-07T21:54:23.680Z"
      },
      {
        "duration": 141,
        "start_time": "2022-06-07T21:54:41.175Z"
      },
      {
        "duration": 141,
        "start_time": "2022-06-07T21:54:45.941Z"
      },
      {
        "duration": 789,
        "start_time": "2022-06-07T21:57:48.402Z"
      },
      {
        "duration": 117,
        "start_time": "2022-06-07T21:57:49.193Z"
      },
      {
        "duration": 46,
        "start_time": "2022-06-07T21:57:49.313Z"
      },
      {
        "duration": 23,
        "start_time": "2022-06-07T21:57:49.362Z"
      },
      {
        "duration": 7,
        "start_time": "2022-06-07T21:57:49.387Z"
      },
      {
        "duration": 32,
        "start_time": "2022-06-07T21:57:49.396Z"
      },
      {
        "duration": 9,
        "start_time": "2022-06-07T21:57:49.430Z"
      },
      {
        "duration": 9,
        "start_time": "2022-06-07T21:57:49.441Z"
      },
      {
        "duration": 7,
        "start_time": "2022-06-07T21:57:49.452Z"
      },
      {
        "duration": 36,
        "start_time": "2022-06-07T21:57:49.463Z"
      },
      {
        "duration": 6,
        "start_time": "2022-06-07T21:57:49.527Z"
      },
      {
        "duration": 9,
        "start_time": "2022-06-07T21:57:49.535Z"
      },
      {
        "duration": 11,
        "start_time": "2022-06-07T21:57:49.546Z"
      },
      {
        "duration": 12,
        "start_time": "2022-06-07T21:57:49.559Z"
      },
      {
        "duration": 9,
        "start_time": "2022-06-07T21:57:49.573Z"
      },
      {
        "duration": 11,
        "start_time": "2022-06-07T21:57:49.584Z"
      },
      {
        "duration": 33,
        "start_time": "2022-06-07T21:57:49.598Z"
      },
      {
        "duration": 11,
        "start_time": "2022-06-07T21:57:49.633Z"
      },
      {
        "duration": 14,
        "start_time": "2022-06-07T21:57:49.646Z"
      },
      {
        "duration": 40,
        "start_time": "2022-06-07T21:57:49.666Z"
      },
      {
        "duration": 27,
        "start_time": "2022-06-07T21:57:49.708Z"
      },
      {
        "duration": 33,
        "start_time": "2022-06-07T21:57:49.737Z"
      },
      {
        "duration": 17,
        "start_time": "2022-06-07T21:57:49.772Z"
      },
      {
        "duration": 19,
        "start_time": "2022-06-07T21:57:49.791Z"
      },
      {
        "duration": 16,
        "start_time": "2022-06-07T21:57:49.811Z"
      },
      {
        "duration": 35,
        "start_time": "2022-06-07T21:57:49.830Z"
      },
      {
        "duration": 36,
        "start_time": "2022-06-07T21:57:49.867Z"
      },
      {
        "duration": 71,
        "start_time": "2022-06-07T21:57:49.908Z"
      },
      {
        "duration": 14,
        "start_time": "2022-06-07T21:57:49.981Z"
      },
      {
        "duration": 40,
        "start_time": "2022-06-07T21:57:49.996Z"
      },
      {
        "duration": 8,
        "start_time": "2022-06-07T21:57:50.039Z"
      },
      {
        "duration": 25,
        "start_time": "2022-06-07T21:57:50.049Z"
      },
      {
        "duration": 30,
        "start_time": "2022-06-07T21:57:50.076Z"
      },
      {
        "duration": 82,
        "start_time": "2022-06-07T21:57:50.108Z"
      },
      {
        "duration": 39,
        "start_time": "2022-06-07T21:57:50.192Z"
      },
      {
        "duration": 209,
        "start_time": "2022-06-07T21:57:50.233Z"
      },
      {
        "duration": 198,
        "start_time": "2022-06-07T21:57:50.444Z"
      },
      {
        "duration": 284,
        "start_time": "2022-06-07T21:57:50.645Z"
      },
      {
        "duration": 155,
        "start_time": "2022-06-07T21:57:50.931Z"
      },
      {
        "duration": 96,
        "start_time": "2022-06-07T22:00:01.244Z"
      },
      {
        "duration": 780,
        "start_time": "2022-06-07T22:00:07.101Z"
      },
      {
        "duration": 120,
        "start_time": "2022-06-07T22:00:07.883Z"
      },
      {
        "duration": 42,
        "start_time": "2022-06-07T22:00:08.005Z"
      },
      {
        "duration": 37,
        "start_time": "2022-06-07T22:00:08.049Z"
      },
      {
        "duration": 30,
        "start_time": "2022-06-07T22:00:08.088Z"
      },
      {
        "duration": 49,
        "start_time": "2022-06-07T22:00:08.120Z"
      },
      {
        "duration": 30,
        "start_time": "2022-06-07T22:00:08.171Z"
      },
      {
        "duration": 41,
        "start_time": "2022-06-07T22:00:08.203Z"
      },
      {
        "duration": 22,
        "start_time": "2022-06-07T22:00:08.246Z"
      },
      {
        "duration": 52,
        "start_time": "2022-06-07T22:00:08.272Z"
      },
      {
        "duration": 41,
        "start_time": "2022-06-07T22:00:08.326Z"
      },
      {
        "duration": 28,
        "start_time": "2022-06-07T22:00:08.369Z"
      },
      {
        "duration": 26,
        "start_time": "2022-06-07T22:00:08.399Z"
      },
      {
        "duration": 43,
        "start_time": "2022-06-07T22:00:08.433Z"
      },
      {
        "duration": 31,
        "start_time": "2022-06-07T22:00:08.477Z"
      },
      {
        "duration": 30,
        "start_time": "2022-06-07T22:00:08.509Z"
      },
      {
        "duration": 23,
        "start_time": "2022-06-07T22:00:08.548Z"
      },
      {
        "duration": 27,
        "start_time": "2022-06-07T22:00:08.573Z"
      },
      {
        "duration": 20,
        "start_time": "2022-06-07T22:00:08.603Z"
      },
      {
        "duration": 44,
        "start_time": "2022-06-07T22:00:08.625Z"
      },
      {
        "duration": 35,
        "start_time": "2022-06-07T22:00:08.672Z"
      },
      {
        "duration": 79,
        "start_time": "2022-06-07T22:00:08.709Z"
      },
      {
        "duration": 22,
        "start_time": "2022-06-07T22:00:08.790Z"
      },
      {
        "duration": 60,
        "start_time": "2022-06-07T22:00:08.815Z"
      },
      {
        "duration": 17,
        "start_time": "2022-06-07T22:00:08.878Z"
      },
      {
        "duration": 70,
        "start_time": "2022-06-07T22:00:08.897Z"
      },
      {
        "duration": 27,
        "start_time": "2022-06-07T22:00:08.969Z"
      },
      {
        "duration": 58,
        "start_time": "2022-06-07T22:00:08.999Z"
      },
      {
        "duration": 14,
        "start_time": "2022-06-07T22:00:09.065Z"
      },
      {
        "duration": 18,
        "start_time": "2022-06-07T22:00:09.081Z"
      },
      {
        "duration": 58,
        "start_time": "2022-06-07T22:00:09.101Z"
      },
      {
        "duration": 33,
        "start_time": "2022-06-07T22:00:09.162Z"
      },
      {
        "duration": 63,
        "start_time": "2022-06-07T22:00:09.198Z"
      },
      {
        "duration": 110,
        "start_time": "2022-06-07T22:00:09.265Z"
      },
      {
        "duration": 27,
        "start_time": "2022-06-07T22:00:09.377Z"
      },
      {
        "duration": 306,
        "start_time": "2022-06-07T22:00:09.406Z"
      },
      {
        "duration": 200,
        "start_time": "2022-06-07T22:00:09.714Z"
      },
      {
        "duration": 365,
        "start_time": "2022-06-07T22:00:09.916Z"
      },
      {
        "duration": 188,
        "start_time": "2022-06-07T22:00:10.283Z"
      },
      {
        "duration": 227,
        "start_time": "2022-06-07T22:00:10.473Z"
      },
      {
        "duration": 4,
        "start_time": "2022-06-07T22:00:10.702Z"
      },
      {
        "duration": 23,
        "start_time": "2022-06-07T22:00:10.708Z"
      },
      {
        "duration": 36,
        "start_time": "2022-06-07T22:00:10.733Z"
      },
      {
        "duration": 147,
        "start_time": "2022-06-07T22:01:17.916Z"
      },
      {
        "duration": 154,
        "start_time": "2022-06-07T22:01:24.683Z"
      },
      {
        "duration": 147,
        "start_time": "2022-06-07T22:01:35.899Z"
      },
      {
        "duration": 220,
        "start_time": "2022-06-07T22:01:42.349Z"
      },
      {
        "duration": 162,
        "start_time": "2022-06-07T22:01:46.665Z"
      },
      {
        "duration": 152,
        "start_time": "2022-06-07T22:01:49.950Z"
      },
      {
        "duration": 146,
        "start_time": "2022-06-07T22:01:52.280Z"
      },
      {
        "duration": 157,
        "start_time": "2022-06-07T22:01:59.087Z"
      },
      {
        "duration": 215,
        "start_time": "2022-06-07T22:02:01.781Z"
      },
      {
        "duration": 152,
        "start_time": "2022-06-07T22:02:04.644Z"
      },
      {
        "duration": 162,
        "start_time": "2022-06-07T22:02:07.981Z"
      },
      {
        "duration": 172,
        "start_time": "2022-06-07T22:02:10.075Z"
      },
      {
        "duration": 170,
        "start_time": "2022-06-07T22:02:12.486Z"
      },
      {
        "duration": 155,
        "start_time": "2022-06-07T22:02:19.018Z"
      },
      {
        "duration": 170,
        "start_time": "2022-06-07T22:03:49.006Z"
      },
      {
        "duration": 203,
        "start_time": "2022-06-07T22:08:10.580Z"
      },
      {
        "duration": 33,
        "start_time": "2022-06-07T22:15:40.205Z"
      },
      {
        "duration": 246,
        "start_time": "2022-06-07T22:15:44.199Z"
      },
      {
        "duration": 137,
        "start_time": "2022-06-07T22:16:08.369Z"
      },
      {
        "duration": 130,
        "start_time": "2022-06-07T22:16:39.389Z"
      },
      {
        "duration": 134,
        "start_time": "2022-06-07T22:16:47.058Z"
      },
      {
        "duration": 126,
        "start_time": "2022-06-07T22:16:52.854Z"
      },
      {
        "duration": 152,
        "start_time": "2022-06-07T22:17:47.750Z"
      },
      {
        "duration": 171,
        "start_time": "2022-06-07T22:17:49.269Z"
      },
      {
        "duration": 194,
        "start_time": "2022-06-07T22:19:19.083Z"
      },
      {
        "duration": 190,
        "start_time": "2022-06-07T22:20:23.008Z"
      },
      {
        "duration": 7908,
        "start_time": "2022-06-07T22:20:31.585Z"
      },
      {
        "duration": 744,
        "start_time": "2022-06-07T22:21:19.164Z"
      },
      {
        "duration": 992,
        "start_time": "2022-06-07T22:21:26.895Z"
      },
      {
        "duration": 274,
        "start_time": "2022-06-07T22:21:35.934Z"
      },
      {
        "duration": 294,
        "start_time": "2022-06-07T22:21:48.667Z"
      },
      {
        "duration": 262,
        "start_time": "2022-06-07T22:22:17.218Z"
      },
      {
        "duration": 34,
        "start_time": "2022-06-07T22:26:23.459Z"
      },
      {
        "duration": 4,
        "start_time": "2022-06-07T22:26:30.582Z"
      },
      {
        "duration": 3,
        "start_time": "2022-06-07T22:26:38.281Z"
      },
      {
        "duration": 17,
        "start_time": "2022-06-07T22:28:45.365Z"
      },
      {
        "duration": 14,
        "start_time": "2022-06-07T22:29:00.556Z"
      },
      {
        "duration": 30,
        "start_time": "2022-06-07T22:29:06.515Z"
      },
      {
        "duration": 838,
        "start_time": "2022-06-08T11:57:55.229Z"
      },
      {
        "duration": 382,
        "start_time": "2022-06-08T11:57:56.068Z"
      },
      {
        "duration": 24,
        "start_time": "2022-06-08T11:57:56.452Z"
      },
      {
        "duration": 19,
        "start_time": "2022-06-08T11:57:56.478Z"
      },
      {
        "duration": 5,
        "start_time": "2022-06-08T11:57:56.499Z"
      },
      {
        "duration": 6,
        "start_time": "2022-06-08T11:57:56.505Z"
      },
      {
        "duration": 8,
        "start_time": "2022-06-08T11:57:56.513Z"
      },
      {
        "duration": 37,
        "start_time": "2022-06-08T11:57:56.522Z"
      },
      {
        "duration": 6,
        "start_time": "2022-06-08T11:57:56.560Z"
      },
      {
        "duration": 23,
        "start_time": "2022-06-08T11:57:56.569Z"
      },
      {
        "duration": 4,
        "start_time": "2022-06-08T11:57:56.594Z"
      },
      {
        "duration": 5,
        "start_time": "2022-06-08T11:57:56.599Z"
      },
      {
        "duration": 5,
        "start_time": "2022-06-08T11:57:56.606Z"
      },
      {
        "duration": 8,
        "start_time": "2022-06-08T11:57:56.612Z"
      },
      {
        "duration": 5,
        "start_time": "2022-06-08T11:57:56.652Z"
      },
      {
        "duration": 9,
        "start_time": "2022-06-08T11:57:56.659Z"
      },
      {
        "duration": 9,
        "start_time": "2022-06-08T11:57:56.669Z"
      },
      {
        "duration": 10,
        "start_time": "2022-06-08T11:57:56.679Z"
      },
      {
        "duration": 7,
        "start_time": "2022-06-08T11:57:56.691Z"
      },
      {
        "duration": 14,
        "start_time": "2022-06-08T11:57:56.699Z"
      },
      {
        "duration": 48,
        "start_time": "2022-06-08T11:57:56.715Z"
      },
      {
        "duration": 23,
        "start_time": "2022-06-08T11:57:56.765Z"
      },
      {
        "duration": 15,
        "start_time": "2022-06-08T11:57:56.789Z"
      },
      {
        "duration": 6,
        "start_time": "2022-06-08T11:57:56.806Z"
      },
      {
        "duration": 9,
        "start_time": "2022-06-08T11:57:56.813Z"
      },
      {
        "duration": 52,
        "start_time": "2022-06-08T11:57:56.823Z"
      },
      {
        "duration": 20,
        "start_time": "2022-06-08T11:57:56.877Z"
      },
      {
        "duration": 33,
        "start_time": "2022-06-08T11:57:56.901Z"
      },
      {
        "duration": 10,
        "start_time": "2022-06-08T11:57:56.952Z"
      },
      {
        "duration": 12,
        "start_time": "2022-06-08T11:57:56.963Z"
      },
      {
        "duration": 8,
        "start_time": "2022-06-08T11:57:56.976Z"
      },
      {
        "duration": 14,
        "start_time": "2022-06-08T11:57:56.986Z"
      },
      {
        "duration": 19,
        "start_time": "2022-06-08T11:57:57.002Z"
      },
      {
        "duration": 89,
        "start_time": "2022-06-08T11:57:57.023Z"
      },
      {
        "duration": 18,
        "start_time": "2022-06-08T11:57:57.114Z"
      },
      {
        "duration": 215,
        "start_time": "2022-06-08T11:57:57.134Z"
      },
      {
        "duration": 164,
        "start_time": "2022-06-08T11:57:57.353Z"
      },
      {
        "duration": 233,
        "start_time": "2022-06-08T11:57:57.518Z"
      },
      {
        "duration": 138,
        "start_time": "2022-06-08T11:57:57.753Z"
      },
      {
        "duration": 149,
        "start_time": "2022-06-08T11:57:57.893Z"
      },
      {
        "duration": 168,
        "start_time": "2022-06-08T11:57:58.044Z"
      },
      {
        "duration": 157,
        "start_time": "2022-06-08T11:57:58.214Z"
      },
      {
        "duration": 201,
        "start_time": "2022-06-08T11:57:58.372Z"
      },
      {
        "duration": 6,
        "start_time": "2022-06-08T12:04:26.409Z"
      },
      {
        "duration": 7,
        "start_time": "2022-06-08T12:04:33.545Z"
      },
      {
        "duration": 5,
        "start_time": "2022-06-08T12:04:47.259Z"
      },
      {
        "duration": 7,
        "start_time": "2022-06-08T12:10:33.663Z"
      },
      {
        "duration": 6,
        "start_time": "2022-06-08T12:10:56.569Z"
      },
      {
        "duration": 6,
        "start_time": "2022-06-08T12:11:07.698Z"
      },
      {
        "duration": 89,
        "start_time": "2022-06-08T12:13:19.645Z"
      },
      {
        "duration": 9,
        "start_time": "2022-06-08T12:13:31.473Z"
      },
      {
        "duration": 28,
        "start_time": "2022-06-08T12:13:39.420Z"
      },
      {
        "duration": 29,
        "start_time": "2022-06-08T12:14:03.211Z"
      },
      {
        "duration": 8,
        "start_time": "2022-06-08T12:18:41.235Z"
      },
      {
        "duration": 53,
        "start_time": "2022-06-08T12:18:46.149Z"
      },
      {
        "duration": 26,
        "start_time": "2022-06-08T12:19:09.906Z"
      },
      {
        "duration": 34,
        "start_time": "2022-06-08T12:20:16.679Z"
      },
      {
        "duration": 126,
        "start_time": "2022-06-08T12:20:41.104Z"
      },
      {
        "duration": 8,
        "start_time": "2022-06-08T12:20:51.319Z"
      },
      {
        "duration": 43,
        "start_time": "2022-06-08T12:21:51.132Z"
      },
      {
        "duration": 24,
        "start_time": "2022-06-08T12:22:52.651Z"
      },
      {
        "duration": 12,
        "start_time": "2022-06-08T12:23:07.277Z"
      },
      {
        "duration": 15,
        "start_time": "2022-06-08T12:23:17.287Z"
      },
      {
        "duration": 18,
        "start_time": "2022-06-08T12:23:20.647Z"
      },
      {
        "duration": 50,
        "start_time": "2022-06-08T12:28:49.173Z"
      },
      {
        "duration": 22,
        "start_time": "2022-06-08T12:31:50.614Z"
      },
      {
        "duration": 33,
        "start_time": "2022-06-08T12:32:00.681Z"
      },
      {
        "duration": 10,
        "start_time": "2022-06-08T12:33:14.072Z"
      },
      {
        "duration": 9,
        "start_time": "2022-06-08T12:33:25.992Z"
      },
      {
        "duration": 9,
        "start_time": "2022-06-08T12:33:31.189Z"
      },
      {
        "duration": 15,
        "start_time": "2022-06-08T12:34:52.227Z"
      },
      {
        "duration": 18,
        "start_time": "2022-06-08T12:35:00.866Z"
      },
      {
        "duration": 14,
        "start_time": "2022-06-08T12:35:12.012Z"
      },
      {
        "duration": 20,
        "start_time": "2022-06-08T12:35:21.875Z"
      },
      {
        "duration": 180,
        "start_time": "2022-06-08T12:37:14.944Z"
      },
      {
        "duration": 189,
        "start_time": "2022-06-08T12:37:38.991Z"
      },
      {
        "duration": 10,
        "start_time": "2022-06-08T12:38:58.044Z"
      },
      {
        "duration": 14,
        "start_time": "2022-06-08T12:44:24.822Z"
      },
      {
        "duration": 26,
        "start_time": "2022-06-08T12:44:30.053Z"
      },
      {
        "duration": 35,
        "start_time": "2022-06-08T12:44:54.130Z"
      },
      {
        "duration": 5,
        "start_time": "2022-06-08T12:44:57.790Z"
      },
      {
        "duration": 7,
        "start_time": "2022-06-08T12:45:09.701Z"
      },
      {
        "duration": 14,
        "start_time": "2022-06-08T12:45:15.995Z"
      },
      {
        "duration": 6,
        "start_time": "2022-06-08T12:45:17.939Z"
      },
      {
        "duration": 5,
        "start_time": "2022-06-08T12:45:28.404Z"
      },
      {
        "duration": 712,
        "start_time": "2022-06-08T12:45:41.814Z"
      },
      {
        "duration": 112,
        "start_time": "2022-06-08T12:45:42.528Z"
      },
      {
        "duration": 36,
        "start_time": "2022-06-08T12:45:42.641Z"
      },
      {
        "duration": 26,
        "start_time": "2022-06-08T12:45:42.679Z"
      },
      {
        "duration": 8,
        "start_time": "2022-06-08T12:45:42.707Z"
      },
      {
        "duration": 17,
        "start_time": "2022-06-08T12:45:42.717Z"
      },
      {
        "duration": 9,
        "start_time": "2022-06-08T12:45:42.754Z"
      },
      {
        "duration": 15,
        "start_time": "2022-06-08T12:45:42.764Z"
      },
      {
        "duration": 6,
        "start_time": "2022-06-08T12:45:42.781Z"
      },
      {
        "duration": 40,
        "start_time": "2022-06-08T12:45:42.789Z"
      },
      {
        "duration": 26,
        "start_time": "2022-06-08T12:45:42.831Z"
      },
      {
        "duration": 7,
        "start_time": "2022-06-08T12:45:42.858Z"
      },
      {
        "duration": 11,
        "start_time": "2022-06-08T12:45:42.866Z"
      },
      {
        "duration": 11,
        "start_time": "2022-06-08T12:45:42.879Z"
      },
      {
        "duration": 8,
        "start_time": "2022-06-08T12:45:42.892Z"
      },
      {
        "duration": 15,
        "start_time": "2022-06-08T12:45:42.902Z"
      },
      {
        "duration": 8,
        "start_time": "2022-06-08T12:45:42.919Z"
      },
      {
        "duration": 30,
        "start_time": "2022-06-08T12:45:42.928Z"
      },
      {
        "duration": 5,
        "start_time": "2022-06-08T12:45:42.960Z"
      },
      {
        "duration": 13,
        "start_time": "2022-06-08T12:45:42.967Z"
      },
      {
        "duration": 19,
        "start_time": "2022-06-08T12:45:42.982Z"
      },
      {
        "duration": 24,
        "start_time": "2022-06-08T12:45:43.003Z"
      },
      {
        "duration": 33,
        "start_time": "2022-06-08T12:45:43.029Z"
      },
      {
        "duration": 8,
        "start_time": "2022-06-08T12:45:43.064Z"
      },
      {
        "duration": 5,
        "start_time": "2022-06-08T12:45:43.073Z"
      },
      {
        "duration": 35,
        "start_time": "2022-06-08T12:45:43.079Z"
      },
      {
        "duration": 47,
        "start_time": "2022-06-08T12:45:43.116Z"
      },
      {
        "duration": 39,
        "start_time": "2022-06-08T12:45:43.167Z"
      },
      {
        "duration": 13,
        "start_time": "2022-06-08T12:45:43.208Z"
      },
      {
        "duration": 37,
        "start_time": "2022-06-08T12:45:43.222Z"
      },
      {
        "duration": 8,
        "start_time": "2022-06-08T12:45:43.261Z"
      },
      {
        "duration": 16,
        "start_time": "2022-06-08T12:45:43.271Z"
      },
      {
        "duration": 22,
        "start_time": "2022-06-08T12:45:43.289Z"
      },
      {
        "duration": 96,
        "start_time": "2022-06-08T12:45:43.313Z"
      },
      {
        "duration": 24,
        "start_time": "2022-06-08T12:45:43.410Z"
      },
      {
        "duration": 219,
        "start_time": "2022-06-08T12:45:43.437Z"
      },
      {
        "duration": 164,
        "start_time": "2022-06-08T12:45:43.658Z"
      },
      {
        "duration": 470,
        "start_time": "2022-06-08T12:45:43.824Z"
      },
      {
        "duration": 359,
        "start_time": "2022-06-08T12:45:44.296Z"
      },
      {
        "duration": 335,
        "start_time": "2022-06-08T12:45:44.657Z"
      },
      {
        "duration": 363,
        "start_time": "2022-06-08T12:45:44.994Z"
      },
      {
        "duration": 305,
        "start_time": "2022-06-08T12:45:45.359Z"
      },
      {
        "duration": 236,
        "start_time": "2022-06-08T12:45:45.666Z"
      },
      {
        "duration": 7,
        "start_time": "2022-06-08T12:45:45.904Z"
      },
      {
        "duration": 54,
        "start_time": "2022-06-08T12:45:45.913Z"
      },
      {
        "duration": 14,
        "start_time": "2022-06-08T12:45:45.968Z"
      },
      {
        "duration": 23,
        "start_time": "2022-06-08T12:45:45.984Z"
      },
      {
        "duration": 9,
        "start_time": "2022-06-08T12:46:12.385Z"
      },
      {
        "duration": 88,
        "start_time": "2022-06-08T12:52:03.217Z"
      },
      {
        "duration": 18,
        "start_time": "2022-06-08T12:52:15.532Z"
      },
      {
        "duration": 28,
        "start_time": "2022-06-08T12:52:23.240Z"
      },
      {
        "duration": 8,
        "start_time": "2022-06-08T12:52:42.213Z"
      },
      {
        "duration": 15,
        "start_time": "2022-06-08T12:53:00.280Z"
      },
      {
        "duration": 21,
        "start_time": "2022-06-08T12:53:12.094Z"
      },
      {
        "duration": 16,
        "start_time": "2022-06-08T12:54:37.067Z"
      },
      {
        "duration": 47,
        "start_time": "2022-06-08T12:54:43.172Z"
      },
      {
        "duration": 35,
        "start_time": "2022-06-08T12:55:47.159Z"
      },
      {
        "duration": 13,
        "start_time": "2022-06-08T12:57:18.163Z"
      },
      {
        "duration": 28,
        "start_time": "2022-06-08T13:00:12.745Z"
      },
      {
        "duration": 189,
        "start_time": "2022-06-08T13:01:25.353Z"
      },
      {
        "duration": 863,
        "start_time": "2022-06-08T13:01:39.442Z"
      },
      {
        "duration": 852,
        "start_time": "2022-06-08T13:01:54.242Z"
      },
      {
        "duration": 955,
        "start_time": "2022-06-08T13:02:05.508Z"
      },
      {
        "duration": 919,
        "start_time": "2022-06-08T13:02:15.604Z"
      },
      {
        "duration": 978,
        "start_time": "2022-06-08T13:02:23.868Z"
      },
      {
        "duration": 9,
        "start_time": "2022-06-08T13:19:07.373Z"
      },
      {
        "duration": 19,
        "start_time": "2022-06-08T13:19:19.424Z"
      },
      {
        "duration": 18,
        "start_time": "2022-06-08T13:23:57.518Z"
      },
      {
        "duration": 24,
        "start_time": "2022-06-08T13:24:19.882Z"
      },
      {
        "duration": 19,
        "start_time": "2022-06-08T13:25:58.998Z"
      },
      {
        "duration": 24,
        "start_time": "2022-06-08T13:26:05.025Z"
      },
      {
        "duration": 16,
        "start_time": "2022-06-08T13:26:35.074Z"
      },
      {
        "duration": 23,
        "start_time": "2022-06-08T13:26:42.012Z"
      },
      {
        "duration": 25,
        "start_time": "2022-06-08T13:26:51.711Z"
      },
      {
        "duration": 25,
        "start_time": "2022-06-08T13:27:07.733Z"
      },
      {
        "duration": 25,
        "start_time": "2022-06-08T13:27:20.701Z"
      },
      {
        "duration": 27,
        "start_time": "2022-06-08T13:27:30.292Z"
      },
      {
        "duration": 101,
        "start_time": "2022-06-08T13:28:01.124Z"
      },
      {
        "duration": 28,
        "start_time": "2022-06-08T13:28:32.766Z"
      },
      {
        "duration": 35,
        "start_time": "2022-06-08T13:29:18.069Z"
      },
      {
        "duration": 30,
        "start_time": "2022-06-08T13:29:29.936Z"
      },
      {
        "duration": 659,
        "start_time": "2022-06-08T13:29:48.253Z"
      },
      {
        "duration": 92,
        "start_time": "2022-06-08T13:29:48.914Z"
      },
      {
        "duration": 22,
        "start_time": "2022-06-08T13:29:49.008Z"
      },
      {
        "duration": 30,
        "start_time": "2022-06-08T13:29:49.032Z"
      },
      {
        "duration": 7,
        "start_time": "2022-06-08T13:29:49.064Z"
      },
      {
        "duration": 7,
        "start_time": "2022-06-08T13:29:49.072Z"
      },
      {
        "duration": 8,
        "start_time": "2022-06-08T13:29:49.080Z"
      },
      {
        "duration": 9,
        "start_time": "2022-06-08T13:29:49.089Z"
      },
      {
        "duration": 8,
        "start_time": "2022-06-08T13:29:49.099Z"
      },
      {
        "duration": 56,
        "start_time": "2022-06-08T13:29:49.110Z"
      },
      {
        "duration": 6,
        "start_time": "2022-06-08T13:29:49.167Z"
      },
      {
        "duration": 7,
        "start_time": "2022-06-08T13:29:49.175Z"
      },
      {
        "duration": 7,
        "start_time": "2022-06-08T13:29:49.184Z"
      },
      {
        "duration": 9,
        "start_time": "2022-06-08T13:29:49.192Z"
      },
      {
        "duration": 8,
        "start_time": "2022-06-08T13:29:49.203Z"
      },
      {
        "duration": 8,
        "start_time": "2022-06-08T13:29:49.213Z"
      },
      {
        "duration": 33,
        "start_time": "2022-06-08T13:29:49.223Z"
      },
      {
        "duration": 6,
        "start_time": "2022-06-08T13:29:49.258Z"
      },
      {
        "duration": 5,
        "start_time": "2022-06-08T13:29:49.266Z"
      },
      {
        "duration": 11,
        "start_time": "2022-06-08T13:29:49.273Z"
      },
      {
        "duration": 13,
        "start_time": "2022-06-08T13:29:49.286Z"
      },
      {
        "duration": 23,
        "start_time": "2022-06-08T13:29:49.300Z"
      },
      {
        "duration": 37,
        "start_time": "2022-06-08T13:29:49.324Z"
      },
      {
        "duration": 7,
        "start_time": "2022-06-08T13:29:49.362Z"
      },
      {
        "duration": 5,
        "start_time": "2022-06-08T13:29:49.371Z"
      },
      {
        "duration": 33,
        "start_time": "2022-06-08T13:29:49.378Z"
      },
      {
        "duration": 20,
        "start_time": "2022-06-08T13:29:49.413Z"
      },
      {
        "duration": 32,
        "start_time": "2022-06-08T13:29:49.453Z"
      },
      {
        "duration": 9,
        "start_time": "2022-06-08T13:29:49.487Z"
      },
      {
        "duration": 13,
        "start_time": "2022-06-08T13:29:49.497Z"
      },
      {
        "duration": 5,
        "start_time": "2022-06-08T13:29:49.511Z"
      },
      {
        "duration": 42,
        "start_time": "2022-06-08T13:29:49.517Z"
      },
      {
        "duration": 26,
        "start_time": "2022-06-08T13:29:49.560Z"
      },
      {
        "duration": 74,
        "start_time": "2022-06-08T13:29:49.587Z"
      },
      {
        "duration": 17,
        "start_time": "2022-06-08T13:29:49.663Z"
      },
      {
        "duration": 189,
        "start_time": "2022-06-08T13:29:49.682Z"
      },
      {
        "duration": 151,
        "start_time": "2022-06-08T13:29:49.872Z"
      },
      {
        "duration": 236,
        "start_time": "2022-06-08T13:29:50.025Z"
      },
      {
        "duration": 141,
        "start_time": "2022-06-08T13:29:50.263Z"
      },
      {
        "duration": 149,
        "start_time": "2022-06-08T13:29:50.406Z"
      },
      {
        "duration": 147,
        "start_time": "2022-06-08T13:29:50.557Z"
      },
      {
        "duration": 184,
        "start_time": "2022-06-08T13:29:50.707Z"
      },
      {
        "duration": 290,
        "start_time": "2022-06-08T13:29:50.893Z"
      },
      {
        "duration": 6,
        "start_time": "2022-06-08T13:29:51.185Z"
      },
      {
        "duration": 83,
        "start_time": "2022-06-08T13:29:51.193Z"
      },
      {
        "duration": 1607,
        "start_time": "2022-06-08T13:29:51.277Z"
      },
      {
        "duration": 33,
        "start_time": "2022-06-08T13:31:42.468Z"
      },
      {
        "duration": 31,
        "start_time": "2022-06-08T13:31:44.721Z"
      },
      {
        "duration": 30,
        "start_time": "2022-06-08T13:32:03.858Z"
      },
      {
        "duration": 29,
        "start_time": "2022-06-08T13:32:11.998Z"
      },
      {
        "duration": 795,
        "start_time": "2022-06-08T13:41:56.627Z"
      },
      {
        "duration": 937,
        "start_time": "2022-06-08T13:42:04.622Z"
      },
      {
        "duration": 863,
        "start_time": "2022-06-08T13:42:18.662Z"
      },
      {
        "duration": 6,
        "start_time": "2022-06-08T13:54:10.354Z"
      },
      {
        "duration": 11,
        "start_time": "2022-06-08T13:54:48.425Z"
      },
      {
        "duration": 557,
        "start_time": "2022-06-08T13:55:00.504Z"
      },
      {
        "duration": 473,
        "start_time": "2022-06-08T13:55:04.488Z"
      },
      {
        "duration": 15,
        "start_time": "2022-06-08T13:55:28.007Z"
      },
      {
        "duration": 616,
        "start_time": "2022-06-08T13:57:04.908Z"
      },
      {
        "duration": 96,
        "start_time": "2022-06-08T13:57:05.525Z"
      },
      {
        "duration": 22,
        "start_time": "2022-06-08T13:57:05.623Z"
      },
      {
        "duration": 23,
        "start_time": "2022-06-08T13:57:05.646Z"
      },
      {
        "duration": 6,
        "start_time": "2022-06-08T13:57:05.671Z"
      },
      {
        "duration": 8,
        "start_time": "2022-06-08T13:57:05.678Z"
      },
      {
        "duration": 6,
        "start_time": "2022-06-08T13:57:05.687Z"
      },
      {
        "duration": 7,
        "start_time": "2022-06-08T13:57:05.694Z"
      },
      {
        "duration": 5,
        "start_time": "2022-06-08T13:57:05.703Z"
      },
      {
        "duration": 47,
        "start_time": "2022-06-08T13:57:05.709Z"
      },
      {
        "duration": 5,
        "start_time": "2022-06-08T13:57:05.757Z"
      },
      {
        "duration": 13,
        "start_time": "2022-06-08T13:57:05.763Z"
      },
      {
        "duration": 9,
        "start_time": "2022-06-08T13:57:05.778Z"
      },
      {
        "duration": 7,
        "start_time": "2022-06-08T13:57:05.790Z"
      },
      {
        "duration": 11,
        "start_time": "2022-06-08T13:57:05.798Z"
      },
      {
        "duration": 14,
        "start_time": "2022-06-08T13:57:05.810Z"
      },
      {
        "duration": 9,
        "start_time": "2022-06-08T13:57:05.825Z"
      },
      {
        "duration": 21,
        "start_time": "2022-06-08T13:57:05.835Z"
      },
      {
        "duration": 6,
        "start_time": "2022-06-08T13:57:05.858Z"
      },
      {
        "duration": 11,
        "start_time": "2022-06-08T13:57:05.865Z"
      },
      {
        "duration": 12,
        "start_time": "2022-06-08T13:57:05.877Z"
      },
      {
        "duration": 23,
        "start_time": "2022-06-08T13:57:05.890Z"
      },
      {
        "duration": 41,
        "start_time": "2022-06-08T13:57:05.914Z"
      },
      {
        "duration": 6,
        "start_time": "2022-06-08T13:57:05.957Z"
      },
      {
        "duration": 5,
        "start_time": "2022-06-08T13:57:05.964Z"
      },
      {
        "duration": 28,
        "start_time": "2022-06-08T13:57:05.970Z"
      },
      {
        "duration": 19,
        "start_time": "2022-06-08T13:57:05.999Z"
      },
      {
        "duration": 57,
        "start_time": "2022-06-08T13:57:06.020Z"
      },
      {
        "duration": 9,
        "start_time": "2022-06-08T13:57:06.078Z"
      },
      {
        "duration": 14,
        "start_time": "2022-06-08T13:57:06.089Z"
      },
      {
        "duration": 6,
        "start_time": "2022-06-08T13:57:06.104Z"
      },
      {
        "duration": 18,
        "start_time": "2022-06-08T13:57:06.112Z"
      },
      {
        "duration": 39,
        "start_time": "2022-06-08T13:57:06.132Z"
      },
      {
        "duration": 59,
        "start_time": "2022-06-08T13:57:06.173Z"
      },
      {
        "duration": 35,
        "start_time": "2022-06-08T13:57:06.234Z"
      },
      {
        "duration": 184,
        "start_time": "2022-06-08T13:57:06.270Z"
      },
      {
        "duration": 143,
        "start_time": "2022-06-08T13:57:06.456Z"
      },
      {
        "duration": 237,
        "start_time": "2022-06-08T13:57:06.601Z"
      },
      {
        "duration": 143,
        "start_time": "2022-06-08T13:57:06.840Z"
      },
      {
        "duration": 11,
        "start_time": "2022-06-08T13:57:06.984Z"
      },
      {
        "duration": 146,
        "start_time": "2022-06-08T13:57:06.998Z"
      },
      {
        "duration": 154,
        "start_time": "2022-06-08T13:57:07.152Z"
      },
      {
        "duration": 126,
        "start_time": "2022-06-08T13:57:07.308Z"
      },
      {
        "duration": 141,
        "start_time": "2022-06-08T13:57:07.436Z"
      },
      {
        "duration": 6,
        "start_time": "2022-06-08T13:57:07.579Z"
      },
      {
        "duration": 33,
        "start_time": "2022-06-08T13:57:07.586Z"
      },
      {
        "duration": 985,
        "start_time": "2022-06-08T13:57:07.620Z"
      },
      {
        "duration": 121,
        "start_time": "2022-06-08T14:03:45.303Z"
      },
      {
        "duration": 114,
        "start_time": "2022-06-08T14:03:52.249Z"
      },
      {
        "duration": 118,
        "start_time": "2022-06-08T14:03:56.699Z"
      },
      {
        "duration": 126,
        "start_time": "2022-06-08T14:03:59.759Z"
      },
      {
        "duration": 114,
        "start_time": "2022-06-08T14:04:03.140Z"
      },
      {
        "duration": 131,
        "start_time": "2022-06-08T14:04:05.855Z"
      },
      {
        "duration": 120,
        "start_time": "2022-06-08T14:04:09.256Z"
      },
      {
        "duration": 121,
        "start_time": "2022-06-08T14:04:14.616Z"
      },
      {
        "duration": 47,
        "start_time": "2022-06-17T18:18:20.922Z"
      },
      {
        "duration": 802,
        "start_time": "2022-06-17T18:18:28.555Z"
      },
      {
        "duration": 179,
        "start_time": "2022-06-17T18:18:29.360Z"
      },
      {
        "duration": 26,
        "start_time": "2022-06-17T18:18:29.541Z"
      },
      {
        "duration": 24,
        "start_time": "2022-06-17T18:18:29.569Z"
      },
      {
        "duration": 20,
        "start_time": "2022-06-17T18:18:29.595Z"
      },
      {
        "duration": 12,
        "start_time": "2022-06-17T18:18:29.617Z"
      },
      {
        "duration": 21,
        "start_time": "2022-06-17T18:18:29.631Z"
      },
      {
        "duration": 17,
        "start_time": "2022-06-17T18:18:29.654Z"
      },
      {
        "duration": 13,
        "start_time": "2022-06-17T18:18:29.673Z"
      },
      {
        "duration": 35,
        "start_time": "2022-06-17T18:18:29.688Z"
      },
      {
        "duration": 6,
        "start_time": "2022-06-17T18:18:29.724Z"
      },
      {
        "duration": 14,
        "start_time": "2022-06-17T18:18:29.731Z"
      },
      {
        "duration": 13,
        "start_time": "2022-06-17T18:18:29.746Z"
      },
      {
        "duration": 19,
        "start_time": "2022-06-17T18:18:29.761Z"
      },
      {
        "duration": 17,
        "start_time": "2022-06-17T18:18:29.782Z"
      },
      {
        "duration": 376,
        "start_time": "2022-06-17T18:18:29.800Z"
      },
      {
        "duration": 0,
        "start_time": "2022-06-17T18:18:30.179Z"
      },
      {
        "duration": 0,
        "start_time": "2022-06-17T18:18:30.180Z"
      },
      {
        "duration": 0,
        "start_time": "2022-06-17T18:18:30.181Z"
      },
      {
        "duration": 0,
        "start_time": "2022-06-17T18:18:30.182Z"
      },
      {
        "duration": 0,
        "start_time": "2022-06-17T18:18:30.183Z"
      },
      {
        "duration": 0,
        "start_time": "2022-06-17T18:18:30.185Z"
      },
      {
        "duration": 0,
        "start_time": "2022-06-17T18:18:30.186Z"
      },
      {
        "duration": 0,
        "start_time": "2022-06-17T18:18:30.187Z"
      },
      {
        "duration": 0,
        "start_time": "2022-06-17T18:18:30.188Z"
      },
      {
        "duration": 0,
        "start_time": "2022-06-17T18:18:30.189Z"
      },
      {
        "duration": 0,
        "start_time": "2022-06-17T18:18:30.190Z"
      },
      {
        "duration": 0,
        "start_time": "2022-06-17T18:18:30.191Z"
      },
      {
        "duration": 0,
        "start_time": "2022-06-17T18:18:30.192Z"
      },
      {
        "duration": 0,
        "start_time": "2022-06-17T18:18:30.194Z"
      },
      {
        "duration": 0,
        "start_time": "2022-06-17T18:18:30.194Z"
      },
      {
        "duration": 0,
        "start_time": "2022-06-17T18:18:30.196Z"
      },
      {
        "duration": 0,
        "start_time": "2022-06-17T18:18:30.197Z"
      },
      {
        "duration": 0,
        "start_time": "2022-06-17T18:18:30.198Z"
      },
      {
        "duration": 0,
        "start_time": "2022-06-17T18:18:30.199Z"
      },
      {
        "duration": 0,
        "start_time": "2022-06-17T18:18:30.200Z"
      },
      {
        "duration": 0,
        "start_time": "2022-06-17T18:18:30.201Z"
      },
      {
        "duration": 0,
        "start_time": "2022-06-17T18:18:30.202Z"
      },
      {
        "duration": 0,
        "start_time": "2022-06-17T18:18:30.203Z"
      },
      {
        "duration": 0,
        "start_time": "2022-06-17T18:18:30.204Z"
      },
      {
        "duration": 0,
        "start_time": "2022-06-17T18:18:30.206Z"
      },
      {
        "duration": 0,
        "start_time": "2022-06-17T18:18:30.207Z"
      },
      {
        "duration": 0,
        "start_time": "2022-06-17T18:18:30.208Z"
      },
      {
        "duration": 0,
        "start_time": "2022-06-17T18:18:30.209Z"
      }
    ],
    "kernelspec": {
      "display_name": "Python 3 (ipykernel)",
      "language": "python",
      "name": "python3"
    },
    "language_info": {
      "codemirror_mode": {
        "name": "ipython",
        "version": 3
      },
      "file_extension": ".py",
      "mimetype": "text/x-python",
      "name": "python",
      "nbconvert_exporter": "python",
      "pygments_lexer": "ipython3",
      "version": "3.9.5"
    },
    "toc": {
      "base_numbering": 1,
      "nav_menu": {},
      "number_sections": true,
      "sideBar": true,
      "skip_h1_title": false,
      "title_cell": "Table of Contents",
      "title_sidebar": "Contents",
      "toc_cell": false,
      "toc_position": {
        "height": "calc(100% - 180px)",
        "left": "10px",
        "top": "150px",
        "width": "196px"
      },
      "toc_section_display": true,
      "toc_window_display": true
    },
    "colab": {
      "name": "Análise_Exploratória_de_Dados_(EDA)_Projeto",
      "provenance": []
    }
  },
  "nbformat": 4,
  "nbformat_minor": 0
}