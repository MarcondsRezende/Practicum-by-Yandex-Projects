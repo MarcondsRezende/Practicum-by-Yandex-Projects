{
  "cells": [
    {
      "cell_type": "markdown",
      "metadata": {
        "id": "XWSCUR3HFU-h"
      },
      "source": [
        "# Análise do risco de inadimplência dos mutuários\n",
        "\n",
        "Seu projeto é preparar um relatório para a divisão de empréstimos de um banco. Você precisará descobrir se o estado civil de um cliente e o número de filhos têm impacto sobre se ele deixará de pagar um empréstimo. O banco já tem alguns dados sobre a capacidade de crédito dos clientes.\n",
        "\n",
        "Seu relatório será considerado ao criar uma **pontuação de crédito** de um cliente em potencial. A **contagem de crédito** é usada para avaliar a capacidade de um devedor em potencial de pagar seu empréstimo.\n",
        "\n",
        "[Neste caderno, você recebe dicas e instruções breves e sugestões de raciocínio. Não os ignore, pois eles são projetados para te equipar com a estrutura do projeto e o ajudarão a analisar o que você está fazendo em um nível mais profundo. Antes de enviar seu projeto, certifique-se de remover todas as dicas e descrições fornecidas a você. Em vez disso, faça com que este relatório pareça que você está enviando para seus colegas de equipe para demonstrar suas descobertas - eles não devem saber que você teve qualquer ajuda externa nossa! Para ajudá-lo, colocamos as dicas que você deve remover entre colchetes.]\n",
        "\n",
        "[Antes de mergulhar na análise de seus dados, explique os propósitos do projeto e as hipóteses que você testará.]"
      ]
    },
    {
      "cell_type": "markdown",
      "metadata": {
        "id": "Ot4HznYqFU-i"
      },
      "source": [
        "## Abra o arquivo de dados e veja as informações gerais.\n",
        "\n",
        "[Comece importando as bibliotecas e carregando os dados. Você pode perceber que precisa de bibliotecas adicionais à medida que avança, o que é totalmente bom - apenas certifique-se de atualizar esta seção quando o fizer.]"
      ]
    },
    {
      "cell_type": "code",
      "execution_count": null,
      "metadata": {
        "id": "CuKlLlqJFU-j"
      },
      "outputs": [],
      "source": [
        "# Carregando todas as bibliotecas\n",
        "import pandas as pd\n",
        "\n",
        "# Carregue os dados\n",
        "data = pd.read_csv('/datasets/credit_scoring_eng.csv')"
      ]
    },
    {
      "cell_type": "markdown",
      "metadata": {
        "id": "o8v-V3HoFU-k"
      },
      "source": [
        "## Tarefa 1. Exploração de dados\n",
        "\n",
        "**Descrição dos dados**\n",
        "- `children` - o número de crianças na família\n",
        "- `days_employed` - experiência de trabalho em dias\n",
        "- `dob_years` - idade do cliente em anos\n",
        "- `education` - educação do cliente\n",
        "- `education_id` - identificador de educação\n",
        "- `family_status` - estado civil do cliente\n",
        "- `family_status_id` - identificador de estado civil\n",
        "- `gender` - gênero do cliente\n",
        "- `income_type` - tipo de emprego\n",
        "- `debt` - havia alguma dívida no pagamento do empréstimo\n",
        "- `total_income` - renda mensal\n",
        "- `purpose` - o objetivo de obter um empréstimo"
      ]
    },
    {
      "cell_type": "code",
      "execution_count": null,
      "metadata": {
        "id": "G3G86N47FU-l",
        "outputId": "7a2401af-a1e0-4b2e-e0fc-11797f258c81"
      },
      "outputs": [
        {
          "data": {
            "text/plain": [
              "(21525, 12)"
            ]
          },
          "execution_count": 2,
          "metadata": {},
          "output_type": "execute_result"
        }
      ],
      "source": [
        "# Vamos ver quantas linhas e colunas nosso conjunto de dados tem\n",
        "data.shape"
      ]
    },
    {
      "cell_type": "code",
      "execution_count": null,
      "metadata": {
        "scrolled": false,
        "id": "e-x0zR6LFU-n",
        "outputId": "e2dd780a-d947-4673-b9d1-6b4adf1368eb"
      },
      "outputs": [
        {
          "data": {
            "text/html": [
              "<div>\n",
              "<style scoped>\n",
              "    .dataframe tbody tr th:only-of-type {\n",
              "        vertical-align: middle;\n",
              "    }\n",
              "\n",
              "    .dataframe tbody tr th {\n",
              "        vertical-align: top;\n",
              "    }\n",
              "\n",
              "    .dataframe thead th {\n",
              "        text-align: right;\n",
              "    }\n",
              "</style>\n",
              "<table border=\"1\" class=\"dataframe\">\n",
              "  <thead>\n",
              "    <tr style=\"text-align: right;\">\n",
              "      <th></th>\n",
              "      <th>children</th>\n",
              "      <th>days_employed</th>\n",
              "      <th>dob_years</th>\n",
              "      <th>education</th>\n",
              "      <th>education_id</th>\n",
              "      <th>family_status</th>\n",
              "      <th>family_status_id</th>\n",
              "      <th>gender</th>\n",
              "      <th>income_type</th>\n",
              "      <th>debt</th>\n",
              "      <th>total_income</th>\n",
              "      <th>purpose</th>\n",
              "    </tr>\n",
              "  </thead>\n",
              "  <tbody>\n",
              "    <tr>\n",
              "      <th>0</th>\n",
              "      <td>1</td>\n",
              "      <td>-8437.673028</td>\n",
              "      <td>42</td>\n",
              "      <td>bachelor's degree</td>\n",
              "      <td>0</td>\n",
              "      <td>married</td>\n",
              "      <td>0</td>\n",
              "      <td>F</td>\n",
              "      <td>employee</td>\n",
              "      <td>0</td>\n",
              "      <td>40620.102</td>\n",
              "      <td>purchase of the house</td>\n",
              "    </tr>\n",
              "    <tr>\n",
              "      <th>1</th>\n",
              "      <td>1</td>\n",
              "      <td>-4024.803754</td>\n",
              "      <td>36</td>\n",
              "      <td>secondary education</td>\n",
              "      <td>1</td>\n",
              "      <td>married</td>\n",
              "      <td>0</td>\n",
              "      <td>F</td>\n",
              "      <td>employee</td>\n",
              "      <td>0</td>\n",
              "      <td>17932.802</td>\n",
              "      <td>car purchase</td>\n",
              "    </tr>\n",
              "    <tr>\n",
              "      <th>2</th>\n",
              "      <td>0</td>\n",
              "      <td>-5623.422610</td>\n",
              "      <td>33</td>\n",
              "      <td>Secondary Education</td>\n",
              "      <td>1</td>\n",
              "      <td>married</td>\n",
              "      <td>0</td>\n",
              "      <td>M</td>\n",
              "      <td>employee</td>\n",
              "      <td>0</td>\n",
              "      <td>23341.752</td>\n",
              "      <td>purchase of the house</td>\n",
              "    </tr>\n",
              "    <tr>\n",
              "      <th>3</th>\n",
              "      <td>3</td>\n",
              "      <td>-4124.747207</td>\n",
              "      <td>32</td>\n",
              "      <td>secondary education</td>\n",
              "      <td>1</td>\n",
              "      <td>married</td>\n",
              "      <td>0</td>\n",
              "      <td>M</td>\n",
              "      <td>employee</td>\n",
              "      <td>0</td>\n",
              "      <td>42820.568</td>\n",
              "      <td>supplementary education</td>\n",
              "    </tr>\n",
              "    <tr>\n",
              "      <th>4</th>\n",
              "      <td>0</td>\n",
              "      <td>340266.072047</td>\n",
              "      <td>53</td>\n",
              "      <td>secondary education</td>\n",
              "      <td>1</td>\n",
              "      <td>civil partnership</td>\n",
              "      <td>1</td>\n",
              "      <td>F</td>\n",
              "      <td>retiree</td>\n",
              "      <td>0</td>\n",
              "      <td>25378.572</td>\n",
              "      <td>to have a wedding</td>\n",
              "    </tr>\n",
              "    <tr>\n",
              "      <th>5</th>\n",
              "      <td>0</td>\n",
              "      <td>-926.185831</td>\n",
              "      <td>27</td>\n",
              "      <td>bachelor's degree</td>\n",
              "      <td>0</td>\n",
              "      <td>civil partnership</td>\n",
              "      <td>1</td>\n",
              "      <td>M</td>\n",
              "      <td>business</td>\n",
              "      <td>0</td>\n",
              "      <td>40922.170</td>\n",
              "      <td>purchase of the house</td>\n",
              "    </tr>\n",
              "    <tr>\n",
              "      <th>6</th>\n",
              "      <td>0</td>\n",
              "      <td>-2879.202052</td>\n",
              "      <td>43</td>\n",
              "      <td>bachelor's degree</td>\n",
              "      <td>0</td>\n",
              "      <td>married</td>\n",
              "      <td>0</td>\n",
              "      <td>F</td>\n",
              "      <td>business</td>\n",
              "      <td>0</td>\n",
              "      <td>38484.156</td>\n",
              "      <td>housing transactions</td>\n",
              "    </tr>\n",
              "    <tr>\n",
              "      <th>7</th>\n",
              "      <td>0</td>\n",
              "      <td>-152.779569</td>\n",
              "      <td>50</td>\n",
              "      <td>SECONDARY EDUCATION</td>\n",
              "      <td>1</td>\n",
              "      <td>married</td>\n",
              "      <td>0</td>\n",
              "      <td>M</td>\n",
              "      <td>employee</td>\n",
              "      <td>0</td>\n",
              "      <td>21731.829</td>\n",
              "      <td>education</td>\n",
              "    </tr>\n",
              "    <tr>\n",
              "      <th>8</th>\n",
              "      <td>2</td>\n",
              "      <td>-6929.865299</td>\n",
              "      <td>35</td>\n",
              "      <td>BACHELOR'S DEGREE</td>\n",
              "      <td>0</td>\n",
              "      <td>civil partnership</td>\n",
              "      <td>1</td>\n",
              "      <td>F</td>\n",
              "      <td>employee</td>\n",
              "      <td>0</td>\n",
              "      <td>15337.093</td>\n",
              "      <td>having a wedding</td>\n",
              "    </tr>\n",
              "    <tr>\n",
              "      <th>9</th>\n",
              "      <td>0</td>\n",
              "      <td>-2188.756445</td>\n",
              "      <td>41</td>\n",
              "      <td>secondary education</td>\n",
              "      <td>1</td>\n",
              "      <td>married</td>\n",
              "      <td>0</td>\n",
              "      <td>M</td>\n",
              "      <td>employee</td>\n",
              "      <td>0</td>\n",
              "      <td>23108.150</td>\n",
              "      <td>purchase of the house for my family</td>\n",
              "    </tr>\n",
              "  </tbody>\n",
              "</table>\n",
              "</div>"
            ],
            "text/plain": [
              "   children  days_employed  dob_years            education  education_id  \\\n",
              "0         1   -8437.673028         42    bachelor's degree             0   \n",
              "1         1   -4024.803754         36  secondary education             1   \n",
              "2         0   -5623.422610         33  Secondary Education             1   \n",
              "3         3   -4124.747207         32  secondary education             1   \n",
              "4         0  340266.072047         53  secondary education             1   \n",
              "5         0    -926.185831         27    bachelor's degree             0   \n",
              "6         0   -2879.202052         43    bachelor's degree             0   \n",
              "7         0    -152.779569         50  SECONDARY EDUCATION             1   \n",
              "8         2   -6929.865299         35    BACHELOR'S DEGREE             0   \n",
              "9         0   -2188.756445         41  secondary education             1   \n",
              "\n",
              "       family_status  family_status_id gender income_type  debt  total_income  \\\n",
              "0            married                 0      F    employee     0     40620.102   \n",
              "1            married                 0      F    employee     0     17932.802   \n",
              "2            married                 0      M    employee     0     23341.752   \n",
              "3            married                 0      M    employee     0     42820.568   \n",
              "4  civil partnership                 1      F     retiree     0     25378.572   \n",
              "5  civil partnership                 1      M    business     0     40922.170   \n",
              "6            married                 0      F    business     0     38484.156   \n",
              "7            married                 0      M    employee     0     21731.829   \n",
              "8  civil partnership                 1      F    employee     0     15337.093   \n",
              "9            married                 0      M    employee     0     23108.150   \n",
              "\n",
              "                               purpose  \n",
              "0                purchase of the house  \n",
              "1                         car purchase  \n",
              "2                purchase of the house  \n",
              "3              supplementary education  \n",
              "4                    to have a wedding  \n",
              "5                purchase of the house  \n",
              "6                 housing transactions  \n",
              "7                            education  \n",
              "8                     having a wedding  \n",
              "9  purchase of the house for my family  "
            ]
          },
          "execution_count": 3,
          "metadata": {},
          "output_type": "execute_result"
        }
      ],
      "source": [
        "# vamos exibir as primeiras N linhas\n",
        "data.head(10)"
      ]
    },
    {
      "cell_type": "code",
      "execution_count": null,
      "metadata": {
        "id": "VPo4ToBQFU-n",
        "outputId": "f1fe7c7c-6e41-4c7e-f7fb-ac68bfa8cb22"
      },
      "outputs": [
        {
          "data": {
            "text/plain": [
              "children                             -1\n",
              "days_employed             -18388.949901\n",
              "dob_years                             0\n",
              "education             BACHELOR'S DEGREE\n",
              "education_id                          0\n",
              "family_status         civil partnership\n",
              "family_status_id                      0\n",
              "gender                                F\n",
              "income_type                    business\n",
              "debt                                  0\n",
              "total_income                   3306.762\n",
              "purpose             building a property\n",
              "dtype: object"
            ]
          },
          "execution_count": 4,
          "metadata": {},
          "output_type": "execute_result"
        }
      ],
      "source": [
        "data.min()"
      ]
    },
    {
      "cell_type": "code",
      "execution_count": null,
      "metadata": {
        "id": "m_vPyTN8FU-o",
        "outputId": "6b354345-38ed-4f64-cbd4-86c140628626"
      },
      "outputs": [
        {
          "data": {
            "text/plain": [
              "children                          20\n",
              "days_employed          401755.400475\n",
              "dob_years                         75\n",
              "education               some college\n",
              "education_id                       4\n",
              "family_status        widow / widower\n",
              "family_status_id                   4\n",
              "gender                           XNA\n",
              "income_type               unemployed\n",
              "debt                               1\n",
              "total_income              362496.645\n",
              "purpose             wedding ceremony\n",
              "dtype: object"
            ]
          },
          "execution_count": 5,
          "metadata": {},
          "output_type": "execute_result"
        }
      ],
      "source": [
        "data.max()"
      ]
    },
    {
      "cell_type": "code",
      "execution_count": null,
      "metadata": {
        "scrolled": false,
        "id": "HtsgkrPpFU-o",
        "outputId": "26319646-f195-4752-c3da-7fca6afdb3df"
      },
      "outputs": [
        {
          "name": "stdout",
          "output_type": "stream",
          "text": [
            "<class 'pandas.core.frame.DataFrame'>\n",
            "RangeIndex: 21525 entries, 0 to 21524\n",
            "Data columns (total 12 columns):\n",
            " #   Column            Non-Null Count  Dtype  \n",
            "---  ------            --------------  -----  \n",
            " 0   children          21525 non-null  int64  \n",
            " 1   days_employed     19351 non-null  float64\n",
            " 2   dob_years         21525 non-null  int64  \n",
            " 3   education         21525 non-null  object \n",
            " 4   education_id      21525 non-null  int64  \n",
            " 5   family_status     21525 non-null  object \n",
            " 6   family_status_id  21525 non-null  int64  \n",
            " 7   gender            21525 non-null  object \n",
            " 8   income_type       21525 non-null  object \n",
            " 9   debt              21525 non-null  int64  \n",
            " 10  total_income      19351 non-null  float64\n",
            " 11  purpose           21525 non-null  object \n",
            "dtypes: float64(2), int64(5), object(5)\n",
            "memory usage: 2.0+ MB\n"
          ]
        }
      ],
      "source": [
        "# Obter informações sobre dados\n",
        "data.info()"
      ]
    },
    {
      "cell_type": "code",
      "execution_count": null,
      "metadata": {
        "id": "GbidrEwKFU-o",
        "outputId": "58ed425a-a52f-4c83-db47-22a1db406fd2"
      },
      "outputs": [
        {
          "data": {
            "text/plain": [
              "children              int64\n",
              "days_employed       float64\n",
              "dob_years             int64\n",
              "education            object\n",
              "education_id          int64\n",
              "family_status        object\n",
              "family_status_id      int64\n",
              "gender               object\n",
              "income_type          object\n",
              "debt                  int64\n",
              "total_income        float64\n",
              "purpose              object\n",
              "dtype: object"
            ]
          },
          "execution_count": 7,
          "metadata": {},
          "output_type": "execute_result"
        }
      ],
      "source": [
        "data.dtypes"
      ]
    },
    {
      "cell_type": "markdown",
      "metadata": {
        "id": "SHzc9YYaFU-p"
      },
      "source": [
        "## O que foi descoberto?\n",
        "\n",
        "__Analisando as informações, observa-se os seguintes dados:__\n",
        "    \n",
        "   * Há 21525 linhas e 12 colunas.\n",
        "   * Existem NaN em days_employed e total_income (19351), #Observar se há alguma similaridade entre os dados.\n",
        "   * Em days_employed a númeração que era pra ser posítiva está negativa. \n",
        "   * Observa-se também que há -1 até 20 filhos.\n",
        "   * dob_years deverá ser visualizada com mais cuidado.\n",
        "   * Em gender encontra-se uma ou mais entrada com XNA\n",
        "   * Tipos de dados estão corretos.\n",
        "   \n",
        "   \n",
        "#### Com base nas informações acima e processos básicos de Análise de Dados, precisa ser verificado a entrada de duplicatas, deixando os objetos no mesmo tipo de caixa e analisando se há dados influenciáveis."
      ]
    },
    {
      "cell_type": "markdown",
      "metadata": {
        "id": "3c8c_4KkFU-p"
      },
      "source": [
        "## Explorando as informações encontradas."
      ]
    },
    {
      "cell_type": "code",
      "execution_count": null,
      "metadata": {
        "scrolled": true,
        "id": "W2_h5Dm4FU-q",
        "outputId": "593690ca-4c54-4b4e-9e61-ac880282df63"
      },
      "outputs": [
        {
          "name": "stdout",
          "output_type": "stream",
          "text": [
            "    children  days_employed  dob_years            education  education_id  \\\n",
            "12         0            NaN         65  secondary education             1   \n",
            "26         0            NaN         41  secondary education             1   \n",
            "29         0            NaN         63  secondary education             1   \n",
            "41         0            NaN         50  secondary education             1   \n",
            "55         0            NaN         54  secondary education             1   \n",
            "65         0            NaN         21  secondary education             1   \n",
            "67         0            NaN         52    bachelor's degree             0   \n",
            "72         1            NaN         32    bachelor's degree             0   \n",
            "82         2            NaN         50    bachelor's degree             0   \n",
            "83         0            NaN         52  secondary education             1   \n",
            "\n",
            "        family_status  family_status_id gender    income_type  debt  \\\n",
            "12  civil partnership                 1      M        retiree     0   \n",
            "26            married                 0      M  civil servant     0   \n",
            "29          unmarried                 4      F        retiree     0   \n",
            "41            married                 0      F  civil servant     0   \n",
            "55  civil partnership                 1      F        retiree     1   \n",
            "65          unmarried                 4      M       business     0   \n",
            "67            married                 0      F        retiree     0   \n",
            "72            married                 0      M  civil servant     0   \n",
            "82            married                 0      F       employee     0   \n",
            "83            married                 0      M       employee     0   \n",
            "\n",
            "    total_income                                   purpose  \n",
            "12           NaN                         to have a wedding  \n",
            "26           NaN                                 education  \n",
            "29           NaN                    building a real estate  \n",
            "41           NaN                  second-hand car purchase  \n",
            "55           NaN                         to have a wedding  \n",
            "65           NaN  transactions with commercial real estate  \n",
            "67           NaN       purchase of the house for my family  \n",
            "72           NaN  transactions with commercial real estate  \n",
            "82           NaN                                   housing  \n",
            "83           NaN                                   housing  \n"
          ]
        }
      ],
      "source": [
        "# Vejamos a tabela filtrada com valores ausentes na primeira coluna com dados ausentes\n",
        "\n",
        "print(data[data['days_employed'].isna()].head(10))"
      ]
    },
    {
      "cell_type": "code",
      "execution_count": null,
      "metadata": {
        "id": "FcJ4MJVxFU-q",
        "outputId": "3eab3315-aa55-44c9-ebb9-edc93492b33d"
      },
      "outputs": [
        {
          "data": {
            "text/plain": [
              "children               0\n",
              "days_employed       2174\n",
              "dob_years              0\n",
              "education              0\n",
              "education_id           0\n",
              "family_status          0\n",
              "family_status_id       0\n",
              "gender                 0\n",
              "income_type            0\n",
              "debt                   0\n",
              "total_income        2174\n",
              "purpose                0\n",
              "dtype: int64"
            ]
          },
          "execution_count": 9,
          "metadata": {},
          "output_type": "execute_result"
        }
      ],
      "source": [
        "data.isnull().sum()"
      ]
    },
    {
      "cell_type": "markdown",
      "metadata": {
        "id": "aLKiNWLMFU-r"
      },
      "source": [
        "[Os valores ausentes parecem simétricos? Podemos ter certeza desta suposição? Explique brevemente seus pensamentos nesta seção. Você provavelmente pode querer realizar investigações adicionais e contar os valores ausentes em todas as linhas com valores ausentes para confirmar que as amostras ausentes são do mesmo tamanho.]"
      ]
    },
    {
      "cell_type": "code",
      "execution_count": null,
      "metadata": {
        "id": "nLgwA56DFU-r",
        "outputId": "a93eda63-0cf0-4fe7-8393-a49c33cca36d"
      },
      "outputs": [
        {
          "data": {
            "text/html": [
              "<div>\n",
              "<style scoped>\n",
              "    .dataframe tbody tr th:only-of-type {\n",
              "        vertical-align: middle;\n",
              "    }\n",
              "\n",
              "    .dataframe tbody tr th {\n",
              "        vertical-align: top;\n",
              "    }\n",
              "\n",
              "    .dataframe thead th {\n",
              "        text-align: right;\n",
              "    }\n",
              "</style>\n",
              "<table border=\"1\" class=\"dataframe\">\n",
              "  <thead>\n",
              "    <tr style=\"text-align: right;\">\n",
              "      <th></th>\n",
              "      <th>children</th>\n",
              "      <th>days_employed</th>\n",
              "      <th>dob_years</th>\n",
              "      <th>education</th>\n",
              "      <th>education_id</th>\n",
              "      <th>family_status</th>\n",
              "      <th>family_status_id</th>\n",
              "      <th>gender</th>\n",
              "      <th>income_type</th>\n",
              "      <th>debt</th>\n",
              "      <th>total_income</th>\n",
              "      <th>purpose</th>\n",
              "    </tr>\n",
              "  </thead>\n",
              "  <tbody>\n",
              "    <tr>\n",
              "      <th>12</th>\n",
              "      <td>0</td>\n",
              "      <td>NaN</td>\n",
              "      <td>65</td>\n",
              "      <td>secondary education</td>\n",
              "      <td>1</td>\n",
              "      <td>civil partnership</td>\n",
              "      <td>1</td>\n",
              "      <td>M</td>\n",
              "      <td>retiree</td>\n",
              "      <td>0</td>\n",
              "      <td>NaN</td>\n",
              "      <td>to have a wedding</td>\n",
              "    </tr>\n",
              "    <tr>\n",
              "      <th>26</th>\n",
              "      <td>0</td>\n",
              "      <td>NaN</td>\n",
              "      <td>41</td>\n",
              "      <td>secondary education</td>\n",
              "      <td>1</td>\n",
              "      <td>married</td>\n",
              "      <td>0</td>\n",
              "      <td>M</td>\n",
              "      <td>civil servant</td>\n",
              "      <td>0</td>\n",
              "      <td>NaN</td>\n",
              "      <td>education</td>\n",
              "    </tr>\n",
              "    <tr>\n",
              "      <th>29</th>\n",
              "      <td>0</td>\n",
              "      <td>NaN</td>\n",
              "      <td>63</td>\n",
              "      <td>secondary education</td>\n",
              "      <td>1</td>\n",
              "      <td>unmarried</td>\n",
              "      <td>4</td>\n",
              "      <td>F</td>\n",
              "      <td>retiree</td>\n",
              "      <td>0</td>\n",
              "      <td>NaN</td>\n",
              "      <td>building a real estate</td>\n",
              "    </tr>\n",
              "    <tr>\n",
              "      <th>41</th>\n",
              "      <td>0</td>\n",
              "      <td>NaN</td>\n",
              "      <td>50</td>\n",
              "      <td>secondary education</td>\n",
              "      <td>1</td>\n",
              "      <td>married</td>\n",
              "      <td>0</td>\n",
              "      <td>F</td>\n",
              "      <td>civil servant</td>\n",
              "      <td>0</td>\n",
              "      <td>NaN</td>\n",
              "      <td>second-hand car purchase</td>\n",
              "    </tr>\n",
              "    <tr>\n",
              "      <th>55</th>\n",
              "      <td>0</td>\n",
              "      <td>NaN</td>\n",
              "      <td>54</td>\n",
              "      <td>secondary education</td>\n",
              "      <td>1</td>\n",
              "      <td>civil partnership</td>\n",
              "      <td>1</td>\n",
              "      <td>F</td>\n",
              "      <td>retiree</td>\n",
              "      <td>1</td>\n",
              "      <td>NaN</td>\n",
              "      <td>to have a wedding</td>\n",
              "    </tr>\n",
              "    <tr>\n",
              "      <th>65</th>\n",
              "      <td>0</td>\n",
              "      <td>NaN</td>\n",
              "      <td>21</td>\n",
              "      <td>secondary education</td>\n",
              "      <td>1</td>\n",
              "      <td>unmarried</td>\n",
              "      <td>4</td>\n",
              "      <td>M</td>\n",
              "      <td>business</td>\n",
              "      <td>0</td>\n",
              "      <td>NaN</td>\n",
              "      <td>transactions with commercial real estate</td>\n",
              "    </tr>\n",
              "    <tr>\n",
              "      <th>67</th>\n",
              "      <td>0</td>\n",
              "      <td>NaN</td>\n",
              "      <td>52</td>\n",
              "      <td>bachelor's degree</td>\n",
              "      <td>0</td>\n",
              "      <td>married</td>\n",
              "      <td>0</td>\n",
              "      <td>F</td>\n",
              "      <td>retiree</td>\n",
              "      <td>0</td>\n",
              "      <td>NaN</td>\n",
              "      <td>purchase of the house for my family</td>\n",
              "    </tr>\n",
              "    <tr>\n",
              "      <th>72</th>\n",
              "      <td>1</td>\n",
              "      <td>NaN</td>\n",
              "      <td>32</td>\n",
              "      <td>bachelor's degree</td>\n",
              "      <td>0</td>\n",
              "      <td>married</td>\n",
              "      <td>0</td>\n",
              "      <td>M</td>\n",
              "      <td>civil servant</td>\n",
              "      <td>0</td>\n",
              "      <td>NaN</td>\n",
              "      <td>transactions with commercial real estate</td>\n",
              "    </tr>\n",
              "    <tr>\n",
              "      <th>82</th>\n",
              "      <td>2</td>\n",
              "      <td>NaN</td>\n",
              "      <td>50</td>\n",
              "      <td>bachelor's degree</td>\n",
              "      <td>0</td>\n",
              "      <td>married</td>\n",
              "      <td>0</td>\n",
              "      <td>F</td>\n",
              "      <td>employee</td>\n",
              "      <td>0</td>\n",
              "      <td>NaN</td>\n",
              "      <td>housing</td>\n",
              "    </tr>\n",
              "    <tr>\n",
              "      <th>83</th>\n",
              "      <td>0</td>\n",
              "      <td>NaN</td>\n",
              "      <td>52</td>\n",
              "      <td>secondary education</td>\n",
              "      <td>1</td>\n",
              "      <td>married</td>\n",
              "      <td>0</td>\n",
              "      <td>M</td>\n",
              "      <td>employee</td>\n",
              "      <td>0</td>\n",
              "      <td>NaN</td>\n",
              "      <td>housing</td>\n",
              "    </tr>\n",
              "    <tr>\n",
              "      <th>90</th>\n",
              "      <td>2</td>\n",
              "      <td>NaN</td>\n",
              "      <td>35</td>\n",
              "      <td>bachelor's degree</td>\n",
              "      <td>0</td>\n",
              "      <td>married</td>\n",
              "      <td>0</td>\n",
              "      <td>F</td>\n",
              "      <td>employee</td>\n",
              "      <td>0</td>\n",
              "      <td>NaN</td>\n",
              "      <td>housing transactions</td>\n",
              "    </tr>\n",
              "    <tr>\n",
              "      <th>94</th>\n",
              "      <td>1</td>\n",
              "      <td>NaN</td>\n",
              "      <td>34</td>\n",
              "      <td>bachelor's degree</td>\n",
              "      <td>0</td>\n",
              "      <td>civil partnership</td>\n",
              "      <td>1</td>\n",
              "      <td>F</td>\n",
              "      <td>business</td>\n",
              "      <td>0</td>\n",
              "      <td>NaN</td>\n",
              "      <td>having a wedding</td>\n",
              "    </tr>\n",
              "    <tr>\n",
              "      <th>96</th>\n",
              "      <td>0</td>\n",
              "      <td>NaN</td>\n",
              "      <td>44</td>\n",
              "      <td>SECONDARY EDUCATION</td>\n",
              "      <td>1</td>\n",
              "      <td>married</td>\n",
              "      <td>0</td>\n",
              "      <td>F</td>\n",
              "      <td>employee</td>\n",
              "      <td>0</td>\n",
              "      <td>NaN</td>\n",
              "      <td>buy residential real estate</td>\n",
              "    </tr>\n",
              "    <tr>\n",
              "      <th>97</th>\n",
              "      <td>0</td>\n",
              "      <td>NaN</td>\n",
              "      <td>47</td>\n",
              "      <td>bachelor's degree</td>\n",
              "      <td>0</td>\n",
              "      <td>married</td>\n",
              "      <td>0</td>\n",
              "      <td>F</td>\n",
              "      <td>employee</td>\n",
              "      <td>0</td>\n",
              "      <td>NaN</td>\n",
              "      <td>profile education</td>\n",
              "    </tr>\n",
              "    <tr>\n",
              "      <th>120</th>\n",
              "      <td>0</td>\n",
              "      <td>NaN</td>\n",
              "      <td>46</td>\n",
              "      <td>secondary education</td>\n",
              "      <td>1</td>\n",
              "      <td>married</td>\n",
              "      <td>0</td>\n",
              "      <td>F</td>\n",
              "      <td>employee</td>\n",
              "      <td>0</td>\n",
              "      <td>NaN</td>\n",
              "      <td>university education</td>\n",
              "    </tr>\n",
              "  </tbody>\n",
              "</table>\n",
              "</div>"
            ],
            "text/plain": [
              "     children  days_employed  dob_years            education  education_id  \\\n",
              "12          0            NaN         65  secondary education             1   \n",
              "26          0            NaN         41  secondary education             1   \n",
              "29          0            NaN         63  secondary education             1   \n",
              "41          0            NaN         50  secondary education             1   \n",
              "55          0            NaN         54  secondary education             1   \n",
              "65          0            NaN         21  secondary education             1   \n",
              "67          0            NaN         52    bachelor's degree             0   \n",
              "72          1            NaN         32    bachelor's degree             0   \n",
              "82          2            NaN         50    bachelor's degree             0   \n",
              "83          0            NaN         52  secondary education             1   \n",
              "90          2            NaN         35    bachelor's degree             0   \n",
              "94          1            NaN         34    bachelor's degree             0   \n",
              "96          0            NaN         44  SECONDARY EDUCATION             1   \n",
              "97          0            NaN         47    bachelor's degree             0   \n",
              "120         0            NaN         46  secondary education             1   \n",
              "\n",
              "         family_status  family_status_id gender    income_type  debt  \\\n",
              "12   civil partnership                 1      M        retiree     0   \n",
              "26             married                 0      M  civil servant     0   \n",
              "29           unmarried                 4      F        retiree     0   \n",
              "41             married                 0      F  civil servant     0   \n",
              "55   civil partnership                 1      F        retiree     1   \n",
              "65           unmarried                 4      M       business     0   \n",
              "67             married                 0      F        retiree     0   \n",
              "72             married                 0      M  civil servant     0   \n",
              "82             married                 0      F       employee     0   \n",
              "83             married                 0      M       employee     0   \n",
              "90             married                 0      F       employee     0   \n",
              "94   civil partnership                 1      F       business     0   \n",
              "96             married                 0      F       employee     0   \n",
              "97             married                 0      F       employee     0   \n",
              "120            married                 0      F       employee     0   \n",
              "\n",
              "     total_income                                   purpose  \n",
              "12            NaN                         to have a wedding  \n",
              "26            NaN                                 education  \n",
              "29            NaN                    building a real estate  \n",
              "41            NaN                  second-hand car purchase  \n",
              "55            NaN                         to have a wedding  \n",
              "65            NaN  transactions with commercial real estate  \n",
              "67            NaN       purchase of the house for my family  \n",
              "72            NaN  transactions with commercial real estate  \n",
              "82            NaN                                   housing  \n",
              "83            NaN                                   housing  \n",
              "90            NaN                      housing transactions  \n",
              "94            NaN                          having a wedding  \n",
              "96            NaN               buy residential real estate  \n",
              "97            NaN                         profile education  \n",
              "120           NaN                      university education  "
            ]
          },
          "execution_count": 10,
          "metadata": {},
          "output_type": "execute_result"
        }
      ],
      "source": [
        "# Vamos aplicar várias condições para filtrar dados e observar o número de linhas na tabela filtrada.\n",
        "\n",
        "data_nan = data[(data['days_employed'].isnull()) & (data['total_income'].isnull())]\n",
        "data_nan.head(15)"
      ]
    },
    {
      "cell_type": "markdown",
      "metadata": {
        "id": "X_BxSbq9FU-s"
      },
      "source": [
        "**Conclusão intermediária**\n",
        "\n",
        "__Problemas__\n",
        "\n",
        "* Em 'days_employed' há float, porém deveria ter apenas int.\n",
        "* 'days_employed' tem muitos valores negativos, porque?\n",
        "* 'days_employed' valores exacerbados. \n",
        "* 'education' com algumas células tem valores iguais, porém escritos de com letras maiúsculas\n",
        "* 'purpose' pode ser descrito de melhor forma\n",
        "* valores estranhos em 'children'\n",
        "\n",
        "\n",
        "Possíveis motivos para valores ausentes nos dados\n",
        "\n",
        "* Possiveis NaN's em 'total_income' sejam causados por não empregados, onde 'days_employed' = 0. Assim, nota-se que 'total_income' influencia em 'days_employed' ausente.\n",
        "\n",
        "O que precisa ser feito\n",
        "\n",
        "* Substituir os valores NaN em 'days_employed' e 'total_income' por 0.\n",
        "* Mudar os valores escritos com letras maiusculas em 'education' para letras minusculas e aprofundar algumas análises.\n",
        "* Deixar 'purpose' mais simples.\n",
        "* Corrigir os valores estranhos em 'children'.\n",
        "* Analisar outras colunas e verificar se há dados incompatíveis."
      ]
    },
    {
      "cell_type": "markdown",
      "metadata": {
        "id": "hU98qotpFU-s"
      },
      "source": [
        "<div class=\"alert alert-block alert-success\">\n",
        "<b>Comentário do corretor</b> <a class=\"tocSkip\"></a>\n",
        "\n",
        "Ótimas conclusões!\n",
        "</div>"
      ]
    },
    {
      "cell_type": "code",
      "execution_count": null,
      "metadata": {
        "id": "_GOVo9UeFU-s",
        "outputId": "d0a4a380-f8e2-4f29-8333-4a7d44d3365e"
      },
      "outputs": [
        {
          "data": {
            "text/plain": [
              "0"
            ]
          },
          "execution_count": 11,
          "metadata": {},
          "output_type": "execute_result"
        }
      ],
      "source": [
        "# Analisar valores NaN em total_income e em days_employed. Dessa forma, se nenhum valor for diferente dos NaN, entende-se que os dados estão correlatos.\n",
        "\n",
        "len(data_nan[data_nan['total_income'].isna()==False])"
      ]
    },
    {
      "cell_type": "markdown",
      "metadata": {
        "id": "5uiNQ76OFU-t"
      },
      "source": [
        "__Conclui-se que total_income e days_employed são valores ausentes similares.__"
      ]
    },
    {
      "cell_type": "markdown",
      "metadata": {
        "id": "EW6K9SZKFU-u"
      },
      "source": [
        "## Transformação de dados"
      ]
    },
    {
      "cell_type": "code",
      "execution_count": null,
      "metadata": {
        "scrolled": true,
        "id": "5dlA4EhUFU-u",
        "outputId": "c702fa29-c7c8-4aa4-b481-1d383464e1c1"
      },
      "outputs": [
        {
          "data": {
            "text/html": [
              "<div>\n",
              "<style scoped>\n",
              "    .dataframe tbody tr th:only-of-type {\n",
              "        vertical-align: middle;\n",
              "    }\n",
              "\n",
              "    .dataframe tbody tr th {\n",
              "        vertical-align: top;\n",
              "    }\n",
              "\n",
              "    .dataframe thead th {\n",
              "        text-align: right;\n",
              "    }\n",
              "</style>\n",
              "<table border=\"1\" class=\"dataframe\">\n",
              "  <thead>\n",
              "    <tr style=\"text-align: right;\">\n",
              "      <th></th>\n",
              "      <th>children</th>\n",
              "      <th>days_employed</th>\n",
              "      <th>dob_years</th>\n",
              "      <th>education</th>\n",
              "      <th>education_id</th>\n",
              "      <th>family_status</th>\n",
              "      <th>family_status_id</th>\n",
              "      <th>gender</th>\n",
              "      <th>income_type</th>\n",
              "      <th>debt</th>\n",
              "      <th>total_income</th>\n",
              "      <th>purpose</th>\n",
              "    </tr>\n",
              "  </thead>\n",
              "  <tbody>\n",
              "    <tr>\n",
              "      <th>0</th>\n",
              "      <td>1</td>\n",
              "      <td>-8437.673028</td>\n",
              "      <td>42</td>\n",
              "      <td>bachelor's degree</td>\n",
              "      <td>0</td>\n",
              "      <td>married</td>\n",
              "      <td>0</td>\n",
              "      <td>F</td>\n",
              "      <td>employee</td>\n",
              "      <td>0</td>\n",
              "      <td>40620.102</td>\n",
              "      <td>purchase of the house</td>\n",
              "    </tr>\n",
              "    <tr>\n",
              "      <th>1</th>\n",
              "      <td>1</td>\n",
              "      <td>-4024.803754</td>\n",
              "      <td>36</td>\n",
              "      <td>secondary education</td>\n",
              "      <td>1</td>\n",
              "      <td>married</td>\n",
              "      <td>0</td>\n",
              "      <td>F</td>\n",
              "      <td>employee</td>\n",
              "      <td>0</td>\n",
              "      <td>17932.802</td>\n",
              "      <td>car purchase</td>\n",
              "    </tr>\n",
              "    <tr>\n",
              "      <th>2</th>\n",
              "      <td>0</td>\n",
              "      <td>-5623.422610</td>\n",
              "      <td>33</td>\n",
              "      <td>secondary education</td>\n",
              "      <td>1</td>\n",
              "      <td>married</td>\n",
              "      <td>0</td>\n",
              "      <td>M</td>\n",
              "      <td>employee</td>\n",
              "      <td>0</td>\n",
              "      <td>23341.752</td>\n",
              "      <td>purchase of the house</td>\n",
              "    </tr>\n",
              "    <tr>\n",
              "      <th>3</th>\n",
              "      <td>3</td>\n",
              "      <td>-4124.747207</td>\n",
              "      <td>32</td>\n",
              "      <td>secondary education</td>\n",
              "      <td>1</td>\n",
              "      <td>married</td>\n",
              "      <td>0</td>\n",
              "      <td>M</td>\n",
              "      <td>employee</td>\n",
              "      <td>0</td>\n",
              "      <td>42820.568</td>\n",
              "      <td>supplementary education</td>\n",
              "    </tr>\n",
              "    <tr>\n",
              "      <th>4</th>\n",
              "      <td>0</td>\n",
              "      <td>340266.072047</td>\n",
              "      <td>53</td>\n",
              "      <td>secondary education</td>\n",
              "      <td>1</td>\n",
              "      <td>civil partnership</td>\n",
              "      <td>1</td>\n",
              "      <td>F</td>\n",
              "      <td>retiree</td>\n",
              "      <td>0</td>\n",
              "      <td>25378.572</td>\n",
              "      <td>to have a wedding</td>\n",
              "    </tr>\n",
              "    <tr>\n",
              "      <th>5</th>\n",
              "      <td>0</td>\n",
              "      <td>-926.185831</td>\n",
              "      <td>27</td>\n",
              "      <td>bachelor's degree</td>\n",
              "      <td>0</td>\n",
              "      <td>civil partnership</td>\n",
              "      <td>1</td>\n",
              "      <td>M</td>\n",
              "      <td>business</td>\n",
              "      <td>0</td>\n",
              "      <td>40922.170</td>\n",
              "      <td>purchase of the house</td>\n",
              "    </tr>\n",
              "    <tr>\n",
              "      <th>6</th>\n",
              "      <td>0</td>\n",
              "      <td>-2879.202052</td>\n",
              "      <td>43</td>\n",
              "      <td>bachelor's degree</td>\n",
              "      <td>0</td>\n",
              "      <td>married</td>\n",
              "      <td>0</td>\n",
              "      <td>F</td>\n",
              "      <td>business</td>\n",
              "      <td>0</td>\n",
              "      <td>38484.156</td>\n",
              "      <td>housing transactions</td>\n",
              "    </tr>\n",
              "    <tr>\n",
              "      <th>7</th>\n",
              "      <td>0</td>\n",
              "      <td>-152.779569</td>\n",
              "      <td>50</td>\n",
              "      <td>secondary education</td>\n",
              "      <td>1</td>\n",
              "      <td>married</td>\n",
              "      <td>0</td>\n",
              "      <td>M</td>\n",
              "      <td>employee</td>\n",
              "      <td>0</td>\n",
              "      <td>21731.829</td>\n",
              "      <td>education</td>\n",
              "    </tr>\n",
              "    <tr>\n",
              "      <th>8</th>\n",
              "      <td>2</td>\n",
              "      <td>-6929.865299</td>\n",
              "      <td>35</td>\n",
              "      <td>bachelor's degree</td>\n",
              "      <td>0</td>\n",
              "      <td>civil partnership</td>\n",
              "      <td>1</td>\n",
              "      <td>F</td>\n",
              "      <td>employee</td>\n",
              "      <td>0</td>\n",
              "      <td>15337.093</td>\n",
              "      <td>having a wedding</td>\n",
              "    </tr>\n",
              "    <tr>\n",
              "      <th>9</th>\n",
              "      <td>0</td>\n",
              "      <td>-2188.756445</td>\n",
              "      <td>41</td>\n",
              "      <td>secondary education</td>\n",
              "      <td>1</td>\n",
              "      <td>married</td>\n",
              "      <td>0</td>\n",
              "      <td>M</td>\n",
              "      <td>employee</td>\n",
              "      <td>0</td>\n",
              "      <td>23108.150</td>\n",
              "      <td>purchase of the house for my family</td>\n",
              "    </tr>\n",
              "    <tr>\n",
              "      <th>10</th>\n",
              "      <td>2</td>\n",
              "      <td>-4171.483647</td>\n",
              "      <td>36</td>\n",
              "      <td>bachelor's degree</td>\n",
              "      <td>0</td>\n",
              "      <td>married</td>\n",
              "      <td>0</td>\n",
              "      <td>M</td>\n",
              "      <td>business</td>\n",
              "      <td>0</td>\n",
              "      <td>18230.959</td>\n",
              "      <td>buy real estate</td>\n",
              "    </tr>\n",
              "    <tr>\n",
              "      <th>11</th>\n",
              "      <td>0</td>\n",
              "      <td>-792.701887</td>\n",
              "      <td>40</td>\n",
              "      <td>secondary education</td>\n",
              "      <td>1</td>\n",
              "      <td>married</td>\n",
              "      <td>0</td>\n",
              "      <td>F</td>\n",
              "      <td>employee</td>\n",
              "      <td>0</td>\n",
              "      <td>12331.077</td>\n",
              "      <td>buy commercial real estate</td>\n",
              "    </tr>\n",
              "    <tr>\n",
              "      <th>12</th>\n",
              "      <td>0</td>\n",
              "      <td>NaN</td>\n",
              "      <td>65</td>\n",
              "      <td>secondary education</td>\n",
              "      <td>1</td>\n",
              "      <td>civil partnership</td>\n",
              "      <td>1</td>\n",
              "      <td>M</td>\n",
              "      <td>retiree</td>\n",
              "      <td>0</td>\n",
              "      <td>NaN</td>\n",
              "      <td>to have a wedding</td>\n",
              "    </tr>\n",
              "    <tr>\n",
              "      <th>13</th>\n",
              "      <td>0</td>\n",
              "      <td>-1846.641941</td>\n",
              "      <td>54</td>\n",
              "      <td>some college</td>\n",
              "      <td>2</td>\n",
              "      <td>married</td>\n",
              "      <td>0</td>\n",
              "      <td>F</td>\n",
              "      <td>employee</td>\n",
              "      <td>0</td>\n",
              "      <td>20873.317</td>\n",
              "      <td>car purchase</td>\n",
              "    </tr>\n",
              "    <tr>\n",
              "      <th>14</th>\n",
              "      <td>0</td>\n",
              "      <td>-1844.956182</td>\n",
              "      <td>56</td>\n",
              "      <td>bachelor's degree</td>\n",
              "      <td>0</td>\n",
              "      <td>civil partnership</td>\n",
              "      <td>1</td>\n",
              "      <td>F</td>\n",
              "      <td>business</td>\n",
              "      <td>1</td>\n",
              "      <td>26420.466</td>\n",
              "      <td>buy residential real estate</td>\n",
              "    </tr>\n",
              "    <tr>\n",
              "      <th>15</th>\n",
              "      <td>1</td>\n",
              "      <td>-972.364419</td>\n",
              "      <td>26</td>\n",
              "      <td>secondary education</td>\n",
              "      <td>1</td>\n",
              "      <td>married</td>\n",
              "      <td>0</td>\n",
              "      <td>F</td>\n",
              "      <td>employee</td>\n",
              "      <td>0</td>\n",
              "      <td>18691.345</td>\n",
              "      <td>construction of own property</td>\n",
              "    </tr>\n",
              "    <tr>\n",
              "      <th>16</th>\n",
              "      <td>0</td>\n",
              "      <td>-1719.934226</td>\n",
              "      <td>35</td>\n",
              "      <td>secondary education</td>\n",
              "      <td>1</td>\n",
              "      <td>married</td>\n",
              "      <td>0</td>\n",
              "      <td>F</td>\n",
              "      <td>employee</td>\n",
              "      <td>0</td>\n",
              "      <td>46272.433</td>\n",
              "      <td>property</td>\n",
              "    </tr>\n",
              "    <tr>\n",
              "      <th>17</th>\n",
              "      <td>0</td>\n",
              "      <td>-2369.999720</td>\n",
              "      <td>33</td>\n",
              "      <td>bachelor's degree</td>\n",
              "      <td>0</td>\n",
              "      <td>civil partnership</td>\n",
              "      <td>1</td>\n",
              "      <td>M</td>\n",
              "      <td>employee</td>\n",
              "      <td>0</td>\n",
              "      <td>14465.694</td>\n",
              "      <td>building a property</td>\n",
              "    </tr>\n",
              "    <tr>\n",
              "      <th>18</th>\n",
              "      <td>0</td>\n",
              "      <td>400281.136913</td>\n",
              "      <td>53</td>\n",
              "      <td>secondary education</td>\n",
              "      <td>1</td>\n",
              "      <td>widow / widower</td>\n",
              "      <td>2</td>\n",
              "      <td>F</td>\n",
              "      <td>retiree</td>\n",
              "      <td>0</td>\n",
              "      <td>9091.804</td>\n",
              "      <td>buying a second-hand car</td>\n",
              "    </tr>\n",
              "    <tr>\n",
              "      <th>19</th>\n",
              "      <td>0</td>\n",
              "      <td>-10038.818549</td>\n",
              "      <td>48</td>\n",
              "      <td>secondary education</td>\n",
              "      <td>1</td>\n",
              "      <td>divorced</td>\n",
              "      <td>3</td>\n",
              "      <td>F</td>\n",
              "      <td>employee</td>\n",
              "      <td>0</td>\n",
              "      <td>38852.977</td>\n",
              "      <td>buying my own car</td>\n",
              "    </tr>\n",
              "  </tbody>\n",
              "</table>\n",
              "</div>"
            ],
            "text/plain": [
              "    children  days_employed  dob_years            education  education_id  \\\n",
              "0          1   -8437.673028         42    bachelor's degree             0   \n",
              "1          1   -4024.803754         36  secondary education             1   \n",
              "2          0   -5623.422610         33  secondary education             1   \n",
              "3          3   -4124.747207         32  secondary education             1   \n",
              "4          0  340266.072047         53  secondary education             1   \n",
              "5          0    -926.185831         27    bachelor's degree             0   \n",
              "6          0   -2879.202052         43    bachelor's degree             0   \n",
              "7          0    -152.779569         50  secondary education             1   \n",
              "8          2   -6929.865299         35    bachelor's degree             0   \n",
              "9          0   -2188.756445         41  secondary education             1   \n",
              "10         2   -4171.483647         36    bachelor's degree             0   \n",
              "11         0    -792.701887         40  secondary education             1   \n",
              "12         0            NaN         65  secondary education             1   \n",
              "13         0   -1846.641941         54         some college             2   \n",
              "14         0   -1844.956182         56    bachelor's degree             0   \n",
              "15         1    -972.364419         26  secondary education             1   \n",
              "16         0   -1719.934226         35  secondary education             1   \n",
              "17         0   -2369.999720         33    bachelor's degree             0   \n",
              "18         0  400281.136913         53  secondary education             1   \n",
              "19         0  -10038.818549         48  secondary education             1   \n",
              "\n",
              "        family_status  family_status_id gender income_type  debt  \\\n",
              "0             married                 0      F    employee     0   \n",
              "1             married                 0      F    employee     0   \n",
              "2             married                 0      M    employee     0   \n",
              "3             married                 0      M    employee     0   \n",
              "4   civil partnership                 1      F     retiree     0   \n",
              "5   civil partnership                 1      M    business     0   \n",
              "6             married                 0      F    business     0   \n",
              "7             married                 0      M    employee     0   \n",
              "8   civil partnership                 1      F    employee     0   \n",
              "9             married                 0      M    employee     0   \n",
              "10            married                 0      M    business     0   \n",
              "11            married                 0      F    employee     0   \n",
              "12  civil partnership                 1      M     retiree     0   \n",
              "13            married                 0      F    employee     0   \n",
              "14  civil partnership                 1      F    business     1   \n",
              "15            married                 0      F    employee     0   \n",
              "16            married                 0      F    employee     0   \n",
              "17  civil partnership                 1      M    employee     0   \n",
              "18    widow / widower                 2      F     retiree     0   \n",
              "19           divorced                 3      F    employee     0   \n",
              "\n",
              "    total_income                              purpose  \n",
              "0      40620.102                purchase of the house  \n",
              "1      17932.802                         car purchase  \n",
              "2      23341.752                purchase of the house  \n",
              "3      42820.568              supplementary education  \n",
              "4      25378.572                    to have a wedding  \n",
              "5      40922.170                purchase of the house  \n",
              "6      38484.156                 housing transactions  \n",
              "7      21731.829                            education  \n",
              "8      15337.093                     having a wedding  \n",
              "9      23108.150  purchase of the house for my family  \n",
              "10     18230.959                      buy real estate  \n",
              "11     12331.077           buy commercial real estate  \n",
              "12           NaN                    to have a wedding  \n",
              "13     20873.317                         car purchase  \n",
              "14     26420.466          buy residential real estate  \n",
              "15     18691.345         construction of own property  \n",
              "16     46272.433                             property  \n",
              "17     14465.694                  building a property  \n",
              "18      9091.804             buying a second-hand car  \n",
              "19     38852.977                    buying my own car  "
            ]
          },
          "execution_count": 12,
          "metadata": {},
          "output_type": "execute_result"
        }
      ],
      "source": [
        "# Primeiro iremos passar todas as linhas para str_lower, deixando o dataframe mais organizado e paralelo.\n",
        "\n",
        "data['education'] = data['education'].str.lower()\n",
        "data['family_status'] = data['family_status'].str.lower()\n",
        "data['income_type'] = data['income_type'].str.lower()\n",
        "data['purpose'] = data['purpose'].str.lower()\n",
        "\n",
        "data.head(20)"
      ]
    },
    {
      "cell_type": "code",
      "execution_count": null,
      "metadata": {
        "scrolled": false,
        "id": "jSCPLvZMFU-v",
        "outputId": "0e51f3ca-e5a1-4a2c-cc27-6afa202b9679"
      },
      "outputs": [
        {
          "name": "stdout",
          "output_type": "stream",
          "text": [
            "[\"bachelor's degree\" 'secondary education' 'some college'\n",
            " 'primary education' 'graduate degree']\n",
            "\n",
            "['married' 'civil partnership' 'widow / widower' 'divorced' 'unmarried']\n",
            "\n",
            "['employee' 'retiree' 'business' 'civil servant' 'unemployed'\n",
            " 'entrepreneur' 'student' 'paternity / maternity leave']\n",
            "\n",
            "['purchase of the house' 'car purchase' 'supplementary education'\n",
            " 'to have a wedding' 'housing transactions' 'education' 'having a wedding'\n",
            " 'purchase of the house for my family' 'buy real estate'\n",
            " 'buy commercial real estate' 'buy residential real estate'\n",
            " 'construction of own property' 'property' 'building a property'\n",
            " 'buying a second-hand car' 'buying my own car'\n",
            " 'transactions with commercial real estate' 'building a real estate'\n",
            " 'housing' 'transactions with my real estate' 'cars' 'to become educated'\n",
            " 'second-hand car purchase' 'getting an education' 'car'\n",
            " 'wedding ceremony' 'to get a supplementary education'\n",
            " 'purchase of my own house' 'real estate transactions'\n",
            " 'getting higher education' 'to own a car' 'purchase of a car'\n",
            " 'profile education' 'university education'\n",
            " 'buying property for renting out' 'to buy a car' 'housing renovation'\n",
            " 'going to university']\n"
          ]
        }
      ],
      "source": [
        "# Verificar se há duplicadas em cada coluna\n",
        "\n",
        "print(data['education'].unique())\n",
        "print()\n",
        "print(data['family_status'].unique())\n",
        "print()\n",
        "print(data['income_type'].unique())\n",
        "print()\n",
        "print(data['purpose'].unique())"
      ]
    },
    {
      "cell_type": "code",
      "execution_count": null,
      "metadata": {
        "id": "tVniemszFU-v",
        "outputId": "f1118727-c7d2-4af1-8179-9d6aa7d152c2"
      },
      "outputs": [
        {
          "data": {
            "text/plain": [
              "array(['married', 'civil partnership', 'widow / widower', 'divorced',\n",
              "       'unmarried'], dtype=object)"
            ]
          },
          "execution_count": 14,
          "metadata": {},
          "output_type": "execute_result"
        }
      ],
      "source": [
        "# Vamos ver os valores da coluna 'family_status'\n",
        "\n",
        "data['family_status'].unique()"
      ]
    },
    {
      "cell_type": "markdown",
      "metadata": {
        "id": "_AcKTNTCFU-v"
      },
      "source": [
        "* Nessa coluna está tudo correto"
      ]
    },
    {
      "cell_type": "code",
      "execution_count": null,
      "metadata": {
        "id": "Jfce-BfVFU-w",
        "outputId": "d5d212f5-04e4-4107-ecb4-793e5c0dfcf6"
      },
      "outputs": [
        {
          "data": {
            "text/plain": [
              "F      14236\n",
              "M       7288\n",
              "XNA        1\n",
              "Name: gender, dtype: int64"
            ]
          },
          "execution_count": 15,
          "metadata": {},
          "output_type": "execute_result"
        }
      ],
      "source": [
        "# Vamos ver os valores na coluna 'gender'\n",
        "\n",
        "data['gender'].value_counts()"
      ]
    },
    {
      "cell_type": "code",
      "execution_count": null,
      "metadata": {
        "id": "4jtmc9k-FU-w",
        "outputId": "fe5ca9bc-c4b4-4775-fb16-62e5fb4e34fc"
      },
      "outputs": [
        {
          "name": "stdout",
          "output_type": "stream",
          "text": [
            "% de gender = XNA é: 0.0%\n"
          ]
        }
      ],
      "source": [
        "# Vamos ver quantos % XNA representa e se podemos exclui-lá\n",
        "\n",
        "data_wrong_gender = data[data['gender']=='XNA']['gender'].count()\n",
        "print(f'% de gender = XNA é: {data_wrong_gender/data.shape[0]:.1%}')"
      ]
    },
    {
      "cell_type": "markdown",
      "metadata": {
        "id": "zB_gspJPFU-w"
      },
      "source": [
        "* XNA não representa nada na nossa base de dados, assim podemos deleta-lá"
      ]
    },
    {
      "cell_type": "code",
      "execution_count": null,
      "metadata": {
        "id": "TP-AgpyfFU-w",
        "outputId": "ec65ea03-ebe5-43e8-e02a-8e12981fb06c"
      },
      "outputs": [
        {
          "data": {
            "text/plain": [
              "F    14236\n",
              "M     7288\n",
              "Name: gender, dtype: int64"
            ]
          },
          "execution_count": 17,
          "metadata": {},
          "output_type": "execute_result"
        }
      ],
      "source": [
        "#Eliminando as entradas de 'gender' == 'XNA'\n",
        "\n",
        "data = data[data['gender']!='XNA']\n",
        "data['gender'].value_counts()"
      ]
    },
    {
      "cell_type": "markdown",
      "metadata": {
        "id": "ceRVHKYBFU-x"
      },
      "source": [
        "* Já na linha de cima observamos que não há mais esse valor."
      ]
    },
    {
      "cell_type": "code",
      "execution_count": null,
      "metadata": {
        "scrolled": true,
        "id": "JjuKsMeWFU-x",
        "outputId": "33d97558-66a9-4ccd-a2da-2366d15fbc7a"
      },
      "outputs": [
        {
          "data": {
            "text/plain": [
              "array(['purchase of the house', 'car purchase', 'supplementary education',\n",
              "       'to have a wedding', 'housing transactions', 'education',\n",
              "       'having a wedding', 'purchase of the house for my family',\n",
              "       'buy real estate', 'buy commercial real estate',\n",
              "       'buy residential real estate', 'construction of own property',\n",
              "       'property', 'building a property', 'buying a second-hand car',\n",
              "       'buying my own car', 'transactions with commercial real estate',\n",
              "       'building a real estate', 'housing',\n",
              "       'transactions with my real estate', 'cars', 'to become educated',\n",
              "       'second-hand car purchase', 'getting an education', 'car',\n",
              "       'wedding ceremony', 'to get a supplementary education',\n",
              "       'purchase of my own house', 'real estate transactions',\n",
              "       'getting higher education', 'to own a car', 'purchase of a car',\n",
              "       'profile education', 'university education',\n",
              "       'buying property for renting out', 'to buy a car',\n",
              "       'housing renovation', 'going to university'], dtype=object)"
            ]
          },
          "execution_count": 18,
          "metadata": {},
          "output_type": "execute_result"
        }
      ],
      "source": [
        "# Observa-se então que em 'purpose' há valores incorretos, vamos abordar melhor a coluna\n",
        "\n",
        "data['purpose'].unique()"
      ]
    },
    {
      "cell_type": "code",
      "execution_count": null,
      "metadata": {
        "scrolled": true,
        "id": "TbiKrsGYFU-x",
        "outputId": "6a1ea23b-b99c-4e8e-98cb-8a774241480a"
      },
      "outputs": [
        {
          "name": "stdout",
          "output_type": "stream",
          "text": [
            "['real state' 'car' 'education' 'wedding']\n",
            "~~~~~~~~~~~~~~~~\n",
            "real state    10839\n",
            "car            4315\n",
            "education      4022\n",
            "wedding        2348\n",
            "Name: new_purpose, dtype: int64\n"
          ]
        }
      ],
      "source": [
        "# Corrija os registros, se necessários\n",
        "\n",
        "def new_purposes(old_values):\n",
        "    if 'educat' in old_values:\n",
        "        return 'education'\n",
        "    elif 'university' in old_values:\n",
        "        return 'education'\n",
        "    elif 'hous' in old_values:\n",
        "        return 'real state'\n",
        "    elif 'wedding' in old_values:\n",
        "        return 'wedding'\n",
        "    elif 'residential' in old_values:\n",
        "        return 'real state'\n",
        "    elif 'property' in old_values:\n",
        "        return 'real state'\n",
        "    elif 'real' in old_values:\n",
        "        return 'real state'\n",
        "    elif 'car' in old_values:\n",
        "        return 'car'\n",
        "    else:\n",
        "        return 'unknown'\n",
        "\n",
        "# Com base na função acima, iremos incrementar os valores obtidos na coluna 'purpose' para que assim não tenha valores divergentes.\n",
        "data['new_purpose'] = data['purpose'].apply(new_purposes)\n",
        "\n",
        "print(data['new_purpose'].unique())\n",
        "print('~~~~~~~~~~~~~~~~')\n",
        "print(data['new_purpose'].value_counts())"
      ]
    },
    {
      "cell_type": "markdown",
      "metadata": {
        "id": "kA3fTwDPFU-y"
      },
      "source": [
        "__Problema de valores divergentes e dados diversos resolvido.__"
      ]
    },
    {
      "cell_type": "markdown",
      "metadata": {
        "id": "EYoxLftEFU-y"
      },
      "source": [
        "### Verificar os dados na coluna 'children'"
      ]
    },
    {
      "cell_type": "code",
      "execution_count": null,
      "metadata": {
        "id": "FPg3xhEXFU-y",
        "outputId": "85d9d03b-3474-47ca-a237-36ea0d4c5997"
      },
      "outputs": [
        {
          "name": "stdout",
          "output_type": "stream",
          "text": [
            "-1\n",
            "----\n",
            "20\n"
          ]
        }
      ],
      "source": [
        "# Vamos ver a distribuição de valores na coluna `children`\n",
        "\n",
        "print(data['children'].min())\n",
        "print('----')\n",
        "print(data['children'].max())"
      ]
    },
    {
      "cell_type": "code",
      "execution_count": null,
      "metadata": {
        "scrolled": false,
        "id": "aSfvKJcsFU-y",
        "outputId": "753af81a-7cfe-4b9b-bca5-5f351cbf149f"
      },
      "outputs": [
        {
          "data": {
            "text/plain": [
              "children\n",
              "0    14148\n",
              "1     4818\n",
              "2     2055\n",
              "3      330\n",
              "4       41\n",
              "5        9\n",
              "Name: children, dtype: int64"
            ]
          },
          "execution_count": 21,
          "metadata": {},
          "output_type": "execute_result"
        }
      ],
      "source": [
        "# Não é possível alguem ter -1 filho e em prizando pela média da população uma pessoa também não deve ter 20 filhos. Assim Vamos corrigir esses valores.\n",
        "\n",
        "data = data[data['children'] != -1]\n",
        "data = data[data['children'] != 20]\n",
        "\n",
        "data.groupby('children')['children'].count()\n",
        "\n",
        "#Valores corrigidos"
      ]
    },
    {
      "cell_type": "code",
      "execution_count": null,
      "metadata": {
        "id": "JPcGJb-OFU-z",
        "outputId": "aff72f88-a1b3-429c-d4ac-4be9a41b7271"
      },
      "outputs": [
        {
          "name": "stdout",
          "output_type": "stream",
          "text": [
            "0\n",
            "--\n",
            "75\n",
            "--\n",
            "35    614\n",
            "40    603\n",
            "41    603\n",
            "34    597\n",
            "38    595\n",
            "42    592\n",
            "33    577\n",
            "39    572\n",
            "31    556\n",
            "36    553\n",
            "29    543\n",
            "44    543\n",
            "48    536\n",
            "30    536\n",
            "37    531\n",
            "43    510\n",
            "50    509\n",
            "32    506\n",
            "49    505\n",
            "28    501\n",
            "45    494\n",
            "27    490\n",
            "52    483\n",
            "56    482\n",
            "47    480\n",
            "54    476\n",
            "46    469\n",
            "58    461\n",
            "53    457\n",
            "57    457\n",
            "51    446\n",
            "59    441\n",
            "55    441\n",
            "26    406\n",
            "60    376\n",
            "25    356\n",
            "61    353\n",
            "62    351\n",
            "63    268\n",
            "64    263\n",
            "24    262\n",
            "23    252\n",
            "65    194\n",
            "66    183\n",
            "22    183\n",
            "67    167\n",
            "21    110\n",
            "0     100\n",
            "68     99\n",
            "69     83\n",
            "70     65\n",
            "71     58\n",
            "20     51\n",
            "72     33\n",
            "19     14\n",
            "73      8\n",
            "74      6\n",
            "75      1\n",
            "Name: dob_years, dtype: int64\n"
          ]
        }
      ],
      "source": [
        "# Vamos passar a coluna 'dob_years', vamos checar alguns dados e ver se há problemas.\n",
        "\n",
        "print(data['dob_years'].min())\n",
        "print('--')\n",
        "print(data['dob_years'].max())\n",
        "print('--')\n",
        "print(data['dob_years'].value_counts())"
      ]
    },
    {
      "cell_type": "markdown",
      "metadata": {
        "id": "dA2_KIqYFU-z"
      },
      "source": [
        " __Não existem pessoas com idade = 0 e valor se repete 100 vezes.__"
      ]
    },
    {
      "cell_type": "code",
      "execution_count": null,
      "metadata": {
        "id": "DQQ3JpCdFU-z",
        "outputId": "d4cd925d-6797-4533-e2fc-457fdcb1ce2d"
      },
      "outputs": [
        {
          "name": "stdout",
          "output_type": "stream",
          "text": [
            "% de dob_years = 0 é: 0.5%\n"
          ]
        }
      ],
      "source": [
        "# Vamos determinar se excluir essa linha afetara signifivamente ao DataFrame.\n",
        "\n",
        "data_wrong_age = data[data['dob_years']==0]['dob_years'].count()\n",
        "print(f'% de dob_years = 0 é: {data_wrong_age/data.shape[0]:.1%}')"
      ]
    },
    {
      "cell_type": "markdown",
      "metadata": {
        "id": "Ey8IGZj6FU-z"
      },
      "source": [
        "__Como 'dob_years' é 0.5% do DataFrame, não impactara muito na base de dados.__"
      ]
    },
    {
      "cell_type": "code",
      "execution_count": null,
      "metadata": {
        "id": "zTnS9eC7FU-z"
      },
      "outputs": [],
      "source": [
        "# Retirando os dados\n",
        "data = data[data['dob_years'] != 0]"
      ]
    },
    {
      "cell_type": "code",
      "execution_count": null,
      "metadata": {
        "id": "SCZOFsYeFU-0",
        "outputId": "d0772d81-7818-442a-c051-d4ee86015b89"
      },
      "outputs": [
        {
          "name": "stdout",
          "output_type": "stream",
          "text": [
            "% de dob_years = 0 é: 0.0%\n"
          ]
        }
      ],
      "source": [
        "# Verificar a coluna `children` novamente para ter certeza de que está tudo corrigido\n",
        "\n",
        "data_wrong_age = data[data['dob_years']==0]['dob_years'].count()\n",
        "print(f'% de dob_years = 0 é: {data_wrong_age/data.shape[0]:.1%}')"
      ]
    },
    {
      "cell_type": "markdown",
      "metadata": {
        "id": "Ke_g9IMKFU-0"
      },
      "source": [
        "### Agora vamos passar para a coluna 'days_employed'."
      ]
    },
    {
      "cell_type": "code",
      "execution_count": null,
      "metadata": {
        "id": "tSk3tAIbFU-0"
      },
      "outputs": [],
      "source": [
        "# Vamos começar transformando os NaN em 0, partindo do príncipio que desempregados não tem renda.\n",
        "\n",
        "data['days_employed'] = data['days_employed'].fillna(0)\n",
        "data['total_income'] = data['total_income'].fillna(0)\n",
        "\n",
        "# Use as formulas abaixo para ver se há problema ainda.\n",
        "\n",
        "#print(data.isna().sum())\n",
        "#data.head(15)\n",
        "#print(data['days_employed'].dtypes)\n",
        "#print(data['total_income'].dtypes)"
      ]
    },
    {
      "cell_type": "markdown",
      "metadata": {
        "id": "0szSElEVFU-1"
      },
      "source": [
        "**Pode ser observado duas coisas aqui que podem vir a ser um problema, os dados são float64 e 'days_employed' tem valores negativos**"
      ]
    },
    {
      "cell_type": "code",
      "execution_count": null,
      "metadata": {
        "id": "1Rf5_LfVFU-1"
      },
      "outputs": [],
      "source": [
        "# Os valores em 'days_employed' e 'total_income' podem ser floats, entretanto para facilitar a analise, transformamos eles em 'int'.\n",
        "\n",
        "data['days_employed'] = data['days_employed'].astype('int')\n",
        "data['total_income'] = data['total_income'].astype('int')\n",
        "#print(data.head(20))"
      ]
    },
    {
      "cell_type": "code",
      "execution_count": null,
      "metadata": {
        "id": "MzGZtc61FU-1"
      },
      "outputs": [],
      "source": [
        "# Ainda há um problema com os dados acima, pois, 'days_employed' encontram-se negativos quando na verdade são positivos.\n",
        "\n",
        "def positivos(entry):\n",
        "    if entry < 0:\n",
        "        return entry*-1\n",
        "    else: \n",
        "        return entry\n",
        "\n",
        "data['days_employed'] = data['days_employed'].apply(positivos)\n",
        "\n",
        "#Aqui podera ser observado de modo separado de no DataFrame\n",
        "\n",
        "#print(data['days_employed'])\n",
        "#data.head(15)"
      ]
    },
    {
      "cell_type": "code",
      "execution_count": null,
      "metadata": {
        "id": "5riOU2_cFU-1",
        "outputId": "9024f7b1-191e-4dd1-c959-8ed33888267f"
      },
      "outputs": [
        {
          "ename": "TypeError",
          "evalue": "unsupported format string passed to Series.__format__",
          "output_type": "error",
          "traceback": [
            "\u001b[0;31m---------------------------------------------------------------------------\u001b[0m",
            "\u001b[0;31mTypeError\u001b[0m                                 Traceback (most recent call last)",
            "\u001b[0;32m/tmp/ipykernel_281/332071326.py\u001b[0m in \u001b[0;36m<module>\u001b[0;34m\u001b[0m\n\u001b[1;32m      4\u001b[0m \u001b[0maposentados\u001b[0m \u001b[0;34m=\u001b[0m \u001b[0mdata\u001b[0m\u001b[0;34m[\u001b[0m\u001b[0mdata\u001b[0m\u001b[0;34m[\u001b[0m\u001b[0;34m'income_type'\u001b[0m\u001b[0;34m]\u001b[0m\u001b[0;34m==\u001b[0m\u001b[0;34m'retiree'\u001b[0m\u001b[0;34m]\u001b[0m\u001b[0;34m.\u001b[0m\u001b[0mcount\u001b[0m\u001b[0;34m(\u001b[0m\u001b[0;34m)\u001b[0m\u001b[0;34m\u001b[0m\u001b[0;34m\u001b[0m\u001b[0m\n\u001b[1;32m      5\u001b[0m \u001b[0;34m\u001b[0m\u001b[0m\n\u001b[0;32m----> 6\u001b[0;31m \u001b[0mprint\u001b[0m\u001b[0;34m(\u001b[0m\u001b[0;34mf'O número de aposentados em % é de: {aposentados/qt_incomes:.%}'\u001b[0m\u001b[0;34m)\u001b[0m\u001b[0;34m\u001b[0m\u001b[0;34m\u001b[0m\u001b[0m\n\u001b[0m",
            "\u001b[0;31mTypeError\u001b[0m: unsupported format string passed to Series.__format__"
          ]
        }
      ],
      "source": [
        "# Vamos verificar o número de pessoas aposentadas.\n",
        "\n",
        "qt_incomes = data['income_type'].count()\n",
        "aposentados = data[data['income_type']=='retiree'].count()\n",
        "\n",
        "print(f'O número de aposentados em % é de: {aposentados/qt_incomes:.%}')"
      ]
    },
    {
      "cell_type": "code",
      "execution_count": null,
      "metadata": {
        "id": "VsPDuZBXFU-2",
        "outputId": "45811807-0df2-42d8-aa70-7859046c9ddc"
      },
      "outputs": [
        {
          "data": {
            "text/html": [
              "<div>\n",
              "<style scoped>\n",
              "    .dataframe tbody tr th:only-of-type {\n",
              "        vertical-align: middle;\n",
              "    }\n",
              "\n",
              "    .dataframe tbody tr th {\n",
              "        vertical-align: top;\n",
              "    }\n",
              "\n",
              "    .dataframe thead th {\n",
              "        text-align: right;\n",
              "    }\n",
              "</style>\n",
              "<table border=\"1\" class=\"dataframe\">\n",
              "  <thead>\n",
              "    <tr style=\"text-align: right;\">\n",
              "      <th></th>\n",
              "      <th>children</th>\n",
              "      <th>days_employed</th>\n",
              "      <th>dob_years</th>\n",
              "      <th>education</th>\n",
              "      <th>education_id</th>\n",
              "      <th>family_status</th>\n",
              "      <th>family_status_id</th>\n",
              "      <th>gender</th>\n",
              "      <th>income_type</th>\n",
              "      <th>debt</th>\n",
              "      <th>total_income</th>\n",
              "      <th>purpose</th>\n",
              "      <th>new_purpose</th>\n",
              "    </tr>\n",
              "  </thead>\n",
              "  <tbody>\n",
              "    <tr>\n",
              "      <th>12</th>\n",
              "      <td>0</td>\n",
              "      <td>0</td>\n",
              "      <td>65</td>\n",
              "      <td>secondary education</td>\n",
              "      <td>1</td>\n",
              "      <td>civil partnership</td>\n",
              "      <td>1</td>\n",
              "      <td>M</td>\n",
              "      <td>retiree</td>\n",
              "      <td>0</td>\n",
              "      <td>0</td>\n",
              "      <td>to have a wedding</td>\n",
              "      <td>wedding</td>\n",
              "    </tr>\n",
              "    <tr>\n",
              "      <th>29</th>\n",
              "      <td>0</td>\n",
              "      <td>0</td>\n",
              "      <td>63</td>\n",
              "      <td>secondary education</td>\n",
              "      <td>1</td>\n",
              "      <td>unmarried</td>\n",
              "      <td>4</td>\n",
              "      <td>F</td>\n",
              "      <td>retiree</td>\n",
              "      <td>0</td>\n",
              "      <td>0</td>\n",
              "      <td>building a real estate</td>\n",
              "      <td>real state</td>\n",
              "    </tr>\n",
              "    <tr>\n",
              "      <th>55</th>\n",
              "      <td>0</td>\n",
              "      <td>0</td>\n",
              "      <td>54</td>\n",
              "      <td>secondary education</td>\n",
              "      <td>1</td>\n",
              "      <td>civil partnership</td>\n",
              "      <td>1</td>\n",
              "      <td>F</td>\n",
              "      <td>retiree</td>\n",
              "      <td>1</td>\n",
              "      <td>0</td>\n",
              "      <td>to have a wedding</td>\n",
              "      <td>wedding</td>\n",
              "    </tr>\n",
              "    <tr>\n",
              "      <th>67</th>\n",
              "      <td>0</td>\n",
              "      <td>0</td>\n",
              "      <td>52</td>\n",
              "      <td>bachelor's degree</td>\n",
              "      <td>0</td>\n",
              "      <td>married</td>\n",
              "      <td>0</td>\n",
              "      <td>F</td>\n",
              "      <td>retiree</td>\n",
              "      <td>0</td>\n",
              "      <td>0</td>\n",
              "      <td>purchase of the house for my family</td>\n",
              "      <td>real state</td>\n",
              "    </tr>\n",
              "    <tr>\n",
              "      <th>145</th>\n",
              "      <td>0</td>\n",
              "      <td>0</td>\n",
              "      <td>62</td>\n",
              "      <td>secondary education</td>\n",
              "      <td>1</td>\n",
              "      <td>married</td>\n",
              "      <td>0</td>\n",
              "      <td>M</td>\n",
              "      <td>retiree</td>\n",
              "      <td>0</td>\n",
              "      <td>0</td>\n",
              "      <td>building a property</td>\n",
              "      <td>real state</td>\n",
              "    </tr>\n",
              "    <tr>\n",
              "      <th>247</th>\n",
              "      <td>1</td>\n",
              "      <td>0</td>\n",
              "      <td>60</td>\n",
              "      <td>bachelor's degree</td>\n",
              "      <td>0</td>\n",
              "      <td>married</td>\n",
              "      <td>0</td>\n",
              "      <td>F</td>\n",
              "      <td>retiree</td>\n",
              "      <td>1</td>\n",
              "      <td>0</td>\n",
              "      <td>going to university</td>\n",
              "      <td>education</td>\n",
              "    </tr>\n",
              "    <tr>\n",
              "      <th>280</th>\n",
              "      <td>0</td>\n",
              "      <td>0</td>\n",
              "      <td>66</td>\n",
              "      <td>secondary education</td>\n",
              "      <td>1</td>\n",
              "      <td>married</td>\n",
              "      <td>0</td>\n",
              "      <td>F</td>\n",
              "      <td>retiree</td>\n",
              "      <td>0</td>\n",
              "      <td>0</td>\n",
              "      <td>housing transactions</td>\n",
              "      <td>real state</td>\n",
              "    </tr>\n",
              "    <tr>\n",
              "      <th>322</th>\n",
              "      <td>0</td>\n",
              "      <td>0</td>\n",
              "      <td>56</td>\n",
              "      <td>secondary education</td>\n",
              "      <td>1</td>\n",
              "      <td>civil partnership</td>\n",
              "      <td>1</td>\n",
              "      <td>F</td>\n",
              "      <td>retiree</td>\n",
              "      <td>1</td>\n",
              "      <td>0</td>\n",
              "      <td>to have a wedding</td>\n",
              "      <td>wedding</td>\n",
              "    </tr>\n",
              "    <tr>\n",
              "      <th>361</th>\n",
              "      <td>0</td>\n",
              "      <td>0</td>\n",
              "      <td>59</td>\n",
              "      <td>secondary education</td>\n",
              "      <td>1</td>\n",
              "      <td>widow / widower</td>\n",
              "      <td>2</td>\n",
              "      <td>F</td>\n",
              "      <td>retiree</td>\n",
              "      <td>0</td>\n",
              "      <td>0</td>\n",
              "      <td>housing</td>\n",
              "      <td>real state</td>\n",
              "    </tr>\n",
              "    <tr>\n",
              "      <th>415</th>\n",
              "      <td>0</td>\n",
              "      <td>0</td>\n",
              "      <td>57</td>\n",
              "      <td>bachelor's degree</td>\n",
              "      <td>0</td>\n",
              "      <td>widow / widower</td>\n",
              "      <td>2</td>\n",
              "      <td>F</td>\n",
              "      <td>retiree</td>\n",
              "      <td>0</td>\n",
              "      <td>0</td>\n",
              "      <td>housing</td>\n",
              "      <td>real state</td>\n",
              "    </tr>\n",
              "  </tbody>\n",
              "</table>\n",
              "</div>"
            ],
            "text/plain": [
              "     children  days_employed  dob_years            education  education_id  \\\n",
              "12          0              0         65  secondary education             1   \n",
              "29          0              0         63  secondary education             1   \n",
              "55          0              0         54  secondary education             1   \n",
              "67          0              0         52    bachelor's degree             0   \n",
              "145         0              0         62  secondary education             1   \n",
              "247         1              0         60    bachelor's degree             0   \n",
              "280         0              0         66  secondary education             1   \n",
              "322         0              0         56  secondary education             1   \n",
              "361         0              0         59  secondary education             1   \n",
              "415         0              0         57    bachelor's degree             0   \n",
              "\n",
              "         family_status  family_status_id gender income_type  debt  \\\n",
              "12   civil partnership                 1      M     retiree     0   \n",
              "29           unmarried                 4      F     retiree     0   \n",
              "55   civil partnership                 1      F     retiree     1   \n",
              "67             married                 0      F     retiree     0   \n",
              "145            married                 0      M     retiree     0   \n",
              "247            married                 0      F     retiree     1   \n",
              "280            married                 0      F     retiree     0   \n",
              "322  civil partnership                 1      F     retiree     1   \n",
              "361    widow / widower                 2      F     retiree     0   \n",
              "415    widow / widower                 2      F     retiree     0   \n",
              "\n",
              "     total_income                              purpose new_purpose  \n",
              "12              0                    to have a wedding     wedding  \n",
              "29              0               building a real estate  real state  \n",
              "55              0                    to have a wedding     wedding  \n",
              "67              0  purchase of the house for my family  real state  \n",
              "145             0                  building a property  real state  \n",
              "247             0                  going to university   education  \n",
              "280             0                 housing transactions  real state  \n",
              "322             0                    to have a wedding     wedding  \n",
              "361             0                              housing  real state  \n",
              "415             0                              housing  real state  "
            ]
          },
          "execution_count": 33,
          "metadata": {},
          "output_type": "execute_result"
        }
      ],
      "source": [
        "# Verificando se 'retiree' possuem valores em 'days_employed' = 0. Assim, saberemos se isso é o correto.\n",
        "\n",
        "days_worked0 = data[data['days_employed'] == 0]\n",
        "days_worked0 = days_worked0[days_worked0['income_type'] == 'retiree']\n",
        "days_worked0.head(10)"
      ]
    },
    {
      "cell_type": "markdown",
      "metadata": {
        "id": "V7FhmHAtFU-2"
      },
      "source": [
        "### Será analisado o income_type agora"
      ]
    },
    {
      "cell_type": "code",
      "execution_count": null,
      "metadata": {
        "scrolled": false,
        "id": "YzgC_P4TFU-2",
        "outputId": "2db6d96e-5073-45ee-8571-040e781a00e0"
      },
      "outputs": [
        {
          "data": {
            "text/plain": [
              "employee                       10996\n",
              "business                        5033\n",
              "retiree                         3819\n",
              "civil servant                   1447\n",
              "entrepreneur                       2\n",
              "unemployed                         2\n",
              "student                            1\n",
              "paternity / maternity leave        1\n",
              "Name: income_type, dtype: int64"
            ]
          },
          "execution_count": 34,
          "metadata": {},
          "output_type": "execute_result"
        }
      ],
      "source": [
        "# Verifique 'income_type' e compare com \n",
        "\n",
        "data['income_type'].value_counts()"
      ]
    },
    {
      "cell_type": "code",
      "execution_count": null,
      "metadata": {
        "scrolled": true,
        "id": "zbSiX-6WFU-2",
        "outputId": "ad8cb7cd-8cc5-4fb5-8d3e-921598ce392f"
      },
      "outputs": [
        {
          "data": {
            "text/plain": [
              "71"
            ]
          },
          "execution_count": 36,
          "metadata": {},
          "output_type": "execute_result"
        }
      ],
      "source": [
        "# Vamos verificar se há duplicatas e qual o número delas\n",
        "\n",
        "data.duplicated().sum()"
      ]
    },
    {
      "cell_type": "markdown",
      "metadata": {
        "id": "SnYIlvznFU-2"
      },
      "source": [
        "**Há 71 duplicatas na DataFrame**"
      ]
    },
    {
      "cell_type": "code",
      "execution_count": null,
      "metadata": {
        "id": "UhhPsIV3FU-3",
        "outputId": "65a3e68f-9a7c-435a-cf9f-4986b0ec6d7a"
      },
      "outputs": [
        {
          "data": {
            "text/plain": [
              "0"
            ]
          },
          "execution_count": 37,
          "metadata": {},
          "output_type": "execute_result"
        }
      ],
      "source": [
        "# Vamos remover as duplicatas e vamos conferir se foram excluidas.\n",
        "\n",
        "data = data.drop_duplicates().reset_index(drop=True)\n",
        "data.duplicated().sum()"
      ]
    },
    {
      "cell_type": "markdown",
      "metadata": {
        "id": "6PQYWcBVFU-3"
      },
      "source": [
        "**Problem Resolvido**"
      ]
    },
    {
      "cell_type": "code",
      "execution_count": null,
      "metadata": {
        "id": "6GDk2JpTFU-3",
        "outputId": "7c535c02-8b02-45f9-f138-9330a0291f5b"
      },
      "outputs": [
        {
          "data": {
            "text/plain": [
              "children            0\n",
              "days_employed       0\n",
              "dob_years           0\n",
              "education           0\n",
              "education_id        0\n",
              "family_status       0\n",
              "family_status_id    0\n",
              "gender              0\n",
              "income_type         0\n",
              "debt                0\n",
              "total_income        0\n",
              "purpose             0\n",
              "new_purpose         0\n",
              "dtype: int64"
            ]
          },
          "execution_count": 38,
          "metadata": {},
          "output_type": "execute_result"
        }
      ],
      "source": [
        "#Verificando se há NaN\n",
        "data.isna().sum()"
      ]
    },
    {
      "cell_type": "markdown",
      "metadata": {
        "id": "7c4Q2K6-FU-3"
      },
      "source": [
        "### __Resumo atual__\n",
        "  \n",
        "* Em 'days_employed' há float, porém deveria ter apenas int. __resolvido__\n",
        "* 'days_employed' tem muitos valores negativos, porque? __resolvido__\n",
        "* 'days_employed' valores exacerbados. __resolvido__\n",
        "* 'education' com algumas células tem valores iguais, porém escritos de com letras maiúsculas __resolvido__\n",
        "* 'purpose' pode ser descrito de melhor forma __resolvido__\n",
        "* valores estranhos em 'children'  __resolvido__\n",
        "\n",
        "Possíveis motivos para valores ausentes nos dados\n",
        "\n",
        "* Possiveis NaN's em 'total_income' sejam causados por não empregados, onde 'days_employed' = 0. Assim, nota-se que 'total_income' influencia em 'days_employed' ausente. __compreendido e resolvido__\n",
        "\n",
        "O que precisa ser feito\n",
        "\n",
        "* Substituir os valores NaN em 'days_employed' e 'total_income' por 0. __resolvido__\n",
        "* Mudar os valores escritos com letras maiusculas em 'education' para letras minusculas e aprofundar algumas análises. __resolvido__\n",
        "* Deixar 'purpose' mais simples. __resolvido__ \n",
        "* Corrigir os valores estranhos em 'children'. __resolvido__\n",
        "* Analisar outras colunas e verificar se há dados incompatíveis\n",
        "    * Remover duplicatas __resolvido__\n",
        "    * Remover NaN __resolvido__\n",
        "    * Retirar valores indesejados __resolvido__"
      ]
    },
    {
      "cell_type": "markdown",
      "metadata": {
        "id": "avhi97HrFU-4"
      },
      "source": [
        "## Verificar as Hipóteses\n"
      ]
    },
    {
      "cell_type": "markdown",
      "metadata": {
        "id": "MJP5Xnd0FU-4"
      },
      "source": [
        "**Vamos verificar se há correlações entre algumas caracteristicas e o pagamento em dia.**"
      ]
    },
    {
      "cell_type": "code",
      "execution_count": null,
      "metadata": {
        "scrolled": true,
        "id": "J7Z-0x3hFU-4",
        "outputId": "27adb21b-149a-47ce-ff16-3a44303b83bd"
      },
      "outputs": [
        {
          "data": {
            "text/plain": [
              "children\n",
              "0    0.075458\n",
              "1    0.092028\n",
              "2    0.095145\n",
              "3    0.082317\n",
              "4    0.097561\n",
              "5    0.000000\n",
              "Name: debt, dtype: float64"
            ]
          },
          "execution_count": 45,
          "metadata": {},
          "output_type": "execute_result"
        }
      ],
      "source": [
        "# Verifique os dados das crianças e do pagamento em dia\n",
        "\n",
        "data.groupby('children')['debt'].mean()"
      ]
    },
    {
      "cell_type": "markdown",
      "metadata": {
        "id": "xVOw_U9yFU-4"
      },
      "source": [
        "**Conclusão**\n",
        "\n",
        "Pessoas quais tem 0 ou 5 filhos tentem mais em manter seus pagamentos em dia."
      ]
    },
    {
      "cell_type": "markdown",
      "metadata": {
        "id": "AVORfEEJFU-4"
      },
      "source": [
        "**Existe uma correlação entre o status familiar e o pagamento em dia?**"
      ]
    },
    {
      "cell_type": "code",
      "execution_count": null,
      "metadata": {
        "scrolled": true,
        "id": "_cW8U8ogFU-5",
        "outputId": "8533b779-eced-4650-9100-3996d14a9250"
      },
      "outputs": [
        {
          "data": {
            "text/plain": [
              "family_status\n",
              "civil partnership    0.093142\n",
              "divorced             0.071247\n",
              "married              0.075575\n",
              "unmarried            0.097842\n",
              "widow / widower      0.065539\n",
              "Name: debt, dtype: float64"
            ]
          },
          "execution_count": 46,
          "metadata": {},
          "output_type": "execute_result"
        }
      ],
      "source": [
        "# Verifique os dados de status da família e do pagamento em dia\n",
        "\n",
        "data.groupby('family_status')['debt'].mean()"
      ]
    },
    {
      "cell_type": "markdown",
      "metadata": {
        "id": "BPvii-n7FU-5"
      },
      "source": [
        "**Conclusão**\n",
        "\n",
        "Pessoas quais tem classificadas como 'married' e 'widow/widowe' tentem mais em manter seus pagamentos em dia."
      ]
    },
    {
      "cell_type": "markdown",
      "metadata": {
        "id": "Ehpx-ndfFU-5"
      },
      "source": [
        "**Existe uma correlação entre o gender e o pagamento em dia?**"
      ]
    },
    {
      "cell_type": "code",
      "execution_count": null,
      "metadata": {
        "id": "VLobHiGLFU-5",
        "outputId": "fb2ee77a-3c0e-4db1-ccc7-3c11f59fb4fe"
      },
      "outputs": [
        {
          "data": {
            "text/plain": [
              "gender\n",
              "F    0.070180\n",
              "M    0.102649\n",
              "Name: debt, dtype: float64"
            ]
          },
          "execution_count": 47,
          "metadata": {},
          "output_type": "execute_result"
        }
      ],
      "source": [
        "# Verifique os dados do nível de renda e do pagamento em dia\n",
        "\n",
        "data.groupby('gender')['debt'].mean()"
      ]
    },
    {
      "cell_type": "markdown",
      "metadata": {
        "id": "wmqQty5eFU-5"
      },
      "source": [
        "**Conclusão**\n",
        "\n",
        "Aqui observamos uma certa discrepância entre os dois gêneros usados na pesquisa. Emprestar dinheiro para homens é mais arriscado do que para mulheres."
      ]
    },
    {
      "cell_type": "markdown",
      "metadata": {
        "id": "ILsLjUj3FU-6"
      },
      "source": [
        "**Existe relação entre total_income e o pagamento do empréstimo em dia?**"
      ]
    },
    {
      "cell_type": "code",
      "execution_count": null,
      "metadata": {
        "scrolled": true,
        "id": "3f7F5ppwFU-6",
        "outputId": "6de857dc-1880-406f-95cc-9d30adb2b0bd"
      },
      "outputs": [
        {
          "data": {
            "text/plain": [
              "count     21230.000000\n",
              "mean      24171.397362\n",
              "std       17593.205611\n",
              "min           0.000000\n",
              "25%       14250.250000\n",
              "50%       21721.000000\n",
              "75%       31326.500000\n",
              "max      362496.000000\n",
              "Name: total_income, dtype: float64"
            ]
          },
          "execution_count": 49,
          "metadata": {},
          "output_type": "execute_result"
        }
      ],
      "source": [
        "# Analisar os dados\n",
        "\n",
        "data['total_income'].describe()"
      ]
    },
    {
      "cell_type": "code",
      "execution_count": null,
      "metadata": {
        "id": "y6w2VTa-FU-6"
      },
      "outputs": [],
      "source": [
        "#Podemos separar em grupos para segregar o total e ficar algo mais palpavél na analise.\n",
        "\n",
        "def grup_income(wage):\n",
        "    if wage == 0:\n",
        "        return 'zero'\n",
        "    elif wage <= 14250:\n",
        "        return '25%'\n",
        "    elif wage <= 21721:\n",
        "        return '50%'\n",
        "    elif wage <= 31326:\n",
        "        return '75%'\n",
        "    elif wage <= 362496+1:\n",
        "        return '100%'\n",
        "    else:\n",
        "        return 'checar'\n",
        "    \n",
        "#Criando uma coluna\n",
        "data['income_group'] = data['total_income'].apply(grup_income)"
      ]
    },
    {
      "cell_type": "code",
      "execution_count": null,
      "metadata": {
        "id": "iUpmrkRIFU-7",
        "outputId": "5177beb4-9340-498d-9c9b-dc4bd304c138"
      },
      "outputs": [
        {
          "data": {
            "text/plain": [
              "array(['100%', '50%', '75%', '25%', 'zero'], dtype=object)"
            ]
          },
          "execution_count": 55,
          "metadata": {},
          "output_type": "execute_result"
        }
      ],
      "source": [
        "#Observando se a coluna tem valores corretos.\n",
        "data['income_group'].unique()"
      ]
    },
    {
      "cell_type": "markdown",
      "metadata": {
        "id": "X0sNs9wWFU-7"
      },
      "source": [
        "**Valores corretos**"
      ]
    },
    {
      "cell_type": "code",
      "execution_count": null,
      "metadata": {
        "id": "9HK6J33eFU-7",
        "outputId": "dfdfe3d0-4253-4c43-b81f-1ab4e241059a"
      },
      "outputs": [
        {
          "data": {
            "text/plain": [
              "income_group\n",
              "100%    5308\n",
              "25%     3227\n",
              "50%     5309\n",
              "75%     5305\n",
              "zero    2081\n",
              "Name: income_group, dtype: int64"
            ]
          },
          "execution_count": 57,
          "metadata": {},
          "output_type": "execute_result"
        }
      ],
      "source": [
        "data.groupby('income_group')['income_group'].count()"
      ]
    },
    {
      "cell_type": "markdown",
      "metadata": {
        "id": "xDL0kjCrFU-7"
      },
      "source": [
        "**Analisando mais de perto o número total do salário**"
      ]
    },
    {
      "cell_type": "markdown",
      "metadata": {
        "id": "zHXQX7HcFU-7"
      },
      "source": [
        "**Conclusão**\n",
        "\n",
        "* Tabela de riscos fica de tal forma:\n",
        "* Ricos - 7,2%\n",
        "* Pobres - 7,7%\n",
        "* Classe média-baixa - 8,4%\n",
        "* Classe média-alta - 8,9%\n",
        "* Sem renda - 8,1%"
      ]
    },
    {
      "cell_type": "markdown",
      "metadata": {
        "id": "si7_6G6sFU-8"
      },
      "source": [
        "# Conclusão Geral \n",
        "\n",
        "Ao final do projeto, pode ser concluido que havia poucas entradas/valores errados ou ausentes.\n",
        "\n",
        "\n",
        "__As mudanças que precisaram ser feitas nos dados foram:__\n",
        "\n",
        "* corrigir entradas erradas na coluna 'children'\n",
        "* apagar entradas onde 'dob_years' era igual a 0\n",
        "* apagar a entrada onde o gênero era igual a 'XNA'\n",
        "* nova coluna criada para agrupar melhor os objetivos dos empréstimos\n",
        "* apagar duplicatas\n",
        "* corrigir valores negativos\n",
        "\n",
        "\n",
        "Sobre as conclusões, elas tornaram possível imaginar um perfil de maior risco, risco médio e risco baixo, para que algum steak-holder consiga usar para validar suas decisões.\n",
        "\n",
        "__Sendo assim, podemos citar esses perfis.__\n",
        "\n",
        "* Perfil de risco baixo\n",
        "\n",
        " * Ricos\n",
        " * Possuem mais de um ou mais filho | até o quinto\n",
        " * São Widow/widower\n",
        "\n",
        "* Perfil de risco moderado\n",
        "\n",
        " * Sem Renda\n",
        " * Possuem secondary education\n",
        " * São divorciados\n",
        "\n",
        "* Perfil de risco alto\n",
        "\n",
        " * Classe média-baixa\n",
        " * Possuem apenas primary education\n",
        " * Nunca foram casados(unmarried)"
      ]
    }
  ],
  "metadata": {
    "ExecuteTimeLog": [
      {
        "duration": 2741,
        "start_time": "2021-10-21T01:08:49.480Z"
      },
      {
        "duration": 52,
        "start_time": "2021-10-21T01:08:53.315Z"
      },
      {
        "duration": 49,
        "start_time": "2021-10-21T01:08:57.432Z"
      },
      {
        "duration": 70,
        "start_time": "2021-10-21T01:09:07.706Z"
      },
      {
        "duration": 419,
        "start_time": "2022-05-06T22:39:37.937Z"
      },
      {
        "duration": 39,
        "start_time": "2022-05-06T22:39:39.807Z"
      },
      {
        "duration": 38,
        "start_time": "2022-05-06T22:39:42.207Z"
      },
      {
        "duration": 56,
        "start_time": "2022-05-06T22:41:49.224Z"
      },
      {
        "duration": 64,
        "start_time": "2022-05-06T22:42:24.884Z"
      },
      {
        "duration": 10,
        "start_time": "2022-05-06T22:42:37.596Z"
      },
      {
        "duration": 15,
        "start_time": "2022-05-06T22:42:49.222Z"
      },
      {
        "duration": 14,
        "start_time": "2022-05-06T22:43:11.270Z"
      },
      {
        "duration": 32,
        "start_time": "2022-05-06T22:43:31.284Z"
      },
      {
        "duration": 15,
        "start_time": "2022-05-06T22:44:12.434Z"
      },
      {
        "duration": 15,
        "start_time": "2022-05-06T22:48:01.793Z"
      },
      {
        "duration": 0,
        "start_time": "2022-05-06T23:03:42.625Z"
      },
      {
        "duration": 10,
        "start_time": "2022-05-06T23:04:12.523Z"
      },
      {
        "duration": 13,
        "start_time": "2022-05-06T23:04:14.243Z"
      },
      {
        "duration": 4,
        "start_time": "2022-05-06T23:04:58.588Z"
      },
      {
        "duration": 8,
        "start_time": "2022-05-06T23:05:43.150Z"
      },
      {
        "duration": 4,
        "start_time": "2022-05-06T23:07:59.562Z"
      },
      {
        "duration": 7,
        "start_time": "2022-05-06T23:24:55.587Z"
      },
      {
        "duration": 5,
        "start_time": "2022-05-06T23:27:10.518Z"
      },
      {
        "duration": 5,
        "start_time": "2022-05-06T23:29:13.678Z"
      },
      {
        "duration": 2372,
        "start_time": "2022-05-07T00:19:58.807Z"
      },
      {
        "duration": 5,
        "start_time": "2022-05-07T00:20:40.607Z"
      },
      {
        "duration": 10,
        "start_time": "2022-05-07T00:21:19.963Z"
      },
      {
        "duration": 10,
        "start_time": "2022-05-07T00:21:31.401Z"
      },
      {
        "duration": 7,
        "start_time": "2022-05-07T00:21:43.641Z"
      },
      {
        "duration": 133,
        "start_time": "2022-05-07T00:22:02.322Z"
      },
      {
        "duration": 6,
        "start_time": "2022-05-07T00:22:07.337Z"
      },
      {
        "duration": 7,
        "start_time": "2022-05-07T00:22:21.487Z"
      },
      {
        "duration": 3,
        "start_time": "2022-05-07T00:32:58.212Z"
      },
      {
        "duration": 7,
        "start_time": "2022-05-07T00:33:21.124Z"
      },
      {
        "duration": 3,
        "start_time": "2022-05-07T00:34:03.390Z"
      },
      {
        "duration": 8,
        "start_time": "2022-05-07T00:34:26.484Z"
      },
      {
        "duration": 7,
        "start_time": "2022-05-07T00:34:30.594Z"
      },
      {
        "duration": 3,
        "start_time": "2022-05-07T00:34:36.234Z"
      },
      {
        "duration": 78,
        "start_time": "2022-05-09T17:17:42.822Z"
      },
      {
        "duration": 487,
        "start_time": "2022-05-09T17:17:47.900Z"
      },
      {
        "duration": 32,
        "start_time": "2022-05-09T17:17:49.698Z"
      },
      {
        "duration": 13,
        "start_time": "2022-05-09T17:17:56.126Z"
      },
      {
        "duration": 23,
        "start_time": "2022-05-09T17:18:12.271Z"
      },
      {
        "duration": 20,
        "start_time": "2022-05-09T17:18:28.586Z"
      },
      {
        "duration": 11,
        "start_time": "2022-05-09T17:36:13.717Z"
      },
      {
        "duration": 6,
        "start_time": "2022-05-09T17:36:18.988Z"
      },
      {
        "duration": 11,
        "start_time": "2022-05-09T17:41:57.166Z"
      },
      {
        "duration": 9,
        "start_time": "2022-05-09T17:42:17.202Z"
      },
      {
        "duration": 11,
        "start_time": "2022-05-09T17:50:26.088Z"
      },
      {
        "duration": 7,
        "start_time": "2022-05-09T17:50:36.620Z"
      },
      {
        "duration": 9,
        "start_time": "2022-05-09T17:50:40.682Z"
      },
      {
        "duration": 4,
        "start_time": "2022-05-09T17:50:45.017Z"
      },
      {
        "duration": 15,
        "start_time": "2022-05-09T23:30:37.601Z"
      },
      {
        "duration": 28,
        "start_time": "2022-05-09T23:30:43.586Z"
      },
      {
        "duration": 11,
        "start_time": "2022-05-09T23:30:58.161Z"
      },
      {
        "duration": 22,
        "start_time": "2022-05-09T23:31:51.572Z"
      },
      {
        "duration": 8,
        "start_time": "2022-05-10T00:06:53.546Z"
      },
      {
        "duration": 15,
        "start_time": "2022-05-10T00:22:14.669Z"
      },
      {
        "duration": 8,
        "start_time": "2022-05-10T00:22:27.111Z"
      },
      {
        "duration": 8,
        "start_time": "2022-05-10T00:22:37.695Z"
      },
      {
        "duration": 16,
        "start_time": "2022-05-10T00:23:01.433Z"
      },
      {
        "duration": 14,
        "start_time": "2022-05-10T00:23:05.585Z"
      },
      {
        "duration": 14,
        "start_time": "2022-05-10T00:23:23.939Z"
      },
      {
        "duration": 14,
        "start_time": "2022-05-10T00:23:31.918Z"
      },
      {
        "duration": 61,
        "start_time": "2022-05-10T12:39:51.369Z"
      },
      {
        "duration": 425,
        "start_time": "2022-05-10T12:40:01.466Z"
      },
      {
        "duration": 9,
        "start_time": "2022-05-10T12:40:02.661Z"
      },
      {
        "duration": 17,
        "start_time": "2022-05-10T12:40:03.378Z"
      },
      {
        "duration": 15,
        "start_time": "2022-05-10T12:40:03.904Z"
      },
      {
        "duration": 15,
        "start_time": "2022-05-10T12:40:04.716Z"
      },
      {
        "duration": 16,
        "start_time": "2022-05-10T12:40:05.445Z"
      },
      {
        "duration": 5,
        "start_time": "2022-05-10T12:40:06.148Z"
      },
      {
        "duration": 10,
        "start_time": "2022-05-10T12:40:08.830Z"
      },
      {
        "duration": 11,
        "start_time": "2022-05-10T12:40:09.575Z"
      },
      {
        "duration": 17,
        "start_time": "2022-05-10T12:40:11.419Z"
      },
      {
        "duration": 7,
        "start_time": "2022-05-10T12:40:13.386Z"
      },
      {
        "duration": 7,
        "start_time": "2022-05-10T12:41:14.634Z"
      },
      {
        "duration": 8,
        "start_time": "2022-05-10T12:41:30.988Z"
      },
      {
        "duration": 8,
        "start_time": "2022-05-10T12:41:40.804Z"
      },
      {
        "duration": 7,
        "start_time": "2022-05-10T12:41:49.461Z"
      },
      {
        "duration": 7,
        "start_time": "2022-05-10T12:41:56.501Z"
      },
      {
        "duration": 6,
        "start_time": "2022-05-10T12:42:01.282Z"
      },
      {
        "duration": 6,
        "start_time": "2022-05-10T12:42:04.966Z"
      },
      {
        "duration": 6,
        "start_time": "2022-05-10T12:42:07.394Z"
      },
      {
        "duration": 5,
        "start_time": "2022-05-10T12:43:14.837Z"
      },
      {
        "duration": 43,
        "start_time": "2022-05-10T12:49:17.830Z"
      },
      {
        "duration": 5,
        "start_time": "2022-05-10T12:49:20.476Z"
      },
      {
        "duration": 7,
        "start_time": "2022-05-10T12:49:31.300Z"
      },
      {
        "duration": 16,
        "start_time": "2022-05-10T12:49:45.735Z"
      },
      {
        "duration": 11,
        "start_time": "2022-05-10T12:49:52.613Z"
      },
      {
        "duration": 7,
        "start_time": "2022-05-10T12:50:12.369Z"
      },
      {
        "duration": 5,
        "start_time": "2022-05-10T12:50:17.296Z"
      },
      {
        "duration": 6,
        "start_time": "2022-05-10T12:50:27.660Z"
      },
      {
        "duration": 7,
        "start_time": "2022-05-10T12:50:50.393Z"
      },
      {
        "duration": 38,
        "start_time": "2022-05-10T12:51:53.195Z"
      },
      {
        "duration": 34,
        "start_time": "2022-05-10T12:51:56.800Z"
      },
      {
        "duration": 59,
        "start_time": "2022-05-10T12:52:05.846Z"
      },
      {
        "duration": 17,
        "start_time": "2022-05-10T12:52:57.875Z"
      },
      {
        "duration": 3,
        "start_time": "2022-05-10T12:57:24.331Z"
      },
      {
        "duration": 8,
        "start_time": "2022-05-10T12:57:35.239Z"
      },
      {
        "duration": 8,
        "start_time": "2022-05-10T12:57:44.813Z"
      },
      {
        "duration": 12,
        "start_time": "2022-05-10T13:02:08.519Z"
      },
      {
        "duration": 13,
        "start_time": "2022-05-10T13:02:17.098Z"
      },
      {
        "duration": 14,
        "start_time": "2022-05-10T13:02:31.953Z"
      },
      {
        "duration": 14,
        "start_time": "2022-05-10T13:02:48.726Z"
      },
      {
        "duration": 13,
        "start_time": "2022-05-10T13:02:54.623Z"
      },
      {
        "duration": 24,
        "start_time": "2022-05-10T13:03:30.257Z"
      },
      {
        "duration": 17,
        "start_time": "2022-05-10T13:04:46.280Z"
      },
      {
        "duration": 11,
        "start_time": "2022-05-10T13:04:54.249Z"
      },
      {
        "duration": 20,
        "start_time": "2022-05-10T13:05:46.368Z"
      },
      {
        "duration": 20,
        "start_time": "2022-05-10T13:05:49.739Z"
      },
      {
        "duration": 18,
        "start_time": "2022-05-10T13:05:58.011Z"
      },
      {
        "duration": 17,
        "start_time": "2022-05-10T13:06:12.658Z"
      },
      {
        "duration": 19,
        "start_time": "2022-05-10T13:06:20.194Z"
      },
      {
        "duration": 18,
        "start_time": "2022-05-10T13:06:25.697Z"
      },
      {
        "duration": 18,
        "start_time": "2022-05-10T13:06:33.990Z"
      },
      {
        "duration": 17,
        "start_time": "2022-05-10T13:06:39.435Z"
      },
      {
        "duration": 10,
        "start_time": "2022-05-10T13:09:49.343Z"
      },
      {
        "duration": 9,
        "start_time": "2022-05-10T13:09:53.838Z"
      },
      {
        "duration": 4,
        "start_time": "2022-05-10T13:09:57.587Z"
      },
      {
        "duration": 8,
        "start_time": "2022-05-10T13:10:05.662Z"
      },
      {
        "duration": 6,
        "start_time": "2022-05-10T13:10:14.994Z"
      },
      {
        "duration": 6,
        "start_time": "2022-05-10T13:10:33.928Z"
      },
      {
        "duration": 5,
        "start_time": "2022-05-10T13:10:52.763Z"
      },
      {
        "duration": 5,
        "start_time": "2022-05-10T13:10:59.064Z"
      },
      {
        "duration": 2,
        "start_time": "2022-05-10T13:11:51.024Z"
      },
      {
        "duration": 15,
        "start_time": "2022-05-10T13:12:14.952Z"
      },
      {
        "duration": 14,
        "start_time": "2022-05-10T13:12:24.799Z"
      },
      {
        "duration": 13,
        "start_time": "2022-05-10T13:16:41.395Z"
      },
      {
        "duration": 3,
        "start_time": "2022-05-10T13:16:45.256Z"
      },
      {
        "duration": 13,
        "start_time": "2022-05-10T13:16:49.538Z"
      },
      {
        "duration": 13,
        "start_time": "2022-05-10T13:16:53.660Z"
      },
      {
        "duration": 2,
        "start_time": "2022-05-10T13:16:56.854Z"
      },
      {
        "duration": 14,
        "start_time": "2022-05-10T13:16:58.235Z"
      },
      {
        "duration": 15,
        "start_time": "2022-05-10T13:17:17.306Z"
      },
      {
        "duration": 14,
        "start_time": "2022-05-10T13:17:22.032Z"
      },
      {
        "duration": 26,
        "start_time": "2022-05-10T13:17:26.378Z"
      },
      {
        "duration": 14,
        "start_time": "2022-05-10T13:18:34.062Z"
      },
      {
        "duration": 7,
        "start_time": "2022-05-10T13:20:32.423Z"
      },
      {
        "duration": 6,
        "start_time": "2022-05-10T13:21:37.539Z"
      },
      {
        "duration": 8,
        "start_time": "2022-05-10T13:24:06.674Z"
      },
      {
        "duration": 9,
        "start_time": "2022-05-10T13:24:11.434Z"
      },
      {
        "duration": 11,
        "start_time": "2022-05-10T13:25:16.743Z"
      },
      {
        "duration": 231,
        "start_time": "2022-05-10T13:26:04.203Z"
      },
      {
        "duration": 11,
        "start_time": "2022-05-10T13:26:09.154Z"
      },
      {
        "duration": 8,
        "start_time": "2022-05-10T13:26:21.957Z"
      },
      {
        "duration": 10,
        "start_time": "2022-05-10T13:26:49.955Z"
      },
      {
        "duration": 8,
        "start_time": "2022-05-10T13:27:46.598Z"
      },
      {
        "duration": 9,
        "start_time": "2022-05-10T13:27:53.382Z"
      },
      {
        "duration": 5,
        "start_time": "2022-05-10T13:29:42.845Z"
      },
      {
        "duration": 11,
        "start_time": "2022-05-10T13:29:52.952Z"
      },
      {
        "duration": 9,
        "start_time": "2022-05-10T13:30:03.453Z"
      },
      {
        "duration": 12,
        "start_time": "2022-05-10T13:31:13.455Z"
      },
      {
        "duration": 11,
        "start_time": "2022-05-10T13:31:31.820Z"
      },
      {
        "duration": 10,
        "start_time": "2022-05-10T13:31:39.532Z"
      },
      {
        "duration": 8,
        "start_time": "2022-05-10T13:31:53.630Z"
      },
      {
        "duration": 8,
        "start_time": "2022-05-10T13:31:57.421Z"
      },
      {
        "duration": 62,
        "start_time": "2022-05-10T13:32:19.514Z"
      },
      {
        "duration": 6,
        "start_time": "2022-05-10T13:32:39.302Z"
      },
      {
        "duration": 63,
        "start_time": "2022-05-10T13:35:29.280Z"
      },
      {
        "duration": 483,
        "start_time": "2022-05-10T13:35:36.223Z"
      },
      {
        "duration": 8,
        "start_time": "2022-05-10T13:35:38.157Z"
      },
      {
        "duration": 23,
        "start_time": "2022-05-10T13:35:38.943Z"
      },
      {
        "duration": 15,
        "start_time": "2022-05-10T13:35:39.827Z"
      },
      {
        "duration": 14,
        "start_time": "2022-05-10T13:35:40.671Z"
      },
      {
        "duration": 17,
        "start_time": "2022-05-10T13:35:41.429Z"
      },
      {
        "duration": 5,
        "start_time": "2022-05-10T13:35:41.997Z"
      },
      {
        "duration": 10,
        "start_time": "2022-05-10T13:35:43.633Z"
      },
      {
        "duration": 11,
        "start_time": "2022-05-10T13:35:44.119Z"
      },
      {
        "duration": 27,
        "start_time": "2022-05-10T13:35:46.005Z"
      },
      {
        "duration": 29,
        "start_time": "2022-05-10T13:35:47.918Z"
      },
      {
        "duration": 16,
        "start_time": "2022-05-10T13:35:59.930Z"
      },
      {
        "duration": 9,
        "start_time": "2022-05-10T13:36:01.274Z"
      },
      {
        "duration": 44,
        "start_time": "2022-05-10T13:36:05.083Z"
      },
      {
        "duration": 11,
        "start_time": "2022-05-10T13:36:08.271Z"
      },
      {
        "duration": 6,
        "start_time": "2022-05-10T13:36:10.691Z"
      },
      {
        "duration": 18,
        "start_time": "2022-05-10T13:36:11.835Z"
      },
      {
        "duration": 4,
        "start_time": "2022-05-10T13:36:15.594Z"
      },
      {
        "duration": 18,
        "start_time": "2022-05-10T13:36:16.577Z"
      },
      {
        "duration": 4,
        "start_time": "2022-05-10T13:36:19.986Z"
      },
      {
        "duration": 17,
        "start_time": "2022-05-10T13:39:51.799Z"
      },
      {
        "duration": 9,
        "start_time": "2022-05-10T13:40:08.198Z"
      },
      {
        "duration": 9,
        "start_time": "2022-05-10T13:40:15.724Z"
      },
      {
        "duration": 6,
        "start_time": "2022-05-10T13:40:31.521Z"
      },
      {
        "duration": 12,
        "start_time": "2022-05-10T13:40:47.613Z"
      },
      {
        "duration": 8,
        "start_time": "2022-05-10T13:40:52.741Z"
      },
      {
        "duration": 5,
        "start_time": "2022-05-10T13:44:51.102Z"
      },
      {
        "duration": 12,
        "start_time": "2022-05-10T13:45:04.546Z"
      },
      {
        "duration": 5,
        "start_time": "2022-05-10T13:45:13.543Z"
      },
      {
        "duration": 19,
        "start_time": "2022-05-10T13:46:13.020Z"
      },
      {
        "duration": 9,
        "start_time": "2022-05-10T13:46:35.743Z"
      },
      {
        "duration": 8,
        "start_time": "2022-05-10T13:47:05.646Z"
      },
      {
        "duration": 6,
        "start_time": "2022-05-10T13:47:36.097Z"
      },
      {
        "duration": 9,
        "start_time": "2022-05-10T14:26:01.151Z"
      },
      {
        "duration": 19,
        "start_time": "2022-05-10T14:26:07.193Z"
      },
      {
        "duration": 20,
        "start_time": "2022-05-10T14:26:12.938Z"
      },
      {
        "duration": 5,
        "start_time": "2022-05-10T14:26:30.792Z"
      },
      {
        "duration": 6,
        "start_time": "2022-05-10T14:27:26.059Z"
      },
      {
        "duration": 9,
        "start_time": "2022-05-10T14:27:42.086Z"
      },
      {
        "duration": 5,
        "start_time": "2022-05-10T14:28:14.094Z"
      },
      {
        "duration": 16,
        "start_time": "2022-05-10T14:29:27.919Z"
      },
      {
        "duration": 6,
        "start_time": "2022-05-10T14:29:51.868Z"
      },
      {
        "duration": 7,
        "start_time": "2022-05-10T14:29:59.225Z"
      },
      {
        "duration": 7,
        "start_time": "2022-05-10T14:30:02.321Z"
      },
      {
        "duration": 6,
        "start_time": "2022-05-10T14:30:07.811Z"
      },
      {
        "duration": 23,
        "start_time": "2022-05-10T14:30:18.667Z"
      },
      {
        "duration": 5,
        "start_time": "2022-05-10T14:30:23.124Z"
      },
      {
        "duration": 6,
        "start_time": "2022-05-10T14:31:25.749Z"
      },
      {
        "duration": 15,
        "start_time": "2022-05-10T14:31:38.172Z"
      },
      {
        "duration": 10,
        "start_time": "2022-05-10T14:32:38.160Z"
      },
      {
        "duration": 9,
        "start_time": "2022-05-10T14:32:46.062Z"
      },
      {
        "duration": 10,
        "start_time": "2022-05-10T14:33:44.624Z"
      },
      {
        "duration": 9,
        "start_time": "2022-05-10T14:34:12.698Z"
      },
      {
        "duration": 7,
        "start_time": "2022-05-10T14:35:00.592Z"
      },
      {
        "duration": 24,
        "start_time": "2022-05-10T14:37:03.350Z"
      },
      {
        "duration": 18,
        "start_time": "2022-05-10T14:37:15.174Z"
      },
      {
        "duration": 11,
        "start_time": "2022-05-10T14:41:49.035Z"
      },
      {
        "duration": 17,
        "start_time": "2022-05-10T14:44:11.052Z"
      },
      {
        "duration": 18,
        "start_time": "2022-05-10T14:44:18.541Z"
      },
      {
        "duration": 16,
        "start_time": "2022-05-10T14:44:23.280Z"
      },
      {
        "duration": 17,
        "start_time": "2022-05-10T14:44:29.336Z"
      },
      {
        "duration": 22,
        "start_time": "2022-05-10T14:45:33.420Z"
      },
      {
        "duration": 5,
        "start_time": "2022-05-10T14:45:59.724Z"
      },
      {
        "duration": 4,
        "start_time": "2022-05-10T14:46:06.166Z"
      },
      {
        "duration": 5,
        "start_time": "2022-05-10T14:46:18.015Z"
      },
      {
        "duration": 15,
        "start_time": "2022-05-10T14:48:37.901Z"
      },
      {
        "duration": 12,
        "start_time": "2022-05-10T14:48:42.731Z"
      },
      {
        "duration": 15,
        "start_time": "2022-05-10T14:49:55.599Z"
      },
      {
        "duration": 16,
        "start_time": "2022-05-10T14:50:03.173Z"
      },
      {
        "duration": 24,
        "start_time": "2022-05-10T14:51:50.274Z"
      },
      {
        "duration": 21,
        "start_time": "2022-05-10T14:53:20.389Z"
      },
      {
        "duration": 22,
        "start_time": "2022-05-10T14:53:26.017Z"
      },
      {
        "duration": 13,
        "start_time": "2022-05-10T14:53:49.441Z"
      },
      {
        "duration": 16,
        "start_time": "2022-05-10T14:54:08.358Z"
      },
      {
        "duration": 18,
        "start_time": "2022-05-10T15:04:14.258Z"
      },
      {
        "duration": 16,
        "start_time": "2022-05-10T15:04:32.466Z"
      },
      {
        "duration": 24,
        "start_time": "2022-05-10T15:04:48.976Z"
      },
      {
        "duration": 13,
        "start_time": "2022-05-10T15:05:16.650Z"
      },
      {
        "duration": 13,
        "start_time": "2022-05-10T15:05:32.466Z"
      },
      {
        "duration": 18,
        "start_time": "2022-05-10T15:05:35.655Z"
      },
      {
        "duration": 19,
        "start_time": "2022-05-10T15:05:41.383Z"
      },
      {
        "duration": 15,
        "start_time": "2022-05-10T15:05:54.169Z"
      },
      {
        "duration": 19,
        "start_time": "2022-05-10T15:06:00.578Z"
      },
      {
        "duration": 18,
        "start_time": "2022-05-10T15:07:07.325Z"
      },
      {
        "duration": 17,
        "start_time": "2022-05-10T15:07:10.723Z"
      },
      {
        "duration": 17,
        "start_time": "2022-05-10T15:08:08.793Z"
      },
      {
        "duration": 12,
        "start_time": "2022-05-10T15:09:11.037Z"
      },
      {
        "duration": 17,
        "start_time": "2022-05-10T15:09:38.196Z"
      },
      {
        "duration": 467,
        "start_time": "2022-05-10T15:11:37.221Z"
      },
      {
        "duration": 8,
        "start_time": "2022-05-10T15:11:37.691Z"
      },
      {
        "duration": 16,
        "start_time": "2022-05-10T15:11:37.745Z"
      },
      {
        "duration": 15,
        "start_time": "2022-05-10T15:11:37.897Z"
      },
      {
        "duration": 15,
        "start_time": "2022-05-10T15:11:38.090Z"
      },
      {
        "duration": 17,
        "start_time": "2022-05-10T15:11:38.277Z"
      },
      {
        "duration": 5,
        "start_time": "2022-05-10T15:11:38.421Z"
      },
      {
        "duration": 10,
        "start_time": "2022-05-10T15:11:38.955Z"
      },
      {
        "duration": 11,
        "start_time": "2022-05-10T15:11:39.132Z"
      },
      {
        "duration": 17,
        "start_time": "2022-05-10T15:11:39.492Z"
      },
      {
        "duration": 7,
        "start_time": "2022-05-10T15:11:39.864Z"
      },
      {
        "duration": 47,
        "start_time": "2022-05-10T15:11:40.429Z"
      },
      {
        "duration": 11,
        "start_time": "2022-05-10T15:11:40.610Z"
      },
      {
        "duration": 7,
        "start_time": "2022-05-10T15:11:40.787Z"
      },
      {
        "duration": 19,
        "start_time": "2022-05-10T15:11:40.981Z"
      },
      {
        "duration": 4,
        "start_time": "2022-05-10T15:11:41.562Z"
      },
      {
        "duration": 21,
        "start_time": "2022-05-10T15:11:41.799Z"
      },
      {
        "duration": 8,
        "start_time": "2022-05-10T15:11:41.969Z"
      },
      {
        "duration": 6,
        "start_time": "2022-05-10T15:11:42.948Z"
      },
      {
        "duration": 8,
        "start_time": "2022-05-10T15:11:43.984Z"
      },
      {
        "duration": 6,
        "start_time": "2022-05-10T15:11:44.823Z"
      },
      {
        "duration": 8,
        "start_time": "2022-05-10T15:11:46.317Z"
      },
      {
        "duration": 5,
        "start_time": "2022-05-10T15:11:47.763Z"
      },
      {
        "duration": 20,
        "start_time": "2022-05-10T15:11:48.618Z"
      },
      {
        "duration": 78,
        "start_time": "2022-05-10T15:11:51.328Z"
      },
      {
        "duration": 13,
        "start_time": "2022-05-10T15:12:00.525Z"
      },
      {
        "duration": 16,
        "start_time": "2022-05-10T15:13:20.942Z"
      },
      {
        "duration": 11,
        "start_time": "2022-05-10T15:15:35.181Z"
      },
      {
        "duration": 20,
        "start_time": "2022-05-10T15:15:47.606Z"
      },
      {
        "duration": 15,
        "start_time": "2022-05-10T15:15:51.429Z"
      },
      {
        "duration": 15,
        "start_time": "2022-05-10T15:15:58.454Z"
      },
      {
        "duration": 15,
        "start_time": "2022-05-10T15:16:04.344Z"
      },
      {
        "duration": 16,
        "start_time": "2022-05-10T15:16:07.841Z"
      },
      {
        "duration": 13,
        "start_time": "2022-05-10T15:16:24.424Z"
      },
      {
        "duration": 18,
        "start_time": "2022-05-10T15:16:39.563Z"
      },
      {
        "duration": 18,
        "start_time": "2022-05-10T15:16:50.214Z"
      },
      {
        "duration": 15,
        "start_time": "2022-05-10T15:16:55.167Z"
      },
      {
        "duration": 20,
        "start_time": "2022-05-10T15:17:28.057Z"
      },
      {
        "duration": 18,
        "start_time": "2022-05-10T15:17:34.498Z"
      },
      {
        "duration": 11,
        "start_time": "2022-05-10T15:17:40.528Z"
      },
      {
        "duration": 13,
        "start_time": "2022-05-10T15:17:58.936Z"
      },
      {
        "duration": 16,
        "start_time": "2022-05-10T15:18:04.914Z"
      },
      {
        "duration": 16,
        "start_time": "2022-05-10T15:18:33.858Z"
      },
      {
        "duration": 18,
        "start_time": "2022-05-10T15:19:10.128Z"
      },
      {
        "duration": 8,
        "start_time": "2022-05-10T15:19:51.672Z"
      },
      {
        "duration": 17,
        "start_time": "2022-05-10T15:20:28.850Z"
      },
      {
        "duration": 21,
        "start_time": "2022-05-10T15:20:45.312Z"
      },
      {
        "duration": 8,
        "start_time": "2022-05-10T15:21:08.848Z"
      },
      {
        "duration": 16,
        "start_time": "2022-05-10T15:21:16.095Z"
      },
      {
        "duration": 15,
        "start_time": "2022-05-10T15:21:22.321Z"
      },
      {
        "duration": 8,
        "start_time": "2022-05-10T15:24:47.134Z"
      },
      {
        "duration": 8,
        "start_time": "2022-05-10T15:24:50.884Z"
      },
      {
        "duration": 12,
        "start_time": "2022-05-10T15:25:08.604Z"
      },
      {
        "duration": 10,
        "start_time": "2022-05-10T15:25:41.552Z"
      },
      {
        "duration": 5,
        "start_time": "2022-05-10T15:25:49.346Z"
      },
      {
        "duration": 5,
        "start_time": "2022-05-10T15:25:55.673Z"
      },
      {
        "duration": 13,
        "start_time": "2022-05-10T15:26:48.615Z"
      },
      {
        "duration": 6,
        "start_time": "2022-05-10T15:27:03.227Z"
      },
      {
        "duration": 14,
        "start_time": "2022-05-10T15:27:58.325Z"
      },
      {
        "duration": 11,
        "start_time": "2022-05-10T15:30:01.732Z"
      },
      {
        "duration": 12,
        "start_time": "2022-05-10T15:37:43.876Z"
      },
      {
        "duration": 6,
        "start_time": "2022-05-10T15:37:48.039Z"
      },
      {
        "duration": 6,
        "start_time": "2022-05-10T15:38:00.808Z"
      },
      {
        "duration": 7,
        "start_time": "2022-05-10T15:38:34.519Z"
      },
      {
        "duration": 6,
        "start_time": "2022-05-10T15:39:32.774Z"
      },
      {
        "duration": 611,
        "start_time": "2022-05-10T15:41:00.152Z"
      },
      {
        "duration": 13,
        "start_time": "2022-05-10T15:41:00.766Z"
      },
      {
        "duration": 40,
        "start_time": "2022-05-10T15:41:00.782Z"
      },
      {
        "duration": 28,
        "start_time": "2022-05-10T15:41:00.871Z"
      },
      {
        "duration": 24,
        "start_time": "2022-05-10T15:41:01.054Z"
      },
      {
        "duration": 24,
        "start_time": "2022-05-10T15:41:01.569Z"
      },
      {
        "duration": 7,
        "start_time": "2022-05-10T15:41:02.584Z"
      },
      {
        "duration": 15,
        "start_time": "2022-05-10T15:41:04.687Z"
      },
      {
        "duration": 18,
        "start_time": "2022-05-10T15:41:05.496Z"
      },
      {
        "duration": 25,
        "start_time": "2022-05-10T15:41:07.185Z"
      },
      {
        "duration": 12,
        "start_time": "2022-05-10T15:41:09.085Z"
      },
      {
        "duration": 76,
        "start_time": "2022-05-10T15:41:11.931Z"
      },
      {
        "duration": 13,
        "start_time": "2022-05-10T15:41:13.473Z"
      },
      {
        "duration": 7,
        "start_time": "2022-05-10T15:41:15.888Z"
      },
      {
        "duration": 8,
        "start_time": "2022-05-10T15:41:21.268Z"
      },
      {
        "duration": 6,
        "start_time": "2022-05-10T15:42:07.507Z"
      },
      {
        "duration": 27,
        "start_time": "2022-05-10T15:42:07.672Z"
      },
      {
        "duration": 6,
        "start_time": "2022-05-10T15:42:08.213Z"
      },
      {
        "duration": 24,
        "start_time": "2022-05-10T15:42:08.388Z"
      },
      {
        "duration": 10,
        "start_time": "2022-05-10T15:42:08.562Z"
      },
      {
        "duration": 7,
        "start_time": "2022-05-10T15:42:08.923Z"
      },
      {
        "duration": 8,
        "start_time": "2022-05-10T15:42:09.337Z"
      },
      {
        "duration": 5,
        "start_time": "2022-05-10T15:42:09.531Z"
      },
      {
        "duration": 7,
        "start_time": "2022-05-10T15:42:09.904Z"
      },
      {
        "duration": 7,
        "start_time": "2022-05-10T15:42:10.325Z"
      },
      {
        "duration": 21,
        "start_time": "2022-05-10T15:42:10.769Z"
      },
      {
        "duration": 104,
        "start_time": "2022-05-10T15:42:11.152Z"
      },
      {
        "duration": 26,
        "start_time": "2022-05-10T15:42:11.442Z"
      },
      {
        "duration": 13,
        "start_time": "2022-05-10T15:42:11.983Z"
      },
      {
        "duration": 15,
        "start_time": "2022-05-10T15:42:12.328Z"
      },
      {
        "duration": 3,
        "start_time": "2022-05-10T15:42:13.314Z"
      },
      {
        "duration": 5,
        "start_time": "2022-05-10T15:42:57.686Z"
      },
      {
        "duration": 466,
        "start_time": "2022-05-10T15:44:03.971Z"
      },
      {
        "duration": 8,
        "start_time": "2022-05-10T15:44:04.840Z"
      },
      {
        "duration": 17,
        "start_time": "2022-05-10T15:44:05.286Z"
      },
      {
        "duration": 15,
        "start_time": "2022-05-10T15:44:05.720Z"
      },
      {
        "duration": 18,
        "start_time": "2022-05-10T15:44:06.276Z"
      },
      {
        "duration": 17,
        "start_time": "2022-05-10T15:44:06.730Z"
      },
      {
        "duration": 7,
        "start_time": "2022-05-10T15:44:07.116Z"
      },
      {
        "duration": 14,
        "start_time": "2022-05-10T15:44:09.133Z"
      },
      {
        "duration": 18,
        "start_time": "2022-05-10T15:44:09.810Z"
      },
      {
        "duration": 26,
        "start_time": "2022-05-10T15:44:11.420Z"
      },
      {
        "duration": 9,
        "start_time": "2022-05-10T15:44:13.640Z"
      },
      {
        "duration": 65,
        "start_time": "2022-05-10T15:44:15.113Z"
      },
      {
        "duration": 12,
        "start_time": "2022-05-10T15:44:16.175Z"
      },
      {
        "duration": 7,
        "start_time": "2022-05-10T15:44:17.781Z"
      },
      {
        "duration": 5,
        "start_time": "2022-05-10T15:44:20.468Z"
      },
      {
        "duration": 7,
        "start_time": "2022-05-10T15:44:31.798Z"
      },
      {
        "duration": 7,
        "start_time": "2022-05-10T15:45:48.448Z"
      },
      {
        "duration": 21,
        "start_time": "2022-05-10T15:47:03.017Z"
      },
      {
        "duration": 31,
        "start_time": "2022-05-10T15:47:12.139Z"
      },
      {
        "duration": 5,
        "start_time": "2022-05-10T15:47:36.540Z"
      },
      {
        "duration": 81,
        "start_time": "2022-05-10T15:47:37.914Z"
      },
      {
        "duration": 18,
        "start_time": "2022-05-10T15:47:39.602Z"
      },
      {
        "duration": 481,
        "start_time": "2022-05-10T15:47:55.911Z"
      },
      {
        "duration": 8,
        "start_time": "2022-05-10T15:47:56.394Z"
      },
      {
        "duration": 16,
        "start_time": "2022-05-10T15:47:56.650Z"
      },
      {
        "duration": 17,
        "start_time": "2022-05-10T15:47:56.892Z"
      },
      {
        "duration": 14,
        "start_time": "2022-05-10T15:47:57.145Z"
      },
      {
        "duration": 18,
        "start_time": "2022-05-10T15:47:57.369Z"
      },
      {
        "duration": 6,
        "start_time": "2022-05-10T15:47:57.640Z"
      },
      {
        "duration": 18,
        "start_time": "2022-05-10T15:47:59.094Z"
      },
      {
        "duration": 10,
        "start_time": "2022-05-10T15:47:59.555Z"
      },
      {
        "duration": 19,
        "start_time": "2022-05-10T15:48:00.347Z"
      },
      {
        "duration": 9,
        "start_time": "2022-05-10T15:48:01.906Z"
      },
      {
        "duration": 61,
        "start_time": "2022-05-10T15:48:02.974Z"
      },
      {
        "duration": 18,
        "start_time": "2022-05-10T15:48:03.218Z"
      },
      {
        "duration": 8,
        "start_time": "2022-05-10T15:48:03.810Z"
      },
      {
        "duration": 8,
        "start_time": "2022-05-10T15:48:05.661Z"
      },
      {
        "duration": 6,
        "start_time": "2022-05-10T15:48:09.286Z"
      },
      {
        "duration": 6,
        "start_time": "2022-05-10T15:48:11.565Z"
      },
      {
        "duration": 94,
        "start_time": "2022-05-10T15:48:39.367Z"
      },
      {
        "duration": 10,
        "start_time": "2022-05-10T15:48:51.350Z"
      },
      {
        "duration": 13,
        "start_time": "2022-05-10T15:48:55.123Z"
      },
      {
        "duration": 466,
        "start_time": "2022-05-10T15:49:25.658Z"
      },
      {
        "duration": 10,
        "start_time": "2022-05-10T15:49:26.130Z"
      },
      {
        "duration": 26,
        "start_time": "2022-05-10T15:49:26.194Z"
      },
      {
        "duration": 15,
        "start_time": "2022-05-10T15:49:26.369Z"
      },
      {
        "duration": 15,
        "start_time": "2022-05-10T15:49:26.538Z"
      },
      {
        "duration": 16,
        "start_time": "2022-05-10T15:49:26.723Z"
      },
      {
        "duration": 6,
        "start_time": "2022-05-10T15:49:26.888Z"
      },
      {
        "duration": 10,
        "start_time": "2022-05-10T15:49:27.442Z"
      },
      {
        "duration": 13,
        "start_time": "2022-05-10T15:49:27.866Z"
      },
      {
        "duration": 17,
        "start_time": "2022-05-10T15:49:28.558Z"
      },
      {
        "duration": 7,
        "start_time": "2022-05-10T15:49:28.930Z"
      },
      {
        "duration": 76,
        "start_time": "2022-05-10T15:49:29.866Z"
      },
      {
        "duration": 17,
        "start_time": "2022-05-10T15:49:30.041Z"
      },
      {
        "duration": 5,
        "start_time": "2022-05-10T15:49:31.038Z"
      },
      {
        "duration": 11,
        "start_time": "2022-05-10T15:49:32.274Z"
      },
      {
        "duration": 8,
        "start_time": "2022-05-10T15:49:33.497Z"
      },
      {
        "duration": 4,
        "start_time": "2022-05-10T15:49:47.986Z"
      },
      {
        "duration": 81,
        "start_time": "2022-05-10T15:50:30.448Z"
      },
      {
        "duration": 14,
        "start_time": "2022-05-10T15:50:45.782Z"
      },
      {
        "duration": 19,
        "start_time": "2022-05-10T15:50:52.105Z"
      },
      {
        "duration": 10,
        "start_time": "2022-05-10T15:51:08.095Z"
      },
      {
        "duration": 17,
        "start_time": "2022-05-10T15:51:09.003Z"
      },
      {
        "duration": 507,
        "start_time": "2022-05-10T15:51:17.992Z"
      },
      {
        "duration": 15,
        "start_time": "2022-05-10T15:51:18.501Z"
      },
      {
        "duration": 18,
        "start_time": "2022-05-10T15:51:18.535Z"
      },
      {
        "duration": 16,
        "start_time": "2022-05-10T15:51:18.717Z"
      },
      {
        "duration": 15,
        "start_time": "2022-05-10T15:51:18.882Z"
      },
      {
        "duration": 27,
        "start_time": "2022-05-10T15:51:19.068Z"
      },
      {
        "duration": 6,
        "start_time": "2022-05-10T15:51:19.228Z"
      },
      {
        "duration": 11,
        "start_time": "2022-05-10T15:51:19.756Z"
      },
      {
        "duration": 17,
        "start_time": "2022-05-10T15:51:19.945Z"
      },
      {
        "duration": 26,
        "start_time": "2022-05-10T15:51:20.295Z"
      },
      {
        "duration": 10,
        "start_time": "2022-05-10T15:51:20.666Z"
      },
      {
        "duration": 55,
        "start_time": "2022-05-10T15:51:21.581Z"
      },
      {
        "duration": 14,
        "start_time": "2022-05-10T15:51:21.835Z"
      },
      {
        "duration": 6,
        "start_time": "2022-05-10T15:51:22.093Z"
      },
      {
        "duration": 8,
        "start_time": "2022-05-10T15:51:22.748Z"
      },
      {
        "duration": 7,
        "start_time": "2022-05-10T15:51:22.759Z"
      },
      {
        "duration": 7,
        "start_time": "2022-05-10T15:51:23.477Z"
      },
      {
        "duration": 6,
        "start_time": "2022-05-10T15:51:23.656Z"
      },
      {
        "duration": 6,
        "start_time": "2022-05-10T15:51:25.462Z"
      },
      {
        "duration": 20,
        "start_time": "2022-05-10T15:51:25.665Z"
      },
      {
        "duration": 5,
        "start_time": "2022-05-10T15:51:28.727Z"
      },
      {
        "duration": 24,
        "start_time": "2022-05-10T15:51:28.881Z"
      },
      {
        "duration": 7,
        "start_time": "2022-05-10T15:51:29.038Z"
      },
      {
        "duration": 6,
        "start_time": "2022-05-10T15:51:29.338Z"
      },
      {
        "duration": 7,
        "start_time": "2022-05-10T15:51:29.636Z"
      },
      {
        "duration": 5,
        "start_time": "2022-05-10T15:51:29.791Z"
      },
      {
        "duration": 6,
        "start_time": "2022-05-10T15:51:30.097Z"
      },
      {
        "duration": 6,
        "start_time": "2022-05-10T15:51:30.402Z"
      },
      {
        "duration": 12,
        "start_time": "2022-05-10T15:51:30.546Z"
      },
      {
        "duration": 92,
        "start_time": "2022-05-10T15:51:30.697Z"
      },
      {
        "duration": 17,
        "start_time": "2022-05-10T15:51:30.840Z"
      },
      {
        "duration": 8,
        "start_time": "2022-05-10T15:51:31.297Z"
      },
      {
        "duration": 14,
        "start_time": "2022-05-10T15:51:31.458Z"
      },
      {
        "duration": 2,
        "start_time": "2022-05-10T15:51:31.781Z"
      },
      {
        "duration": 3,
        "start_time": "2022-05-10T15:51:31.949Z"
      },
      {
        "duration": 5,
        "start_time": "2022-05-10T15:52:02.695Z"
      },
      {
        "duration": 6,
        "start_time": "2022-05-10T15:52:47.426Z"
      },
      {
        "duration": 6,
        "start_time": "2022-05-10T15:52:52.026Z"
      },
      {
        "duration": 16,
        "start_time": "2022-05-10T15:53:00.951Z"
      },
      {
        "duration": 8,
        "start_time": "2022-05-10T15:53:05.320Z"
      },
      {
        "duration": 3,
        "start_time": "2022-05-10T15:54:27.725Z"
      },
      {
        "duration": 8,
        "start_time": "2022-05-10T15:54:33.977Z"
      },
      {
        "duration": 10,
        "start_time": "2022-05-10T15:54:38.620Z"
      },
      {
        "duration": 10,
        "start_time": "2022-05-10T15:54:44.013Z"
      },
      {
        "duration": 3,
        "start_time": "2022-05-10T16:44:50.524Z"
      },
      {
        "duration": 477,
        "start_time": "2022-05-10T16:45:01.343Z"
      },
      {
        "duration": 10,
        "start_time": "2022-05-10T16:45:02.184Z"
      },
      {
        "duration": 17,
        "start_time": "2022-05-10T16:45:02.940Z"
      },
      {
        "duration": 16,
        "start_time": "2022-05-10T16:45:03.428Z"
      },
      {
        "duration": 16,
        "start_time": "2022-05-10T16:45:03.824Z"
      },
      {
        "duration": 25,
        "start_time": "2022-05-10T16:45:05.051Z"
      },
      {
        "duration": 18,
        "start_time": "2022-05-10T16:45:10.729Z"
      },
      {
        "duration": 448,
        "start_time": "2022-05-10T16:45:23.333Z"
      },
      {
        "duration": 9,
        "start_time": "2022-05-10T16:45:24.014Z"
      },
      {
        "duration": 18,
        "start_time": "2022-05-10T16:45:24.908Z"
      },
      {
        "duration": 20,
        "start_time": "2022-05-10T16:45:34.126Z"
      },
      {
        "duration": 14,
        "start_time": "2022-05-10T16:45:41.172Z"
      },
      {
        "duration": 15,
        "start_time": "2022-05-10T16:45:41.335Z"
      },
      {
        "duration": 15,
        "start_time": "2022-05-10T16:45:41.504Z"
      },
      {
        "duration": 23,
        "start_time": "2022-05-10T16:45:41.676Z"
      },
      {
        "duration": 6,
        "start_time": "2022-05-10T16:45:41.838Z"
      },
      {
        "duration": 12,
        "start_time": "2022-05-10T16:45:42.331Z"
      },
      {
        "duration": 17,
        "start_time": "2022-05-10T16:45:42.494Z"
      },
      {
        "duration": 25,
        "start_time": "2022-05-10T16:45:42.837Z"
      },
      {
        "duration": 8,
        "start_time": "2022-05-10T16:45:43.188Z"
      },
      {
        "duration": 60,
        "start_time": "2022-05-10T16:45:43.728Z"
      },
      {
        "duration": 11,
        "start_time": "2022-05-10T16:45:43.921Z"
      },
      {
        "duration": 6,
        "start_time": "2022-05-10T16:45:44.108Z"
      },
      {
        "duration": 8,
        "start_time": "2022-05-10T16:45:44.467Z"
      },
      {
        "duration": 7,
        "start_time": "2022-05-10T16:45:44.641Z"
      },
      {
        "duration": 52,
        "start_time": "2022-05-10T16:45:45.022Z"
      },
      {
        "duration": 7,
        "start_time": "2022-05-10T16:45:45.381Z"
      },
      {
        "duration": 19,
        "start_time": "2022-05-10T16:45:45.561Z"
      },
      {
        "duration": 5,
        "start_time": "2022-05-10T16:45:46.106Z"
      },
      {
        "duration": 20,
        "start_time": "2022-05-10T16:45:46.296Z"
      },
      {
        "duration": 8,
        "start_time": "2022-05-10T16:45:46.482Z"
      },
      {
        "duration": 5,
        "start_time": "2022-05-10T16:45:46.847Z"
      },
      {
        "duration": 8,
        "start_time": "2022-05-10T16:45:47.229Z"
      },
      {
        "duration": 6,
        "start_time": "2022-05-10T16:45:47.510Z"
      },
      {
        "duration": 8,
        "start_time": "2022-05-10T16:45:48.140Z"
      },
      {
        "duration": 6,
        "start_time": "2022-05-10T16:45:48.960Z"
      },
      {
        "duration": 20,
        "start_time": "2022-05-10T16:45:49.717Z"
      },
      {
        "duration": 83,
        "start_time": "2022-05-10T16:45:50.235Z"
      },
      {
        "duration": 17,
        "start_time": "2022-05-10T16:45:50.449Z"
      },
      {
        "duration": 8,
        "start_time": "2022-05-10T16:45:50.804Z"
      },
      {
        "duration": 13,
        "start_time": "2022-05-10T16:45:51.025Z"
      },
      {
        "duration": 7,
        "start_time": "2022-05-10T16:45:51.430Z"
      },
      {
        "duration": 3,
        "start_time": "2022-05-10T16:45:51.604Z"
      },
      {
        "duration": 5,
        "start_time": "2022-05-10T16:45:51.804Z"
      },
      {
        "duration": 546,
        "start_time": "2022-05-10T17:15:37.891Z"
      },
      {
        "duration": 23,
        "start_time": "2022-05-10T17:15:43.514Z"
      },
      {
        "duration": 5,
        "start_time": "2022-05-10T17:15:53.322Z"
      },
      {
        "duration": 17,
        "start_time": "2022-05-10T17:15:53.635Z"
      },
      {
        "duration": 19,
        "start_time": "2022-05-10T17:16:14.884Z"
      },
      {
        "duration": 7,
        "start_time": "2022-05-10T17:16:17.998Z"
      },
      {
        "duration": 15,
        "start_time": "2022-05-10T17:16:18.452Z"
      },
      {
        "duration": 8,
        "start_time": "2022-05-10T17:16:19.847Z"
      },
      {
        "duration": 437,
        "start_time": "2022-05-10T17:16:30.742Z"
      },
      {
        "duration": 9,
        "start_time": "2022-05-10T17:16:31.181Z"
      },
      {
        "duration": 17,
        "start_time": "2022-05-10T17:16:31.243Z"
      },
      {
        "duration": 24,
        "start_time": "2022-05-10T17:16:31.393Z"
      },
      {
        "duration": 23,
        "start_time": "2022-05-10T17:16:31.607Z"
      },
      {
        "duration": 25,
        "start_time": "2022-05-10T17:16:31.780Z"
      },
      {
        "duration": 7,
        "start_time": "2022-05-10T17:16:31.928Z"
      },
      {
        "duration": 13,
        "start_time": "2022-05-10T17:16:32.403Z"
      },
      {
        "duration": 16,
        "start_time": "2022-05-10T17:16:32.567Z"
      },
      {
        "duration": 25,
        "start_time": "2022-05-10T17:16:32.902Z"
      },
      {
        "duration": 9,
        "start_time": "2022-05-10T17:16:33.253Z"
      },
      {
        "duration": 67,
        "start_time": "2022-05-10T17:16:33.767Z"
      },
      {
        "duration": 11,
        "start_time": "2022-05-10T17:16:33.941Z"
      },
      {
        "duration": 5,
        "start_time": "2022-05-10T17:16:34.100Z"
      },
      {
        "duration": 8,
        "start_time": "2022-05-10T17:16:34.890Z"
      },
      {
        "duration": 8,
        "start_time": "2022-05-10T17:16:35.159Z"
      },
      {
        "duration": 17,
        "start_time": "2022-05-10T17:16:36.459Z"
      },
      {
        "duration": 9,
        "start_time": "2022-05-10T17:16:38.913Z"
      },
      {
        "duration": 31,
        "start_time": "2022-05-10T17:16:39.598Z"
      },
      {
        "duration": 6,
        "start_time": "2022-05-10T17:16:41.571Z"
      },
      {
        "duration": 19,
        "start_time": "2022-05-10T17:16:42.145Z"
      },
      {
        "duration": 8,
        "start_time": "2022-05-10T17:16:42.971Z"
      },
      {
        "duration": 7,
        "start_time": "2022-05-10T17:16:47.370Z"
      },
      {
        "duration": 8,
        "start_time": "2022-05-10T17:16:49.627Z"
      },
      {
        "duration": 7,
        "start_time": "2022-05-10T17:16:50.370Z"
      },
      {
        "duration": 8,
        "start_time": "2022-05-10T17:16:54.959Z"
      },
      {
        "duration": 5,
        "start_time": "2022-05-10T17:17:07.735Z"
      },
      {
        "duration": 5,
        "start_time": "2022-05-10T17:17:09.033Z"
      },
      {
        "duration": 4,
        "start_time": "2022-05-10T17:17:19.937Z"
      },
      {
        "duration": 5,
        "start_time": "2022-05-10T17:17:23.051Z"
      },
      {
        "duration": 13,
        "start_time": "2022-05-10T17:17:23.504Z"
      },
      {
        "duration": 79,
        "start_time": "2022-05-10T17:17:24.233Z"
      },
      {
        "duration": 17,
        "start_time": "2022-05-10T17:17:26.230Z"
      },
      {
        "duration": 9,
        "start_time": "2022-05-10T17:17:30.596Z"
      },
      {
        "duration": 20,
        "start_time": "2022-05-10T17:17:32.868Z"
      },
      {
        "duration": 29,
        "start_time": "2022-05-10T17:18:23.043Z"
      },
      {
        "duration": 37,
        "start_time": "2022-05-10T17:19:44.007Z"
      },
      {
        "duration": 12,
        "start_time": "2022-05-10T17:20:27.493Z"
      },
      {
        "duration": 7,
        "start_time": "2022-05-10T17:26:56.744Z"
      },
      {
        "duration": 9,
        "start_time": "2022-05-10T17:31:31.591Z"
      },
      {
        "duration": 7,
        "start_time": "2022-05-10T17:32:21.308Z"
      },
      {
        "duration": 7,
        "start_time": "2022-05-10T17:32:26.384Z"
      },
      {
        "duration": 8,
        "start_time": "2022-05-10T17:32:28.531Z"
      },
      {
        "duration": 8,
        "start_time": "2022-05-10T17:32:32.439Z"
      },
      {
        "duration": 8,
        "start_time": "2022-05-10T17:32:35.391Z"
      },
      {
        "duration": 9,
        "start_time": "2022-05-10T17:34:17.268Z"
      },
      {
        "duration": 11,
        "start_time": "2022-05-10T17:36:23.862Z"
      },
      {
        "duration": 12,
        "start_time": "2022-05-10T17:37:40.128Z"
      },
      {
        "duration": 11,
        "start_time": "2022-05-10T17:37:50.588Z"
      },
      {
        "duration": 15,
        "start_time": "2022-05-10T17:39:26.802Z"
      },
      {
        "duration": 11,
        "start_time": "2022-05-10T17:39:52.769Z"
      },
      {
        "duration": 9,
        "start_time": "2022-05-10T17:39:55.719Z"
      },
      {
        "duration": 6,
        "start_time": "2022-05-10T17:39:58.767Z"
      },
      {
        "duration": 9,
        "start_time": "2022-05-10T17:40:05.426Z"
      },
      {
        "duration": 5,
        "start_time": "2022-05-10T17:40:32.367Z"
      },
      {
        "duration": 8,
        "start_time": "2022-05-10T17:40:50.931Z"
      },
      {
        "duration": 9,
        "start_time": "2022-05-10T17:41:03.605Z"
      }
    ],
    "kernelspec": {
      "display_name": "Python 3 (ipykernel)",
      "language": "python",
      "name": "python3"
    },
    "language_info": {
      "codemirror_mode": {
        "name": "ipython",
        "version": 3
      },
      "file_extension": ".py",
      "mimetype": "text/x-python",
      "name": "python",
      "nbconvert_exporter": "python",
      "pygments_lexer": "ipython3",
      "version": "3.9.5"
    },
    "toc": {
      "base_numbering": 1,
      "nav_menu": {},
      "number_sections": true,
      "sideBar": true,
      "skip_h1_title": true,
      "title_cell": "Table of Contents",
      "title_sidebar": "Contents",
      "toc_cell": false,
      "toc_position": {},
      "toc_section_display": true,
      "toc_window_display": false
    },
    "colab": {
      "name": "Pre_Processamento_de_Dados_Projeto",
      "provenance": []
    }
  },
  "nbformat": 4,
  "nbformat_minor": 0
}